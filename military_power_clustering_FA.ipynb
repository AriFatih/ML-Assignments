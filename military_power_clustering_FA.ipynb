{
 "cells": [
  {
   "cell_type": "markdown",
   "metadata": {
    "id": "0DxNKOyW8AKE"
   },
   "source": [
    "# Military Power Clustering Project\n",
    "-World military power\n",
    "Source : globalfirepower.com on 1st may 2020\n",
    "\n",
    "- https://data.world/vizzup/world-military-power/workspace/file?filename=World+military+power.xlsx\n"
   ]
  },
  {
   "cell_type": "markdown",
   "metadata": {
    "id": "pHcni9Yd8AKI"
   },
   "source": [
    "# Import Libraries"
   ]
  },
  {
   "cell_type": "code",
   "execution_count": 55,
   "metadata": {
    "id": "t8CFBZr28AKJ"
   },
   "outputs": [],
   "source": [
    "import pandas as pd\n",
    "import numpy as np\n",
    "import matplotlib.pyplot as plt\n",
    "import seaborn as sns\n",
    "from sklearn.preprocessing import StandardScaler\n",
    "from sklearn.cluster import KMeans\n",
    "from sklearn.cluster import AgglomerativeClustering\n",
    "\n",
    "\n",
    "from sklearn.mixture import GaussianMixture\n",
    "\n",
    "from sklearn.metrics import silhouette_score\n",
    "\n",
    "import scipy.cluster.hierarchy as sch\n",
    "from sklearn.metrics import silhouette_score\n",
    "plt.rcParams[\"figure.figsize\"] = (10,6)\n",
    "import warnings\n",
    "warnings.filterwarnings('ignore')\n",
    "#pd.set_option('display.max_rows', 500)"
   ]
  },
  {
   "cell_type": "markdown",
   "metadata": {
    "id": "LnUyXAAC8AKJ"
   },
   "source": [
    "# Ingest Data  "
   ]
  },
  {
   "cell_type": "code",
   "execution_count": 56,
   "metadata": {
    "id": "enCbGulB8AKK"
   },
   "outputs": [
    {
     "data": {
      "text/html": [
       "<div>\n",
       "<style scoped>\n",
       "    .dataframe tbody tr th:only-of-type {\n",
       "        vertical-align: middle;\n",
       "    }\n",
       "\n",
       "    .dataframe tbody tr th {\n",
       "        vertical-align: top;\n",
       "    }\n",
       "\n",
       "    .dataframe thead th {\n",
       "        text-align: right;\n",
       "    }\n",
       "</style>\n",
       "<table border=\"1\" class=\"dataframe\">\n",
       "  <thead>\n",
       "    <tr style=\"text-align: right;\">\n",
       "      <th></th>\n",
       "      <th>Military Strength</th>\n",
       "      <th>Military Strength Power Index</th>\n",
       "      <th>Aircraft Strength</th>\n",
       "      <th>Aircraft Strength value</th>\n",
       "      <th>Fighter/Interceptor Strength</th>\n",
       "      <th>Fighter/Interceptor Strength value</th>\n",
       "      <th>Attack Aircraft Strength</th>\n",
       "      <th>Attack Aircraft Strength value</th>\n",
       "      <th>Transport Aircraft Fleet Strength</th>\n",
       "      <th>Transport Aircraft Fleet Strength value</th>\n",
       "      <th>...</th>\n",
       "      <th>Total Population</th>\n",
       "      <th>Total Population value</th>\n",
       "      <th>Total Square Land Area</th>\n",
       "      <th>Total Square Land Area value</th>\n",
       "      <th>Total Coastline Coverage</th>\n",
       "      <th>Total Coastline Coverage value</th>\n",
       "      <th>Total Waterway Coverage</th>\n",
       "      <th>Total Waterway Coverage value</th>\n",
       "      <th>Total Border Coverage</th>\n",
       "      <th>Total Border Coverage value</th>\n",
       "    </tr>\n",
       "  </thead>\n",
       "  <tbody>\n",
       "    <tr>\n",
       "      <th>0</th>\n",
       "      <td>Afghanistan</td>\n",
       "      <td>1.3444</td>\n",
       "      <td>Afghanistan</td>\n",
       "      <td>260</td>\n",
       "      <td>Afghanistan</td>\n",
       "      <td>0</td>\n",
       "      <td>Afghanistan</td>\n",
       "      <td>25</td>\n",
       "      <td>Afghanistan</td>\n",
       "      <td>30</td>\n",
       "      <td>...</td>\n",
       "      <td>Afghanistan</td>\n",
       "      <td>3,49,40,837</td>\n",
       "      <td>Afghanistan</td>\n",
       "      <td>6,52,230</td>\n",
       "      <td>Afghanistan</td>\n",
       "      <td>0</td>\n",
       "      <td>Afghanistan</td>\n",
       "      <td>1200</td>\n",
       "      <td>Afghanistan</td>\n",
       "      <td>5987.0</td>\n",
       "    </tr>\n",
       "    <tr>\n",
       "      <th>1</th>\n",
       "      <td>Albania</td>\n",
       "      <td>2.3137</td>\n",
       "      <td>Albania</td>\n",
       "      <td>19</td>\n",
       "      <td>Albania</td>\n",
       "      <td>0</td>\n",
       "      <td>Albania</td>\n",
       "      <td>0</td>\n",
       "      <td>Albania</td>\n",
       "      <td>0</td>\n",
       "      <td>...</td>\n",
       "      <td>Albania</td>\n",
       "      <td>30,57,220</td>\n",
       "      <td>Albania</td>\n",
       "      <td>28748</td>\n",
       "      <td>Albania</td>\n",
       "      <td>362</td>\n",
       "      <td>Albania</td>\n",
       "      <td>41</td>\n",
       "      <td>Albania</td>\n",
       "      <td>691.0</td>\n",
       "    </tr>\n",
       "    <tr>\n",
       "      <th>2</th>\n",
       "      <td>Algeria</td>\n",
       "      <td>0.4659</td>\n",
       "      <td>Algeria</td>\n",
       "      <td>551</td>\n",
       "      <td>Algeria</td>\n",
       "      <td>103</td>\n",
       "      <td>Algeria</td>\n",
       "      <td>22</td>\n",
       "      <td>Algeria</td>\n",
       "      <td>59</td>\n",
       "      <td>...</td>\n",
       "      <td>Algeria</td>\n",
       "      <td>4,16,57,488</td>\n",
       "      <td>Algeria</td>\n",
       "      <td>23,81,741</td>\n",
       "      <td>Algeria</td>\n",
       "      <td>998</td>\n",
       "      <td>Algeria</td>\n",
       "      <td>0</td>\n",
       "      <td>Algeria</td>\n",
       "      <td>6734.0</td>\n",
       "    </tr>\n",
       "    <tr>\n",
       "      <th>3</th>\n",
       "      <td>Angola</td>\n",
       "      <td>0.8379</td>\n",
       "      <td>Angola</td>\n",
       "      <td>295</td>\n",
       "      <td>Angola</td>\n",
       "      <td>72</td>\n",
       "      <td>Angola</td>\n",
       "      <td>18</td>\n",
       "      <td>Angola</td>\n",
       "      <td>30</td>\n",
       "      <td>...</td>\n",
       "      <td>Angola</td>\n",
       "      <td>3,03,55,880</td>\n",
       "      <td>Angola</td>\n",
       "      <td>12,46,700</td>\n",
       "      <td>Angola</td>\n",
       "      <td>1600</td>\n",
       "      <td>Angola</td>\n",
       "      <td>1300</td>\n",
       "      <td>Angola</td>\n",
       "      <td>5369.0</td>\n",
       "    </tr>\n",
       "    <tr>\n",
       "      <th>4</th>\n",
       "      <td>Argentina</td>\n",
       "      <td>0.6521</td>\n",
       "      <td>Argentina</td>\n",
       "      <td>227</td>\n",
       "      <td>Argentina</td>\n",
       "      <td>24</td>\n",
       "      <td>Argentina</td>\n",
       "      <td>7</td>\n",
       "      <td>Argentina</td>\n",
       "      <td>9</td>\n",
       "      <td>...</td>\n",
       "      <td>Argentina</td>\n",
       "      <td>4,46,94,198</td>\n",
       "      <td>Argentina</td>\n",
       "      <td>27,80,400</td>\n",
       "      <td>Argentina</td>\n",
       "      <td>4989</td>\n",
       "      <td>Argentina</td>\n",
       "      <td>11000</td>\n",
       "      <td>Argentina</td>\n",
       "      <td>11968.0</td>\n",
       "    </tr>\n",
       "  </tbody>\n",
       "</table>\n",
       "<p>5 rows × 60 columns</p>\n",
       "</div>"
      ],
      "text/plain": [
       "  Military Strength  Military Strength Power Index Aircraft Strength  \\\n",
       "0       Afghanistan                         1.3444       Afghanistan   \n",
       "1           Albania                         2.3137           Albania   \n",
       "2           Algeria                         0.4659           Algeria   \n",
       "3            Angola                         0.8379            Angola   \n",
       "4         Argentina                         0.6521         Argentina   \n",
       "\n",
       "   Aircraft Strength value Fighter/Interceptor Strength  \\\n",
       "0                      260                  Afghanistan   \n",
       "1                       19                      Albania   \n",
       "2                      551                      Algeria   \n",
       "3                      295                       Angola   \n",
       "4                      227                    Argentina   \n",
       "\n",
       "   Fighter/Interceptor Strength value Attack Aircraft Strength  \\\n",
       "0                                   0              Afghanistan   \n",
       "1                                   0                  Albania   \n",
       "2                                 103                  Algeria   \n",
       "3                                  72                   Angola   \n",
       "4                                  24                Argentina   \n",
       "\n",
       "   Attack Aircraft Strength value Transport Aircraft Fleet Strength  \\\n",
       "0                              25                       Afghanistan   \n",
       "1                               0                           Albania   \n",
       "2                              22                           Algeria   \n",
       "3                              18                            Angola   \n",
       "4                               7                         Argentina   \n",
       "\n",
       "   Transport Aircraft Fleet Strength value  ... Total Population  \\\n",
       "0                                       30  ...      Afghanistan   \n",
       "1                                        0  ...          Albania   \n",
       "2                                       59  ...          Algeria   \n",
       "3                                       30  ...           Angola   \n",
       "4                                        9  ...        Argentina   \n",
       "\n",
       "   Total Population value Total Square Land Area  \\\n",
       "0             3,49,40,837            Afghanistan   \n",
       "1               30,57,220                Albania   \n",
       "2             4,16,57,488                Algeria   \n",
       "3             3,03,55,880                 Angola   \n",
       "4             4,46,94,198              Argentina   \n",
       "\n",
       "   Total Square Land Area value Total Coastline Coverage  \\\n",
       "0                      6,52,230              Afghanistan   \n",
       "1                         28748                  Albania   \n",
       "2                     23,81,741                  Algeria   \n",
       "3                     12,46,700                   Angola   \n",
       "4                     27,80,400                Argentina   \n",
       "\n",
       "   Total Coastline Coverage value Total Waterway Coverage  \\\n",
       "0                               0             Afghanistan   \n",
       "1                             362                 Albania   \n",
       "2                             998                 Algeria   \n",
       "3                            1600                  Angola   \n",
       "4                            4989               Argentina   \n",
       "\n",
       "   Total Waterway Coverage value Total Border Coverage  \\\n",
       "0                           1200           Afghanistan   \n",
       "1                             41               Albania   \n",
       "2                              0               Algeria   \n",
       "3                           1300                Angola   \n",
       "4                          11000             Argentina   \n",
       "\n",
       "   Total Border Coverage value  \n",
       "0                       5987.0  \n",
       "1                        691.0  \n",
       "2                       6734.0  \n",
       "3                       5369.0  \n",
       "4                      11968.0  \n",
       "\n",
       "[5 rows x 60 columns]"
      ]
     },
     "execution_count": 56,
     "metadata": {},
     "output_type": "execute_result"
    }
   ],
   "source": [
    "df = pd.read_excel(\"World military power.xlsx\", skiprows=1)\n",
    "df.head()"
   ]
  },
  {
   "cell_type": "markdown",
   "metadata": {
    "id": "v7Eqi2K28AKK"
   },
   "source": [
    "# EDA"
   ]
  },
  {
   "cell_type": "code",
   "execution_count": 57,
   "metadata": {
    "id": "QxAbx-Y98AKK"
   },
   "outputs": [
    {
     "data": {
      "text/plain": [
       "(138, 60)"
      ]
     },
     "execution_count": 57,
     "metadata": {},
     "output_type": "execute_result"
    }
   ],
   "source": [
    "df.shape"
   ]
  },
  {
   "cell_type": "code",
   "execution_count": 58,
   "metadata": {},
   "outputs": [
    {
     "name": "stdout",
     "output_type": "stream",
     "text": [
      "<class 'pandas.core.frame.DataFrame'>\n",
      "RangeIndex: 138 entries, 0 to 137\n",
      "Data columns (total 60 columns):\n",
      " #   Column                                   Non-Null Count  Dtype  \n",
      "---  ------                                   --------------  -----  \n",
      " 0   Military Strength                        138 non-null    object \n",
      " 1   Military Strength Power Index            138 non-null    float64\n",
      " 2   Aircraft Strength                        138 non-null    object \n",
      " 3   Aircraft Strength value                  138 non-null    int64  \n",
      " 4   Fighter/Interceptor Strength             138 non-null    object \n",
      " 5   Fighter/Interceptor Strength value       138 non-null    int64  \n",
      " 6   Attack Aircraft Strength                 138 non-null    object \n",
      " 7   Attack Aircraft Strength value           138 non-null    int64  \n",
      " 8   Transport Aircraft Fleet Strength        138 non-null    object \n",
      " 9   Transport Aircraft Fleet Strength value  138 non-null    int64  \n",
      " 10  Trainer Aircraft Fleet                   138 non-null    object \n",
      " 11  Trainer Aircraft Fleet value             138 non-null    int64  \n",
      " 12  Helicopter Fleet Strength                138 non-null    object \n",
      " 13  Helicopter Fleet Strength value          138 non-null    int64  \n",
      " 14  Attack Helicopter Fleet Strength         138 non-null    object \n",
      " 15  Attack Helicopter Fleet Strength value   138 non-null    int64  \n",
      " 16  Tank Strength                            138 non-null    object \n",
      " 17  Tank Strength value                      138 non-null    int64  \n",
      " 18  AFV/APC Strength                         138 non-null    object \n",
      " 19  AFV/APC Strength value                   138 non-null    int64  \n",
      " 20  Self-Propelled Artillery Strength        138 non-null    object \n",
      " 21  Self-Propelled Artillery Strength value  138 non-null    int64  \n",
      " 22  Towed Artillery Strength                 138 non-null    object \n",
      " 23  Towed Artillery Strength value           138 non-null    int64  \n",
      " 24  Rocket Projector Strength                138 non-null    object \n",
      " 25  Rocket Projector Strength value          138 non-null    int64  \n",
      " 26  Navy Fleet Strengths                     124 non-null    object \n",
      " 27  Navy Fleet Strengths value               124 non-null    float64\n",
      " 28  Aircraft Carrier Fleet Strength          115 non-null    object \n",
      " 29  Aircraft Carrier Fleet Strength value    115 non-null    float64\n",
      " 30  Submarine Fleet Strength                 115 non-null    object \n",
      " 31  Submarine Fleet Strength value           115 non-null    float64\n",
      " 32  Destroyer Fleet Strength                 115 non-null    object \n",
      " 33  Destroyer Fleet Strength value           115 non-null    float64\n",
      " 34  Frigate Fleet Strength                   115 non-null    object \n",
      " 35  Frigate Fleet Strength value             115 non-null    float64\n",
      " 36  defense spending budget                  138 non-null    object \n",
      " 37  defense spending budget value            138 non-null    object \n",
      " 38  External Debt                            138 non-null    object \n",
      " 39  External Debt value                      138 non-null    object \n",
      " 40  Airport Totals                           138 non-null    object \n",
      " 41  Airport Totals value                     138 non-null    int64  \n",
      " 42  Oil Production                           138 non-null    object \n",
      " 43  Oil Production value                     138 non-null    object \n",
      " 44  Oil Consumption                          138 non-null    object \n",
      " 45  Oil Consumption value                    138 non-null    object \n",
      " 46  Proven Oil Reserves                      138 non-null    object \n",
      " 47  Proven Oil Reserves value                138 non-null    object \n",
      " 48  Available Manpower                       138 non-null    object \n",
      " 49  Available Manpower value                 138 non-null    object \n",
      " 50  Total Population                         138 non-null    object \n",
      " 51  Total Population value                   138 non-null    object \n",
      " 52  Total Square Land Area                   138 non-null    object \n",
      " 53  Total Square Land Area value             138 non-null    object \n",
      " 54  Total Coastline Coverage                 109 non-null    object \n",
      " 55  Total Coastline Coverage value           109 non-null    object \n",
      " 56  Total Waterway Coverage                  138 non-null    object \n",
      " 57  Total Waterway Coverage value            138 non-null    object \n",
      " 58  Total Border Coverage                    129 non-null    object \n",
      " 59  Total Border Coverage value              129 non-null    float64\n",
      "dtypes: float64(7), int64(13), object(40)\n",
      "memory usage: 64.8+ KB\n"
     ]
    }
   ],
   "source": [
    "df.info() #There are null values"
   ]
  },
  {
   "cell_type": "markdown",
   "metadata": {
    "id": "oSiUeb-I8AKL"
   },
   "source": [
    "## Convert multi index columns to one level"
   ]
  },
  {
   "cell_type": "code",
   "execution_count": 59,
   "metadata": {
    "id": "aTcr2roB8AKM"
   },
   "outputs": [],
   "source": [
    "#It is done with while reading the excel sheet at the beginning via neglegting the first row."
   ]
  },
  {
   "cell_type": "markdown",
   "metadata": {
    "id": "9AHJyubO8AKM"
   },
   "source": [
    "## Detect and drop duplicated columns"
   ]
  },
  {
   "cell_type": "code",
   "execution_count": 60,
   "metadata": {},
   "outputs": [
    {
     "data": {
      "text/plain": [
       "Index(['Military Strength', 'Military Strength Power Index',\n",
       "       'Aircraft Strength', 'Aircraft Strength value',\n",
       "       'Fighter/Interceptor Strength', 'Fighter/Interceptor Strength value',\n",
       "       'Attack Aircraft Strength', 'Attack Aircraft Strength value',\n",
       "       'Transport Aircraft Fleet Strength',\n",
       "       'Transport Aircraft Fleet Strength value', 'Trainer Aircraft Fleet',\n",
       "       'Trainer Aircraft Fleet value', 'Helicopter Fleet Strength',\n",
       "       'Helicopter Fleet Strength value', 'Attack Helicopter Fleet Strength',\n",
       "       'Attack Helicopter Fleet Strength value', 'Tank Strength',\n",
       "       'Tank Strength value', 'AFV/APC Strength', 'AFV/APC Strength value',\n",
       "       'Self-Propelled Artillery Strength',\n",
       "       'Self-Propelled Artillery Strength value', 'Towed Artillery Strength',\n",
       "       'Towed Artillery Strength value', 'Rocket Projector Strength',\n",
       "       'Rocket Projector Strength value', 'Navy Fleet Strengths',\n",
       "       'Navy Fleet Strengths value', 'Aircraft Carrier Fleet Strength',\n",
       "       'Aircraft Carrier Fleet Strength value', 'Submarine Fleet Strength',\n",
       "       'Submarine Fleet Strength value', 'Destroyer Fleet Strength',\n",
       "       'Destroyer Fleet Strength value', 'Frigate Fleet Strength',\n",
       "       'Frigate Fleet Strength value', 'defense spending budget',\n",
       "       'defense spending budget value', 'External Debt', 'External Debt value',\n",
       "       'Airport Totals', 'Airport Totals value', 'Oil Production',\n",
       "       'Oil Production value', 'Oil Consumption', 'Oil Consumption value',\n",
       "       'Proven Oil Reserves', 'Proven Oil Reserves value',\n",
       "       'Available Manpower', 'Available Manpower value', 'Total Population',\n",
       "       'Total Population value', 'Total Square Land Area',\n",
       "       'Total Square Land Area value', 'Total Coastline Coverage',\n",
       "       'Total Coastline Coverage value', 'Total Waterway Coverage',\n",
       "       'Total Waterway Coverage value', 'Total Border Coverage',\n",
       "       'Total Border Coverage value'],\n",
       "      dtype='object')"
      ]
     },
     "execution_count": 60,
     "metadata": {},
     "output_type": "execute_result"
    }
   ],
   "source": [
    "df.columns"
   ]
  },
  {
   "cell_type": "code",
   "execution_count": 61,
   "metadata": {},
   "outputs": [
    {
     "data": {
      "text/html": [
       "<div>\n",
       "<style scoped>\n",
       "    .dataframe tbody tr th:only-of-type {\n",
       "        vertical-align: middle;\n",
       "    }\n",
       "\n",
       "    .dataframe tbody tr th {\n",
       "        vertical-align: top;\n",
       "    }\n",
       "\n",
       "    .dataframe thead th {\n",
       "        text-align: right;\n",
       "    }\n",
       "</style>\n",
       "<table border=\"1\" class=\"dataframe\">\n",
       "  <thead>\n",
       "    <tr style=\"text-align: right;\">\n",
       "      <th></th>\n",
       "      <th>Military Strength</th>\n",
       "      <th>Aircraft Strength</th>\n",
       "      <th>Fighter/Interceptor Strength</th>\n",
       "      <th>Attack Aircraft Strength</th>\n",
       "      <th>Transport Aircraft Fleet Strength</th>\n",
       "      <th>Trainer Aircraft Fleet</th>\n",
       "      <th>Helicopter Fleet Strength</th>\n",
       "      <th>Attack Helicopter Fleet Strength</th>\n",
       "      <th>Tank Strength</th>\n",
       "      <th>AFV/APC Strength</th>\n",
       "      <th>...</th>\n",
       "      <th>Available Manpower value</th>\n",
       "      <th>Total Population</th>\n",
       "      <th>Total Population value</th>\n",
       "      <th>Total Square Land Area</th>\n",
       "      <th>Total Square Land Area value</th>\n",
       "      <th>Total Coastline Coverage</th>\n",
       "      <th>Total Coastline Coverage value</th>\n",
       "      <th>Total Waterway Coverage</th>\n",
       "      <th>Total Waterway Coverage value</th>\n",
       "      <th>Total Border Coverage</th>\n",
       "    </tr>\n",
       "  </thead>\n",
       "  <tbody>\n",
       "    <tr>\n",
       "      <th>0</th>\n",
       "      <td>Afghanistan</td>\n",
       "      <td>Afghanistan</td>\n",
       "      <td>Afghanistan</td>\n",
       "      <td>Afghanistan</td>\n",
       "      <td>Afghanistan</td>\n",
       "      <td>Afghanistan</td>\n",
       "      <td>Afghanistan</td>\n",
       "      <td>Afghanistan</td>\n",
       "      <td>Afghanistan</td>\n",
       "      <td>Afghanistan</td>\n",
       "      <td>...</td>\n",
       "      <td>1,43,25,743</td>\n",
       "      <td>Afghanistan</td>\n",
       "      <td>3,49,40,837</td>\n",
       "      <td>Afghanistan</td>\n",
       "      <td>6,52,230</td>\n",
       "      <td>Afghanistan</td>\n",
       "      <td>0</td>\n",
       "      <td>Afghanistan</td>\n",
       "      <td>1200</td>\n",
       "      <td>Afghanistan</td>\n",
       "    </tr>\n",
       "    <tr>\n",
       "      <th>1</th>\n",
       "      <td>Albania</td>\n",
       "      <td>Albania</td>\n",
       "      <td>Albania</td>\n",
       "      <td>Albania</td>\n",
       "      <td>Albania</td>\n",
       "      <td>Albania</td>\n",
       "      <td>Albania</td>\n",
       "      <td>Albania</td>\n",
       "      <td>Albania</td>\n",
       "      <td>Albania</td>\n",
       "      <td>...</td>\n",
       "      <td>15,19,438</td>\n",
       "      <td>Albania</td>\n",
       "      <td>30,57,220</td>\n",
       "      <td>Albania</td>\n",
       "      <td>28748</td>\n",
       "      <td>Albania</td>\n",
       "      <td>362</td>\n",
       "      <td>Albania</td>\n",
       "      <td>41</td>\n",
       "      <td>Albania</td>\n",
       "    </tr>\n",
       "    <tr>\n",
       "      <th>2</th>\n",
       "      <td>Algeria</td>\n",
       "      <td>Algeria</td>\n",
       "      <td>Algeria</td>\n",
       "      <td>Algeria</td>\n",
       "      <td>Algeria</td>\n",
       "      <td>Algeria</td>\n",
       "      <td>Algeria</td>\n",
       "      <td>Algeria</td>\n",
       "      <td>Algeria</td>\n",
       "      <td>Algeria</td>\n",
       "      <td>...</td>\n",
       "      <td>2,07,41,263</td>\n",
       "      <td>Algeria</td>\n",
       "      <td>4,16,57,488</td>\n",
       "      <td>Algeria</td>\n",
       "      <td>23,81,741</td>\n",
       "      <td>Algeria</td>\n",
       "      <td>998</td>\n",
       "      <td>Algeria</td>\n",
       "      <td>0</td>\n",
       "      <td>Algeria</td>\n",
       "    </tr>\n",
       "    <tr>\n",
       "      <th>3</th>\n",
       "      <td>Angola</td>\n",
       "      <td>Angola</td>\n",
       "      <td>Angola</td>\n",
       "      <td>Angola</td>\n",
       "      <td>Angola</td>\n",
       "      <td>Angola</td>\n",
       "      <td>Angola</td>\n",
       "      <td>Angola</td>\n",
       "      <td>Angola</td>\n",
       "      <td>Angola</td>\n",
       "      <td>...</td>\n",
       "      <td>62,44,205</td>\n",
       "      <td>Angola</td>\n",
       "      <td>3,03,55,880</td>\n",
       "      <td>Angola</td>\n",
       "      <td>12,46,700</td>\n",
       "      <td>Angola</td>\n",
       "      <td>1600</td>\n",
       "      <td>Angola</td>\n",
       "      <td>1300</td>\n",
       "      <td>Angola</td>\n",
       "    </tr>\n",
       "    <tr>\n",
       "      <th>4</th>\n",
       "      <td>Argentina</td>\n",
       "      <td>Argentina</td>\n",
       "      <td>Argentina</td>\n",
       "      <td>Argentina</td>\n",
       "      <td>Argentina</td>\n",
       "      <td>Argentina</td>\n",
       "      <td>Argentina</td>\n",
       "      <td>Argentina</td>\n",
       "      <td>Argentina</td>\n",
       "      <td>Argentina</td>\n",
       "      <td>...</td>\n",
       "      <td>2,01,79,430</td>\n",
       "      <td>Argentina</td>\n",
       "      <td>4,46,94,198</td>\n",
       "      <td>Argentina</td>\n",
       "      <td>27,80,400</td>\n",
       "      <td>Argentina</td>\n",
       "      <td>4989</td>\n",
       "      <td>Argentina</td>\n",
       "      <td>11000</td>\n",
       "      <td>Argentina</td>\n",
       "    </tr>\n",
       "    <tr>\n",
       "      <th>...</th>\n",
       "      <td>...</td>\n",
       "      <td>...</td>\n",
       "      <td>...</td>\n",
       "      <td>...</td>\n",
       "      <td>...</td>\n",
       "      <td>...</td>\n",
       "      <td>...</td>\n",
       "      <td>...</td>\n",
       "      <td>...</td>\n",
       "      <td>...</td>\n",
       "      <td>...</td>\n",
       "      <td>...</td>\n",
       "      <td>...</td>\n",
       "      <td>...</td>\n",
       "      <td>...</td>\n",
       "      <td>...</td>\n",
       "      <td>...</td>\n",
       "      <td>...</td>\n",
       "      <td>...</td>\n",
       "      <td>...</td>\n",
       "      <td>...</td>\n",
       "    </tr>\n",
       "    <tr>\n",
       "      <th>133</th>\n",
       "      <td>Venezuela</td>\n",
       "      <td>Venezuela</td>\n",
       "      <td>Venezuela</td>\n",
       "      <td>Venezuela</td>\n",
       "      <td>Venezuela</td>\n",
       "      <td>Venezuela</td>\n",
       "      <td>Venezuela</td>\n",
       "      <td>Venezuela</td>\n",
       "      <td>Venezuela</td>\n",
       "      <td>Venezuela</td>\n",
       "      <td>...</td>\n",
       "      <td>1,42,60,129</td>\n",
       "      <td>Venezuela</td>\n",
       "      <td>3,16,89,176</td>\n",
       "      <td>Venezuela</td>\n",
       "      <td>9,12,050</td>\n",
       "      <td>Venezuela</td>\n",
       "      <td>2800</td>\n",
       "      <td>Venezuela</td>\n",
       "      <td>7100</td>\n",
       "      <td>Venezuela</td>\n",
       "    </tr>\n",
       "    <tr>\n",
       "      <th>134</th>\n",
       "      <td>Vietnam</td>\n",
       "      <td>Vietnam</td>\n",
       "      <td>Vietnam</td>\n",
       "      <td>Vietnam</td>\n",
       "      <td>Vietnam</td>\n",
       "      <td>Vietnam</td>\n",
       "      <td>Vietnam</td>\n",
       "      <td>Vietnam</td>\n",
       "      <td>Vietnam</td>\n",
       "      <td>Vietnam</td>\n",
       "      <td>...</td>\n",
       "      <td>5,10,43,216</td>\n",
       "      <td>Vietnam</td>\n",
       "      <td>9,70,40,334</td>\n",
       "      <td>Vietnam</td>\n",
       "      <td>3,31,210</td>\n",
       "      <td>Vietnam</td>\n",
       "      <td>3444</td>\n",
       "      <td>Vietnam</td>\n",
       "      <td>17702</td>\n",
       "      <td>Vietnam</td>\n",
       "    </tr>\n",
       "    <tr>\n",
       "      <th>135</th>\n",
       "      <td>Yemen</td>\n",
       "      <td>Yemen</td>\n",
       "      <td>Yemen</td>\n",
       "      <td>Yemen</td>\n",
       "      <td>Yemen</td>\n",
       "      <td>Yemen</td>\n",
       "      <td>Yemen</td>\n",
       "      <td>Yemen</td>\n",
       "      <td>Yemen</td>\n",
       "      <td>Yemen</td>\n",
       "      <td>...</td>\n",
       "      <td>1,12,66,221</td>\n",
       "      <td>Yemen</td>\n",
       "      <td>2,86,67,230</td>\n",
       "      <td>Yemen</td>\n",
       "      <td>5,27,968</td>\n",
       "      <td>Yemen</td>\n",
       "      <td>1906</td>\n",
       "      <td>Yemen</td>\n",
       "      <td>0</td>\n",
       "      <td>Yemen</td>\n",
       "    </tr>\n",
       "    <tr>\n",
       "      <th>136</th>\n",
       "      <td>Zambia</td>\n",
       "      <td>Zambia</td>\n",
       "      <td>Zambia</td>\n",
       "      <td>Zambia</td>\n",
       "      <td>Zambia</td>\n",
       "      <td>Zambia</td>\n",
       "      <td>Zambia</td>\n",
       "      <td>Zambia</td>\n",
       "      <td>Zambia</td>\n",
       "      <td>Zambia</td>\n",
       "      <td>...</td>\n",
       "      <td>61,66,905</td>\n",
       "      <td>Zambia</td>\n",
       "      <td>1,64,45,079</td>\n",
       "      <td>Zambia</td>\n",
       "      <td>7,52,618</td>\n",
       "      <td>NaN</td>\n",
       "      <td>NaN</td>\n",
       "      <td>Zambia</td>\n",
       "      <td>2250</td>\n",
       "      <td>Zambia</td>\n",
       "    </tr>\n",
       "    <tr>\n",
       "      <th>137</th>\n",
       "      <td>Zimbabwe</td>\n",
       "      <td>Zimbabwe</td>\n",
       "      <td>Zimbabwe</td>\n",
       "      <td>Zimbabwe</td>\n",
       "      <td>Zimbabwe</td>\n",
       "      <td>Zimbabwe</td>\n",
       "      <td>Zimbabwe</td>\n",
       "      <td>Zimbabwe</td>\n",
       "      <td>Zimbabwe</td>\n",
       "      <td>Zimbabwe</td>\n",
       "      <td>...</td>\n",
       "      <td>55,84,086</td>\n",
       "      <td>Zimbabwe</td>\n",
       "      <td>1,40,30,368</td>\n",
       "      <td>Zimbabwe</td>\n",
       "      <td>3,90,757</td>\n",
       "      <td>NaN</td>\n",
       "      <td>NaN</td>\n",
       "      <td>Zimbabwe</td>\n",
       "      <td>0</td>\n",
       "      <td>Zimbabwe</td>\n",
       "    </tr>\n",
       "  </tbody>\n",
       "</table>\n",
       "<p>138 rows × 40 columns</p>\n",
       "</div>"
      ],
      "text/plain": [
       "    Military Strength Aircraft Strength Fighter/Interceptor Strength  \\\n",
       "0         Afghanistan       Afghanistan                  Afghanistan   \n",
       "1             Albania           Albania                      Albania   \n",
       "2             Algeria           Algeria                      Algeria   \n",
       "3              Angola            Angola                       Angola   \n",
       "4           Argentina         Argentina                    Argentina   \n",
       "..                ...               ...                          ...   \n",
       "133         Venezuela         Venezuela                    Venezuela   \n",
       "134           Vietnam           Vietnam                      Vietnam   \n",
       "135             Yemen             Yemen                        Yemen   \n",
       "136            Zambia            Zambia                       Zambia   \n",
       "137          Zimbabwe          Zimbabwe                     Zimbabwe   \n",
       "\n",
       "    Attack Aircraft Strength Transport Aircraft Fleet Strength  \\\n",
       "0                Afghanistan                       Afghanistan   \n",
       "1                    Albania                           Albania   \n",
       "2                    Algeria                           Algeria   \n",
       "3                     Angola                            Angola   \n",
       "4                  Argentina                         Argentina   \n",
       "..                       ...                               ...   \n",
       "133                Venezuela                         Venezuela   \n",
       "134                  Vietnam                           Vietnam   \n",
       "135                    Yemen                             Yemen   \n",
       "136                   Zambia                            Zambia   \n",
       "137                 Zimbabwe                          Zimbabwe   \n",
       "\n",
       "    Trainer Aircraft Fleet Helicopter Fleet Strength  \\\n",
       "0              Afghanistan               Afghanistan   \n",
       "1                  Albania                   Albania   \n",
       "2                  Algeria                   Algeria   \n",
       "3                   Angola                    Angola   \n",
       "4                Argentina                 Argentina   \n",
       "..                     ...                       ...   \n",
       "133              Venezuela                 Venezuela   \n",
       "134                Vietnam                   Vietnam   \n",
       "135                  Yemen                     Yemen   \n",
       "136                 Zambia                    Zambia   \n",
       "137               Zimbabwe                  Zimbabwe   \n",
       "\n",
       "    Attack Helicopter Fleet Strength Tank Strength AFV/APC Strength  ...  \\\n",
       "0                        Afghanistan   Afghanistan      Afghanistan  ...   \n",
       "1                            Albania       Albania          Albania  ...   \n",
       "2                            Algeria       Algeria          Algeria  ...   \n",
       "3                             Angola        Angola           Angola  ...   \n",
       "4                          Argentina     Argentina        Argentina  ...   \n",
       "..                               ...           ...              ...  ...   \n",
       "133                        Venezuela     Venezuela        Venezuela  ...   \n",
       "134                          Vietnam       Vietnam          Vietnam  ...   \n",
       "135                            Yemen         Yemen            Yemen  ...   \n",
       "136                           Zambia        Zambia           Zambia  ...   \n",
       "137                         Zimbabwe      Zimbabwe         Zimbabwe  ...   \n",
       "\n",
       "    Available Manpower value Total Population Total Population value  \\\n",
       "0                1,43,25,743      Afghanistan            3,49,40,837   \n",
       "1                  15,19,438          Albania              30,57,220   \n",
       "2                2,07,41,263          Algeria            4,16,57,488   \n",
       "3                  62,44,205           Angola            3,03,55,880   \n",
       "4                2,01,79,430        Argentina            4,46,94,198   \n",
       "..                       ...              ...                    ...   \n",
       "133              1,42,60,129        Venezuela            3,16,89,176   \n",
       "134              5,10,43,216          Vietnam            9,70,40,334   \n",
       "135              1,12,66,221            Yemen            2,86,67,230   \n",
       "136                61,66,905           Zambia            1,64,45,079   \n",
       "137                55,84,086         Zimbabwe            1,40,30,368   \n",
       "\n",
       "    Total Square Land Area Total Square Land Area value  \\\n",
       "0              Afghanistan                     6,52,230   \n",
       "1                  Albania                        28748   \n",
       "2                  Algeria                    23,81,741   \n",
       "3                   Angola                    12,46,700   \n",
       "4                Argentina                    27,80,400   \n",
       "..                     ...                          ...   \n",
       "133              Venezuela                     9,12,050   \n",
       "134                Vietnam                     3,31,210   \n",
       "135                  Yemen                     5,27,968   \n",
       "136                 Zambia                     7,52,618   \n",
       "137               Zimbabwe                     3,90,757   \n",
       "\n",
       "    Total Coastline Coverage Total Coastline Coverage value  \\\n",
       "0                Afghanistan                              0   \n",
       "1                    Albania                            362   \n",
       "2                    Algeria                            998   \n",
       "3                     Angola                           1600   \n",
       "4                  Argentina                           4989   \n",
       "..                       ...                            ...   \n",
       "133                Venezuela                           2800   \n",
       "134                  Vietnam                           3444   \n",
       "135                    Yemen                           1906   \n",
       "136                      NaN                            NaN   \n",
       "137                      NaN                            NaN   \n",
       "\n",
       "    Total Waterway Coverage Total Waterway Coverage value  \\\n",
       "0               Afghanistan                          1200   \n",
       "1                   Albania                            41   \n",
       "2                   Algeria                             0   \n",
       "3                    Angola                          1300   \n",
       "4                 Argentina                         11000   \n",
       "..                      ...                           ...   \n",
       "133               Venezuela                          7100   \n",
       "134                 Vietnam                         17702   \n",
       "135                   Yemen                             0   \n",
       "136                  Zambia                          2250   \n",
       "137                Zimbabwe                             0   \n",
       "\n",
       "    Total Border Coverage  \n",
       "0             Afghanistan  \n",
       "1                 Albania  \n",
       "2                 Algeria  \n",
       "3                  Angola  \n",
       "4               Argentina  \n",
       "..                    ...  \n",
       "133             Venezuela  \n",
       "134               Vietnam  \n",
       "135                 Yemen  \n",
       "136                Zambia  \n",
       "137              Zimbabwe  \n",
       "\n",
       "[138 rows x 40 columns]"
      ]
     },
     "execution_count": 61,
     "metadata": {},
     "output_type": "execute_result"
    }
   ],
   "source": [
    "df.select_dtypes('object')"
   ]
  },
  {
   "cell_type": "code",
   "execution_count": 62,
   "metadata": {},
   "outputs": [],
   "source": [
    "#df[df.columns[~df.columns.isin()]]\n",
    "df2 = df.loc[:,df.columns.str.contains('value')]"
   ]
  },
  {
   "cell_type": "code",
   "execution_count": 63,
   "metadata": {
    "id": "zb_hDNB08AKM"
   },
   "outputs": [],
   "source": [
    "df3 = df[['Military Strength', 'Military Strength Power Index']]"
   ]
  },
  {
   "cell_type": "code",
   "execution_count": 64,
   "metadata": {},
   "outputs": [],
   "source": [
    "data =  pd.concat([df3, df2], axis=1)"
   ]
  },
  {
   "cell_type": "code",
   "execution_count": 65,
   "metadata": {},
   "outputs": [],
   "source": [
    "data.rename(columns={'Military Strength':'Country'}, inplace=True)"
   ]
  },
  {
   "cell_type": "code",
   "execution_count": 66,
   "metadata": {},
   "outputs": [
    {
     "data": {
      "text/html": [
       "<div>\n",
       "<style scoped>\n",
       "    .dataframe tbody tr th:only-of-type {\n",
       "        vertical-align: middle;\n",
       "    }\n",
       "\n",
       "    .dataframe tbody tr th {\n",
       "        vertical-align: top;\n",
       "    }\n",
       "\n",
       "    .dataframe thead th {\n",
       "        text-align: right;\n",
       "    }\n",
       "</style>\n",
       "<table border=\"1\" class=\"dataframe\">\n",
       "  <thead>\n",
       "    <tr style=\"text-align: right;\">\n",
       "      <th></th>\n",
       "      <th>Country</th>\n",
       "      <th>Military Strength Power Index</th>\n",
       "      <th>Aircraft Strength value</th>\n",
       "      <th>Fighter/Interceptor Strength value</th>\n",
       "      <th>Attack Aircraft Strength value</th>\n",
       "      <th>Transport Aircraft Fleet Strength value</th>\n",
       "      <th>Trainer Aircraft Fleet value</th>\n",
       "      <th>Helicopter Fleet Strength value</th>\n",
       "      <th>Attack Helicopter Fleet Strength value</th>\n",
       "      <th>Tank Strength value</th>\n",
       "      <th>...</th>\n",
       "      <th>Airport Totals value</th>\n",
       "      <th>Oil Production value</th>\n",
       "      <th>Oil Consumption value</th>\n",
       "      <th>Proven Oil Reserves value</th>\n",
       "      <th>Available Manpower value</th>\n",
       "      <th>Total Population value</th>\n",
       "      <th>Total Square Land Area value</th>\n",
       "      <th>Total Coastline Coverage value</th>\n",
       "      <th>Total Waterway Coverage value</th>\n",
       "      <th>Total Border Coverage value</th>\n",
       "    </tr>\n",
       "  </thead>\n",
       "  <tbody>\n",
       "    <tr>\n",
       "      <th>0</th>\n",
       "      <td>Afghanistan</td>\n",
       "      <td>1.3444</td>\n",
       "      <td>260</td>\n",
       "      <td>0</td>\n",
       "      <td>25</td>\n",
       "      <td>30</td>\n",
       "      <td>0</td>\n",
       "      <td>187</td>\n",
       "      <td>0</td>\n",
       "      <td>0</td>\n",
       "      <td>...</td>\n",
       "      <td>43</td>\n",
       "      <td>0</td>\n",
       "      <td>5500</td>\n",
       "      <td>0</td>\n",
       "      <td>1,43,25,743</td>\n",
       "      <td>3,49,40,837</td>\n",
       "      <td>6,52,230</td>\n",
       "      <td>0</td>\n",
       "      <td>1200</td>\n",
       "      <td>5987.0</td>\n",
       "    </tr>\n",
       "    <tr>\n",
       "      <th>1</th>\n",
       "      <td>Albania</td>\n",
       "      <td>2.3137</td>\n",
       "      <td>19</td>\n",
       "      <td>0</td>\n",
       "      <td>0</td>\n",
       "      <td>0</td>\n",
       "      <td>0</td>\n",
       "      <td>19</td>\n",
       "      <td>0</td>\n",
       "      <td>0</td>\n",
       "      <td>...</td>\n",
       "      <td>4</td>\n",
       "      <td>16000</td>\n",
       "      <td>42500</td>\n",
       "      <td>16,83,00,000</td>\n",
       "      <td>15,19,438</td>\n",
       "      <td>30,57,220</td>\n",
       "      <td>28748</td>\n",
       "      <td>362</td>\n",
       "      <td>41</td>\n",
       "      <td>691.0</td>\n",
       "    </tr>\n",
       "    <tr>\n",
       "      <th>2</th>\n",
       "      <td>Algeria</td>\n",
       "      <td>0.4659</td>\n",
       "      <td>551</td>\n",
       "      <td>103</td>\n",
       "      <td>22</td>\n",
       "      <td>59</td>\n",
       "      <td>87</td>\n",
       "      <td>257</td>\n",
       "      <td>45</td>\n",
       "      <td>880</td>\n",
       "      <td>...</td>\n",
       "      <td>157</td>\n",
       "      <td>13,06,000</td>\n",
       "      <td>3,25,000</td>\n",
       "      <td>12,20,00,00,000</td>\n",
       "      <td>2,07,41,263</td>\n",
       "      <td>4,16,57,488</td>\n",
       "      <td>23,81,741</td>\n",
       "      <td>998</td>\n",
       "      <td>0</td>\n",
       "      <td>6734.0</td>\n",
       "    </tr>\n",
       "    <tr>\n",
       "      <th>3</th>\n",
       "      <td>Angola</td>\n",
       "      <td>0.8379</td>\n",
       "      <td>295</td>\n",
       "      <td>72</td>\n",
       "      <td>18</td>\n",
       "      <td>30</td>\n",
       "      <td>47</td>\n",
       "      <td>126</td>\n",
       "      <td>15</td>\n",
       "      <td>379</td>\n",
       "      <td>...</td>\n",
       "      <td>176</td>\n",
       "      <td>16,66,000</td>\n",
       "      <td>82300</td>\n",
       "      <td>8,27,30,00,000</td>\n",
       "      <td>62,44,205</td>\n",
       "      <td>3,03,55,880</td>\n",
       "      <td>12,46,700</td>\n",
       "      <td>1600</td>\n",
       "      <td>1300</td>\n",
       "      <td>5369.0</td>\n",
       "    </tr>\n",
       "    <tr>\n",
       "      <th>4</th>\n",
       "      <td>Argentina</td>\n",
       "      <td>0.6521</td>\n",
       "      <td>227</td>\n",
       "      <td>24</td>\n",
       "      <td>7</td>\n",
       "      <td>9</td>\n",
       "      <td>64</td>\n",
       "      <td>100</td>\n",
       "      <td>0</td>\n",
       "      <td>370</td>\n",
       "      <td>...</td>\n",
       "      <td>1138</td>\n",
       "      <td>4,79,400</td>\n",
       "      <td>6,85,000</td>\n",
       "      <td>2,18,50,00,000</td>\n",
       "      <td>2,01,79,430</td>\n",
       "      <td>4,46,94,198</td>\n",
       "      <td>27,80,400</td>\n",
       "      <td>4989</td>\n",
       "      <td>11000</td>\n",
       "      <td>11968.0</td>\n",
       "    </tr>\n",
       "    <tr>\n",
       "      <th>...</th>\n",
       "      <td>...</td>\n",
       "      <td>...</td>\n",
       "      <td>...</td>\n",
       "      <td>...</td>\n",
       "      <td>...</td>\n",
       "      <td>...</td>\n",
       "      <td>...</td>\n",
       "      <td>...</td>\n",
       "      <td>...</td>\n",
       "      <td>...</td>\n",
       "      <td>...</td>\n",
       "      <td>...</td>\n",
       "      <td>...</td>\n",
       "      <td>...</td>\n",
       "      <td>...</td>\n",
       "      <td>...</td>\n",
       "      <td>...</td>\n",
       "      <td>...</td>\n",
       "      <td>...</td>\n",
       "      <td>...</td>\n",
       "      <td>...</td>\n",
       "    </tr>\n",
       "    <tr>\n",
       "      <th>133</th>\n",
       "      <td>Venezuela</td>\n",
       "      <td>0.6449</td>\n",
       "      <td>260</td>\n",
       "      <td>38</td>\n",
       "      <td>0</td>\n",
       "      <td>52</td>\n",
       "      <td>82</td>\n",
       "      <td>86</td>\n",
       "      <td>10</td>\n",
       "      <td>390</td>\n",
       "      <td>...</td>\n",
       "      <td>444</td>\n",
       "      <td>20,07,000</td>\n",
       "      <td>5,75,000</td>\n",
       "      <td>3,00,90,00,00,000</td>\n",
       "      <td>1,42,60,129</td>\n",
       "      <td>3,16,89,176</td>\n",
       "      <td>9,12,050</td>\n",
       "      <td>2800</td>\n",
       "      <td>7100</td>\n",
       "      <td>5267.0</td>\n",
       "    </tr>\n",
       "    <tr>\n",
       "      <th>134</th>\n",
       "      <td>Vietnam</td>\n",
       "      <td>0.3559</td>\n",
       "      <td>293</td>\n",
       "      <td>77</td>\n",
       "      <td>0</td>\n",
       "      <td>38</td>\n",
       "      <td>36</td>\n",
       "      <td>138</td>\n",
       "      <td>25</td>\n",
       "      <td>2615</td>\n",
       "      <td>...</td>\n",
       "      <td>45</td>\n",
       "      <td>2,71,400</td>\n",
       "      <td>5,25,000</td>\n",
       "      <td>4,40,00,00,000</td>\n",
       "      <td>5,10,43,216</td>\n",
       "      <td>9,70,40,334</td>\n",
       "      <td>3,31,210</td>\n",
       "      <td>3444</td>\n",
       "      <td>17702</td>\n",
       "      <td>4616.0</td>\n",
       "    </tr>\n",
       "    <tr>\n",
       "      <th>135</th>\n",
       "      <td>Yemen</td>\n",
       "      <td>1.2412</td>\n",
       "      <td>169</td>\n",
       "      <td>77</td>\n",
       "      <td>0</td>\n",
       "      <td>8</td>\n",
       "      <td>21</td>\n",
       "      <td>61</td>\n",
       "      <td>14</td>\n",
       "      <td>620</td>\n",
       "      <td>...</td>\n",
       "      <td>57</td>\n",
       "      <td>12260</td>\n",
       "      <td>1,45,000</td>\n",
       "      <td>3,00,00,00,000</td>\n",
       "      <td>1,12,66,221</td>\n",
       "      <td>2,86,67,230</td>\n",
       "      <td>5,27,968</td>\n",
       "      <td>1906</td>\n",
       "      <td>0</td>\n",
       "      <td>1601.0</td>\n",
       "    </tr>\n",
       "    <tr>\n",
       "      <th>136</th>\n",
       "      <td>Zambia</td>\n",
       "      <td>1.6464</td>\n",
       "      <td>108</td>\n",
       "      <td>18</td>\n",
       "      <td>0</td>\n",
       "      <td>11</td>\n",
       "      <td>52</td>\n",
       "      <td>27</td>\n",
       "      <td>0</td>\n",
       "      <td>75</td>\n",
       "      <td>...</td>\n",
       "      <td>88</td>\n",
       "      <td>0</td>\n",
       "      <td>21000</td>\n",
       "      <td>0</td>\n",
       "      <td>61,66,905</td>\n",
       "      <td>1,64,45,079</td>\n",
       "      <td>7,52,618</td>\n",
       "      <td>NaN</td>\n",
       "      <td>2250</td>\n",
       "      <td>6043.0</td>\n",
       "    </tr>\n",
       "    <tr>\n",
       "      <th>137</th>\n",
       "      <td>Zimbabwe</td>\n",
       "      <td>1.7577</td>\n",
       "      <td>90</td>\n",
       "      <td>10</td>\n",
       "      <td>0</td>\n",
       "      <td>14</td>\n",
       "      <td>38</td>\n",
       "      <td>28</td>\n",
       "      <td>6</td>\n",
       "      <td>42</td>\n",
       "      <td>...</td>\n",
       "      <td>196</td>\n",
       "      <td>0</td>\n",
       "      <td>19500</td>\n",
       "      <td>0</td>\n",
       "      <td>55,84,086</td>\n",
       "      <td>1,40,30,368</td>\n",
       "      <td>3,90,757</td>\n",
       "      <td>NaN</td>\n",
       "      <td>0</td>\n",
       "      <td>3229.0</td>\n",
       "    </tr>\n",
       "  </tbody>\n",
       "</table>\n",
       "<p>138 rows × 31 columns</p>\n",
       "</div>"
      ],
      "text/plain": [
       "         Country  Military Strength Power Index  Aircraft Strength value  \\\n",
       "0    Afghanistan                         1.3444                      260   \n",
       "1        Albania                         2.3137                       19   \n",
       "2        Algeria                         0.4659                      551   \n",
       "3         Angola                         0.8379                      295   \n",
       "4      Argentina                         0.6521                      227   \n",
       "..           ...                            ...                      ...   \n",
       "133    Venezuela                         0.6449                      260   \n",
       "134      Vietnam                         0.3559                      293   \n",
       "135        Yemen                         1.2412                      169   \n",
       "136       Zambia                         1.6464                      108   \n",
       "137     Zimbabwe                         1.7577                       90   \n",
       "\n",
       "     Fighter/Interceptor Strength value  Attack Aircraft Strength value  \\\n",
       "0                                     0                              25   \n",
       "1                                     0                               0   \n",
       "2                                   103                              22   \n",
       "3                                    72                              18   \n",
       "4                                    24                               7   \n",
       "..                                  ...                             ...   \n",
       "133                                  38                               0   \n",
       "134                                  77                               0   \n",
       "135                                  77                               0   \n",
       "136                                  18                               0   \n",
       "137                                  10                               0   \n",
       "\n",
       "     Transport Aircraft Fleet Strength value  Trainer Aircraft Fleet value  \\\n",
       "0                                         30                             0   \n",
       "1                                          0                             0   \n",
       "2                                         59                            87   \n",
       "3                                         30                            47   \n",
       "4                                          9                            64   \n",
       "..                                       ...                           ...   \n",
       "133                                       52                            82   \n",
       "134                                       38                            36   \n",
       "135                                        8                            21   \n",
       "136                                       11                            52   \n",
       "137                                       14                            38   \n",
       "\n",
       "     Helicopter Fleet Strength value  Attack Helicopter Fleet Strength value  \\\n",
       "0                                187                                       0   \n",
       "1                                 19                                       0   \n",
       "2                                257                                      45   \n",
       "3                                126                                      15   \n",
       "4                                100                                       0   \n",
       "..                               ...                                     ...   \n",
       "133                               86                                      10   \n",
       "134                              138                                      25   \n",
       "135                               61                                      14   \n",
       "136                               27                                       0   \n",
       "137                               28                                       6   \n",
       "\n",
       "     Tank Strength value  ...  Airport Totals value  Oil Production value  \\\n",
       "0                      0  ...                    43                     0   \n",
       "1                      0  ...                     4                 16000   \n",
       "2                    880  ...                   157             13,06,000   \n",
       "3                    379  ...                   176             16,66,000   \n",
       "4                    370  ...                  1138              4,79,400   \n",
       "..                   ...  ...                   ...                   ...   \n",
       "133                  390  ...                   444             20,07,000   \n",
       "134                 2615  ...                    45              2,71,400   \n",
       "135                  620  ...                    57                 12260   \n",
       "136                   75  ...                    88                     0   \n",
       "137                   42  ...                   196                     0   \n",
       "\n",
       "     Oil Consumption value  Proven Oil Reserves value  \\\n",
       "0                     5500                          0   \n",
       "1                    42500               16,83,00,000   \n",
       "2                 3,25,000            12,20,00,00,000   \n",
       "3                    82300             8,27,30,00,000   \n",
       "4                 6,85,000             2,18,50,00,000   \n",
       "..                     ...                        ...   \n",
       "133               5,75,000          3,00,90,00,00,000   \n",
       "134               5,25,000             4,40,00,00,000   \n",
       "135               1,45,000             3,00,00,00,000   \n",
       "136                  21000                          0   \n",
       "137                  19500                          0   \n",
       "\n",
       "     Available Manpower value  Total Population value  \\\n",
       "0                 1,43,25,743             3,49,40,837   \n",
       "1                   15,19,438               30,57,220   \n",
       "2                 2,07,41,263             4,16,57,488   \n",
       "3                   62,44,205             3,03,55,880   \n",
       "4                 2,01,79,430             4,46,94,198   \n",
       "..                        ...                     ...   \n",
       "133               1,42,60,129             3,16,89,176   \n",
       "134               5,10,43,216             9,70,40,334   \n",
       "135               1,12,66,221             2,86,67,230   \n",
       "136                 61,66,905             1,64,45,079   \n",
       "137                 55,84,086             1,40,30,368   \n",
       "\n",
       "     Total Square Land Area value  Total Coastline Coverage value  \\\n",
       "0                        6,52,230                               0   \n",
       "1                           28748                             362   \n",
       "2                       23,81,741                             998   \n",
       "3                       12,46,700                            1600   \n",
       "4                       27,80,400                            4989   \n",
       "..                            ...                             ...   \n",
       "133                      9,12,050                            2800   \n",
       "134                      3,31,210                            3444   \n",
       "135                      5,27,968                            1906   \n",
       "136                      7,52,618                             NaN   \n",
       "137                      3,90,757                             NaN   \n",
       "\n",
       "     Total Waterway Coverage value Total Border Coverage value  \n",
       "0                             1200                      5987.0  \n",
       "1                               41                       691.0  \n",
       "2                                0                      6734.0  \n",
       "3                             1300                      5369.0  \n",
       "4                            11000                     11968.0  \n",
       "..                             ...                         ...  \n",
       "133                           7100                      5267.0  \n",
       "134                          17702                      4616.0  \n",
       "135                              0                      1601.0  \n",
       "136                           2250                      6043.0  \n",
       "137                              0                      3229.0  \n",
       "\n",
       "[138 rows x 31 columns]"
      ]
     },
     "execution_count": 66,
     "metadata": {},
     "output_type": "execute_result"
    }
   ],
   "source": [
    "data"
   ]
  },
  {
   "cell_type": "markdown",
   "metadata": {
    "id": "D-WNWchf8AKM"
   },
   "source": [
    "## Check for missing values "
   ]
  },
  {
   "cell_type": "code",
   "execution_count": 67,
   "metadata": {},
   "outputs": [
    {
     "data": {
      "text/plain": [
       "144"
      ]
     },
     "execution_count": 67,
     "metadata": {},
     "output_type": "execute_result"
    }
   ],
   "source": [
    "data.isnull().sum().sum()"
   ]
  },
  {
   "cell_type": "code",
   "execution_count": 68,
   "metadata": {
    "id": "Hp9q9ILT8AKN"
   },
   "outputs": [
    {
     "data": {
      "text/plain": [
       "Country                                     0\n",
       "Military Strength Power Index               0\n",
       "Aircraft Strength value                     0\n",
       "Fighter/Interceptor Strength value          0\n",
       "Attack Aircraft Strength value              0\n",
       "Transport Aircraft Fleet Strength value     0\n",
       "Trainer Aircraft Fleet value                0\n",
       "Helicopter Fleet Strength value             0\n",
       "Attack Helicopter Fleet Strength value      0\n",
       "Tank Strength value                         0\n",
       "AFV/APC Strength value                      0\n",
       "Self-Propelled Artillery Strength value     0\n",
       "Towed Artillery Strength value              0\n",
       "Rocket Projector Strength value             0\n",
       "Navy Fleet Strengths value                 14\n",
       "Aircraft Carrier Fleet Strength value      23\n",
       "Submarine Fleet Strength value             23\n",
       "Destroyer Fleet Strength value             23\n",
       "Frigate Fleet Strength value               23\n",
       "defense spending budget value               0\n",
       "External Debt value                         0\n",
       "Airport Totals value                        0\n",
       "Oil Production value                        0\n",
       "Oil Consumption value                       0\n",
       "Proven Oil Reserves value                   0\n",
       "Available Manpower value                    0\n",
       "Total Population value                      0\n",
       "Total Square Land Area value                0\n",
       "Total Coastline Coverage value             29\n",
       "Total Waterway Coverage value               0\n",
       "Total Border Coverage value                 9\n",
       "dtype: int64"
      ]
     },
     "execution_count": 68,
     "metadata": {},
     "output_type": "execute_result"
    }
   ],
   "source": [
    "data.isnull().sum()"
   ]
  },
  {
   "cell_type": "code",
   "execution_count": 69,
   "metadata": {},
   "outputs": [
    {
     "data": {
      "text/plain": [
       "0"
      ]
     },
     "execution_count": 69,
     "metadata": {},
     "output_type": "execute_result"
    }
   ],
   "source": [
    "data.duplicated().sum()"
   ]
  },
  {
   "cell_type": "markdown",
   "metadata": {
    "id": "T-aAEYmI8AKN"
   },
   "source": [
    "## Deal with missing values \n",
    "* Hint-1, use wikipedia to fill in missing values ​​comparing with similar countries\n",
    "* Hint-2, Georeferences of countries can help you"
   ]
  },
  {
   "cell_type": "code",
   "execution_count": 70,
   "metadata": {},
   "outputs": [
    {
     "data": {
      "text/html": [
       "<div>\n",
       "<style scoped>\n",
       "    .dataframe tbody tr th:only-of-type {\n",
       "        vertical-align: middle;\n",
       "    }\n",
       "\n",
       "    .dataframe tbody tr th {\n",
       "        vertical-align: top;\n",
       "    }\n",
       "\n",
       "    .dataframe thead th {\n",
       "        text-align: right;\n",
       "    }\n",
       "</style>\n",
       "<table border=\"1\" class=\"dataframe\">\n",
       "  <thead>\n",
       "    <tr style=\"text-align: right;\">\n",
       "      <th></th>\n",
       "      <th>Country</th>\n",
       "      <th>Military Strength Power Index</th>\n",
       "      <th>Aircraft Strength value</th>\n",
       "      <th>Fighter/Interceptor Strength value</th>\n",
       "      <th>Attack Aircraft Strength value</th>\n",
       "      <th>Transport Aircraft Fleet Strength value</th>\n",
       "      <th>Trainer Aircraft Fleet value</th>\n",
       "      <th>Helicopter Fleet Strength value</th>\n",
       "      <th>Attack Helicopter Fleet Strength value</th>\n",
       "      <th>Tank Strength value</th>\n",
       "      <th>...</th>\n",
       "      <th>Airport Totals value</th>\n",
       "      <th>Oil Production value</th>\n",
       "      <th>Oil Consumption value</th>\n",
       "      <th>Proven Oil Reserves value</th>\n",
       "      <th>Available Manpower value</th>\n",
       "      <th>Total Population value</th>\n",
       "      <th>Total Square Land Area value</th>\n",
       "      <th>Total Coastline Coverage value</th>\n",
       "      <th>Total Waterway Coverage value</th>\n",
       "      <th>Total Border Coverage value</th>\n",
       "    </tr>\n",
       "  </thead>\n",
       "  <tbody>\n",
       "    <tr>\n",
       "      <th>7</th>\n",
       "      <td>Austria</td>\n",
       "      <td>0.9568</td>\n",
       "      <td>120</td>\n",
       "      <td>15</td>\n",
       "      <td>0</td>\n",
       "      <td>11</td>\n",
       "      <td>32</td>\n",
       "      <td>62</td>\n",
       "      <td>0</td>\n",
       "      <td>56</td>\n",
       "      <td>...</td>\n",
       "      <td>52</td>\n",
       "      <td>14260</td>\n",
       "      <td>2,15,000</td>\n",
       "      <td>4,30,00,000</td>\n",
       "      <td>40,17,691</td>\n",
       "      <td>87,93,370</td>\n",
       "      <td>83871</td>\n",
       "      <td>NaN</td>\n",
       "      <td>0</td>\n",
       "      <td>2524.0</td>\n",
       "    </tr>\n",
       "  </tbody>\n",
       "</table>\n",
       "<p>1 rows × 31 columns</p>\n",
       "</div>"
      ],
      "text/plain": [
       "   Country  Military Strength Power Index  Aircraft Strength value  \\\n",
       "7  Austria                         0.9568                      120   \n",
       "\n",
       "   Fighter/Interceptor Strength value  Attack Aircraft Strength value  \\\n",
       "7                                  15                               0   \n",
       "\n",
       "   Transport Aircraft Fleet Strength value  Trainer Aircraft Fleet value  \\\n",
       "7                                       11                            32   \n",
       "\n",
       "   Helicopter Fleet Strength value  Attack Helicopter Fleet Strength value  \\\n",
       "7                               62                                       0   \n",
       "\n",
       "   Tank Strength value  ...  Airport Totals value  Oil Production value  \\\n",
       "7                   56  ...                    52                 14260   \n",
       "\n",
       "   Oil Consumption value  Proven Oil Reserves value  Available Manpower value  \\\n",
       "7               2,15,000                4,30,00,000                 40,17,691   \n",
       "\n",
       "   Total Population value  Total Square Land Area value  \\\n",
       "7               87,93,370                         83871   \n",
       "\n",
       "   Total Coastline Coverage value  Total Waterway Coverage value  \\\n",
       "7                             NaN                              0   \n",
       "\n",
       "  Total Border Coverage value  \n",
       "7                      2524.0  \n",
       "\n",
       "[1 rows x 31 columns]"
      ]
     },
     "execution_count": 70,
     "metadata": {},
     "output_type": "execute_result"
    }
   ],
   "source": [
    "data[data.Country== \"Austria\"]"
   ]
  },
  {
   "cell_type": "code",
   "execution_count": 71,
   "metadata": {},
   "outputs": [
    {
     "data": {
      "text/html": [
       "<div>\n",
       "<style scoped>\n",
       "    .dataframe tbody tr th:only-of-type {\n",
       "        vertical-align: middle;\n",
       "    }\n",
       "\n",
       "    .dataframe tbody tr th {\n",
       "        vertical-align: top;\n",
       "    }\n",
       "\n",
       "    .dataframe thead th {\n",
       "        text-align: right;\n",
       "    }\n",
       "</style>\n",
       "<table border=\"1\" class=\"dataframe\">\n",
       "  <thead>\n",
       "    <tr style=\"text-align: right;\">\n",
       "      <th></th>\n",
       "      <th>Country</th>\n",
       "      <th>Navy Fleet Strengths value</th>\n",
       "    </tr>\n",
       "  </thead>\n",
       "  <tbody>\n",
       "    <tr>\n",
       "      <th>0</th>\n",
       "      <td>Afghanistan</td>\n",
       "      <td>0.0</td>\n",
       "    </tr>\n",
       "    <tr>\n",
       "      <th>1</th>\n",
       "      <td>Albania</td>\n",
       "      <td>38.0</td>\n",
       "    </tr>\n",
       "    <tr>\n",
       "      <th>2</th>\n",
       "      <td>Algeria</td>\n",
       "      <td>201.0</td>\n",
       "    </tr>\n",
       "    <tr>\n",
       "      <th>3</th>\n",
       "      <td>Angola</td>\n",
       "      <td>57.0</td>\n",
       "    </tr>\n",
       "    <tr>\n",
       "      <th>4</th>\n",
       "      <td>Argentina</td>\n",
       "      <td>49.0</td>\n",
       "    </tr>\n",
       "    <tr>\n",
       "      <th>...</th>\n",
       "      <td>...</td>\n",
       "      <td>...</td>\n",
       "    </tr>\n",
       "    <tr>\n",
       "      <th>133</th>\n",
       "      <td>Venezuela</td>\n",
       "      <td>49.0</td>\n",
       "    </tr>\n",
       "    <tr>\n",
       "      <th>134</th>\n",
       "      <td>Vietnam</td>\n",
       "      <td>65.0</td>\n",
       "    </tr>\n",
       "    <tr>\n",
       "      <th>135</th>\n",
       "      <td>Yemen</td>\n",
       "      <td>30.0</td>\n",
       "    </tr>\n",
       "    <tr>\n",
       "      <th>136</th>\n",
       "      <td>Zambia</td>\n",
       "      <td>0.0</td>\n",
       "    </tr>\n",
       "    <tr>\n",
       "      <th>137</th>\n",
       "      <td>Zimbabwe</td>\n",
       "      <td>0.0</td>\n",
       "    </tr>\n",
       "  </tbody>\n",
       "</table>\n",
       "<p>138 rows × 2 columns</p>\n",
       "</div>"
      ],
      "text/plain": [
       "         Country  Navy Fleet Strengths value\n",
       "0    Afghanistan                         0.0\n",
       "1        Albania                        38.0\n",
       "2        Algeria                       201.0\n",
       "3         Angola                        57.0\n",
       "4      Argentina                        49.0\n",
       "..           ...                         ...\n",
       "133    Venezuela                        49.0\n",
       "134      Vietnam                        65.0\n",
       "135        Yemen                        30.0\n",
       "136       Zambia                         0.0\n",
       "137     Zimbabwe                         0.0\n",
       "\n",
       "[138 rows x 2 columns]"
      ]
     },
     "execution_count": 71,
     "metadata": {},
     "output_type": "execute_result"
    }
   ],
   "source": [
    "data[[\"Country\", \"Navy Fleet Strengths value\"]]"
   ]
  },
  {
   "cell_type": "code",
   "execution_count": 72,
   "metadata": {},
   "outputs": [],
   "source": [
    "#Source = https://www.globalfirepower.com/navy-ships.php\n",
    "data.loc[data[\"Navy Fleet Strengths value\"].isnull() == True, [\"Navy Fleet Strengths value\"]] = 0\n"
   ]
  },
  {
   "cell_type": "code",
   "execution_count": 73,
   "metadata": {
    "id": "wtUZNcXq8AKN"
   },
   "outputs": [
    {
     "data": {
      "text/plain": [
       "0"
      ]
     },
     "execution_count": 73,
     "metadata": {},
     "output_type": "execute_result"
    }
   ],
   "source": [
    "data[\"Navy Fleet Strengths value\"].isnull().sum()"
   ]
  },
  {
   "cell_type": "code",
   "execution_count": 74,
   "metadata": {},
   "outputs": [
    {
     "data": {
      "text/plain": [
       "23"
      ]
     },
     "execution_count": 74,
     "metadata": {},
     "output_type": "execute_result"
    }
   ],
   "source": [
    "data[\"Aircraft Carrier Fleet Strength value\"].isnull().sum()"
   ]
  },
  {
   "cell_type": "code",
   "execution_count": 75,
   "metadata": {},
   "outputs": [
    {
     "data": {
      "text/html": [
       "<div>\n",
       "<style scoped>\n",
       "    .dataframe tbody tr th:only-of-type {\n",
       "        vertical-align: middle;\n",
       "    }\n",
       "\n",
       "    .dataframe tbody tr th {\n",
       "        vertical-align: top;\n",
       "    }\n",
       "\n",
       "    .dataframe thead th {\n",
       "        text-align: right;\n",
       "    }\n",
       "</style>\n",
       "<table border=\"1\" class=\"dataframe\">\n",
       "  <thead>\n",
       "    <tr style=\"text-align: right;\">\n",
       "      <th></th>\n",
       "      <th>Country</th>\n",
       "      <th>Aircraft Carrier Fleet Strength value</th>\n",
       "    </tr>\n",
       "  </thead>\n",
       "  <tbody>\n",
       "    <tr>\n",
       "      <th>0</th>\n",
       "      <td>Afghanistan</td>\n",
       "      <td>0.0</td>\n",
       "    </tr>\n",
       "    <tr>\n",
       "      <th>1</th>\n",
       "      <td>Albania</td>\n",
       "      <td>0.0</td>\n",
       "    </tr>\n",
       "    <tr>\n",
       "      <th>2</th>\n",
       "      <td>Algeria</td>\n",
       "      <td>0.0</td>\n",
       "    </tr>\n",
       "    <tr>\n",
       "      <th>3</th>\n",
       "      <td>Angola</td>\n",
       "      <td>0.0</td>\n",
       "    </tr>\n",
       "    <tr>\n",
       "      <th>4</th>\n",
       "      <td>Argentina</td>\n",
       "      <td>0.0</td>\n",
       "    </tr>\n",
       "    <tr>\n",
       "      <th>...</th>\n",
       "      <td>...</td>\n",
       "      <td>...</td>\n",
       "    </tr>\n",
       "    <tr>\n",
       "      <th>133</th>\n",
       "      <td>Venezuela</td>\n",
       "      <td>0.0</td>\n",
       "    </tr>\n",
       "    <tr>\n",
       "      <th>134</th>\n",
       "      <td>Vietnam</td>\n",
       "      <td>0.0</td>\n",
       "    </tr>\n",
       "    <tr>\n",
       "      <th>135</th>\n",
       "      <td>Yemen</td>\n",
       "      <td>0.0</td>\n",
       "    </tr>\n",
       "    <tr>\n",
       "      <th>136</th>\n",
       "      <td>Zambia</td>\n",
       "      <td>0.0</td>\n",
       "    </tr>\n",
       "    <tr>\n",
       "      <th>137</th>\n",
       "      <td>Zimbabwe</td>\n",
       "      <td>0.0</td>\n",
       "    </tr>\n",
       "  </tbody>\n",
       "</table>\n",
       "<p>138 rows × 2 columns</p>\n",
       "</div>"
      ],
      "text/plain": [
       "         Country  Aircraft Carrier Fleet Strength value\n",
       "0    Afghanistan                                    0.0\n",
       "1        Albania                                    0.0\n",
       "2        Algeria                                    0.0\n",
       "3         Angola                                    0.0\n",
       "4      Argentina                                    0.0\n",
       "..           ...                                    ...\n",
       "133    Venezuela                                    0.0\n",
       "134      Vietnam                                    0.0\n",
       "135        Yemen                                    0.0\n",
       "136       Zambia                                    0.0\n",
       "137     Zimbabwe                                    0.0\n",
       "\n",
       "[138 rows x 2 columns]"
      ]
     },
     "execution_count": 75,
     "metadata": {},
     "output_type": "execute_result"
    }
   ],
   "source": [
    "data[[\"Country\", \"Aircraft Carrier Fleet Strength value\"]]"
   ]
  },
  {
   "cell_type": "code",
   "execution_count": 76,
   "metadata": {},
   "outputs": [
    {
     "data": {
      "text/html": [
       "<div>\n",
       "<style scoped>\n",
       "    .dataframe tbody tr th:only-of-type {\n",
       "        vertical-align: middle;\n",
       "    }\n",
       "\n",
       "    .dataframe tbody tr th {\n",
       "        vertical-align: top;\n",
       "    }\n",
       "\n",
       "    .dataframe thead th {\n",
       "        text-align: right;\n",
       "    }\n",
       "</style>\n",
       "<table border=\"1\" class=\"dataframe\">\n",
       "  <thead>\n",
       "    <tr style=\"text-align: right;\">\n",
       "      <th></th>\n",
       "      <th>Country</th>\n",
       "      <th>Aircraft Carrier Fleet Strength value</th>\n",
       "    </tr>\n",
       "  </thead>\n",
       "  <tbody>\n",
       "    <tr>\n",
       "      <th>5</th>\n",
       "      <td>Armenia</td>\n",
       "      <td>NaN</td>\n",
       "    </tr>\n",
       "    <tr>\n",
       "      <th>7</th>\n",
       "      <td>Austria</td>\n",
       "      <td>NaN</td>\n",
       "    </tr>\n",
       "    <tr>\n",
       "      <th>11</th>\n",
       "      <td>Belarus</td>\n",
       "      <td>NaN</td>\n",
       "    </tr>\n",
       "    <tr>\n",
       "      <th>13</th>\n",
       "      <td>Bhutan</td>\n",
       "      <td>NaN</td>\n",
       "    </tr>\n",
       "    <tr>\n",
       "      <th>16</th>\n",
       "      <td>Botswana</td>\n",
       "      <td>NaN</td>\n",
       "    </tr>\n",
       "    <tr>\n",
       "      <th>19</th>\n",
       "      <td>Burkina Faso</td>\n",
       "      <td>NaN</td>\n",
       "    </tr>\n",
       "    <tr>\n",
       "      <th>23</th>\n",
       "      <td>Central African Republic</td>\n",
       "      <td>NaN</td>\n",
       "    </tr>\n",
       "    <tr>\n",
       "      <th>24</th>\n",
       "      <td>Chad</td>\n",
       "      <td>NaN</td>\n",
       "    </tr>\n",
       "    <tr>\n",
       "      <th>30</th>\n",
       "      <td>Czechia</td>\n",
       "      <td>NaN</td>\n",
       "    </tr>\n",
       "    <tr>\n",
       "      <th>38</th>\n",
       "      <td>Ethiopia</td>\n",
       "      <td>NaN</td>\n",
       "    </tr>\n",
       "    <tr>\n",
       "      <th>48</th>\n",
       "      <td>Hungary</td>\n",
       "      <td>NaN</td>\n",
       "    </tr>\n",
       "    <tr>\n",
       "      <th>62</th>\n",
       "      <td>Kyrgyzstan</td>\n",
       "      <td>NaN</td>\n",
       "    </tr>\n",
       "    <tr>\n",
       "      <th>71</th>\n",
       "      <td>Mali</td>\n",
       "      <td>NaN</td>\n",
       "    </tr>\n",
       "    <tr>\n",
       "      <th>74</th>\n",
       "      <td>Moldova</td>\n",
       "      <td>NaN</td>\n",
       "    </tr>\n",
       "    <tr>\n",
       "      <th>75</th>\n",
       "      <td>Mongolia</td>\n",
       "      <td>NaN</td>\n",
       "    </tr>\n",
       "    <tr>\n",
       "      <th>81</th>\n",
       "      <td>Nepal</td>\n",
       "      <td>NaN</td>\n",
       "    </tr>\n",
       "    <tr>\n",
       "      <th>85</th>\n",
       "      <td>Niger</td>\n",
       "      <td>NaN</td>\n",
       "    </tr>\n",
       "    <tr>\n",
       "      <th>88</th>\n",
       "      <td>North Macedonia</td>\n",
       "      <td>NaN</td>\n",
       "    </tr>\n",
       "    <tr>\n",
       "      <th>106</th>\n",
       "      <td>Slovakia</td>\n",
       "      <td>NaN</td>\n",
       "    </tr>\n",
       "    <tr>\n",
       "      <th>110</th>\n",
       "      <td>South Korea</td>\n",
       "      <td>NaN</td>\n",
       "    </tr>\n",
       "    <tr>\n",
       "      <th>117</th>\n",
       "      <td>Switzerland</td>\n",
       "      <td>NaN</td>\n",
       "    </tr>\n",
       "    <tr>\n",
       "      <th>120</th>\n",
       "      <td>Tajikistan</td>\n",
       "      <td>NaN</td>\n",
       "    </tr>\n",
       "    <tr>\n",
       "      <th>132</th>\n",
       "      <td>Uzbekistan</td>\n",
       "      <td>NaN</td>\n",
       "    </tr>\n",
       "  </tbody>\n",
       "</table>\n",
       "</div>"
      ],
      "text/plain": [
       "                      Country  Aircraft Carrier Fleet Strength value\n",
       "5                     Armenia                                    NaN\n",
       "7                     Austria                                    NaN\n",
       "11                    Belarus                                    NaN\n",
       "13                     Bhutan                                    NaN\n",
       "16                   Botswana                                    NaN\n",
       "19               Burkina Faso                                    NaN\n",
       "23   Central African Republic                                    NaN\n",
       "24                       Chad                                    NaN\n",
       "30                    Czechia                                    NaN\n",
       "38                   Ethiopia                                    NaN\n",
       "48                    Hungary                                    NaN\n",
       "62                 Kyrgyzstan                                    NaN\n",
       "71                       Mali                                    NaN\n",
       "74                    Moldova                                    NaN\n",
       "75                   Mongolia                                    NaN\n",
       "81                      Nepal                                    NaN\n",
       "85                      Niger                                    NaN\n",
       "88            North Macedonia                                    NaN\n",
       "106                  Slovakia                                    NaN\n",
       "110               South Korea                                    NaN\n",
       "117               Switzerland                                    NaN\n",
       "120                Tajikistan                                    NaN\n",
       "132                Uzbekistan                                    NaN"
      ]
     },
     "execution_count": 76,
     "metadata": {},
     "output_type": "execute_result"
    }
   ],
   "source": [
    "data.loc[data[\"Aircraft Carrier Fleet Strength value\"].isnull() == True][[\"Country\", \"Aircraft Carrier Fleet Strength value\"]]"
   ]
  },
  {
   "cell_type": "code",
   "execution_count": 77,
   "metadata": {},
   "outputs": [],
   "source": [
    "#https://en.wikipedia.org/wiki/List_of_aircraft_carriers\n",
    "data.loc[data[\"Aircraft Carrier Fleet Strength value\"].isnull() == True, [\"Aircraft Carrier Fleet Strength value\"]] = 0"
   ]
  },
  {
   "cell_type": "code",
   "execution_count": 78,
   "metadata": {},
   "outputs": [],
   "source": [
    "#Source: https://worldpopulationreview.com/country-rankings/submarines-by-country\n",
    "data.loc[data[\"Submarine Fleet Strength value\"].isnull() == True, [\"Submarine Fleet Strength value\"]] = 0"
   ]
  },
  {
   "cell_type": "code",
   "execution_count": 79,
   "metadata": {},
   "outputs": [],
   "source": [
    "#Source : https://www.globalfirepower.com/navy-frigates.php\n",
    "data.loc[data[\"Frigate Fleet Strength value\"].isnull() == True, [\"Frigate Fleet Strength value\"]] = 0"
   ]
  },
  {
   "cell_type": "code",
   "execution_count": 80,
   "metadata": {},
   "outputs": [],
   "source": [
    "#Source : https://www.globalfirepower.com/navy-destroyers.php\n",
    "data.loc[data[\"Destroyer Fleet Strength value\"].isnull() == True, [\"Destroyer Fleet Strength value\"]] = 0"
   ]
  },
  {
   "cell_type": "code",
   "execution_count": 81,
   "metadata": {},
   "outputs": [
    {
     "data": {
      "text/html": [
       "<div>\n",
       "<style scoped>\n",
       "    .dataframe tbody tr th:only-of-type {\n",
       "        vertical-align: middle;\n",
       "    }\n",
       "\n",
       "    .dataframe tbody tr th {\n",
       "        vertical-align: top;\n",
       "    }\n",
       "\n",
       "    .dataframe thead th {\n",
       "        text-align: right;\n",
       "    }\n",
       "</style>\n",
       "<table border=\"1\" class=\"dataframe\">\n",
       "  <thead>\n",
       "    <tr style=\"text-align: right;\">\n",
       "      <th></th>\n",
       "      <th>Country</th>\n",
       "      <th>Total Coastline Coverage value</th>\n",
       "    </tr>\n",
       "  </thead>\n",
       "  <tbody>\n",
       "    <tr>\n",
       "      <th>5</th>\n",
       "      <td>Armenia</td>\n",
       "      <td>NaN</td>\n",
       "    </tr>\n",
       "    <tr>\n",
       "      <th>7</th>\n",
       "      <td>Austria</td>\n",
       "      <td>NaN</td>\n",
       "    </tr>\n",
       "    <tr>\n",
       "      <th>11</th>\n",
       "      <td>Belarus</td>\n",
       "      <td>NaN</td>\n",
       "    </tr>\n",
       "    <tr>\n",
       "      <th>13</th>\n",
       "      <td>Bhutan</td>\n",
       "      <td>NaN</td>\n",
       "    </tr>\n",
       "    <tr>\n",
       "      <th>14</th>\n",
       "      <td>Bolivia</td>\n",
       "      <td>NaN</td>\n",
       "    </tr>\n",
       "    <tr>\n",
       "      <th>16</th>\n",
       "      <td>Botswana</td>\n",
       "      <td>NaN</td>\n",
       "    </tr>\n",
       "    <tr>\n",
       "      <th>19</th>\n",
       "      <td>Burkina Faso</td>\n",
       "      <td>NaN</td>\n",
       "    </tr>\n",
       "    <tr>\n",
       "      <th>23</th>\n",
       "      <td>Central African Republic</td>\n",
       "      <td>NaN</td>\n",
       "    </tr>\n",
       "    <tr>\n",
       "      <th>24</th>\n",
       "      <td>Chad</td>\n",
       "      <td>NaN</td>\n",
       "    </tr>\n",
       "    <tr>\n",
       "      <th>30</th>\n",
       "      <td>Czechia</td>\n",
       "      <td>NaN</td>\n",
       "    </tr>\n",
       "    <tr>\n",
       "      <th>38</th>\n",
       "      <td>Ethiopia</td>\n",
       "      <td>NaN</td>\n",
       "    </tr>\n",
       "    <tr>\n",
       "      <th>48</th>\n",
       "      <td>Hungary</td>\n",
       "      <td>NaN</td>\n",
       "    </tr>\n",
       "    <tr>\n",
       "      <th>62</th>\n",
       "      <td>Kyrgyzstan</td>\n",
       "      <td>NaN</td>\n",
       "    </tr>\n",
       "    <tr>\n",
       "      <th>63</th>\n",
       "      <td>Laos</td>\n",
       "      <td>NaN</td>\n",
       "    </tr>\n",
       "    <tr>\n",
       "      <th>71</th>\n",
       "      <td>Mali</td>\n",
       "      <td>NaN</td>\n",
       "    </tr>\n",
       "    <tr>\n",
       "      <th>74</th>\n",
       "      <td>Moldova</td>\n",
       "      <td>NaN</td>\n",
       "    </tr>\n",
       "    <tr>\n",
       "      <th>75</th>\n",
       "      <td>Mongolia</td>\n",
       "      <td>NaN</td>\n",
       "    </tr>\n",
       "    <tr>\n",
       "      <th>81</th>\n",
       "      <td>Nepal</td>\n",
       "      <td>NaN</td>\n",
       "    </tr>\n",
       "    <tr>\n",
       "      <th>85</th>\n",
       "      <td>Niger</td>\n",
       "      <td>NaN</td>\n",
       "    </tr>\n",
       "    <tr>\n",
       "      <th>88</th>\n",
       "      <td>North Macedonia</td>\n",
       "      <td>NaN</td>\n",
       "    </tr>\n",
       "    <tr>\n",
       "      <th>93</th>\n",
       "      <td>Paraguay</td>\n",
       "      <td>NaN</td>\n",
       "    </tr>\n",
       "    <tr>\n",
       "      <th>103</th>\n",
       "      <td>Serbia</td>\n",
       "      <td>NaN</td>\n",
       "    </tr>\n",
       "    <tr>\n",
       "      <th>106</th>\n",
       "      <td>Slovakia</td>\n",
       "      <td>NaN</td>\n",
       "    </tr>\n",
       "    <tr>\n",
       "      <th>111</th>\n",
       "      <td>South Sudan</td>\n",
       "      <td>NaN</td>\n",
       "    </tr>\n",
       "    <tr>\n",
       "      <th>117</th>\n",
       "      <td>Switzerland</td>\n",
       "      <td>NaN</td>\n",
       "    </tr>\n",
       "    <tr>\n",
       "      <th>120</th>\n",
       "      <td>Tajikistan</td>\n",
       "      <td>NaN</td>\n",
       "    </tr>\n",
       "    <tr>\n",
       "      <th>126</th>\n",
       "      <td>Uganda</td>\n",
       "      <td>NaN</td>\n",
       "    </tr>\n",
       "    <tr>\n",
       "      <th>136</th>\n",
       "      <td>Zambia</td>\n",
       "      <td>NaN</td>\n",
       "    </tr>\n",
       "    <tr>\n",
       "      <th>137</th>\n",
       "      <td>Zimbabwe</td>\n",
       "      <td>NaN</td>\n",
       "    </tr>\n",
       "  </tbody>\n",
       "</table>\n",
       "</div>"
      ],
      "text/plain": [
       "                      Country Total Coastline Coverage value\n",
       "5                     Armenia                            NaN\n",
       "7                     Austria                            NaN\n",
       "11                    Belarus                            NaN\n",
       "13                     Bhutan                            NaN\n",
       "14                    Bolivia                            NaN\n",
       "16                   Botswana                            NaN\n",
       "19               Burkina Faso                            NaN\n",
       "23   Central African Republic                            NaN\n",
       "24                       Chad                            NaN\n",
       "30                    Czechia                            NaN\n",
       "38                   Ethiopia                            NaN\n",
       "48                    Hungary                            NaN\n",
       "62                 Kyrgyzstan                            NaN\n",
       "63                       Laos                            NaN\n",
       "71                       Mali                            NaN\n",
       "74                    Moldova                            NaN\n",
       "75                   Mongolia                            NaN\n",
       "81                      Nepal                            NaN\n",
       "85                      Niger                            NaN\n",
       "88            North Macedonia                            NaN\n",
       "93                   Paraguay                            NaN\n",
       "103                    Serbia                            NaN\n",
       "106                  Slovakia                            NaN\n",
       "111               South Sudan                            NaN\n",
       "117               Switzerland                            NaN\n",
       "120                Tajikistan                            NaN\n",
       "126                    Uganda                            NaN\n",
       "136                    Zambia                            NaN\n",
       "137                  Zimbabwe                            NaN"
      ]
     },
     "execution_count": 81,
     "metadata": {},
     "output_type": "execute_result"
    }
   ],
   "source": [
    "data.loc[data[\"Total Coastline Coverage value\"].isnull()==True][[\"Country\", \"Total Coastline Coverage value\"]]"
   ]
  },
  {
   "cell_type": "code",
   "execution_count": 82,
   "metadata": {},
   "outputs": [],
   "source": [
    "#Source = https://www.globalfirepower.com/coastline-coverage.php\n",
    "\n",
    "data.loc[data[\"Total Coastline Coverage value\"].isnull() == True, [\"Total Coastline Coverage value\"]] = 0"
   ]
  },
  {
   "cell_type": "code",
   "execution_count": 83,
   "metadata": {},
   "outputs": [
    {
     "data": {
      "text/html": [
       "<div>\n",
       "<style scoped>\n",
       "    .dataframe tbody tr th:only-of-type {\n",
       "        vertical-align: middle;\n",
       "    }\n",
       "\n",
       "    .dataframe tbody tr th {\n",
       "        vertical-align: top;\n",
       "    }\n",
       "\n",
       "    .dataframe thead th {\n",
       "        text-align: right;\n",
       "    }\n",
       "</style>\n",
       "<table border=\"1\" class=\"dataframe\">\n",
       "  <thead>\n",
       "    <tr style=\"text-align: right;\">\n",
       "      <th></th>\n",
       "      <th>Country</th>\n",
       "      <th>Total Border Coverage value</th>\n",
       "    </tr>\n",
       "  </thead>\n",
       "  <tbody>\n",
       "    <tr>\n",
       "      <th>6</th>\n",
       "      <td>Australia</td>\n",
       "      <td>NaN</td>\n",
       "    </tr>\n",
       "    <tr>\n",
       "      <th>9</th>\n",
       "      <td>Bahrain</td>\n",
       "      <td>NaN</td>\n",
       "    </tr>\n",
       "    <tr>\n",
       "      <th>57</th>\n",
       "      <td>Japan</td>\n",
       "      <td>NaN</td>\n",
       "    </tr>\n",
       "    <tr>\n",
       "      <th>69</th>\n",
       "      <td>Madagascar</td>\n",
       "      <td>NaN</td>\n",
       "    </tr>\n",
       "    <tr>\n",
       "      <th>83</th>\n",
       "      <td>New Zealand</td>\n",
       "      <td>NaN</td>\n",
       "    </tr>\n",
       "    <tr>\n",
       "      <th>95</th>\n",
       "      <td>Philippines</td>\n",
       "      <td>NaN</td>\n",
       "    </tr>\n",
       "    <tr>\n",
       "      <th>105</th>\n",
       "      <td>Singapore</td>\n",
       "      <td>NaN</td>\n",
       "    </tr>\n",
       "    <tr>\n",
       "      <th>113</th>\n",
       "      <td>Sri Lanka</td>\n",
       "      <td>NaN</td>\n",
       "    </tr>\n",
       "    <tr>\n",
       "      <th>119</th>\n",
       "      <td>Taiwan</td>\n",
       "      <td>NaN</td>\n",
       "    </tr>\n",
       "  </tbody>\n",
       "</table>\n",
       "</div>"
      ],
      "text/plain": [
       "         Country  Total Border Coverage value\n",
       "6      Australia                          NaN\n",
       "9        Bahrain                          NaN\n",
       "57         Japan                          NaN\n",
       "69    Madagascar                          NaN\n",
       "83   New Zealand                          NaN\n",
       "95   Philippines                          NaN\n",
       "105    Singapore                          NaN\n",
       "113    Sri Lanka                          NaN\n",
       "119       Taiwan                          NaN"
      ]
     },
     "execution_count": 83,
     "metadata": {},
     "output_type": "execute_result"
    }
   ],
   "source": [
    "data.loc[data[\"Total Border Coverage value\"].isnull()==True][[\"Country\", \"Total Border Coverage value\"]]"
   ]
  },
  {
   "cell_type": "code",
   "execution_count": 84,
   "metadata": {},
   "outputs": [],
   "source": [
    "#Source: https://www.globalfirepower.com/border-coverage.php\n",
    "data.loc[data[\"Total Border Coverage value\"].isnull() == True, [\"Total Border Coverage value\"]] = 0"
   ]
  },
  {
   "cell_type": "code",
   "execution_count": 85,
   "metadata": {},
   "outputs": [
    {
     "data": {
      "text/plain": [
       "Country                                    0\n",
       "Military Strength Power Index              0\n",
       "Aircraft Strength value                    0\n",
       "Fighter/Interceptor Strength value         0\n",
       "Attack Aircraft Strength value             0\n",
       "Transport Aircraft Fleet Strength value    0\n",
       "Trainer Aircraft Fleet value               0\n",
       "Helicopter Fleet Strength value            0\n",
       "Attack Helicopter Fleet Strength value     0\n",
       "Tank Strength value                        0\n",
       "AFV/APC Strength value                     0\n",
       "Self-Propelled Artillery Strength value    0\n",
       "Towed Artillery Strength value             0\n",
       "Rocket Projector Strength value            0\n",
       "Navy Fleet Strengths value                 0\n",
       "Aircraft Carrier Fleet Strength value      0\n",
       "Submarine Fleet Strength value             0\n",
       "Destroyer Fleet Strength value             0\n",
       "Frigate Fleet Strength value               0\n",
       "defense spending budget value              0\n",
       "External Debt value                        0\n",
       "Airport Totals value                       0\n",
       "Oil Production value                       0\n",
       "Oil Consumption value                      0\n",
       "Proven Oil Reserves value                  0\n",
       "Available Manpower value                   0\n",
       "Total Population value                     0\n",
       "Total Square Land Area value               0\n",
       "Total Coastline Coverage value             0\n",
       "Total Waterway Coverage value              0\n",
       "Total Border Coverage value                0\n",
       "dtype: int64"
      ]
     },
     "execution_count": 85,
     "metadata": {},
     "output_type": "execute_result"
    }
   ],
   "source": [
    "data.isnull().sum()"
   ]
  },
  {
   "cell_type": "markdown",
   "metadata": {
    "id": "OpG3lbXj8AKN"
   },
   "source": [
    "## Fix the dtypes"
   ]
  },
  {
   "cell_type": "code",
   "execution_count": 86,
   "metadata": {
    "id": "uTPH08uK8AKO"
   },
   "outputs": [
    {
     "data": {
      "text/html": [
       "<div>\n",
       "<style scoped>\n",
       "    .dataframe tbody tr th:only-of-type {\n",
       "        vertical-align: middle;\n",
       "    }\n",
       "\n",
       "    .dataframe tbody tr th {\n",
       "        vertical-align: top;\n",
       "    }\n",
       "\n",
       "    .dataframe thead th {\n",
       "        text-align: right;\n",
       "    }\n",
       "</style>\n",
       "<table border=\"1\" class=\"dataframe\">\n",
       "  <thead>\n",
       "    <tr style=\"text-align: right;\">\n",
       "      <th></th>\n",
       "      <th>Country</th>\n",
       "      <th>defense spending budget value</th>\n",
       "      <th>External Debt value</th>\n",
       "      <th>Oil Production value</th>\n",
       "      <th>Oil Consumption value</th>\n",
       "      <th>Proven Oil Reserves value</th>\n",
       "      <th>Available Manpower value</th>\n",
       "      <th>Total Population value</th>\n",
       "      <th>Total Square Land Area value</th>\n",
       "      <th>Total Coastline Coverage value</th>\n",
       "      <th>Total Waterway Coverage value</th>\n",
       "    </tr>\n",
       "  </thead>\n",
       "  <tbody>\n",
       "    <tr>\n",
       "      <th>0</th>\n",
       "      <td>Afghanistan</td>\n",
       "      <td>12,00,00,00,000</td>\n",
       "      <td>2,84,00,00,000</td>\n",
       "      <td>0</td>\n",
       "      <td>5500</td>\n",
       "      <td>0</td>\n",
       "      <td>1,43,25,743</td>\n",
       "      <td>3,49,40,837</td>\n",
       "      <td>6,52,230</td>\n",
       "      <td>0</td>\n",
       "      <td>1200</td>\n",
       "    </tr>\n",
       "    <tr>\n",
       "      <th>1</th>\n",
       "      <td>Albania</td>\n",
       "      <td>25,00,00,000</td>\n",
       "      <td>9,50,50,00,000</td>\n",
       "      <td>16000</td>\n",
       "      <td>42500</td>\n",
       "      <td>16,83,00,000</td>\n",
       "      <td>15,19,438</td>\n",
       "      <td>30,57,220</td>\n",
       "      <td>28748</td>\n",
       "      <td>362</td>\n",
       "      <td>41</td>\n",
       "    </tr>\n",
       "    <tr>\n",
       "      <th>2</th>\n",
       "      <td>Algeria</td>\n",
       "      <td>13,00,00,00,000</td>\n",
       "      <td>6,26,00,00,000</td>\n",
       "      <td>13,06,000</td>\n",
       "      <td>3,25,000</td>\n",
       "      <td>12,20,00,00,000</td>\n",
       "      <td>2,07,41,263</td>\n",
       "      <td>4,16,57,488</td>\n",
       "      <td>23,81,741</td>\n",
       "      <td>998</td>\n",
       "      <td>0</td>\n",
       "    </tr>\n",
       "    <tr>\n",
       "      <th>3</th>\n",
       "      <td>Angola</td>\n",
       "      <td>7,00,00,00,000</td>\n",
       "      <td>42,08,00,00,000</td>\n",
       "      <td>16,66,000</td>\n",
       "      <td>82300</td>\n",
       "      <td>8,27,30,00,000</td>\n",
       "      <td>62,44,205</td>\n",
       "      <td>3,03,55,880</td>\n",
       "      <td>12,46,700</td>\n",
       "      <td>1600</td>\n",
       "      <td>1300</td>\n",
       "    </tr>\n",
       "    <tr>\n",
       "      <th>4</th>\n",
       "      <td>Argentina</td>\n",
       "      <td>4,20,00,00,000</td>\n",
       "      <td>2,14,90,00,00,000</td>\n",
       "      <td>4,79,400</td>\n",
       "      <td>6,85,000</td>\n",
       "      <td>2,18,50,00,000</td>\n",
       "      <td>2,01,79,430</td>\n",
       "      <td>4,46,94,198</td>\n",
       "      <td>27,80,400</td>\n",
       "      <td>4989</td>\n",
       "      <td>11000</td>\n",
       "    </tr>\n",
       "    <tr>\n",
       "      <th>...</th>\n",
       "      <td>...</td>\n",
       "      <td>...</td>\n",
       "      <td>...</td>\n",
       "      <td>...</td>\n",
       "      <td>...</td>\n",
       "      <td>...</td>\n",
       "      <td>...</td>\n",
       "      <td>...</td>\n",
       "      <td>...</td>\n",
       "      <td>...</td>\n",
       "      <td>...</td>\n",
       "    </tr>\n",
       "    <tr>\n",
       "      <th>133</th>\n",
       "      <td>Venezuela</td>\n",
       "      <td>74,50,00,000</td>\n",
       "      <td>1,00,30,00,00,000</td>\n",
       "      <td>20,07,000</td>\n",
       "      <td>5,75,000</td>\n",
       "      <td>3,00,90,00,00,000</td>\n",
       "      <td>1,42,60,129</td>\n",
       "      <td>3,16,89,176</td>\n",
       "      <td>9,12,050</td>\n",
       "      <td>2800</td>\n",
       "      <td>7100</td>\n",
       "    </tr>\n",
       "    <tr>\n",
       "      <th>134</th>\n",
       "      <td>Vietnam</td>\n",
       "      <td>5,50,00,00,000</td>\n",
       "      <td>96,58,00,00,000</td>\n",
       "      <td>2,71,400</td>\n",
       "      <td>5,25,000</td>\n",
       "      <td>4,40,00,00,000</td>\n",
       "      <td>5,10,43,216</td>\n",
       "      <td>9,70,40,334</td>\n",
       "      <td>3,31,210</td>\n",
       "      <td>3444</td>\n",
       "      <td>17702</td>\n",
       "    </tr>\n",
       "    <tr>\n",
       "      <th>135</th>\n",
       "      <td>Yemen</td>\n",
       "      <td>1,40,00,00,000</td>\n",
       "      <td>7,06,80,00,000</td>\n",
       "      <td>12260</td>\n",
       "      <td>1,45,000</td>\n",
       "      <td>3,00,00,00,000</td>\n",
       "      <td>1,12,66,221</td>\n",
       "      <td>2,86,67,230</td>\n",
       "      <td>5,27,968</td>\n",
       "      <td>1906</td>\n",
       "      <td>0</td>\n",
       "    </tr>\n",
       "    <tr>\n",
       "      <th>136</th>\n",
       "      <td>Zambia</td>\n",
       "      <td>4,00,00,000</td>\n",
       "      <td>11,66,00,00,000</td>\n",
       "      <td>0</td>\n",
       "      <td>21000</td>\n",
       "      <td>0</td>\n",
       "      <td>61,66,905</td>\n",
       "      <td>1,64,45,079</td>\n",
       "      <td>7,52,618</td>\n",
       "      <td>0</td>\n",
       "      <td>2250</td>\n",
       "    </tr>\n",
       "    <tr>\n",
       "      <th>137</th>\n",
       "      <td>Zimbabwe</td>\n",
       "      <td>10,00,00,000</td>\n",
       "      <td>9,35,70,00,000</td>\n",
       "      <td>0</td>\n",
       "      <td>19500</td>\n",
       "      <td>0</td>\n",
       "      <td>55,84,086</td>\n",
       "      <td>1,40,30,368</td>\n",
       "      <td>3,90,757</td>\n",
       "      <td>0</td>\n",
       "      <td>0</td>\n",
       "    </tr>\n",
       "  </tbody>\n",
       "</table>\n",
       "<p>138 rows × 11 columns</p>\n",
       "</div>"
      ],
      "text/plain": [
       "         Country defense spending budget value External Debt value  \\\n",
       "0    Afghanistan               12,00,00,00,000      2,84,00,00,000   \n",
       "1        Albania                  25,00,00,000      9,50,50,00,000   \n",
       "2        Algeria               13,00,00,00,000      6,26,00,00,000   \n",
       "3         Angola                7,00,00,00,000     42,08,00,00,000   \n",
       "4      Argentina                4,20,00,00,000   2,14,90,00,00,000   \n",
       "..           ...                           ...                 ...   \n",
       "133    Venezuela                  74,50,00,000   1,00,30,00,00,000   \n",
       "134      Vietnam                5,50,00,00,000     96,58,00,00,000   \n",
       "135        Yemen                1,40,00,00,000      7,06,80,00,000   \n",
       "136       Zambia                   4,00,00,000     11,66,00,00,000   \n",
       "137     Zimbabwe                  10,00,00,000      9,35,70,00,000   \n",
       "\n",
       "    Oil Production value Oil Consumption value Proven Oil Reserves value  \\\n",
       "0                      0                  5500                         0   \n",
       "1                  16000                 42500              16,83,00,000   \n",
       "2              13,06,000              3,25,000           12,20,00,00,000   \n",
       "3              16,66,000                 82300            8,27,30,00,000   \n",
       "4               4,79,400              6,85,000            2,18,50,00,000   \n",
       "..                   ...                   ...                       ...   \n",
       "133            20,07,000              5,75,000         3,00,90,00,00,000   \n",
       "134             2,71,400              5,25,000            4,40,00,00,000   \n",
       "135                12260              1,45,000            3,00,00,00,000   \n",
       "136                    0                 21000                         0   \n",
       "137                    0                 19500                         0   \n",
       "\n",
       "    Available Manpower value Total Population value  \\\n",
       "0                1,43,25,743            3,49,40,837   \n",
       "1                  15,19,438              30,57,220   \n",
       "2                2,07,41,263            4,16,57,488   \n",
       "3                  62,44,205            3,03,55,880   \n",
       "4                2,01,79,430            4,46,94,198   \n",
       "..                       ...                    ...   \n",
       "133              1,42,60,129            3,16,89,176   \n",
       "134              5,10,43,216            9,70,40,334   \n",
       "135              1,12,66,221            2,86,67,230   \n",
       "136                61,66,905            1,64,45,079   \n",
       "137                55,84,086            1,40,30,368   \n",
       "\n",
       "    Total Square Land Area value Total Coastline Coverage value  \\\n",
       "0                       6,52,230                              0   \n",
       "1                          28748                            362   \n",
       "2                      23,81,741                            998   \n",
       "3                      12,46,700                           1600   \n",
       "4                      27,80,400                           4989   \n",
       "..                           ...                            ...   \n",
       "133                     9,12,050                           2800   \n",
       "134                     3,31,210                           3444   \n",
       "135                     5,27,968                           1906   \n",
       "136                     7,52,618                              0   \n",
       "137                     3,90,757                              0   \n",
       "\n",
       "    Total Waterway Coverage value  \n",
       "0                            1200  \n",
       "1                              41  \n",
       "2                               0  \n",
       "3                            1300  \n",
       "4                           11000  \n",
       "..                            ...  \n",
       "133                          7100  \n",
       "134                         17702  \n",
       "135                             0  \n",
       "136                          2250  \n",
       "137                             0  \n",
       "\n",
       "[138 rows x 11 columns]"
      ]
     },
     "execution_count": 86,
     "metadata": {},
     "output_type": "execute_result"
    }
   ],
   "source": [
    "data.select_dtypes('object')"
   ]
  },
  {
   "cell_type": "code",
   "execution_count": 87,
   "metadata": {},
   "outputs": [],
   "source": [
    "for col in data.columns[1:]:\n",
    "    if data.dtypes[col] == np.object:\n",
    "        data[col] = data[col].apply(lambda x : x.replace(\",\", \"\") if type(x) != int else x).astype(\"float\")"
   ]
  },
  {
   "cell_type": "code",
   "execution_count": 88,
   "metadata": {},
   "outputs": [
    {
     "data": {
      "text/html": [
       "<div>\n",
       "<style scoped>\n",
       "    .dataframe tbody tr th:only-of-type {\n",
       "        vertical-align: middle;\n",
       "    }\n",
       "\n",
       "    .dataframe tbody tr th {\n",
       "        vertical-align: top;\n",
       "    }\n",
       "\n",
       "    .dataframe thead th {\n",
       "        text-align: right;\n",
       "    }\n",
       "</style>\n",
       "<table border=\"1\" class=\"dataframe\">\n",
       "  <thead>\n",
       "    <tr style=\"text-align: right;\">\n",
       "      <th></th>\n",
       "      <th>Country</th>\n",
       "    </tr>\n",
       "  </thead>\n",
       "  <tbody>\n",
       "    <tr>\n",
       "      <th>0</th>\n",
       "      <td>Afghanistan</td>\n",
       "    </tr>\n",
       "    <tr>\n",
       "      <th>1</th>\n",
       "      <td>Albania</td>\n",
       "    </tr>\n",
       "    <tr>\n",
       "      <th>2</th>\n",
       "      <td>Algeria</td>\n",
       "    </tr>\n",
       "    <tr>\n",
       "      <th>3</th>\n",
       "      <td>Angola</td>\n",
       "    </tr>\n",
       "    <tr>\n",
       "      <th>4</th>\n",
       "      <td>Argentina</td>\n",
       "    </tr>\n",
       "    <tr>\n",
       "      <th>...</th>\n",
       "      <td>...</td>\n",
       "    </tr>\n",
       "    <tr>\n",
       "      <th>133</th>\n",
       "      <td>Venezuela</td>\n",
       "    </tr>\n",
       "    <tr>\n",
       "      <th>134</th>\n",
       "      <td>Vietnam</td>\n",
       "    </tr>\n",
       "    <tr>\n",
       "      <th>135</th>\n",
       "      <td>Yemen</td>\n",
       "    </tr>\n",
       "    <tr>\n",
       "      <th>136</th>\n",
       "      <td>Zambia</td>\n",
       "    </tr>\n",
       "    <tr>\n",
       "      <th>137</th>\n",
       "      <td>Zimbabwe</td>\n",
       "    </tr>\n",
       "  </tbody>\n",
       "</table>\n",
       "<p>138 rows × 1 columns</p>\n",
       "</div>"
      ],
      "text/plain": [
       "         Country\n",
       "0    Afghanistan\n",
       "1        Albania\n",
       "2        Algeria\n",
       "3         Angola\n",
       "4      Argentina\n",
       "..           ...\n",
       "133    Venezuela\n",
       "134      Vietnam\n",
       "135        Yemen\n",
       "136       Zambia\n",
       "137     Zimbabwe\n",
       "\n",
       "[138 rows x 1 columns]"
      ]
     },
     "execution_count": 88,
     "metadata": {},
     "output_type": "execute_result"
    }
   ],
   "source": [
    "data.select_dtypes('object')"
   ]
  },
  {
   "cell_type": "code",
   "execution_count": 89,
   "metadata": {},
   "outputs": [
    {
     "name": "stdout",
     "output_type": "stream",
     "text": [
      "<class 'pandas.core.frame.DataFrame'>\n",
      "RangeIndex: 138 entries, 0 to 137\n",
      "Data columns (total 31 columns):\n",
      " #   Column                                   Non-Null Count  Dtype  \n",
      "---  ------                                   --------------  -----  \n",
      " 0   Country                                  138 non-null    object \n",
      " 1   Military Strength Power Index            138 non-null    float64\n",
      " 2   Aircraft Strength value                  138 non-null    int64  \n",
      " 3   Fighter/Interceptor Strength value       138 non-null    int64  \n",
      " 4   Attack Aircraft Strength value           138 non-null    int64  \n",
      " 5   Transport Aircraft Fleet Strength value  138 non-null    int64  \n",
      " 6   Trainer Aircraft Fleet value             138 non-null    int64  \n",
      " 7   Helicopter Fleet Strength value          138 non-null    int64  \n",
      " 8   Attack Helicopter Fleet Strength value   138 non-null    int64  \n",
      " 9   Tank Strength value                      138 non-null    int64  \n",
      " 10  AFV/APC Strength value                   138 non-null    int64  \n",
      " 11  Self-Propelled Artillery Strength value  138 non-null    int64  \n",
      " 12  Towed Artillery Strength value           138 non-null    int64  \n",
      " 13  Rocket Projector Strength value          138 non-null    int64  \n",
      " 14  Navy Fleet Strengths value               138 non-null    float64\n",
      " 15  Aircraft Carrier Fleet Strength value    138 non-null    float64\n",
      " 16  Submarine Fleet Strength value           138 non-null    float64\n",
      " 17  Destroyer Fleet Strength value           138 non-null    float64\n",
      " 18  Frigate Fleet Strength value             138 non-null    float64\n",
      " 19  defense spending budget value            138 non-null    float64\n",
      " 20  External Debt value                      138 non-null    float64\n",
      " 21  Airport Totals value                     138 non-null    int64  \n",
      " 22  Oil Production value                     138 non-null    float64\n",
      " 23  Oil Consumption value                    138 non-null    float64\n",
      " 24  Proven Oil Reserves value                138 non-null    float64\n",
      " 25  Available Manpower value                 138 non-null    float64\n",
      " 26  Total Population value                   138 non-null    float64\n",
      " 27  Total Square Land Area value             138 non-null    float64\n",
      " 28  Total Coastline Coverage value           138 non-null    float64\n",
      " 29  Total Waterway Coverage value            138 non-null    float64\n",
      " 30  Total Border Coverage value              138 non-null    float64\n",
      "dtypes: float64(17), int64(13), object(1)\n",
      "memory usage: 33.5+ KB\n"
     ]
    }
   ],
   "source": [
    "data.info()"
   ]
  },
  {
   "cell_type": "markdown",
   "metadata": {
    "id": "hGGYZWU58AKO"
   },
   "source": [
    "## Drop the features that not affect military power\n",
    "* Hint-1,  Georeferences not proper features"
   ]
  },
  {
   "cell_type": "code",
   "execution_count": 90,
   "metadata": {
    "id": "B09VrwdB8AKO"
   },
   "outputs": [
    {
     "data": {
      "text/plain": [
       "(138, 27)"
      ]
     },
     "execution_count": 90,
     "metadata": {},
     "output_type": "execute_result"
    }
   ],
   "source": [
    "data = data.drop([\"Total Square Land Area value\",\"Total Coastline Coverage value\",\"Total Waterway Coverage value\",\"Total Border Coverage value\"], axis = 1)\n",
    "data.shape"
   ]
  },
  {
   "cell_type": "markdown",
   "metadata": {
    "id": "_Q9a0ODT8AKO"
   },
   "source": [
    "## Visualy inspect the some features"
   ]
  },
  {
   "cell_type": "code",
   "execution_count": 91,
   "metadata": {},
   "outputs": [
    {
     "data": {
      "text/plain": [
       "Index(['Country', 'Military Strength Power Index', 'Aircraft Strength value',\n",
       "       'Fighter/Interceptor Strength value', 'Attack Aircraft Strength value',\n",
       "       'Transport Aircraft Fleet Strength value',\n",
       "       'Trainer Aircraft Fleet value', 'Helicopter Fleet Strength value',\n",
       "       'Attack Helicopter Fleet Strength value', 'Tank Strength value',\n",
       "       'AFV/APC Strength value', 'Self-Propelled Artillery Strength value',\n",
       "       'Towed Artillery Strength value', 'Rocket Projector Strength value',\n",
       "       'Navy Fleet Strengths value', 'Aircraft Carrier Fleet Strength value',\n",
       "       'Submarine Fleet Strength value', 'Destroyer Fleet Strength value',\n",
       "       'Frigate Fleet Strength value', 'defense spending budget value',\n",
       "       'External Debt value', 'Airport Totals value', 'Oil Production value',\n",
       "       'Oil Consumption value', 'Proven Oil Reserves value',\n",
       "       'Available Manpower value', 'Total Population value'],\n",
       "      dtype='object')"
      ]
     },
     "execution_count": 91,
     "metadata": {},
     "output_type": "execute_result"
    }
   ],
   "source": [
    "data.columns"
   ]
  },
  {
   "cell_type": "code",
   "execution_count": 92,
   "metadata": {},
   "outputs": [],
   "source": [
    "import plotly.express as px"
   ]
  },
  {
   "cell_type": "code",
   "execution_count": 93,
   "metadata": {
    "id": "6xQ6MEDy8AKO"
   },
   "outputs": [
    {
     "data": {
      "application/vnd.plotly.v1+json": {
       "config": {
        "plotlyServerURL": "https://plot.ly"
       },
       "data": [
        {
         "alignmentgroup": "True",
         "hovertemplate": "<b>%{hovertext}</b><br><br>Aircraft Strength value=%{x}<extra></extra>",
         "hovertext": [
          "Afghanistan",
          "Albania",
          "Algeria",
          "Angola",
          "Argentina",
          "Armenia",
          "Australia",
          "Austria",
          "Azerbaijan",
          "Bahrain",
          "Bangladesh",
          "Belarus",
          "Belgium",
          "Bhutan",
          "Bolivia",
          "Bosnia and Herzegovina",
          "Botswana",
          "Brazil",
          "Bulgaria",
          "Burkina Faso",
          "Cambodia",
          "Cameroon",
          "Canada",
          "Central African Republic",
          "Chad",
          "Chile",
          "China",
          "Colombia",
          "Croatia",
          "Cuba",
          "Czechia",
          "Democratic Republic of the Congo",
          "Denmark",
          "Dominican Republic",
          "Ecuador",
          "Egypt",
          "El Salvador",
          "Estonia",
          "Ethiopia",
          "Finland",
          "France",
          "Gabon",
          "Georgia",
          "Germany",
          "Ghana",
          "Greece",
          "Guatemala",
          "Honduras",
          "Hungary",
          "India",
          "Indonesia",
          "Iran",
          "Iraq",
          "Ireland",
          "Israel",
          "Italy",
          "Ivory Coast",
          "Japan",
          "Jordan",
          "Kazakhstan",
          "Kenya",
          "Kuwait",
          "Kyrgyzstan",
          "Laos",
          "Latvia",
          "Lebanon",
          "Liberia",
          "Libya",
          "Lithuania",
          "Madagascar",
          "Malaysia",
          "Mali",
          "Mauritania",
          "Mexico",
          "Moldova",
          "Mongolia",
          "Montenegro",
          "Morocco",
          "Mozambique",
          "Myanmar",
          "Namibia",
          "Nepal",
          "Netherlands",
          "New Zealand",
          "Nicaragua",
          "Niger",
          "Nigeria",
          "North Korea",
          "North Macedonia",
          "Norway",
          "Oman",
          "Pakistan",
          "Panama",
          "Paraguay",
          "Peru",
          "Philippines",
          "Poland",
          "Portugal",
          "Qatar",
          "Republic of the Congo",
          "Romania",
          "Russia",
          "Saudi Arabia",
          "Serbia",
          "Sierra Leone",
          "Singapore",
          "Slovakia",
          "Slovenia",
          "Somalia",
          "South Africa",
          "South Korea",
          "South Sudan",
          "Spain",
          "Sri Lanka",
          "Sudan",
          "Suriname",
          "Sweden",
          "Switzerland",
          "Syria",
          "Taiwan",
          "Tajikistan",
          "Tanzania",
          "Thailand",
          "Tunisia",
          "Turkey",
          "Turkmenistan",
          "Uganda",
          "Ukraine",
          "United Arab Emirates",
          "United Kingdom",
          "United States",
          "Uruguay",
          "Uzbekistan",
          "Venezuela",
          "Vietnam",
          "Yemen",
          "Zambia",
          "Zimbabwe"
         ],
         "legendgroup": "",
         "marker": {
          "color": "#636efa"
         },
         "name": "",
         "notched": false,
         "offsetgroup": "",
         "orientation": "h",
         "showlegend": false,
         "type": "box",
         "x": [
          260,
          19,
          551,
          295,
          227,
          64,
          464,
          120,
          147,
          109,
          177,
          202,
          148,
          2,
          69,
          19,
          45,
          715,
          63,
          16,
          22,
          29,
          385,
          3,
          35,
          282,
          3210,
          469,
          78,
          80,
          95,
          53,
          113,
          49,
          108,
          1054,
          51,
          7,
          86,
          194,
          1229,
          23,
          66,
          712,
          24,
          566,
          33,
          46,
          47,
          2123,
          462,
          509,
          348,
          19,
          589,
          860,
          8,
          1561,
          278,
          222,
          150,
          85,
          5,
          33,
          5,
          70,
          0,
          114,
          10,
          6,
          170,
          29,
          28,
          484,
          3,
          9,
          9,
          214,
          16,
          276,
          30,
          16,
          168,
          48,
          19,
          16,
          129,
          949,
          20,
          150,
          131,
          1372,
          39,
          33,
          273,
          171,
          457,
          90,
          123,
          13,
          143,
          4163,
          879,
          109,
          5,
          235,
          47,
          38,
          0,
          226,
          1649,
          19,
          512,
          77,
          190,
          3,
          204,
          169,
          456,
          744,
          25,
          34,
          570,
          147,
          1055,
          72,
          48,
          297,
          538,
          733,
          13264,
          50,
          185,
          260,
          293,
          169,
          108,
          90
         ],
         "x0": " ",
         "xaxis": "x",
         "y0": " ",
         "yaxis": "y"
        }
       ],
       "layout": {
        "boxmode": "group",
        "legend": {
         "tracegroupgap": 0
        },
        "margin": {
         "t": 60
        },
        "template": {
         "data": {
          "bar": [
           {
            "error_x": {
             "color": "#2a3f5f"
            },
            "error_y": {
             "color": "#2a3f5f"
            },
            "marker": {
             "line": {
              "color": "#E5ECF6",
              "width": 0.5
             },
             "pattern": {
              "fillmode": "overlay",
              "size": 10,
              "solidity": 0.2
             }
            },
            "type": "bar"
           }
          ],
          "barpolar": [
           {
            "marker": {
             "line": {
              "color": "#E5ECF6",
              "width": 0.5
             },
             "pattern": {
              "fillmode": "overlay",
              "size": 10,
              "solidity": 0.2
             }
            },
            "type": "barpolar"
           }
          ],
          "carpet": [
           {
            "aaxis": {
             "endlinecolor": "#2a3f5f",
             "gridcolor": "white",
             "linecolor": "white",
             "minorgridcolor": "white",
             "startlinecolor": "#2a3f5f"
            },
            "baxis": {
             "endlinecolor": "#2a3f5f",
             "gridcolor": "white",
             "linecolor": "white",
             "minorgridcolor": "white",
             "startlinecolor": "#2a3f5f"
            },
            "type": "carpet"
           }
          ],
          "choropleth": [
           {
            "colorbar": {
             "outlinewidth": 0,
             "ticks": ""
            },
            "type": "choropleth"
           }
          ],
          "contour": [
           {
            "colorbar": {
             "outlinewidth": 0,
             "ticks": ""
            },
            "colorscale": [
             [
              0,
              "#0d0887"
             ],
             [
              0.1111111111111111,
              "#46039f"
             ],
             [
              0.2222222222222222,
              "#7201a8"
             ],
             [
              0.3333333333333333,
              "#9c179e"
             ],
             [
              0.4444444444444444,
              "#bd3786"
             ],
             [
              0.5555555555555556,
              "#d8576b"
             ],
             [
              0.6666666666666666,
              "#ed7953"
             ],
             [
              0.7777777777777778,
              "#fb9f3a"
             ],
             [
              0.8888888888888888,
              "#fdca26"
             ],
             [
              1,
              "#f0f921"
             ]
            ],
            "type": "contour"
           }
          ],
          "contourcarpet": [
           {
            "colorbar": {
             "outlinewidth": 0,
             "ticks": ""
            },
            "type": "contourcarpet"
           }
          ],
          "heatmap": [
           {
            "colorbar": {
             "outlinewidth": 0,
             "ticks": ""
            },
            "colorscale": [
             [
              0,
              "#0d0887"
             ],
             [
              0.1111111111111111,
              "#46039f"
             ],
             [
              0.2222222222222222,
              "#7201a8"
             ],
             [
              0.3333333333333333,
              "#9c179e"
             ],
             [
              0.4444444444444444,
              "#bd3786"
             ],
             [
              0.5555555555555556,
              "#d8576b"
             ],
             [
              0.6666666666666666,
              "#ed7953"
             ],
             [
              0.7777777777777778,
              "#fb9f3a"
             ],
             [
              0.8888888888888888,
              "#fdca26"
             ],
             [
              1,
              "#f0f921"
             ]
            ],
            "type": "heatmap"
           }
          ],
          "heatmapgl": [
           {
            "colorbar": {
             "outlinewidth": 0,
             "ticks": ""
            },
            "colorscale": [
             [
              0,
              "#0d0887"
             ],
             [
              0.1111111111111111,
              "#46039f"
             ],
             [
              0.2222222222222222,
              "#7201a8"
             ],
             [
              0.3333333333333333,
              "#9c179e"
             ],
             [
              0.4444444444444444,
              "#bd3786"
             ],
             [
              0.5555555555555556,
              "#d8576b"
             ],
             [
              0.6666666666666666,
              "#ed7953"
             ],
             [
              0.7777777777777778,
              "#fb9f3a"
             ],
             [
              0.8888888888888888,
              "#fdca26"
             ],
             [
              1,
              "#f0f921"
             ]
            ],
            "type": "heatmapgl"
           }
          ],
          "histogram": [
           {
            "marker": {
             "pattern": {
              "fillmode": "overlay",
              "size": 10,
              "solidity": 0.2
             }
            },
            "type": "histogram"
           }
          ],
          "histogram2d": [
           {
            "colorbar": {
             "outlinewidth": 0,
             "ticks": ""
            },
            "colorscale": [
             [
              0,
              "#0d0887"
             ],
             [
              0.1111111111111111,
              "#46039f"
             ],
             [
              0.2222222222222222,
              "#7201a8"
             ],
             [
              0.3333333333333333,
              "#9c179e"
             ],
             [
              0.4444444444444444,
              "#bd3786"
             ],
             [
              0.5555555555555556,
              "#d8576b"
             ],
             [
              0.6666666666666666,
              "#ed7953"
             ],
             [
              0.7777777777777778,
              "#fb9f3a"
             ],
             [
              0.8888888888888888,
              "#fdca26"
             ],
             [
              1,
              "#f0f921"
             ]
            ],
            "type": "histogram2d"
           }
          ],
          "histogram2dcontour": [
           {
            "colorbar": {
             "outlinewidth": 0,
             "ticks": ""
            },
            "colorscale": [
             [
              0,
              "#0d0887"
             ],
             [
              0.1111111111111111,
              "#46039f"
             ],
             [
              0.2222222222222222,
              "#7201a8"
             ],
             [
              0.3333333333333333,
              "#9c179e"
             ],
             [
              0.4444444444444444,
              "#bd3786"
             ],
             [
              0.5555555555555556,
              "#d8576b"
             ],
             [
              0.6666666666666666,
              "#ed7953"
             ],
             [
              0.7777777777777778,
              "#fb9f3a"
             ],
             [
              0.8888888888888888,
              "#fdca26"
             ],
             [
              1,
              "#f0f921"
             ]
            ],
            "type": "histogram2dcontour"
           }
          ],
          "mesh3d": [
           {
            "colorbar": {
             "outlinewidth": 0,
             "ticks": ""
            },
            "type": "mesh3d"
           }
          ],
          "parcoords": [
           {
            "line": {
             "colorbar": {
              "outlinewidth": 0,
              "ticks": ""
             }
            },
            "type": "parcoords"
           }
          ],
          "pie": [
           {
            "automargin": true,
            "type": "pie"
           }
          ],
          "scatter": [
           {
            "fillpattern": {
             "fillmode": "overlay",
             "size": 10,
             "solidity": 0.2
            },
            "type": "scatter"
           }
          ],
          "scatter3d": [
           {
            "line": {
             "colorbar": {
              "outlinewidth": 0,
              "ticks": ""
             }
            },
            "marker": {
             "colorbar": {
              "outlinewidth": 0,
              "ticks": ""
             }
            },
            "type": "scatter3d"
           }
          ],
          "scattercarpet": [
           {
            "marker": {
             "colorbar": {
              "outlinewidth": 0,
              "ticks": ""
             }
            },
            "type": "scattercarpet"
           }
          ],
          "scattergeo": [
           {
            "marker": {
             "colorbar": {
              "outlinewidth": 0,
              "ticks": ""
             }
            },
            "type": "scattergeo"
           }
          ],
          "scattergl": [
           {
            "marker": {
             "colorbar": {
              "outlinewidth": 0,
              "ticks": ""
             }
            },
            "type": "scattergl"
           }
          ],
          "scattermapbox": [
           {
            "marker": {
             "colorbar": {
              "outlinewidth": 0,
              "ticks": ""
             }
            },
            "type": "scattermapbox"
           }
          ],
          "scatterpolar": [
           {
            "marker": {
             "colorbar": {
              "outlinewidth": 0,
              "ticks": ""
             }
            },
            "type": "scatterpolar"
           }
          ],
          "scatterpolargl": [
           {
            "marker": {
             "colorbar": {
              "outlinewidth": 0,
              "ticks": ""
             }
            },
            "type": "scatterpolargl"
           }
          ],
          "scatterternary": [
           {
            "marker": {
             "colorbar": {
              "outlinewidth": 0,
              "ticks": ""
             }
            },
            "type": "scatterternary"
           }
          ],
          "surface": [
           {
            "colorbar": {
             "outlinewidth": 0,
             "ticks": ""
            },
            "colorscale": [
             [
              0,
              "#0d0887"
             ],
             [
              0.1111111111111111,
              "#46039f"
             ],
             [
              0.2222222222222222,
              "#7201a8"
             ],
             [
              0.3333333333333333,
              "#9c179e"
             ],
             [
              0.4444444444444444,
              "#bd3786"
             ],
             [
              0.5555555555555556,
              "#d8576b"
             ],
             [
              0.6666666666666666,
              "#ed7953"
             ],
             [
              0.7777777777777778,
              "#fb9f3a"
             ],
             [
              0.8888888888888888,
              "#fdca26"
             ],
             [
              1,
              "#f0f921"
             ]
            ],
            "type": "surface"
           }
          ],
          "table": [
           {
            "cells": {
             "fill": {
              "color": "#EBF0F8"
             },
             "line": {
              "color": "white"
             }
            },
            "header": {
             "fill": {
              "color": "#C8D4E3"
             },
             "line": {
              "color": "white"
             }
            },
            "type": "table"
           }
          ]
         },
         "layout": {
          "annotationdefaults": {
           "arrowcolor": "#2a3f5f",
           "arrowhead": 0,
           "arrowwidth": 1
          },
          "autotypenumbers": "strict",
          "coloraxis": {
           "colorbar": {
            "outlinewidth": 0,
            "ticks": ""
           }
          },
          "colorscale": {
           "diverging": [
            [
             0,
             "#8e0152"
            ],
            [
             0.1,
             "#c51b7d"
            ],
            [
             0.2,
             "#de77ae"
            ],
            [
             0.3,
             "#f1b6da"
            ],
            [
             0.4,
             "#fde0ef"
            ],
            [
             0.5,
             "#f7f7f7"
            ],
            [
             0.6,
             "#e6f5d0"
            ],
            [
             0.7,
             "#b8e186"
            ],
            [
             0.8,
             "#7fbc41"
            ],
            [
             0.9,
             "#4d9221"
            ],
            [
             1,
             "#276419"
            ]
           ],
           "sequential": [
            [
             0,
             "#0d0887"
            ],
            [
             0.1111111111111111,
             "#46039f"
            ],
            [
             0.2222222222222222,
             "#7201a8"
            ],
            [
             0.3333333333333333,
             "#9c179e"
            ],
            [
             0.4444444444444444,
             "#bd3786"
            ],
            [
             0.5555555555555556,
             "#d8576b"
            ],
            [
             0.6666666666666666,
             "#ed7953"
            ],
            [
             0.7777777777777778,
             "#fb9f3a"
            ],
            [
             0.8888888888888888,
             "#fdca26"
            ],
            [
             1,
             "#f0f921"
            ]
           ],
           "sequentialminus": [
            [
             0,
             "#0d0887"
            ],
            [
             0.1111111111111111,
             "#46039f"
            ],
            [
             0.2222222222222222,
             "#7201a8"
            ],
            [
             0.3333333333333333,
             "#9c179e"
            ],
            [
             0.4444444444444444,
             "#bd3786"
            ],
            [
             0.5555555555555556,
             "#d8576b"
            ],
            [
             0.6666666666666666,
             "#ed7953"
            ],
            [
             0.7777777777777778,
             "#fb9f3a"
            ],
            [
             0.8888888888888888,
             "#fdca26"
            ],
            [
             1,
             "#f0f921"
            ]
           ]
          },
          "colorway": [
           "#636efa",
           "#EF553B",
           "#00cc96",
           "#ab63fa",
           "#FFA15A",
           "#19d3f3",
           "#FF6692",
           "#B6E880",
           "#FF97FF",
           "#FECB52"
          ],
          "font": {
           "color": "#2a3f5f"
          },
          "geo": {
           "bgcolor": "white",
           "lakecolor": "white",
           "landcolor": "#E5ECF6",
           "showlakes": true,
           "showland": true,
           "subunitcolor": "white"
          },
          "hoverlabel": {
           "align": "left"
          },
          "hovermode": "closest",
          "mapbox": {
           "style": "light"
          },
          "paper_bgcolor": "white",
          "plot_bgcolor": "#E5ECF6",
          "polar": {
           "angularaxis": {
            "gridcolor": "white",
            "linecolor": "white",
            "ticks": ""
           },
           "bgcolor": "#E5ECF6",
           "radialaxis": {
            "gridcolor": "white",
            "linecolor": "white",
            "ticks": ""
           }
          },
          "scene": {
           "xaxis": {
            "backgroundcolor": "#E5ECF6",
            "gridcolor": "white",
            "gridwidth": 2,
            "linecolor": "white",
            "showbackground": true,
            "ticks": "",
            "zerolinecolor": "white"
           },
           "yaxis": {
            "backgroundcolor": "#E5ECF6",
            "gridcolor": "white",
            "gridwidth": 2,
            "linecolor": "white",
            "showbackground": true,
            "ticks": "",
            "zerolinecolor": "white"
           },
           "zaxis": {
            "backgroundcolor": "#E5ECF6",
            "gridcolor": "white",
            "gridwidth": 2,
            "linecolor": "white",
            "showbackground": true,
            "ticks": "",
            "zerolinecolor": "white"
           }
          },
          "shapedefaults": {
           "line": {
            "color": "#2a3f5f"
           }
          },
          "ternary": {
           "aaxis": {
            "gridcolor": "white",
            "linecolor": "white",
            "ticks": ""
           },
           "baxis": {
            "gridcolor": "white",
            "linecolor": "white",
            "ticks": ""
           },
           "bgcolor": "#E5ECF6",
           "caxis": {
            "gridcolor": "white",
            "linecolor": "white",
            "ticks": ""
           }
          },
          "title": {
           "x": 0.05
          },
          "xaxis": {
           "automargin": true,
           "gridcolor": "white",
           "linecolor": "white",
           "ticks": "",
           "title": {
            "standoff": 15
           },
           "zerolinecolor": "white",
           "zerolinewidth": 2
          },
          "yaxis": {
           "automargin": true,
           "gridcolor": "white",
           "linecolor": "white",
           "ticks": "",
           "title": {
            "standoff": 15
           },
           "zerolinecolor": "white",
           "zerolinewidth": 2
          }
         }
        },
        "xaxis": {
         "anchor": "y",
         "domain": [
          0,
          1
         ],
         "title": {
          "text": "Aircraft Strength value"
         }
        },
        "yaxis": {
         "anchor": "x",
         "domain": [
          0,
          1
         ]
        }
       }
      },
      "text/html": [
       "<div>                            <div id=\"8c04b290-a4cd-47fa-82cc-500585e3212d\" class=\"plotly-graph-div\" style=\"height:525px; width:100%;\"></div>            <script type=\"text/javascript\">                require([\"plotly\"], function(Plotly) {                    window.PLOTLYENV=window.PLOTLYENV || {};                                    if (document.getElementById(\"8c04b290-a4cd-47fa-82cc-500585e3212d\")) {                    Plotly.newPlot(                        \"8c04b290-a4cd-47fa-82cc-500585e3212d\",                        [{\"alignmentgroup\":\"True\",\"hovertemplate\":\"<b>%{hovertext}</b><br><br>Aircraft Strength value=%{x}<extra></extra>\",\"hovertext\":[\"Afghanistan\",\"Albania\",\"Algeria\",\"Angola\",\"Argentina\",\"Armenia\",\"Australia\",\"Austria\",\"Azerbaijan\",\"Bahrain\",\"Bangladesh\",\"Belarus\",\"Belgium\",\"Bhutan\",\"Bolivia\",\"Bosnia and Herzegovina\",\"Botswana\",\"Brazil\",\"Bulgaria\",\"Burkina Faso\",\"Cambodia\",\"Cameroon\",\"Canada\",\"Central African Republic\",\"Chad\",\"Chile\",\"China\",\"Colombia\",\"Croatia\",\"Cuba\",\"Czechia\",\"Democratic Republic of the Congo\",\"Denmark\",\"Dominican Republic\",\"Ecuador\",\"Egypt\",\"El Salvador\",\"Estonia\",\"Ethiopia\",\"Finland\",\"France\",\"Gabon\",\"Georgia\",\"Germany\",\"Ghana\",\"Greece\",\"Guatemala\",\"Honduras\",\"Hungary\",\"India\",\"Indonesia\",\"Iran\",\"Iraq\",\"Ireland\",\"Israel\",\"Italy\",\"Ivory Coast\",\"Japan\",\"Jordan\",\"Kazakhstan\",\"Kenya\",\"Kuwait\",\"Kyrgyzstan\",\"Laos\",\"Latvia\",\"Lebanon\",\"Liberia\",\"Libya\",\"Lithuania\",\"Madagascar\",\"Malaysia\",\"Mali\",\"Mauritania\",\"Mexico\",\"Moldova\",\"Mongolia\",\"Montenegro\",\"Morocco\",\"Mozambique\",\"Myanmar\",\"Namibia\",\"Nepal\",\"Netherlands\",\"New Zealand\",\"Nicaragua\",\"Niger\",\"Nigeria\",\"North Korea\",\"North Macedonia\",\"Norway\",\"Oman\",\"Pakistan\",\"Panama\",\"Paraguay\",\"Peru\",\"Philippines\",\"Poland\",\"Portugal\",\"Qatar\",\"Republic of the Congo\",\"Romania\",\"Russia\",\"Saudi Arabia\",\"Serbia\",\"Sierra Leone\",\"Singapore\",\"Slovakia\",\"Slovenia\",\"Somalia\",\"South Africa\",\"South Korea\",\"South Sudan\",\"Spain\",\"Sri Lanka\",\"Sudan\",\"Suriname\",\"Sweden\",\"Switzerland\",\"Syria\",\"Taiwan\",\"Tajikistan\",\"Tanzania\",\"Thailand\",\"Tunisia\",\"Turkey\",\"Turkmenistan\",\"Uganda\",\"Ukraine\",\"United Arab Emirates\",\"United Kingdom\",\"United States\",\"Uruguay\",\"Uzbekistan\",\"Venezuela\",\"Vietnam\",\"Yemen\",\"Zambia\",\"Zimbabwe\"],\"legendgroup\":\"\",\"marker\":{\"color\":\"#636efa\"},\"name\":\"\",\"notched\":false,\"offsetgroup\":\"\",\"orientation\":\"h\",\"showlegend\":false,\"x\":[260,19,551,295,227,64,464,120,147,109,177,202,148,2,69,19,45,715,63,16,22,29,385,3,35,282,3210,469,78,80,95,53,113,49,108,1054,51,7,86,194,1229,23,66,712,24,566,33,46,47,2123,462,509,348,19,589,860,8,1561,278,222,150,85,5,33,5,70,0,114,10,6,170,29,28,484,3,9,9,214,16,276,30,16,168,48,19,16,129,949,20,150,131,1372,39,33,273,171,457,90,123,13,143,4163,879,109,5,235,47,38,0,226,1649,19,512,77,190,3,204,169,456,744,25,34,570,147,1055,72,48,297,538,733,13264,50,185,260,293,169,108,90],\"x0\":\" \",\"xaxis\":\"x\",\"y0\":\" \",\"yaxis\":\"y\",\"type\":\"box\"}],                        {\"template\":{\"data\":{\"histogram2dcontour\":[{\"type\":\"histogram2dcontour\",\"colorbar\":{\"outlinewidth\":0,\"ticks\":\"\"},\"colorscale\":[[0.0,\"#0d0887\"],[0.1111111111111111,\"#46039f\"],[0.2222222222222222,\"#7201a8\"],[0.3333333333333333,\"#9c179e\"],[0.4444444444444444,\"#bd3786\"],[0.5555555555555556,\"#d8576b\"],[0.6666666666666666,\"#ed7953\"],[0.7777777777777778,\"#fb9f3a\"],[0.8888888888888888,\"#fdca26\"],[1.0,\"#f0f921\"]]}],\"choropleth\":[{\"type\":\"choropleth\",\"colorbar\":{\"outlinewidth\":0,\"ticks\":\"\"}}],\"histogram2d\":[{\"type\":\"histogram2d\",\"colorbar\":{\"outlinewidth\":0,\"ticks\":\"\"},\"colorscale\":[[0.0,\"#0d0887\"],[0.1111111111111111,\"#46039f\"],[0.2222222222222222,\"#7201a8\"],[0.3333333333333333,\"#9c179e\"],[0.4444444444444444,\"#bd3786\"],[0.5555555555555556,\"#d8576b\"],[0.6666666666666666,\"#ed7953\"],[0.7777777777777778,\"#fb9f3a\"],[0.8888888888888888,\"#fdca26\"],[1.0,\"#f0f921\"]]}],\"heatmap\":[{\"type\":\"heatmap\",\"colorbar\":{\"outlinewidth\":0,\"ticks\":\"\"},\"colorscale\":[[0.0,\"#0d0887\"],[0.1111111111111111,\"#46039f\"],[0.2222222222222222,\"#7201a8\"],[0.3333333333333333,\"#9c179e\"],[0.4444444444444444,\"#bd3786\"],[0.5555555555555556,\"#d8576b\"],[0.6666666666666666,\"#ed7953\"],[0.7777777777777778,\"#fb9f3a\"],[0.8888888888888888,\"#fdca26\"],[1.0,\"#f0f921\"]]}],\"heatmapgl\":[{\"type\":\"heatmapgl\",\"colorbar\":{\"outlinewidth\":0,\"ticks\":\"\"},\"colorscale\":[[0.0,\"#0d0887\"],[0.1111111111111111,\"#46039f\"],[0.2222222222222222,\"#7201a8\"],[0.3333333333333333,\"#9c179e\"],[0.4444444444444444,\"#bd3786\"],[0.5555555555555556,\"#d8576b\"],[0.6666666666666666,\"#ed7953\"],[0.7777777777777778,\"#fb9f3a\"],[0.8888888888888888,\"#fdca26\"],[1.0,\"#f0f921\"]]}],\"contourcarpet\":[{\"type\":\"contourcarpet\",\"colorbar\":{\"outlinewidth\":0,\"ticks\":\"\"}}],\"contour\":[{\"type\":\"contour\",\"colorbar\":{\"outlinewidth\":0,\"ticks\":\"\"},\"colorscale\":[[0.0,\"#0d0887\"],[0.1111111111111111,\"#46039f\"],[0.2222222222222222,\"#7201a8\"],[0.3333333333333333,\"#9c179e\"],[0.4444444444444444,\"#bd3786\"],[0.5555555555555556,\"#d8576b\"],[0.6666666666666666,\"#ed7953\"],[0.7777777777777778,\"#fb9f3a\"],[0.8888888888888888,\"#fdca26\"],[1.0,\"#f0f921\"]]}],\"surface\":[{\"type\":\"surface\",\"colorbar\":{\"outlinewidth\":0,\"ticks\":\"\"},\"colorscale\":[[0.0,\"#0d0887\"],[0.1111111111111111,\"#46039f\"],[0.2222222222222222,\"#7201a8\"],[0.3333333333333333,\"#9c179e\"],[0.4444444444444444,\"#bd3786\"],[0.5555555555555556,\"#d8576b\"],[0.6666666666666666,\"#ed7953\"],[0.7777777777777778,\"#fb9f3a\"],[0.8888888888888888,\"#fdca26\"],[1.0,\"#f0f921\"]]}],\"mesh3d\":[{\"type\":\"mesh3d\",\"colorbar\":{\"outlinewidth\":0,\"ticks\":\"\"}}],\"scatter\":[{\"fillpattern\":{\"fillmode\":\"overlay\",\"size\":10,\"solidity\":0.2},\"type\":\"scatter\"}],\"parcoords\":[{\"type\":\"parcoords\",\"line\":{\"colorbar\":{\"outlinewidth\":0,\"ticks\":\"\"}}}],\"scatterpolargl\":[{\"type\":\"scatterpolargl\",\"marker\":{\"colorbar\":{\"outlinewidth\":0,\"ticks\":\"\"}}}],\"bar\":[{\"error_x\":{\"color\":\"#2a3f5f\"},\"error_y\":{\"color\":\"#2a3f5f\"},\"marker\":{\"line\":{\"color\":\"#E5ECF6\",\"width\":0.5},\"pattern\":{\"fillmode\":\"overlay\",\"size\":10,\"solidity\":0.2}},\"type\":\"bar\"}],\"scattergeo\":[{\"type\":\"scattergeo\",\"marker\":{\"colorbar\":{\"outlinewidth\":0,\"ticks\":\"\"}}}],\"scatterpolar\":[{\"type\":\"scatterpolar\",\"marker\":{\"colorbar\":{\"outlinewidth\":0,\"ticks\":\"\"}}}],\"histogram\":[{\"marker\":{\"pattern\":{\"fillmode\":\"overlay\",\"size\":10,\"solidity\":0.2}},\"type\":\"histogram\"}],\"scattergl\":[{\"type\":\"scattergl\",\"marker\":{\"colorbar\":{\"outlinewidth\":0,\"ticks\":\"\"}}}],\"scatter3d\":[{\"type\":\"scatter3d\",\"line\":{\"colorbar\":{\"outlinewidth\":0,\"ticks\":\"\"}},\"marker\":{\"colorbar\":{\"outlinewidth\":0,\"ticks\":\"\"}}}],\"scattermapbox\":[{\"type\":\"scattermapbox\",\"marker\":{\"colorbar\":{\"outlinewidth\":0,\"ticks\":\"\"}}}],\"scatterternary\":[{\"type\":\"scatterternary\",\"marker\":{\"colorbar\":{\"outlinewidth\":0,\"ticks\":\"\"}}}],\"scattercarpet\":[{\"type\":\"scattercarpet\",\"marker\":{\"colorbar\":{\"outlinewidth\":0,\"ticks\":\"\"}}}],\"carpet\":[{\"aaxis\":{\"endlinecolor\":\"#2a3f5f\",\"gridcolor\":\"white\",\"linecolor\":\"white\",\"minorgridcolor\":\"white\",\"startlinecolor\":\"#2a3f5f\"},\"baxis\":{\"endlinecolor\":\"#2a3f5f\",\"gridcolor\":\"white\",\"linecolor\":\"white\",\"minorgridcolor\":\"white\",\"startlinecolor\":\"#2a3f5f\"},\"type\":\"carpet\"}],\"table\":[{\"cells\":{\"fill\":{\"color\":\"#EBF0F8\"},\"line\":{\"color\":\"white\"}},\"header\":{\"fill\":{\"color\":\"#C8D4E3\"},\"line\":{\"color\":\"white\"}},\"type\":\"table\"}],\"barpolar\":[{\"marker\":{\"line\":{\"color\":\"#E5ECF6\",\"width\":0.5},\"pattern\":{\"fillmode\":\"overlay\",\"size\":10,\"solidity\":0.2}},\"type\":\"barpolar\"}],\"pie\":[{\"automargin\":true,\"type\":\"pie\"}]},\"layout\":{\"autotypenumbers\":\"strict\",\"colorway\":[\"#636efa\",\"#EF553B\",\"#00cc96\",\"#ab63fa\",\"#FFA15A\",\"#19d3f3\",\"#FF6692\",\"#B6E880\",\"#FF97FF\",\"#FECB52\"],\"font\":{\"color\":\"#2a3f5f\"},\"hovermode\":\"closest\",\"hoverlabel\":{\"align\":\"left\"},\"paper_bgcolor\":\"white\",\"plot_bgcolor\":\"#E5ECF6\",\"polar\":{\"bgcolor\":\"#E5ECF6\",\"angularaxis\":{\"gridcolor\":\"white\",\"linecolor\":\"white\",\"ticks\":\"\"},\"radialaxis\":{\"gridcolor\":\"white\",\"linecolor\":\"white\",\"ticks\":\"\"}},\"ternary\":{\"bgcolor\":\"#E5ECF6\",\"aaxis\":{\"gridcolor\":\"white\",\"linecolor\":\"white\",\"ticks\":\"\"},\"baxis\":{\"gridcolor\":\"white\",\"linecolor\":\"white\",\"ticks\":\"\"},\"caxis\":{\"gridcolor\":\"white\",\"linecolor\":\"white\",\"ticks\":\"\"}},\"coloraxis\":{\"colorbar\":{\"outlinewidth\":0,\"ticks\":\"\"}},\"colorscale\":{\"sequential\":[[0.0,\"#0d0887\"],[0.1111111111111111,\"#46039f\"],[0.2222222222222222,\"#7201a8\"],[0.3333333333333333,\"#9c179e\"],[0.4444444444444444,\"#bd3786\"],[0.5555555555555556,\"#d8576b\"],[0.6666666666666666,\"#ed7953\"],[0.7777777777777778,\"#fb9f3a\"],[0.8888888888888888,\"#fdca26\"],[1.0,\"#f0f921\"]],\"sequentialminus\":[[0.0,\"#0d0887\"],[0.1111111111111111,\"#46039f\"],[0.2222222222222222,\"#7201a8\"],[0.3333333333333333,\"#9c179e\"],[0.4444444444444444,\"#bd3786\"],[0.5555555555555556,\"#d8576b\"],[0.6666666666666666,\"#ed7953\"],[0.7777777777777778,\"#fb9f3a\"],[0.8888888888888888,\"#fdca26\"],[1.0,\"#f0f921\"]],\"diverging\":[[0,\"#8e0152\"],[0.1,\"#c51b7d\"],[0.2,\"#de77ae\"],[0.3,\"#f1b6da\"],[0.4,\"#fde0ef\"],[0.5,\"#f7f7f7\"],[0.6,\"#e6f5d0\"],[0.7,\"#b8e186\"],[0.8,\"#7fbc41\"],[0.9,\"#4d9221\"],[1,\"#276419\"]]},\"xaxis\":{\"gridcolor\":\"white\",\"linecolor\":\"white\",\"ticks\":\"\",\"title\":{\"standoff\":15},\"zerolinecolor\":\"white\",\"automargin\":true,\"zerolinewidth\":2},\"yaxis\":{\"gridcolor\":\"white\",\"linecolor\":\"white\",\"ticks\":\"\",\"title\":{\"standoff\":15},\"zerolinecolor\":\"white\",\"automargin\":true,\"zerolinewidth\":2},\"scene\":{\"xaxis\":{\"backgroundcolor\":\"#E5ECF6\",\"gridcolor\":\"white\",\"linecolor\":\"white\",\"showbackground\":true,\"ticks\":\"\",\"zerolinecolor\":\"white\",\"gridwidth\":2},\"yaxis\":{\"backgroundcolor\":\"#E5ECF6\",\"gridcolor\":\"white\",\"linecolor\":\"white\",\"showbackground\":true,\"ticks\":\"\",\"zerolinecolor\":\"white\",\"gridwidth\":2},\"zaxis\":{\"backgroundcolor\":\"#E5ECF6\",\"gridcolor\":\"white\",\"linecolor\":\"white\",\"showbackground\":true,\"ticks\":\"\",\"zerolinecolor\":\"white\",\"gridwidth\":2}},\"shapedefaults\":{\"line\":{\"color\":\"#2a3f5f\"}},\"annotationdefaults\":{\"arrowcolor\":\"#2a3f5f\",\"arrowhead\":0,\"arrowwidth\":1},\"geo\":{\"bgcolor\":\"white\",\"landcolor\":\"#E5ECF6\",\"subunitcolor\":\"white\",\"showland\":true,\"showlakes\":true,\"lakecolor\":\"white\"},\"title\":{\"x\":0.05},\"mapbox\":{\"style\":\"light\"}}},\"xaxis\":{\"anchor\":\"y\",\"domain\":[0.0,1.0],\"title\":{\"text\":\"Aircraft Strength value\"}},\"yaxis\":{\"anchor\":\"x\",\"domain\":[0.0,1.0]},\"legend\":{\"tracegroupgap\":0},\"margin\":{\"t\":60},\"boxmode\":\"group\"},                        {\"responsive\": true}                    ).then(function(){\n",
       "                            \n",
       "var gd = document.getElementById('8c04b290-a4cd-47fa-82cc-500585e3212d');\n",
       "var x = new MutationObserver(function (mutations, observer) {{\n",
       "        var display = window.getComputedStyle(gd).display;\n",
       "        if (!display || display === 'none') {{\n",
       "            console.log([gd, 'removed!']);\n",
       "            Plotly.purge(gd);\n",
       "            observer.disconnect();\n",
       "        }}\n",
       "}});\n",
       "\n",
       "// Listen for the removal of the full notebook cells\n",
       "var notebookContainer = gd.closest('#notebook-container');\n",
       "if (notebookContainer) {{\n",
       "    x.observe(notebookContainer, {childList: true});\n",
       "}}\n",
       "\n",
       "// Listen for the clearing of the current output cell\n",
       "var outputEl = gd.closest('.output');\n",
       "if (outputEl) {{\n",
       "    x.observe(outputEl, {childList: true});\n",
       "}}\n",
       "\n",
       "                        })                };                });            </script>        </div>"
      ]
     },
     "metadata": {},
     "output_type": "display_data"
    }
   ],
   "source": [
    "fig = px.box(data, x = data[\"Aircraft Strength value\"],\n",
    "             hover_name=data[\"Country\"])\n",
    "fig.show()"
   ]
  },
  {
   "cell_type": "code",
   "execution_count": 94,
   "metadata": {},
   "outputs": [
    {
     "data": {
      "application/vnd.plotly.v1+json": {
       "config": {
        "plotlyServerURL": "https://plot.ly"
       },
       "data": [
        {
         "alignmentgroup": "True",
         "hovertemplate": "<b>%{hovertext}</b><br><br>Tank Strength value=%{x}<extra></extra>",
         "hovertext": [
          "Afghanistan",
          "Albania",
          "Algeria",
          "Angola",
          "Argentina",
          "Armenia",
          "Australia",
          "Austria",
          "Azerbaijan",
          "Bahrain",
          "Bangladesh",
          "Belarus",
          "Belgium",
          "Bhutan",
          "Bolivia",
          "Bosnia and Herzegovina",
          "Botswana",
          "Brazil",
          "Bulgaria",
          "Burkina Faso",
          "Cambodia",
          "Cameroon",
          "Canada",
          "Central African Republic",
          "Chad",
          "Chile",
          "China",
          "Colombia",
          "Croatia",
          "Cuba",
          "Czechia",
          "Democratic Republic of the Congo",
          "Denmark",
          "Dominican Republic",
          "Ecuador",
          "Egypt",
          "El Salvador",
          "Estonia",
          "Ethiopia",
          "Finland",
          "France",
          "Gabon",
          "Georgia",
          "Germany",
          "Ghana",
          "Greece",
          "Guatemala",
          "Honduras",
          "Hungary",
          "India",
          "Indonesia",
          "Iran",
          "Iraq",
          "Ireland",
          "Israel",
          "Italy",
          "Ivory Coast",
          "Japan",
          "Jordan",
          "Kazakhstan",
          "Kenya",
          "Kuwait",
          "Kyrgyzstan",
          "Laos",
          "Latvia",
          "Lebanon",
          "Liberia",
          "Libya",
          "Lithuania",
          "Madagascar",
          "Malaysia",
          "Mali",
          "Mauritania",
          "Mexico",
          "Moldova",
          "Mongolia",
          "Montenegro",
          "Morocco",
          "Mozambique",
          "Myanmar",
          "Namibia",
          "Nepal",
          "Netherlands",
          "New Zealand",
          "Nicaragua",
          "Niger",
          "Nigeria",
          "North Korea",
          "North Macedonia",
          "Norway",
          "Oman",
          "Pakistan",
          "Panama",
          "Paraguay",
          "Peru",
          "Philippines",
          "Poland",
          "Portugal",
          "Qatar",
          "Republic of the Congo",
          "Romania",
          "Russia",
          "Saudi Arabia",
          "Serbia",
          "Sierra Leone",
          "Singapore",
          "Slovakia",
          "Slovenia",
          "Somalia",
          "South Africa",
          "South Korea",
          "South Sudan",
          "Spain",
          "Sri Lanka",
          "Sudan",
          "Suriname",
          "Sweden",
          "Switzerland",
          "Syria",
          "Taiwan",
          "Tajikistan",
          "Tanzania",
          "Thailand",
          "Tunisia",
          "Turkey",
          "Turkmenistan",
          "Uganda",
          "Ukraine",
          "United Arab Emirates",
          "United Kingdom",
          "United States",
          "Uruguay",
          "Uzbekistan",
          "Venezuela",
          "Vietnam",
          "Yemen",
          "Zambia",
          "Zimbabwe"
         ],
         "legendgroup": "",
         "marker": {
          "color": "#636efa"
         },
         "name": "",
         "notched": false,
         "offsetgroup": "",
         "orientation": "h",
         "showlegend": false,
         "type": "box",
         "x": [
          0,
          0,
          880,
          379,
          370,
          110,
          59,
          56,
          570,
          180,
          276,
          532,
          0,
          0,
          54,
          320,
          55,
          437,
          710,
          0,
          263,
          0,
          80,
          4,
          60,
          300,
          3500,
          0,
          72,
          1180,
          116,
          175,
          57,
          6,
          232,
          4295,
          0,
          0,
          400,
          200,
          528,
          0,
          143,
          245,
          0,
          1355,
          12,
          19,
          30,
          4292,
          313,
          2056,
          309,
          0,
          2760,
          200,
          15,
          1004,
          1313,
          650,
          76,
          367,
          150,
          65,
          0,
          366,
          0,
          250,
          0,
          12,
          74,
          80,
          35,
          0,
          0,
          470,
          0,
          1443,
          100,
          434,
          7,
          0,
          18,
          0,
          104,
          0,
          253,
          6045,
          31,
          52,
          117,
          2200,
          0,
          13,
          146,
          7,
          1069,
          133,
          92,
          86,
          943,
          12950,
          1062,
          293,
          0,
          180,
          20,
          44,
          10,
          195,
          2614,
          110,
          327,
          202,
          690,
          0,
          126,
          326,
          4135,
          1180,
          253,
          156,
          841,
          181,
          2622,
          712,
          371,
          2026,
          434,
          227,
          6289,
          78,
          420,
          390,
          2615,
          620,
          75,
          42
         ],
         "x0": " ",
         "xaxis": "x",
         "y0": " ",
         "yaxis": "y"
        }
       ],
       "layout": {
        "boxmode": "group",
        "legend": {
         "tracegroupgap": 0
        },
        "margin": {
         "t": 60
        },
        "template": {
         "data": {
          "bar": [
           {
            "error_x": {
             "color": "#2a3f5f"
            },
            "error_y": {
             "color": "#2a3f5f"
            },
            "marker": {
             "line": {
              "color": "#E5ECF6",
              "width": 0.5
             },
             "pattern": {
              "fillmode": "overlay",
              "size": 10,
              "solidity": 0.2
             }
            },
            "type": "bar"
           }
          ],
          "barpolar": [
           {
            "marker": {
             "line": {
              "color": "#E5ECF6",
              "width": 0.5
             },
             "pattern": {
              "fillmode": "overlay",
              "size": 10,
              "solidity": 0.2
             }
            },
            "type": "barpolar"
           }
          ],
          "carpet": [
           {
            "aaxis": {
             "endlinecolor": "#2a3f5f",
             "gridcolor": "white",
             "linecolor": "white",
             "minorgridcolor": "white",
             "startlinecolor": "#2a3f5f"
            },
            "baxis": {
             "endlinecolor": "#2a3f5f",
             "gridcolor": "white",
             "linecolor": "white",
             "minorgridcolor": "white",
             "startlinecolor": "#2a3f5f"
            },
            "type": "carpet"
           }
          ],
          "choropleth": [
           {
            "colorbar": {
             "outlinewidth": 0,
             "ticks": ""
            },
            "type": "choropleth"
           }
          ],
          "contour": [
           {
            "colorbar": {
             "outlinewidth": 0,
             "ticks": ""
            },
            "colorscale": [
             [
              0,
              "#0d0887"
             ],
             [
              0.1111111111111111,
              "#46039f"
             ],
             [
              0.2222222222222222,
              "#7201a8"
             ],
             [
              0.3333333333333333,
              "#9c179e"
             ],
             [
              0.4444444444444444,
              "#bd3786"
             ],
             [
              0.5555555555555556,
              "#d8576b"
             ],
             [
              0.6666666666666666,
              "#ed7953"
             ],
             [
              0.7777777777777778,
              "#fb9f3a"
             ],
             [
              0.8888888888888888,
              "#fdca26"
             ],
             [
              1,
              "#f0f921"
             ]
            ],
            "type": "contour"
           }
          ],
          "contourcarpet": [
           {
            "colorbar": {
             "outlinewidth": 0,
             "ticks": ""
            },
            "type": "contourcarpet"
           }
          ],
          "heatmap": [
           {
            "colorbar": {
             "outlinewidth": 0,
             "ticks": ""
            },
            "colorscale": [
             [
              0,
              "#0d0887"
             ],
             [
              0.1111111111111111,
              "#46039f"
             ],
             [
              0.2222222222222222,
              "#7201a8"
             ],
             [
              0.3333333333333333,
              "#9c179e"
             ],
             [
              0.4444444444444444,
              "#bd3786"
             ],
             [
              0.5555555555555556,
              "#d8576b"
             ],
             [
              0.6666666666666666,
              "#ed7953"
             ],
             [
              0.7777777777777778,
              "#fb9f3a"
             ],
             [
              0.8888888888888888,
              "#fdca26"
             ],
             [
              1,
              "#f0f921"
             ]
            ],
            "type": "heatmap"
           }
          ],
          "heatmapgl": [
           {
            "colorbar": {
             "outlinewidth": 0,
             "ticks": ""
            },
            "colorscale": [
             [
              0,
              "#0d0887"
             ],
             [
              0.1111111111111111,
              "#46039f"
             ],
             [
              0.2222222222222222,
              "#7201a8"
             ],
             [
              0.3333333333333333,
              "#9c179e"
             ],
             [
              0.4444444444444444,
              "#bd3786"
             ],
             [
              0.5555555555555556,
              "#d8576b"
             ],
             [
              0.6666666666666666,
              "#ed7953"
             ],
             [
              0.7777777777777778,
              "#fb9f3a"
             ],
             [
              0.8888888888888888,
              "#fdca26"
             ],
             [
              1,
              "#f0f921"
             ]
            ],
            "type": "heatmapgl"
           }
          ],
          "histogram": [
           {
            "marker": {
             "pattern": {
              "fillmode": "overlay",
              "size": 10,
              "solidity": 0.2
             }
            },
            "type": "histogram"
           }
          ],
          "histogram2d": [
           {
            "colorbar": {
             "outlinewidth": 0,
             "ticks": ""
            },
            "colorscale": [
             [
              0,
              "#0d0887"
             ],
             [
              0.1111111111111111,
              "#46039f"
             ],
             [
              0.2222222222222222,
              "#7201a8"
             ],
             [
              0.3333333333333333,
              "#9c179e"
             ],
             [
              0.4444444444444444,
              "#bd3786"
             ],
             [
              0.5555555555555556,
              "#d8576b"
             ],
             [
              0.6666666666666666,
              "#ed7953"
             ],
             [
              0.7777777777777778,
              "#fb9f3a"
             ],
             [
              0.8888888888888888,
              "#fdca26"
             ],
             [
              1,
              "#f0f921"
             ]
            ],
            "type": "histogram2d"
           }
          ],
          "histogram2dcontour": [
           {
            "colorbar": {
             "outlinewidth": 0,
             "ticks": ""
            },
            "colorscale": [
             [
              0,
              "#0d0887"
             ],
             [
              0.1111111111111111,
              "#46039f"
             ],
             [
              0.2222222222222222,
              "#7201a8"
             ],
             [
              0.3333333333333333,
              "#9c179e"
             ],
             [
              0.4444444444444444,
              "#bd3786"
             ],
             [
              0.5555555555555556,
              "#d8576b"
             ],
             [
              0.6666666666666666,
              "#ed7953"
             ],
             [
              0.7777777777777778,
              "#fb9f3a"
             ],
             [
              0.8888888888888888,
              "#fdca26"
             ],
             [
              1,
              "#f0f921"
             ]
            ],
            "type": "histogram2dcontour"
           }
          ],
          "mesh3d": [
           {
            "colorbar": {
             "outlinewidth": 0,
             "ticks": ""
            },
            "type": "mesh3d"
           }
          ],
          "parcoords": [
           {
            "line": {
             "colorbar": {
              "outlinewidth": 0,
              "ticks": ""
             }
            },
            "type": "parcoords"
           }
          ],
          "pie": [
           {
            "automargin": true,
            "type": "pie"
           }
          ],
          "scatter": [
           {
            "fillpattern": {
             "fillmode": "overlay",
             "size": 10,
             "solidity": 0.2
            },
            "type": "scatter"
           }
          ],
          "scatter3d": [
           {
            "line": {
             "colorbar": {
              "outlinewidth": 0,
              "ticks": ""
             }
            },
            "marker": {
             "colorbar": {
              "outlinewidth": 0,
              "ticks": ""
             }
            },
            "type": "scatter3d"
           }
          ],
          "scattercarpet": [
           {
            "marker": {
             "colorbar": {
              "outlinewidth": 0,
              "ticks": ""
             }
            },
            "type": "scattercarpet"
           }
          ],
          "scattergeo": [
           {
            "marker": {
             "colorbar": {
              "outlinewidth": 0,
              "ticks": ""
             }
            },
            "type": "scattergeo"
           }
          ],
          "scattergl": [
           {
            "marker": {
             "colorbar": {
              "outlinewidth": 0,
              "ticks": ""
             }
            },
            "type": "scattergl"
           }
          ],
          "scattermapbox": [
           {
            "marker": {
             "colorbar": {
              "outlinewidth": 0,
              "ticks": ""
             }
            },
            "type": "scattermapbox"
           }
          ],
          "scatterpolar": [
           {
            "marker": {
             "colorbar": {
              "outlinewidth": 0,
              "ticks": ""
             }
            },
            "type": "scatterpolar"
           }
          ],
          "scatterpolargl": [
           {
            "marker": {
             "colorbar": {
              "outlinewidth": 0,
              "ticks": ""
             }
            },
            "type": "scatterpolargl"
           }
          ],
          "scatterternary": [
           {
            "marker": {
             "colorbar": {
              "outlinewidth": 0,
              "ticks": ""
             }
            },
            "type": "scatterternary"
           }
          ],
          "surface": [
           {
            "colorbar": {
             "outlinewidth": 0,
             "ticks": ""
            },
            "colorscale": [
             [
              0,
              "#0d0887"
             ],
             [
              0.1111111111111111,
              "#46039f"
             ],
             [
              0.2222222222222222,
              "#7201a8"
             ],
             [
              0.3333333333333333,
              "#9c179e"
             ],
             [
              0.4444444444444444,
              "#bd3786"
             ],
             [
              0.5555555555555556,
              "#d8576b"
             ],
             [
              0.6666666666666666,
              "#ed7953"
             ],
             [
              0.7777777777777778,
              "#fb9f3a"
             ],
             [
              0.8888888888888888,
              "#fdca26"
             ],
             [
              1,
              "#f0f921"
             ]
            ],
            "type": "surface"
           }
          ],
          "table": [
           {
            "cells": {
             "fill": {
              "color": "#EBF0F8"
             },
             "line": {
              "color": "white"
             }
            },
            "header": {
             "fill": {
              "color": "#C8D4E3"
             },
             "line": {
              "color": "white"
             }
            },
            "type": "table"
           }
          ]
         },
         "layout": {
          "annotationdefaults": {
           "arrowcolor": "#2a3f5f",
           "arrowhead": 0,
           "arrowwidth": 1
          },
          "autotypenumbers": "strict",
          "coloraxis": {
           "colorbar": {
            "outlinewidth": 0,
            "ticks": ""
           }
          },
          "colorscale": {
           "diverging": [
            [
             0,
             "#8e0152"
            ],
            [
             0.1,
             "#c51b7d"
            ],
            [
             0.2,
             "#de77ae"
            ],
            [
             0.3,
             "#f1b6da"
            ],
            [
             0.4,
             "#fde0ef"
            ],
            [
             0.5,
             "#f7f7f7"
            ],
            [
             0.6,
             "#e6f5d0"
            ],
            [
             0.7,
             "#b8e186"
            ],
            [
             0.8,
             "#7fbc41"
            ],
            [
             0.9,
             "#4d9221"
            ],
            [
             1,
             "#276419"
            ]
           ],
           "sequential": [
            [
             0,
             "#0d0887"
            ],
            [
             0.1111111111111111,
             "#46039f"
            ],
            [
             0.2222222222222222,
             "#7201a8"
            ],
            [
             0.3333333333333333,
             "#9c179e"
            ],
            [
             0.4444444444444444,
             "#bd3786"
            ],
            [
             0.5555555555555556,
             "#d8576b"
            ],
            [
             0.6666666666666666,
             "#ed7953"
            ],
            [
             0.7777777777777778,
             "#fb9f3a"
            ],
            [
             0.8888888888888888,
             "#fdca26"
            ],
            [
             1,
             "#f0f921"
            ]
           ],
           "sequentialminus": [
            [
             0,
             "#0d0887"
            ],
            [
             0.1111111111111111,
             "#46039f"
            ],
            [
             0.2222222222222222,
             "#7201a8"
            ],
            [
             0.3333333333333333,
             "#9c179e"
            ],
            [
             0.4444444444444444,
             "#bd3786"
            ],
            [
             0.5555555555555556,
             "#d8576b"
            ],
            [
             0.6666666666666666,
             "#ed7953"
            ],
            [
             0.7777777777777778,
             "#fb9f3a"
            ],
            [
             0.8888888888888888,
             "#fdca26"
            ],
            [
             1,
             "#f0f921"
            ]
           ]
          },
          "colorway": [
           "#636efa",
           "#EF553B",
           "#00cc96",
           "#ab63fa",
           "#FFA15A",
           "#19d3f3",
           "#FF6692",
           "#B6E880",
           "#FF97FF",
           "#FECB52"
          ],
          "font": {
           "color": "#2a3f5f"
          },
          "geo": {
           "bgcolor": "white",
           "lakecolor": "white",
           "landcolor": "#E5ECF6",
           "showlakes": true,
           "showland": true,
           "subunitcolor": "white"
          },
          "hoverlabel": {
           "align": "left"
          },
          "hovermode": "closest",
          "mapbox": {
           "style": "light"
          },
          "paper_bgcolor": "white",
          "plot_bgcolor": "#E5ECF6",
          "polar": {
           "angularaxis": {
            "gridcolor": "white",
            "linecolor": "white",
            "ticks": ""
           },
           "bgcolor": "#E5ECF6",
           "radialaxis": {
            "gridcolor": "white",
            "linecolor": "white",
            "ticks": ""
           }
          },
          "scene": {
           "xaxis": {
            "backgroundcolor": "#E5ECF6",
            "gridcolor": "white",
            "gridwidth": 2,
            "linecolor": "white",
            "showbackground": true,
            "ticks": "",
            "zerolinecolor": "white"
           },
           "yaxis": {
            "backgroundcolor": "#E5ECF6",
            "gridcolor": "white",
            "gridwidth": 2,
            "linecolor": "white",
            "showbackground": true,
            "ticks": "",
            "zerolinecolor": "white"
           },
           "zaxis": {
            "backgroundcolor": "#E5ECF6",
            "gridcolor": "white",
            "gridwidth": 2,
            "linecolor": "white",
            "showbackground": true,
            "ticks": "",
            "zerolinecolor": "white"
           }
          },
          "shapedefaults": {
           "line": {
            "color": "#2a3f5f"
           }
          },
          "ternary": {
           "aaxis": {
            "gridcolor": "white",
            "linecolor": "white",
            "ticks": ""
           },
           "baxis": {
            "gridcolor": "white",
            "linecolor": "white",
            "ticks": ""
           },
           "bgcolor": "#E5ECF6",
           "caxis": {
            "gridcolor": "white",
            "linecolor": "white",
            "ticks": ""
           }
          },
          "title": {
           "x": 0.05
          },
          "xaxis": {
           "automargin": true,
           "gridcolor": "white",
           "linecolor": "white",
           "ticks": "",
           "title": {
            "standoff": 15
           },
           "zerolinecolor": "white",
           "zerolinewidth": 2
          },
          "yaxis": {
           "automargin": true,
           "gridcolor": "white",
           "linecolor": "white",
           "ticks": "",
           "title": {
            "standoff": 15
           },
           "zerolinecolor": "white",
           "zerolinewidth": 2
          }
         }
        },
        "xaxis": {
         "anchor": "y",
         "domain": [
          0,
          1
         ],
         "title": {
          "text": "Tank Strength value"
         }
        },
        "yaxis": {
         "anchor": "x",
         "domain": [
          0,
          1
         ]
        }
       }
      },
      "text/html": [
       "<div>                            <div id=\"65f3c3a5-0c5b-4591-9b6c-ff0953ecce3f\" class=\"plotly-graph-div\" style=\"height:525px; width:100%;\"></div>            <script type=\"text/javascript\">                require([\"plotly\"], function(Plotly) {                    window.PLOTLYENV=window.PLOTLYENV || {};                                    if (document.getElementById(\"65f3c3a5-0c5b-4591-9b6c-ff0953ecce3f\")) {                    Plotly.newPlot(                        \"65f3c3a5-0c5b-4591-9b6c-ff0953ecce3f\",                        [{\"alignmentgroup\":\"True\",\"hovertemplate\":\"<b>%{hovertext}</b><br><br>Tank Strength value=%{x}<extra></extra>\",\"hovertext\":[\"Afghanistan\",\"Albania\",\"Algeria\",\"Angola\",\"Argentina\",\"Armenia\",\"Australia\",\"Austria\",\"Azerbaijan\",\"Bahrain\",\"Bangladesh\",\"Belarus\",\"Belgium\",\"Bhutan\",\"Bolivia\",\"Bosnia and Herzegovina\",\"Botswana\",\"Brazil\",\"Bulgaria\",\"Burkina Faso\",\"Cambodia\",\"Cameroon\",\"Canada\",\"Central African Republic\",\"Chad\",\"Chile\",\"China\",\"Colombia\",\"Croatia\",\"Cuba\",\"Czechia\",\"Democratic Republic of the Congo\",\"Denmark\",\"Dominican Republic\",\"Ecuador\",\"Egypt\",\"El Salvador\",\"Estonia\",\"Ethiopia\",\"Finland\",\"France\",\"Gabon\",\"Georgia\",\"Germany\",\"Ghana\",\"Greece\",\"Guatemala\",\"Honduras\",\"Hungary\",\"India\",\"Indonesia\",\"Iran\",\"Iraq\",\"Ireland\",\"Israel\",\"Italy\",\"Ivory Coast\",\"Japan\",\"Jordan\",\"Kazakhstan\",\"Kenya\",\"Kuwait\",\"Kyrgyzstan\",\"Laos\",\"Latvia\",\"Lebanon\",\"Liberia\",\"Libya\",\"Lithuania\",\"Madagascar\",\"Malaysia\",\"Mali\",\"Mauritania\",\"Mexico\",\"Moldova\",\"Mongolia\",\"Montenegro\",\"Morocco\",\"Mozambique\",\"Myanmar\",\"Namibia\",\"Nepal\",\"Netherlands\",\"New Zealand\",\"Nicaragua\",\"Niger\",\"Nigeria\",\"North Korea\",\"North Macedonia\",\"Norway\",\"Oman\",\"Pakistan\",\"Panama\",\"Paraguay\",\"Peru\",\"Philippines\",\"Poland\",\"Portugal\",\"Qatar\",\"Republic of the Congo\",\"Romania\",\"Russia\",\"Saudi Arabia\",\"Serbia\",\"Sierra Leone\",\"Singapore\",\"Slovakia\",\"Slovenia\",\"Somalia\",\"South Africa\",\"South Korea\",\"South Sudan\",\"Spain\",\"Sri Lanka\",\"Sudan\",\"Suriname\",\"Sweden\",\"Switzerland\",\"Syria\",\"Taiwan\",\"Tajikistan\",\"Tanzania\",\"Thailand\",\"Tunisia\",\"Turkey\",\"Turkmenistan\",\"Uganda\",\"Ukraine\",\"United Arab Emirates\",\"United Kingdom\",\"United States\",\"Uruguay\",\"Uzbekistan\",\"Venezuela\",\"Vietnam\",\"Yemen\",\"Zambia\",\"Zimbabwe\"],\"legendgroup\":\"\",\"marker\":{\"color\":\"#636efa\"},\"name\":\"\",\"notched\":false,\"offsetgroup\":\"\",\"orientation\":\"h\",\"showlegend\":false,\"x\":[0,0,880,379,370,110,59,56,570,180,276,532,0,0,54,320,55,437,710,0,263,0,80,4,60,300,3500,0,72,1180,116,175,57,6,232,4295,0,0,400,200,528,0,143,245,0,1355,12,19,30,4292,313,2056,309,0,2760,200,15,1004,1313,650,76,367,150,65,0,366,0,250,0,12,74,80,35,0,0,470,0,1443,100,434,7,0,18,0,104,0,253,6045,31,52,117,2200,0,13,146,7,1069,133,92,86,943,12950,1062,293,0,180,20,44,10,195,2614,110,327,202,690,0,126,326,4135,1180,253,156,841,181,2622,712,371,2026,434,227,6289,78,420,390,2615,620,75,42],\"x0\":\" \",\"xaxis\":\"x\",\"y0\":\" \",\"yaxis\":\"y\",\"type\":\"box\"}],                        {\"template\":{\"data\":{\"histogram2dcontour\":[{\"type\":\"histogram2dcontour\",\"colorbar\":{\"outlinewidth\":0,\"ticks\":\"\"},\"colorscale\":[[0.0,\"#0d0887\"],[0.1111111111111111,\"#46039f\"],[0.2222222222222222,\"#7201a8\"],[0.3333333333333333,\"#9c179e\"],[0.4444444444444444,\"#bd3786\"],[0.5555555555555556,\"#d8576b\"],[0.6666666666666666,\"#ed7953\"],[0.7777777777777778,\"#fb9f3a\"],[0.8888888888888888,\"#fdca26\"],[1.0,\"#f0f921\"]]}],\"choropleth\":[{\"type\":\"choropleth\",\"colorbar\":{\"outlinewidth\":0,\"ticks\":\"\"}}],\"histogram2d\":[{\"type\":\"histogram2d\",\"colorbar\":{\"outlinewidth\":0,\"ticks\":\"\"},\"colorscale\":[[0.0,\"#0d0887\"],[0.1111111111111111,\"#46039f\"],[0.2222222222222222,\"#7201a8\"],[0.3333333333333333,\"#9c179e\"],[0.4444444444444444,\"#bd3786\"],[0.5555555555555556,\"#d8576b\"],[0.6666666666666666,\"#ed7953\"],[0.7777777777777778,\"#fb9f3a\"],[0.8888888888888888,\"#fdca26\"],[1.0,\"#f0f921\"]]}],\"heatmap\":[{\"type\":\"heatmap\",\"colorbar\":{\"outlinewidth\":0,\"ticks\":\"\"},\"colorscale\":[[0.0,\"#0d0887\"],[0.1111111111111111,\"#46039f\"],[0.2222222222222222,\"#7201a8\"],[0.3333333333333333,\"#9c179e\"],[0.4444444444444444,\"#bd3786\"],[0.5555555555555556,\"#d8576b\"],[0.6666666666666666,\"#ed7953\"],[0.7777777777777778,\"#fb9f3a\"],[0.8888888888888888,\"#fdca26\"],[1.0,\"#f0f921\"]]}],\"heatmapgl\":[{\"type\":\"heatmapgl\",\"colorbar\":{\"outlinewidth\":0,\"ticks\":\"\"},\"colorscale\":[[0.0,\"#0d0887\"],[0.1111111111111111,\"#46039f\"],[0.2222222222222222,\"#7201a8\"],[0.3333333333333333,\"#9c179e\"],[0.4444444444444444,\"#bd3786\"],[0.5555555555555556,\"#d8576b\"],[0.6666666666666666,\"#ed7953\"],[0.7777777777777778,\"#fb9f3a\"],[0.8888888888888888,\"#fdca26\"],[1.0,\"#f0f921\"]]}],\"contourcarpet\":[{\"type\":\"contourcarpet\",\"colorbar\":{\"outlinewidth\":0,\"ticks\":\"\"}}],\"contour\":[{\"type\":\"contour\",\"colorbar\":{\"outlinewidth\":0,\"ticks\":\"\"},\"colorscale\":[[0.0,\"#0d0887\"],[0.1111111111111111,\"#46039f\"],[0.2222222222222222,\"#7201a8\"],[0.3333333333333333,\"#9c179e\"],[0.4444444444444444,\"#bd3786\"],[0.5555555555555556,\"#d8576b\"],[0.6666666666666666,\"#ed7953\"],[0.7777777777777778,\"#fb9f3a\"],[0.8888888888888888,\"#fdca26\"],[1.0,\"#f0f921\"]]}],\"surface\":[{\"type\":\"surface\",\"colorbar\":{\"outlinewidth\":0,\"ticks\":\"\"},\"colorscale\":[[0.0,\"#0d0887\"],[0.1111111111111111,\"#46039f\"],[0.2222222222222222,\"#7201a8\"],[0.3333333333333333,\"#9c179e\"],[0.4444444444444444,\"#bd3786\"],[0.5555555555555556,\"#d8576b\"],[0.6666666666666666,\"#ed7953\"],[0.7777777777777778,\"#fb9f3a\"],[0.8888888888888888,\"#fdca26\"],[1.0,\"#f0f921\"]]}],\"mesh3d\":[{\"type\":\"mesh3d\",\"colorbar\":{\"outlinewidth\":0,\"ticks\":\"\"}}],\"scatter\":[{\"fillpattern\":{\"fillmode\":\"overlay\",\"size\":10,\"solidity\":0.2},\"type\":\"scatter\"}],\"parcoords\":[{\"type\":\"parcoords\",\"line\":{\"colorbar\":{\"outlinewidth\":0,\"ticks\":\"\"}}}],\"scatterpolargl\":[{\"type\":\"scatterpolargl\",\"marker\":{\"colorbar\":{\"outlinewidth\":0,\"ticks\":\"\"}}}],\"bar\":[{\"error_x\":{\"color\":\"#2a3f5f\"},\"error_y\":{\"color\":\"#2a3f5f\"},\"marker\":{\"line\":{\"color\":\"#E5ECF6\",\"width\":0.5},\"pattern\":{\"fillmode\":\"overlay\",\"size\":10,\"solidity\":0.2}},\"type\":\"bar\"}],\"scattergeo\":[{\"type\":\"scattergeo\",\"marker\":{\"colorbar\":{\"outlinewidth\":0,\"ticks\":\"\"}}}],\"scatterpolar\":[{\"type\":\"scatterpolar\",\"marker\":{\"colorbar\":{\"outlinewidth\":0,\"ticks\":\"\"}}}],\"histogram\":[{\"marker\":{\"pattern\":{\"fillmode\":\"overlay\",\"size\":10,\"solidity\":0.2}},\"type\":\"histogram\"}],\"scattergl\":[{\"type\":\"scattergl\",\"marker\":{\"colorbar\":{\"outlinewidth\":0,\"ticks\":\"\"}}}],\"scatter3d\":[{\"type\":\"scatter3d\",\"line\":{\"colorbar\":{\"outlinewidth\":0,\"ticks\":\"\"}},\"marker\":{\"colorbar\":{\"outlinewidth\":0,\"ticks\":\"\"}}}],\"scattermapbox\":[{\"type\":\"scattermapbox\",\"marker\":{\"colorbar\":{\"outlinewidth\":0,\"ticks\":\"\"}}}],\"scatterternary\":[{\"type\":\"scatterternary\",\"marker\":{\"colorbar\":{\"outlinewidth\":0,\"ticks\":\"\"}}}],\"scattercarpet\":[{\"type\":\"scattercarpet\",\"marker\":{\"colorbar\":{\"outlinewidth\":0,\"ticks\":\"\"}}}],\"carpet\":[{\"aaxis\":{\"endlinecolor\":\"#2a3f5f\",\"gridcolor\":\"white\",\"linecolor\":\"white\",\"minorgridcolor\":\"white\",\"startlinecolor\":\"#2a3f5f\"},\"baxis\":{\"endlinecolor\":\"#2a3f5f\",\"gridcolor\":\"white\",\"linecolor\":\"white\",\"minorgridcolor\":\"white\",\"startlinecolor\":\"#2a3f5f\"},\"type\":\"carpet\"}],\"table\":[{\"cells\":{\"fill\":{\"color\":\"#EBF0F8\"},\"line\":{\"color\":\"white\"}},\"header\":{\"fill\":{\"color\":\"#C8D4E3\"},\"line\":{\"color\":\"white\"}},\"type\":\"table\"}],\"barpolar\":[{\"marker\":{\"line\":{\"color\":\"#E5ECF6\",\"width\":0.5},\"pattern\":{\"fillmode\":\"overlay\",\"size\":10,\"solidity\":0.2}},\"type\":\"barpolar\"}],\"pie\":[{\"automargin\":true,\"type\":\"pie\"}]},\"layout\":{\"autotypenumbers\":\"strict\",\"colorway\":[\"#636efa\",\"#EF553B\",\"#00cc96\",\"#ab63fa\",\"#FFA15A\",\"#19d3f3\",\"#FF6692\",\"#B6E880\",\"#FF97FF\",\"#FECB52\"],\"font\":{\"color\":\"#2a3f5f\"},\"hovermode\":\"closest\",\"hoverlabel\":{\"align\":\"left\"},\"paper_bgcolor\":\"white\",\"plot_bgcolor\":\"#E5ECF6\",\"polar\":{\"bgcolor\":\"#E5ECF6\",\"angularaxis\":{\"gridcolor\":\"white\",\"linecolor\":\"white\",\"ticks\":\"\"},\"radialaxis\":{\"gridcolor\":\"white\",\"linecolor\":\"white\",\"ticks\":\"\"}},\"ternary\":{\"bgcolor\":\"#E5ECF6\",\"aaxis\":{\"gridcolor\":\"white\",\"linecolor\":\"white\",\"ticks\":\"\"},\"baxis\":{\"gridcolor\":\"white\",\"linecolor\":\"white\",\"ticks\":\"\"},\"caxis\":{\"gridcolor\":\"white\",\"linecolor\":\"white\",\"ticks\":\"\"}},\"coloraxis\":{\"colorbar\":{\"outlinewidth\":0,\"ticks\":\"\"}},\"colorscale\":{\"sequential\":[[0.0,\"#0d0887\"],[0.1111111111111111,\"#46039f\"],[0.2222222222222222,\"#7201a8\"],[0.3333333333333333,\"#9c179e\"],[0.4444444444444444,\"#bd3786\"],[0.5555555555555556,\"#d8576b\"],[0.6666666666666666,\"#ed7953\"],[0.7777777777777778,\"#fb9f3a\"],[0.8888888888888888,\"#fdca26\"],[1.0,\"#f0f921\"]],\"sequentialminus\":[[0.0,\"#0d0887\"],[0.1111111111111111,\"#46039f\"],[0.2222222222222222,\"#7201a8\"],[0.3333333333333333,\"#9c179e\"],[0.4444444444444444,\"#bd3786\"],[0.5555555555555556,\"#d8576b\"],[0.6666666666666666,\"#ed7953\"],[0.7777777777777778,\"#fb9f3a\"],[0.8888888888888888,\"#fdca26\"],[1.0,\"#f0f921\"]],\"diverging\":[[0,\"#8e0152\"],[0.1,\"#c51b7d\"],[0.2,\"#de77ae\"],[0.3,\"#f1b6da\"],[0.4,\"#fde0ef\"],[0.5,\"#f7f7f7\"],[0.6,\"#e6f5d0\"],[0.7,\"#b8e186\"],[0.8,\"#7fbc41\"],[0.9,\"#4d9221\"],[1,\"#276419\"]]},\"xaxis\":{\"gridcolor\":\"white\",\"linecolor\":\"white\",\"ticks\":\"\",\"title\":{\"standoff\":15},\"zerolinecolor\":\"white\",\"automargin\":true,\"zerolinewidth\":2},\"yaxis\":{\"gridcolor\":\"white\",\"linecolor\":\"white\",\"ticks\":\"\",\"title\":{\"standoff\":15},\"zerolinecolor\":\"white\",\"automargin\":true,\"zerolinewidth\":2},\"scene\":{\"xaxis\":{\"backgroundcolor\":\"#E5ECF6\",\"gridcolor\":\"white\",\"linecolor\":\"white\",\"showbackground\":true,\"ticks\":\"\",\"zerolinecolor\":\"white\",\"gridwidth\":2},\"yaxis\":{\"backgroundcolor\":\"#E5ECF6\",\"gridcolor\":\"white\",\"linecolor\":\"white\",\"showbackground\":true,\"ticks\":\"\",\"zerolinecolor\":\"white\",\"gridwidth\":2},\"zaxis\":{\"backgroundcolor\":\"#E5ECF6\",\"gridcolor\":\"white\",\"linecolor\":\"white\",\"showbackground\":true,\"ticks\":\"\",\"zerolinecolor\":\"white\",\"gridwidth\":2}},\"shapedefaults\":{\"line\":{\"color\":\"#2a3f5f\"}},\"annotationdefaults\":{\"arrowcolor\":\"#2a3f5f\",\"arrowhead\":0,\"arrowwidth\":1},\"geo\":{\"bgcolor\":\"white\",\"landcolor\":\"#E5ECF6\",\"subunitcolor\":\"white\",\"showland\":true,\"showlakes\":true,\"lakecolor\":\"white\"},\"title\":{\"x\":0.05},\"mapbox\":{\"style\":\"light\"}}},\"xaxis\":{\"anchor\":\"y\",\"domain\":[0.0,1.0],\"title\":{\"text\":\"Tank Strength value\"}},\"yaxis\":{\"anchor\":\"x\",\"domain\":[0.0,1.0]},\"legend\":{\"tracegroupgap\":0},\"margin\":{\"t\":60},\"boxmode\":\"group\"},                        {\"responsive\": true}                    ).then(function(){\n",
       "                            \n",
       "var gd = document.getElementById('65f3c3a5-0c5b-4591-9b6c-ff0953ecce3f');\n",
       "var x = new MutationObserver(function (mutations, observer) {{\n",
       "        var display = window.getComputedStyle(gd).display;\n",
       "        if (!display || display === 'none') {{\n",
       "            console.log([gd, 'removed!']);\n",
       "            Plotly.purge(gd);\n",
       "            observer.disconnect();\n",
       "        }}\n",
       "}});\n",
       "\n",
       "// Listen for the removal of the full notebook cells\n",
       "var notebookContainer = gd.closest('#notebook-container');\n",
       "if (notebookContainer) {{\n",
       "    x.observe(notebookContainer, {childList: true});\n",
       "}}\n",
       "\n",
       "// Listen for the clearing of the current output cell\n",
       "var outputEl = gd.closest('.output');\n",
       "if (outputEl) {{\n",
       "    x.observe(outputEl, {childList: true});\n",
       "}}\n",
       "\n",
       "                        })                };                });            </script>        </div>"
      ]
     },
     "metadata": {},
     "output_type": "display_data"
    }
   ],
   "source": [
    "fig = px.box(data, x = data[\"Tank Strength value\"],\n",
    "             hover_name=data[\"Country\"])\n",
    "\n",
    "fig.show()"
   ]
  },
  {
   "cell_type": "code",
   "execution_count": 95,
   "metadata": {},
   "outputs": [
    {
     "data": {
      "application/vnd.plotly.v1+json": {
       "config": {
        "plotlyServerURL": "https://plot.ly"
       },
       "data": [
        {
         "alignmentgroup": "True",
         "hovertemplate": "<b>%{hovertext}</b><br><br>Navy Fleet Strengths value=%{x}<extra></extra>",
         "hovertext": [
          "Afghanistan",
          "Albania",
          "Algeria",
          "Angola",
          "Argentina",
          "Armenia",
          "Australia",
          "Austria",
          "Azerbaijan",
          "Bahrain",
          "Bangladesh",
          "Belarus",
          "Belgium",
          "Bhutan",
          "Bolivia",
          "Bosnia and Herzegovina",
          "Botswana",
          "Brazil",
          "Bulgaria",
          "Burkina Faso",
          "Cambodia",
          "Cameroon",
          "Canada",
          "Central African Republic",
          "Chad",
          "Chile",
          "China",
          "Colombia",
          "Croatia",
          "Cuba",
          "Czechia",
          "Democratic Republic of the Congo",
          "Denmark",
          "Dominican Republic",
          "Ecuador",
          "Egypt",
          "El Salvador",
          "Estonia",
          "Ethiopia",
          "Finland",
          "France",
          "Gabon",
          "Georgia",
          "Germany",
          "Ghana",
          "Greece",
          "Guatemala",
          "Honduras",
          "Hungary",
          "India",
          "Indonesia",
          "Iran",
          "Iraq",
          "Ireland",
          "Israel",
          "Italy",
          "Ivory Coast",
          "Japan",
          "Jordan",
          "Kazakhstan",
          "Kenya",
          "Kuwait",
          "Kyrgyzstan",
          "Laos",
          "Latvia",
          "Lebanon",
          "Liberia",
          "Libya",
          "Lithuania",
          "Madagascar",
          "Malaysia",
          "Mali",
          "Mauritania",
          "Mexico",
          "Moldova",
          "Mongolia",
          "Montenegro",
          "Morocco",
          "Mozambique",
          "Myanmar",
          "Namibia",
          "Nepal",
          "Netherlands",
          "New Zealand",
          "Nicaragua",
          "Niger",
          "Nigeria",
          "North Korea",
          "North Macedonia",
          "Norway",
          "Oman",
          "Pakistan",
          "Panama",
          "Paraguay",
          "Peru",
          "Philippines",
          "Poland",
          "Portugal",
          "Qatar",
          "Republic of the Congo",
          "Romania",
          "Russia",
          "Saudi Arabia",
          "Serbia",
          "Sierra Leone",
          "Singapore",
          "Slovakia",
          "Slovenia",
          "Somalia",
          "South Africa",
          "South Korea",
          "South Sudan",
          "Spain",
          "Sri Lanka",
          "Sudan",
          "Suriname",
          "Sweden",
          "Switzerland",
          "Syria",
          "Taiwan",
          "Tajikistan",
          "Tanzania",
          "Thailand",
          "Tunisia",
          "Turkey",
          "Turkmenistan",
          "Uganda",
          "Ukraine",
          "United Arab Emirates",
          "United Kingdom",
          "United States",
          "Uruguay",
          "Uzbekistan",
          "Venezuela",
          "Vietnam",
          "Yemen",
          "Zambia",
          "Zimbabwe"
         ],
         "legendgroup": "",
         "marker": {
          "color": "#636efa"
         },
         "name": "",
         "notched": false,
         "offsetgroup": "",
         "orientation": "h",
         "showlegend": false,
         "type": "box",
         "x": [
          0,
          38,
          201,
          57,
          49,
          0,
          48,
          0,
          31,
          39,
          112,
          0,
          17,
          0,
          173,
          0,
          0,
          112,
          29,
          0,
          27,
          64,
          64,
          0,
          0,
          69,
          777,
          453,
          28,
          12,
          0,
          20,
          74,
          33,
          19,
          316,
          4,
          6,
          0,
          246,
          180,
          10,
          9,
          80,
          20,
          116,
          26,
          59,
          0,
          285,
          282,
          398,
          60,
          8,
          65,
          249,
          10,
          155,
          37,
          15,
          19,
          38,
          0,
          36,
          18,
          57,
          0,
          5,
          12,
          8,
          61,
          0,
          5,
          189,
          0,
          0,
          18,
          121,
          8,
          187,
          8,
          0,
          63,
          11,
          30,
          0,
          75,
          984,
          0,
          62,
          16,
          100,
          20,
          40,
          60,
          103,
          87,
          41,
          86,
          6,
          48,
          603,
          55,
          19,
          10,
          40,
          0,
          2,
          3,
          30,
          234,
          0,
          77,
          40,
          18,
          3,
          63,
          0,
          56,
          117,
          0,
          19,
          292,
          50,
          149,
          4,
          8,
          25,
          75,
          88,
          490,
          20,
          0,
          49,
          65,
          30,
          0,
          0
         ],
         "x0": " ",
         "xaxis": "x",
         "y0": " ",
         "yaxis": "y"
        }
       ],
       "layout": {
        "boxmode": "group",
        "legend": {
         "tracegroupgap": 0
        },
        "margin": {
         "t": 60
        },
        "template": {
         "data": {
          "bar": [
           {
            "error_x": {
             "color": "#2a3f5f"
            },
            "error_y": {
             "color": "#2a3f5f"
            },
            "marker": {
             "line": {
              "color": "#E5ECF6",
              "width": 0.5
             },
             "pattern": {
              "fillmode": "overlay",
              "size": 10,
              "solidity": 0.2
             }
            },
            "type": "bar"
           }
          ],
          "barpolar": [
           {
            "marker": {
             "line": {
              "color": "#E5ECF6",
              "width": 0.5
             },
             "pattern": {
              "fillmode": "overlay",
              "size": 10,
              "solidity": 0.2
             }
            },
            "type": "barpolar"
           }
          ],
          "carpet": [
           {
            "aaxis": {
             "endlinecolor": "#2a3f5f",
             "gridcolor": "white",
             "linecolor": "white",
             "minorgridcolor": "white",
             "startlinecolor": "#2a3f5f"
            },
            "baxis": {
             "endlinecolor": "#2a3f5f",
             "gridcolor": "white",
             "linecolor": "white",
             "minorgridcolor": "white",
             "startlinecolor": "#2a3f5f"
            },
            "type": "carpet"
           }
          ],
          "choropleth": [
           {
            "colorbar": {
             "outlinewidth": 0,
             "ticks": ""
            },
            "type": "choropleth"
           }
          ],
          "contour": [
           {
            "colorbar": {
             "outlinewidth": 0,
             "ticks": ""
            },
            "colorscale": [
             [
              0,
              "#0d0887"
             ],
             [
              0.1111111111111111,
              "#46039f"
             ],
             [
              0.2222222222222222,
              "#7201a8"
             ],
             [
              0.3333333333333333,
              "#9c179e"
             ],
             [
              0.4444444444444444,
              "#bd3786"
             ],
             [
              0.5555555555555556,
              "#d8576b"
             ],
             [
              0.6666666666666666,
              "#ed7953"
             ],
             [
              0.7777777777777778,
              "#fb9f3a"
             ],
             [
              0.8888888888888888,
              "#fdca26"
             ],
             [
              1,
              "#f0f921"
             ]
            ],
            "type": "contour"
           }
          ],
          "contourcarpet": [
           {
            "colorbar": {
             "outlinewidth": 0,
             "ticks": ""
            },
            "type": "contourcarpet"
           }
          ],
          "heatmap": [
           {
            "colorbar": {
             "outlinewidth": 0,
             "ticks": ""
            },
            "colorscale": [
             [
              0,
              "#0d0887"
             ],
             [
              0.1111111111111111,
              "#46039f"
             ],
             [
              0.2222222222222222,
              "#7201a8"
             ],
             [
              0.3333333333333333,
              "#9c179e"
             ],
             [
              0.4444444444444444,
              "#bd3786"
             ],
             [
              0.5555555555555556,
              "#d8576b"
             ],
             [
              0.6666666666666666,
              "#ed7953"
             ],
             [
              0.7777777777777778,
              "#fb9f3a"
             ],
             [
              0.8888888888888888,
              "#fdca26"
             ],
             [
              1,
              "#f0f921"
             ]
            ],
            "type": "heatmap"
           }
          ],
          "heatmapgl": [
           {
            "colorbar": {
             "outlinewidth": 0,
             "ticks": ""
            },
            "colorscale": [
             [
              0,
              "#0d0887"
             ],
             [
              0.1111111111111111,
              "#46039f"
             ],
             [
              0.2222222222222222,
              "#7201a8"
             ],
             [
              0.3333333333333333,
              "#9c179e"
             ],
             [
              0.4444444444444444,
              "#bd3786"
             ],
             [
              0.5555555555555556,
              "#d8576b"
             ],
             [
              0.6666666666666666,
              "#ed7953"
             ],
             [
              0.7777777777777778,
              "#fb9f3a"
             ],
             [
              0.8888888888888888,
              "#fdca26"
             ],
             [
              1,
              "#f0f921"
             ]
            ],
            "type": "heatmapgl"
           }
          ],
          "histogram": [
           {
            "marker": {
             "pattern": {
              "fillmode": "overlay",
              "size": 10,
              "solidity": 0.2
             }
            },
            "type": "histogram"
           }
          ],
          "histogram2d": [
           {
            "colorbar": {
             "outlinewidth": 0,
             "ticks": ""
            },
            "colorscale": [
             [
              0,
              "#0d0887"
             ],
             [
              0.1111111111111111,
              "#46039f"
             ],
             [
              0.2222222222222222,
              "#7201a8"
             ],
             [
              0.3333333333333333,
              "#9c179e"
             ],
             [
              0.4444444444444444,
              "#bd3786"
             ],
             [
              0.5555555555555556,
              "#d8576b"
             ],
             [
              0.6666666666666666,
              "#ed7953"
             ],
             [
              0.7777777777777778,
              "#fb9f3a"
             ],
             [
              0.8888888888888888,
              "#fdca26"
             ],
             [
              1,
              "#f0f921"
             ]
            ],
            "type": "histogram2d"
           }
          ],
          "histogram2dcontour": [
           {
            "colorbar": {
             "outlinewidth": 0,
             "ticks": ""
            },
            "colorscale": [
             [
              0,
              "#0d0887"
             ],
             [
              0.1111111111111111,
              "#46039f"
             ],
             [
              0.2222222222222222,
              "#7201a8"
             ],
             [
              0.3333333333333333,
              "#9c179e"
             ],
             [
              0.4444444444444444,
              "#bd3786"
             ],
             [
              0.5555555555555556,
              "#d8576b"
             ],
             [
              0.6666666666666666,
              "#ed7953"
             ],
             [
              0.7777777777777778,
              "#fb9f3a"
             ],
             [
              0.8888888888888888,
              "#fdca26"
             ],
             [
              1,
              "#f0f921"
             ]
            ],
            "type": "histogram2dcontour"
           }
          ],
          "mesh3d": [
           {
            "colorbar": {
             "outlinewidth": 0,
             "ticks": ""
            },
            "type": "mesh3d"
           }
          ],
          "parcoords": [
           {
            "line": {
             "colorbar": {
              "outlinewidth": 0,
              "ticks": ""
             }
            },
            "type": "parcoords"
           }
          ],
          "pie": [
           {
            "automargin": true,
            "type": "pie"
           }
          ],
          "scatter": [
           {
            "fillpattern": {
             "fillmode": "overlay",
             "size": 10,
             "solidity": 0.2
            },
            "type": "scatter"
           }
          ],
          "scatter3d": [
           {
            "line": {
             "colorbar": {
              "outlinewidth": 0,
              "ticks": ""
             }
            },
            "marker": {
             "colorbar": {
              "outlinewidth": 0,
              "ticks": ""
             }
            },
            "type": "scatter3d"
           }
          ],
          "scattercarpet": [
           {
            "marker": {
             "colorbar": {
              "outlinewidth": 0,
              "ticks": ""
             }
            },
            "type": "scattercarpet"
           }
          ],
          "scattergeo": [
           {
            "marker": {
             "colorbar": {
              "outlinewidth": 0,
              "ticks": ""
             }
            },
            "type": "scattergeo"
           }
          ],
          "scattergl": [
           {
            "marker": {
             "colorbar": {
              "outlinewidth": 0,
              "ticks": ""
             }
            },
            "type": "scattergl"
           }
          ],
          "scattermapbox": [
           {
            "marker": {
             "colorbar": {
              "outlinewidth": 0,
              "ticks": ""
             }
            },
            "type": "scattermapbox"
           }
          ],
          "scatterpolar": [
           {
            "marker": {
             "colorbar": {
              "outlinewidth": 0,
              "ticks": ""
             }
            },
            "type": "scatterpolar"
           }
          ],
          "scatterpolargl": [
           {
            "marker": {
             "colorbar": {
              "outlinewidth": 0,
              "ticks": ""
             }
            },
            "type": "scatterpolargl"
           }
          ],
          "scatterternary": [
           {
            "marker": {
             "colorbar": {
              "outlinewidth": 0,
              "ticks": ""
             }
            },
            "type": "scatterternary"
           }
          ],
          "surface": [
           {
            "colorbar": {
             "outlinewidth": 0,
             "ticks": ""
            },
            "colorscale": [
             [
              0,
              "#0d0887"
             ],
             [
              0.1111111111111111,
              "#46039f"
             ],
             [
              0.2222222222222222,
              "#7201a8"
             ],
             [
              0.3333333333333333,
              "#9c179e"
             ],
             [
              0.4444444444444444,
              "#bd3786"
             ],
             [
              0.5555555555555556,
              "#d8576b"
             ],
             [
              0.6666666666666666,
              "#ed7953"
             ],
             [
              0.7777777777777778,
              "#fb9f3a"
             ],
             [
              0.8888888888888888,
              "#fdca26"
             ],
             [
              1,
              "#f0f921"
             ]
            ],
            "type": "surface"
           }
          ],
          "table": [
           {
            "cells": {
             "fill": {
              "color": "#EBF0F8"
             },
             "line": {
              "color": "white"
             }
            },
            "header": {
             "fill": {
              "color": "#C8D4E3"
             },
             "line": {
              "color": "white"
             }
            },
            "type": "table"
           }
          ]
         },
         "layout": {
          "annotationdefaults": {
           "arrowcolor": "#2a3f5f",
           "arrowhead": 0,
           "arrowwidth": 1
          },
          "autotypenumbers": "strict",
          "coloraxis": {
           "colorbar": {
            "outlinewidth": 0,
            "ticks": ""
           }
          },
          "colorscale": {
           "diverging": [
            [
             0,
             "#8e0152"
            ],
            [
             0.1,
             "#c51b7d"
            ],
            [
             0.2,
             "#de77ae"
            ],
            [
             0.3,
             "#f1b6da"
            ],
            [
             0.4,
             "#fde0ef"
            ],
            [
             0.5,
             "#f7f7f7"
            ],
            [
             0.6,
             "#e6f5d0"
            ],
            [
             0.7,
             "#b8e186"
            ],
            [
             0.8,
             "#7fbc41"
            ],
            [
             0.9,
             "#4d9221"
            ],
            [
             1,
             "#276419"
            ]
           ],
           "sequential": [
            [
             0,
             "#0d0887"
            ],
            [
             0.1111111111111111,
             "#46039f"
            ],
            [
             0.2222222222222222,
             "#7201a8"
            ],
            [
             0.3333333333333333,
             "#9c179e"
            ],
            [
             0.4444444444444444,
             "#bd3786"
            ],
            [
             0.5555555555555556,
             "#d8576b"
            ],
            [
             0.6666666666666666,
             "#ed7953"
            ],
            [
             0.7777777777777778,
             "#fb9f3a"
            ],
            [
             0.8888888888888888,
             "#fdca26"
            ],
            [
             1,
             "#f0f921"
            ]
           ],
           "sequentialminus": [
            [
             0,
             "#0d0887"
            ],
            [
             0.1111111111111111,
             "#46039f"
            ],
            [
             0.2222222222222222,
             "#7201a8"
            ],
            [
             0.3333333333333333,
             "#9c179e"
            ],
            [
             0.4444444444444444,
             "#bd3786"
            ],
            [
             0.5555555555555556,
             "#d8576b"
            ],
            [
             0.6666666666666666,
             "#ed7953"
            ],
            [
             0.7777777777777778,
             "#fb9f3a"
            ],
            [
             0.8888888888888888,
             "#fdca26"
            ],
            [
             1,
             "#f0f921"
            ]
           ]
          },
          "colorway": [
           "#636efa",
           "#EF553B",
           "#00cc96",
           "#ab63fa",
           "#FFA15A",
           "#19d3f3",
           "#FF6692",
           "#B6E880",
           "#FF97FF",
           "#FECB52"
          ],
          "font": {
           "color": "#2a3f5f"
          },
          "geo": {
           "bgcolor": "white",
           "lakecolor": "white",
           "landcolor": "#E5ECF6",
           "showlakes": true,
           "showland": true,
           "subunitcolor": "white"
          },
          "hoverlabel": {
           "align": "left"
          },
          "hovermode": "closest",
          "mapbox": {
           "style": "light"
          },
          "paper_bgcolor": "white",
          "plot_bgcolor": "#E5ECF6",
          "polar": {
           "angularaxis": {
            "gridcolor": "white",
            "linecolor": "white",
            "ticks": ""
           },
           "bgcolor": "#E5ECF6",
           "radialaxis": {
            "gridcolor": "white",
            "linecolor": "white",
            "ticks": ""
           }
          },
          "scene": {
           "xaxis": {
            "backgroundcolor": "#E5ECF6",
            "gridcolor": "white",
            "gridwidth": 2,
            "linecolor": "white",
            "showbackground": true,
            "ticks": "",
            "zerolinecolor": "white"
           },
           "yaxis": {
            "backgroundcolor": "#E5ECF6",
            "gridcolor": "white",
            "gridwidth": 2,
            "linecolor": "white",
            "showbackground": true,
            "ticks": "",
            "zerolinecolor": "white"
           },
           "zaxis": {
            "backgroundcolor": "#E5ECF6",
            "gridcolor": "white",
            "gridwidth": 2,
            "linecolor": "white",
            "showbackground": true,
            "ticks": "",
            "zerolinecolor": "white"
           }
          },
          "shapedefaults": {
           "line": {
            "color": "#2a3f5f"
           }
          },
          "ternary": {
           "aaxis": {
            "gridcolor": "white",
            "linecolor": "white",
            "ticks": ""
           },
           "baxis": {
            "gridcolor": "white",
            "linecolor": "white",
            "ticks": ""
           },
           "bgcolor": "#E5ECF6",
           "caxis": {
            "gridcolor": "white",
            "linecolor": "white",
            "ticks": ""
           }
          },
          "title": {
           "x": 0.05
          },
          "xaxis": {
           "automargin": true,
           "gridcolor": "white",
           "linecolor": "white",
           "ticks": "",
           "title": {
            "standoff": 15
           },
           "zerolinecolor": "white",
           "zerolinewidth": 2
          },
          "yaxis": {
           "automargin": true,
           "gridcolor": "white",
           "linecolor": "white",
           "ticks": "",
           "title": {
            "standoff": 15
           },
           "zerolinecolor": "white",
           "zerolinewidth": 2
          }
         }
        },
        "xaxis": {
         "anchor": "y",
         "domain": [
          0,
          1
         ],
         "title": {
          "text": "Navy Fleet Strengths value"
         }
        },
        "yaxis": {
         "anchor": "x",
         "domain": [
          0,
          1
         ]
        }
       }
      },
      "text/html": [
       "<div>                            <div id=\"d16561ff-7fca-4bbe-9102-017b14d53fa5\" class=\"plotly-graph-div\" style=\"height:525px; width:100%;\"></div>            <script type=\"text/javascript\">                require([\"plotly\"], function(Plotly) {                    window.PLOTLYENV=window.PLOTLYENV || {};                                    if (document.getElementById(\"d16561ff-7fca-4bbe-9102-017b14d53fa5\")) {                    Plotly.newPlot(                        \"d16561ff-7fca-4bbe-9102-017b14d53fa5\",                        [{\"alignmentgroup\":\"True\",\"hovertemplate\":\"<b>%{hovertext}</b><br><br>Navy Fleet Strengths value=%{x}<extra></extra>\",\"hovertext\":[\"Afghanistan\",\"Albania\",\"Algeria\",\"Angola\",\"Argentina\",\"Armenia\",\"Australia\",\"Austria\",\"Azerbaijan\",\"Bahrain\",\"Bangladesh\",\"Belarus\",\"Belgium\",\"Bhutan\",\"Bolivia\",\"Bosnia and Herzegovina\",\"Botswana\",\"Brazil\",\"Bulgaria\",\"Burkina Faso\",\"Cambodia\",\"Cameroon\",\"Canada\",\"Central African Republic\",\"Chad\",\"Chile\",\"China\",\"Colombia\",\"Croatia\",\"Cuba\",\"Czechia\",\"Democratic Republic of the Congo\",\"Denmark\",\"Dominican Republic\",\"Ecuador\",\"Egypt\",\"El Salvador\",\"Estonia\",\"Ethiopia\",\"Finland\",\"France\",\"Gabon\",\"Georgia\",\"Germany\",\"Ghana\",\"Greece\",\"Guatemala\",\"Honduras\",\"Hungary\",\"India\",\"Indonesia\",\"Iran\",\"Iraq\",\"Ireland\",\"Israel\",\"Italy\",\"Ivory Coast\",\"Japan\",\"Jordan\",\"Kazakhstan\",\"Kenya\",\"Kuwait\",\"Kyrgyzstan\",\"Laos\",\"Latvia\",\"Lebanon\",\"Liberia\",\"Libya\",\"Lithuania\",\"Madagascar\",\"Malaysia\",\"Mali\",\"Mauritania\",\"Mexico\",\"Moldova\",\"Mongolia\",\"Montenegro\",\"Morocco\",\"Mozambique\",\"Myanmar\",\"Namibia\",\"Nepal\",\"Netherlands\",\"New Zealand\",\"Nicaragua\",\"Niger\",\"Nigeria\",\"North Korea\",\"North Macedonia\",\"Norway\",\"Oman\",\"Pakistan\",\"Panama\",\"Paraguay\",\"Peru\",\"Philippines\",\"Poland\",\"Portugal\",\"Qatar\",\"Republic of the Congo\",\"Romania\",\"Russia\",\"Saudi Arabia\",\"Serbia\",\"Sierra Leone\",\"Singapore\",\"Slovakia\",\"Slovenia\",\"Somalia\",\"South Africa\",\"South Korea\",\"South Sudan\",\"Spain\",\"Sri Lanka\",\"Sudan\",\"Suriname\",\"Sweden\",\"Switzerland\",\"Syria\",\"Taiwan\",\"Tajikistan\",\"Tanzania\",\"Thailand\",\"Tunisia\",\"Turkey\",\"Turkmenistan\",\"Uganda\",\"Ukraine\",\"United Arab Emirates\",\"United Kingdom\",\"United States\",\"Uruguay\",\"Uzbekistan\",\"Venezuela\",\"Vietnam\",\"Yemen\",\"Zambia\",\"Zimbabwe\"],\"legendgroup\":\"\",\"marker\":{\"color\":\"#636efa\"},\"name\":\"\",\"notched\":false,\"offsetgroup\":\"\",\"orientation\":\"h\",\"showlegend\":false,\"x\":[0.0,38.0,201.0,57.0,49.0,0.0,48.0,0.0,31.0,39.0,112.0,0.0,17.0,0.0,173.0,0.0,0.0,112.0,29.0,0.0,27.0,64.0,64.0,0.0,0.0,69.0,777.0,453.0,28.0,12.0,0.0,20.0,74.0,33.0,19.0,316.0,4.0,6.0,0.0,246.0,180.0,10.0,9.0,80.0,20.0,116.0,26.0,59.0,0.0,285.0,282.0,398.0,60.0,8.0,65.0,249.0,10.0,155.0,37.0,15.0,19.0,38.0,0.0,36.0,18.0,57.0,0.0,5.0,12.0,8.0,61.0,0.0,5.0,189.0,0.0,0.0,18.0,121.0,8.0,187.0,8.0,0.0,63.0,11.0,30.0,0.0,75.0,984.0,0.0,62.0,16.0,100.0,20.0,40.0,60.0,103.0,87.0,41.0,86.0,6.0,48.0,603.0,55.0,19.0,10.0,40.0,0.0,2.0,3.0,30.0,234.0,0.0,77.0,40.0,18.0,3.0,63.0,0.0,56.0,117.0,0.0,19.0,292.0,50.0,149.0,4.0,8.0,25.0,75.0,88.0,490.0,20.0,0.0,49.0,65.0,30.0,0.0,0.0],\"x0\":\" \",\"xaxis\":\"x\",\"y0\":\" \",\"yaxis\":\"y\",\"type\":\"box\"}],                        {\"template\":{\"data\":{\"histogram2dcontour\":[{\"type\":\"histogram2dcontour\",\"colorbar\":{\"outlinewidth\":0,\"ticks\":\"\"},\"colorscale\":[[0.0,\"#0d0887\"],[0.1111111111111111,\"#46039f\"],[0.2222222222222222,\"#7201a8\"],[0.3333333333333333,\"#9c179e\"],[0.4444444444444444,\"#bd3786\"],[0.5555555555555556,\"#d8576b\"],[0.6666666666666666,\"#ed7953\"],[0.7777777777777778,\"#fb9f3a\"],[0.8888888888888888,\"#fdca26\"],[1.0,\"#f0f921\"]]}],\"choropleth\":[{\"type\":\"choropleth\",\"colorbar\":{\"outlinewidth\":0,\"ticks\":\"\"}}],\"histogram2d\":[{\"type\":\"histogram2d\",\"colorbar\":{\"outlinewidth\":0,\"ticks\":\"\"},\"colorscale\":[[0.0,\"#0d0887\"],[0.1111111111111111,\"#46039f\"],[0.2222222222222222,\"#7201a8\"],[0.3333333333333333,\"#9c179e\"],[0.4444444444444444,\"#bd3786\"],[0.5555555555555556,\"#d8576b\"],[0.6666666666666666,\"#ed7953\"],[0.7777777777777778,\"#fb9f3a\"],[0.8888888888888888,\"#fdca26\"],[1.0,\"#f0f921\"]]}],\"heatmap\":[{\"type\":\"heatmap\",\"colorbar\":{\"outlinewidth\":0,\"ticks\":\"\"},\"colorscale\":[[0.0,\"#0d0887\"],[0.1111111111111111,\"#46039f\"],[0.2222222222222222,\"#7201a8\"],[0.3333333333333333,\"#9c179e\"],[0.4444444444444444,\"#bd3786\"],[0.5555555555555556,\"#d8576b\"],[0.6666666666666666,\"#ed7953\"],[0.7777777777777778,\"#fb9f3a\"],[0.8888888888888888,\"#fdca26\"],[1.0,\"#f0f921\"]]}],\"heatmapgl\":[{\"type\":\"heatmapgl\",\"colorbar\":{\"outlinewidth\":0,\"ticks\":\"\"},\"colorscale\":[[0.0,\"#0d0887\"],[0.1111111111111111,\"#46039f\"],[0.2222222222222222,\"#7201a8\"],[0.3333333333333333,\"#9c179e\"],[0.4444444444444444,\"#bd3786\"],[0.5555555555555556,\"#d8576b\"],[0.6666666666666666,\"#ed7953\"],[0.7777777777777778,\"#fb9f3a\"],[0.8888888888888888,\"#fdca26\"],[1.0,\"#f0f921\"]]}],\"contourcarpet\":[{\"type\":\"contourcarpet\",\"colorbar\":{\"outlinewidth\":0,\"ticks\":\"\"}}],\"contour\":[{\"type\":\"contour\",\"colorbar\":{\"outlinewidth\":0,\"ticks\":\"\"},\"colorscale\":[[0.0,\"#0d0887\"],[0.1111111111111111,\"#46039f\"],[0.2222222222222222,\"#7201a8\"],[0.3333333333333333,\"#9c179e\"],[0.4444444444444444,\"#bd3786\"],[0.5555555555555556,\"#d8576b\"],[0.6666666666666666,\"#ed7953\"],[0.7777777777777778,\"#fb9f3a\"],[0.8888888888888888,\"#fdca26\"],[1.0,\"#f0f921\"]]}],\"surface\":[{\"type\":\"surface\",\"colorbar\":{\"outlinewidth\":0,\"ticks\":\"\"},\"colorscale\":[[0.0,\"#0d0887\"],[0.1111111111111111,\"#46039f\"],[0.2222222222222222,\"#7201a8\"],[0.3333333333333333,\"#9c179e\"],[0.4444444444444444,\"#bd3786\"],[0.5555555555555556,\"#d8576b\"],[0.6666666666666666,\"#ed7953\"],[0.7777777777777778,\"#fb9f3a\"],[0.8888888888888888,\"#fdca26\"],[1.0,\"#f0f921\"]]}],\"mesh3d\":[{\"type\":\"mesh3d\",\"colorbar\":{\"outlinewidth\":0,\"ticks\":\"\"}}],\"scatter\":[{\"fillpattern\":{\"fillmode\":\"overlay\",\"size\":10,\"solidity\":0.2},\"type\":\"scatter\"}],\"parcoords\":[{\"type\":\"parcoords\",\"line\":{\"colorbar\":{\"outlinewidth\":0,\"ticks\":\"\"}}}],\"scatterpolargl\":[{\"type\":\"scatterpolargl\",\"marker\":{\"colorbar\":{\"outlinewidth\":0,\"ticks\":\"\"}}}],\"bar\":[{\"error_x\":{\"color\":\"#2a3f5f\"},\"error_y\":{\"color\":\"#2a3f5f\"},\"marker\":{\"line\":{\"color\":\"#E5ECF6\",\"width\":0.5},\"pattern\":{\"fillmode\":\"overlay\",\"size\":10,\"solidity\":0.2}},\"type\":\"bar\"}],\"scattergeo\":[{\"type\":\"scattergeo\",\"marker\":{\"colorbar\":{\"outlinewidth\":0,\"ticks\":\"\"}}}],\"scatterpolar\":[{\"type\":\"scatterpolar\",\"marker\":{\"colorbar\":{\"outlinewidth\":0,\"ticks\":\"\"}}}],\"histogram\":[{\"marker\":{\"pattern\":{\"fillmode\":\"overlay\",\"size\":10,\"solidity\":0.2}},\"type\":\"histogram\"}],\"scattergl\":[{\"type\":\"scattergl\",\"marker\":{\"colorbar\":{\"outlinewidth\":0,\"ticks\":\"\"}}}],\"scatter3d\":[{\"type\":\"scatter3d\",\"line\":{\"colorbar\":{\"outlinewidth\":0,\"ticks\":\"\"}},\"marker\":{\"colorbar\":{\"outlinewidth\":0,\"ticks\":\"\"}}}],\"scattermapbox\":[{\"type\":\"scattermapbox\",\"marker\":{\"colorbar\":{\"outlinewidth\":0,\"ticks\":\"\"}}}],\"scatterternary\":[{\"type\":\"scatterternary\",\"marker\":{\"colorbar\":{\"outlinewidth\":0,\"ticks\":\"\"}}}],\"scattercarpet\":[{\"type\":\"scattercarpet\",\"marker\":{\"colorbar\":{\"outlinewidth\":0,\"ticks\":\"\"}}}],\"carpet\":[{\"aaxis\":{\"endlinecolor\":\"#2a3f5f\",\"gridcolor\":\"white\",\"linecolor\":\"white\",\"minorgridcolor\":\"white\",\"startlinecolor\":\"#2a3f5f\"},\"baxis\":{\"endlinecolor\":\"#2a3f5f\",\"gridcolor\":\"white\",\"linecolor\":\"white\",\"minorgridcolor\":\"white\",\"startlinecolor\":\"#2a3f5f\"},\"type\":\"carpet\"}],\"table\":[{\"cells\":{\"fill\":{\"color\":\"#EBF0F8\"},\"line\":{\"color\":\"white\"}},\"header\":{\"fill\":{\"color\":\"#C8D4E3\"},\"line\":{\"color\":\"white\"}},\"type\":\"table\"}],\"barpolar\":[{\"marker\":{\"line\":{\"color\":\"#E5ECF6\",\"width\":0.5},\"pattern\":{\"fillmode\":\"overlay\",\"size\":10,\"solidity\":0.2}},\"type\":\"barpolar\"}],\"pie\":[{\"automargin\":true,\"type\":\"pie\"}]},\"layout\":{\"autotypenumbers\":\"strict\",\"colorway\":[\"#636efa\",\"#EF553B\",\"#00cc96\",\"#ab63fa\",\"#FFA15A\",\"#19d3f3\",\"#FF6692\",\"#B6E880\",\"#FF97FF\",\"#FECB52\"],\"font\":{\"color\":\"#2a3f5f\"},\"hovermode\":\"closest\",\"hoverlabel\":{\"align\":\"left\"},\"paper_bgcolor\":\"white\",\"plot_bgcolor\":\"#E5ECF6\",\"polar\":{\"bgcolor\":\"#E5ECF6\",\"angularaxis\":{\"gridcolor\":\"white\",\"linecolor\":\"white\",\"ticks\":\"\"},\"radialaxis\":{\"gridcolor\":\"white\",\"linecolor\":\"white\",\"ticks\":\"\"}},\"ternary\":{\"bgcolor\":\"#E5ECF6\",\"aaxis\":{\"gridcolor\":\"white\",\"linecolor\":\"white\",\"ticks\":\"\"},\"baxis\":{\"gridcolor\":\"white\",\"linecolor\":\"white\",\"ticks\":\"\"},\"caxis\":{\"gridcolor\":\"white\",\"linecolor\":\"white\",\"ticks\":\"\"}},\"coloraxis\":{\"colorbar\":{\"outlinewidth\":0,\"ticks\":\"\"}},\"colorscale\":{\"sequential\":[[0.0,\"#0d0887\"],[0.1111111111111111,\"#46039f\"],[0.2222222222222222,\"#7201a8\"],[0.3333333333333333,\"#9c179e\"],[0.4444444444444444,\"#bd3786\"],[0.5555555555555556,\"#d8576b\"],[0.6666666666666666,\"#ed7953\"],[0.7777777777777778,\"#fb9f3a\"],[0.8888888888888888,\"#fdca26\"],[1.0,\"#f0f921\"]],\"sequentialminus\":[[0.0,\"#0d0887\"],[0.1111111111111111,\"#46039f\"],[0.2222222222222222,\"#7201a8\"],[0.3333333333333333,\"#9c179e\"],[0.4444444444444444,\"#bd3786\"],[0.5555555555555556,\"#d8576b\"],[0.6666666666666666,\"#ed7953\"],[0.7777777777777778,\"#fb9f3a\"],[0.8888888888888888,\"#fdca26\"],[1.0,\"#f0f921\"]],\"diverging\":[[0,\"#8e0152\"],[0.1,\"#c51b7d\"],[0.2,\"#de77ae\"],[0.3,\"#f1b6da\"],[0.4,\"#fde0ef\"],[0.5,\"#f7f7f7\"],[0.6,\"#e6f5d0\"],[0.7,\"#b8e186\"],[0.8,\"#7fbc41\"],[0.9,\"#4d9221\"],[1,\"#276419\"]]},\"xaxis\":{\"gridcolor\":\"white\",\"linecolor\":\"white\",\"ticks\":\"\",\"title\":{\"standoff\":15},\"zerolinecolor\":\"white\",\"automargin\":true,\"zerolinewidth\":2},\"yaxis\":{\"gridcolor\":\"white\",\"linecolor\":\"white\",\"ticks\":\"\",\"title\":{\"standoff\":15},\"zerolinecolor\":\"white\",\"automargin\":true,\"zerolinewidth\":2},\"scene\":{\"xaxis\":{\"backgroundcolor\":\"#E5ECF6\",\"gridcolor\":\"white\",\"linecolor\":\"white\",\"showbackground\":true,\"ticks\":\"\",\"zerolinecolor\":\"white\",\"gridwidth\":2},\"yaxis\":{\"backgroundcolor\":\"#E5ECF6\",\"gridcolor\":\"white\",\"linecolor\":\"white\",\"showbackground\":true,\"ticks\":\"\",\"zerolinecolor\":\"white\",\"gridwidth\":2},\"zaxis\":{\"backgroundcolor\":\"#E5ECF6\",\"gridcolor\":\"white\",\"linecolor\":\"white\",\"showbackground\":true,\"ticks\":\"\",\"zerolinecolor\":\"white\",\"gridwidth\":2}},\"shapedefaults\":{\"line\":{\"color\":\"#2a3f5f\"}},\"annotationdefaults\":{\"arrowcolor\":\"#2a3f5f\",\"arrowhead\":0,\"arrowwidth\":1},\"geo\":{\"bgcolor\":\"white\",\"landcolor\":\"#E5ECF6\",\"subunitcolor\":\"white\",\"showland\":true,\"showlakes\":true,\"lakecolor\":\"white\"},\"title\":{\"x\":0.05},\"mapbox\":{\"style\":\"light\"}}},\"xaxis\":{\"anchor\":\"y\",\"domain\":[0.0,1.0],\"title\":{\"text\":\"Navy Fleet Strengths value\"}},\"yaxis\":{\"anchor\":\"x\",\"domain\":[0.0,1.0]},\"legend\":{\"tracegroupgap\":0},\"margin\":{\"t\":60},\"boxmode\":\"group\"},                        {\"responsive\": true}                    ).then(function(){\n",
       "                            \n",
       "var gd = document.getElementById('d16561ff-7fca-4bbe-9102-017b14d53fa5');\n",
       "var x = new MutationObserver(function (mutations, observer) {{\n",
       "        var display = window.getComputedStyle(gd).display;\n",
       "        if (!display || display === 'none') {{\n",
       "            console.log([gd, 'removed!']);\n",
       "            Plotly.purge(gd);\n",
       "            observer.disconnect();\n",
       "        }}\n",
       "}});\n",
       "\n",
       "// Listen for the removal of the full notebook cells\n",
       "var notebookContainer = gd.closest('#notebook-container');\n",
       "if (notebookContainer) {{\n",
       "    x.observe(notebookContainer, {childList: true});\n",
       "}}\n",
       "\n",
       "// Listen for the clearing of the current output cell\n",
       "var outputEl = gd.closest('.output');\n",
       "if (outputEl) {{\n",
       "    x.observe(outputEl, {childList: true});\n",
       "}}\n",
       "\n",
       "                        })                };                });            </script>        </div>"
      ]
     },
     "metadata": {},
     "output_type": "display_data"
    }
   ],
   "source": [
    "fig = px.box(data, x = data[\"Navy Fleet Strengths value\"],\n",
    "             hover_name=data[\"Country\"])\n",
    "\n",
    "fig.show()"
   ]
  },
  {
   "cell_type": "markdown",
   "metadata": {
    "id": "J4kKwd4y8AKP"
   },
   "source": [
    "## Decriptive statistics"
   ]
  },
  {
   "cell_type": "code",
   "execution_count": 96,
   "metadata": {
    "id": "MRfNR8p_8AKP"
   },
   "outputs": [
    {
     "data": {
      "text/html": [
       "<div>\n",
       "<style scoped>\n",
       "    .dataframe tbody tr th:only-of-type {\n",
       "        vertical-align: middle;\n",
       "    }\n",
       "\n",
       "    .dataframe tbody tr th {\n",
       "        vertical-align: top;\n",
       "    }\n",
       "\n",
       "    .dataframe thead th {\n",
       "        text-align: right;\n",
       "    }\n",
       "</style>\n",
       "<table border=\"1\" class=\"dataframe\">\n",
       "  <thead>\n",
       "    <tr style=\"text-align: right;\">\n",
       "      <th></th>\n",
       "      <th>count</th>\n",
       "      <th>mean</th>\n",
       "      <th>std</th>\n",
       "      <th>min</th>\n",
       "      <th>25%</th>\n",
       "      <th>50%</th>\n",
       "      <th>75%</th>\n",
       "      <th>max</th>\n",
       "    </tr>\n",
       "  </thead>\n",
       "  <tbody>\n",
       "    <tr>\n",
       "      <th>Military Strength Power Index</th>\n",
       "      <td>138.0</td>\n",
       "      <td>1.460716e+00</td>\n",
       "      <td>1.324018e+00</td>\n",
       "      <td>6.060000e-02</td>\n",
       "      <td>5.748000e-01</td>\n",
       "      <td>1.034100e+00</td>\n",
       "      <td>2.021525e+00</td>\n",
       "      <td>1.016810e+01</td>\n",
       "    </tr>\n",
       "    <tr>\n",
       "      <th>Aircraft Strength value</th>\n",
       "      <td>138.0</td>\n",
       "      <td>3.884710e+02</td>\n",
       "      <td>1.231982e+03</td>\n",
       "      <td>0.000000e+00</td>\n",
       "      <td>3.300000e+01</td>\n",
       "      <td>1.110000e+02</td>\n",
       "      <td>2.902500e+02</td>\n",
       "      <td>1.326400e+04</td>\n",
       "    </tr>\n",
       "    <tr>\n",
       "      <th>Fighter/Interceptor Strength value</th>\n",
       "      <td>138.0</td>\n",
       "      <td>8.156522e+01</td>\n",
       "      <td>2.303248e+02</td>\n",
       "      <td>0.000000e+00</td>\n",
       "      <td>0.000000e+00</td>\n",
       "      <td>1.700000e+01</td>\n",
       "      <td>6.050000e+01</td>\n",
       "      <td>2.085000e+03</td>\n",
       "    </tr>\n",
       "    <tr>\n",
       "      <th>Attack Aircraft Strength value</th>\n",
       "      <td>138.0</td>\n",
       "      <td>2.576087e+01</td>\n",
       "      <td>9.452822e+01</td>\n",
       "      <td>0.000000e+00</td>\n",
       "      <td>0.000000e+00</td>\n",
       "      <td>0.000000e+00</td>\n",
       "      <td>1.575000e+01</td>\n",
       "      <td>7.420000e+02</td>\n",
       "    </tr>\n",
       "    <tr>\n",
       "      <th>Transport Aircraft Fleet Strength value</th>\n",
       "      <td>138.0</td>\n",
       "      <td>3.023188e+01</td>\n",
       "      <td>9.233044e+01</td>\n",
       "      <td>0.000000e+00</td>\n",
       "      <td>3.000000e+00</td>\n",
       "      <td>9.000000e+00</td>\n",
       "      <td>2.600000e+01</td>\n",
       "      <td>9.450000e+02</td>\n",
       "    </tr>\n",
       "    <tr>\n",
       "      <th>Trainer Aircraft Fleet value</th>\n",
       "      <td>138.0</td>\n",
       "      <td>8.283333e+01</td>\n",
       "      <td>2.408037e+02</td>\n",
       "      <td>0.000000e+00</td>\n",
       "      <td>4.250000e+00</td>\n",
       "      <td>2.600000e+01</td>\n",
       "      <td>7.925000e+01</td>\n",
       "      <td>2.643000e+03</td>\n",
       "    </tr>\n",
       "    <tr>\n",
       "      <th>Helicopter Fleet Strength value</th>\n",
       "      <td>138.0</td>\n",
       "      <td>1.540652e+02</td>\n",
       "      <td>5.201836e+02</td>\n",
       "      <td>0.000000e+00</td>\n",
       "      <td>1.525000e+01</td>\n",
       "      <td>4.400000e+01</td>\n",
       "      <td>1.267500e+02</td>\n",
       "      <td>5.768000e+03</td>\n",
       "    </tr>\n",
       "    <tr>\n",
       "      <th>Attack Helicopter Fleet Strength value</th>\n",
       "      <td>138.0</td>\n",
       "      <td>2.562319e+01</td>\n",
       "      <td>9.732609e+01</td>\n",
       "      <td>0.000000e+00</td>\n",
       "      <td>0.000000e+00</td>\n",
       "      <td>2.000000e+00</td>\n",
       "      <td>1.775000e+01</td>\n",
       "      <td>9.670000e+02</td>\n",
       "    </tr>\n",
       "    <tr>\n",
       "      <th>Tank Strength value</th>\n",
       "      <td>138.0</td>\n",
       "      <td>6.465652e+02</td>\n",
       "      <td>1.515464e+03</td>\n",
       "      <td>0.000000e+00</td>\n",
       "      <td>1.925000e+01</td>\n",
       "      <td>1.530000e+02</td>\n",
       "      <td>4.362500e+02</td>\n",
       "      <td>1.295000e+04</td>\n",
       "    </tr>\n",
       "    <tr>\n",
       "      <th>AFV/APC Strength value</th>\n",
       "      <td>138.0</td>\n",
       "      <td>2.485696e+03</td>\n",
       "      <td>5.410546e+03</td>\n",
       "      <td>0.000000e+00</td>\n",
       "      <td>2.502500e+02</td>\n",
       "      <td>7.345000e+02</td>\n",
       "      <td>2.000000e+03</td>\n",
       "      <td>3.925300e+04</td>\n",
       "    </tr>\n",
       "    <tr>\n",
       "      <th>Self-Propelled Artillery Strength value</th>\n",
       "      <td>138.0</td>\n",
       "      <td>2.121594e+02</td>\n",
       "      <td>6.880290e+02</td>\n",
       "      <td>0.000000e+00</td>\n",
       "      <td>0.000000e+00</td>\n",
       "      <td>2.300000e+01</td>\n",
       "      <td>9.725000e+01</td>\n",
       "      <td>6.083000e+03</td>\n",
       "    </tr>\n",
       "    <tr>\n",
       "      <th>Towed Artillery Strength value</th>\n",
       "      <td>138.0</td>\n",
       "      <td>3.939783e+02</td>\n",
       "      <td>8.057817e+02</td>\n",
       "      <td>0.000000e+00</td>\n",
       "      <td>2.425000e+01</td>\n",
       "      <td>1.080000e+02</td>\n",
       "      <td>2.965000e+02</td>\n",
       "      <td>4.465000e+03</td>\n",
       "    </tr>\n",
       "    <tr>\n",
       "      <th>Rocket Projector Strength value</th>\n",
       "      <td>138.0</td>\n",
       "      <td>1.569348e+02</td>\n",
       "      <td>4.843810e+02</td>\n",
       "      <td>0.000000e+00</td>\n",
       "      <td>0.000000e+00</td>\n",
       "      <td>2.400000e+01</td>\n",
       "      <td>9.975000e+01</td>\n",
       "      <td>3.860000e+03</td>\n",
       "    </tr>\n",
       "    <tr>\n",
       "      <th>Navy Fleet Strengths value</th>\n",
       "      <td>138.0</td>\n",
       "      <td>7.636232e+01</td>\n",
       "      <td>1.408220e+02</td>\n",
       "      <td>0.000000e+00</td>\n",
       "      <td>5.250000e+00</td>\n",
       "      <td>3.000000e+01</td>\n",
       "      <td>7.275000e+01</td>\n",
       "      <td>9.840000e+02</td>\n",
       "    </tr>\n",
       "    <tr>\n",
       "      <th>Aircraft Carrier Fleet Strength value</th>\n",
       "      <td>138.0</td>\n",
       "      <td>3.188406e-01</td>\n",
       "      <td>1.804235e+00</td>\n",
       "      <td>0.000000e+00</td>\n",
       "      <td>0.000000e+00</td>\n",
       "      <td>0.000000e+00</td>\n",
       "      <td>0.000000e+00</td>\n",
       "      <td>2.000000e+01</td>\n",
       "    </tr>\n",
       "    <tr>\n",
       "      <th>Submarine Fleet Strength value</th>\n",
       "      <td>138.0</td>\n",
       "      <td>4.000000e+00</td>\n",
       "      <td>1.263179e+01</td>\n",
       "      <td>0.000000e+00</td>\n",
       "      <td>0.000000e+00</td>\n",
       "      <td>0.000000e+00</td>\n",
       "      <td>2.000000e+00</td>\n",
       "      <td>8.300000e+01</td>\n",
       "    </tr>\n",
       "    <tr>\n",
       "      <th>Destroyer Fleet Strength value</th>\n",
       "      <td>138.0</td>\n",
       "      <td>1.710145e+00</td>\n",
       "      <td>9.154954e+00</td>\n",
       "      <td>0.000000e+00</td>\n",
       "      <td>0.000000e+00</td>\n",
       "      <td>0.000000e+00</td>\n",
       "      <td>0.000000e+00</td>\n",
       "      <td>9.100000e+01</td>\n",
       "    </tr>\n",
       "    <tr>\n",
       "      <th>Frigate Fleet Strength value</th>\n",
       "      <td>138.0</td>\n",
       "      <td>2.934783e+00</td>\n",
       "      <td>6.057157e+00</td>\n",
       "      <td>0.000000e+00</td>\n",
       "      <td>0.000000e+00</td>\n",
       "      <td>0.000000e+00</td>\n",
       "      <td>4.000000e+00</td>\n",
       "      <td>5.200000e+01</td>\n",
       "    </tr>\n",
       "    <tr>\n",
       "      <th>defense spending budget value</th>\n",
       "      <td>138.0</td>\n",
       "      <td>1.399363e+10</td>\n",
       "      <td>6.731189e+10</td>\n",
       "      <td>1.300000e+07</td>\n",
       "      <td>3.255000e+08</td>\n",
       "      <td>2.100909e+09</td>\n",
       "      <td>6.957750e+09</td>\n",
       "      <td>7.500000e+11</td>\n",
       "    </tr>\n",
       "    <tr>\n",
       "      <th>External Debt value</th>\n",
       "      <td>138.0</td>\n",
       "      <td>5.194983e+11</td>\n",
       "      <td>1.847252e+12</td>\n",
       "      <td>5.394000e+08</td>\n",
       "      <td>9.361500e+09</td>\n",
       "      <td>3.997000e+10</td>\n",
       "      <td>1.830250e+11</td>\n",
       "      <td>1.791000e+13</td>\n",
       "    </tr>\n",
       "    <tr>\n",
       "      <th>Airport Totals value</th>\n",
       "      <td>138.0</td>\n",
       "      <td>2.900435e+02</td>\n",
       "      <td>1.212967e+03</td>\n",
       "      <td>2.000000e+00</td>\n",
       "      <td>3.350000e+01</td>\n",
       "      <td>6.800000e+01</td>\n",
       "      <td>1.507500e+02</td>\n",
       "      <td>1.351300e+04</td>\n",
       "    </tr>\n",
       "    <tr>\n",
       "      <th>Oil Production value</th>\n",
       "      <td>138.0</td>\n",
       "      <td>5.855524e+05</td>\n",
       "      <td>1.667139e+06</td>\n",
       "      <td>0.000000e+00</td>\n",
       "      <td>0.000000e+00</td>\n",
       "      <td>1.313000e+04</td>\n",
       "      <td>2.228600e+05</td>\n",
       "      <td>1.058000e+07</td>\n",
       "    </tr>\n",
       "    <tr>\n",
       "      <th>Oil Consumption value</th>\n",
       "      <td>138.0</td>\n",
       "      <td>7.020187e+05</td>\n",
       "      <td>2.168810e+06</td>\n",
       "      <td>2.000000e+03</td>\n",
       "      <td>3.250000e+04</td>\n",
       "      <td>1.335000e+05</td>\n",
       "      <td>3.487500e+05</td>\n",
       "      <td>2.000000e+07</td>\n",
       "    </tr>\n",
       "    <tr>\n",
       "      <th>Proven Oil Reserves value</th>\n",
       "      <td>138.0</td>\n",
       "      <td>1.194412e+10</td>\n",
       "      <td>4.275090e+10</td>\n",
       "      <td>0.000000e+00</td>\n",
       "      <td>0.000000e+00</td>\n",
       "      <td>8.028500e+07</td>\n",
       "      <td>2.001500e+09</td>\n",
       "      <td>3.009000e+11</td>\n",
       "    </tr>\n",
       "    <tr>\n",
       "      <th>Available Manpower value</th>\n",
       "      <td>138.0</td>\n",
       "      <td>2.544297e+07</td>\n",
       "      <td>8.450698e+07</td>\n",
       "      <td>1.327400e+05</td>\n",
       "      <td>2.618384e+06</td>\n",
       "      <td>5.986089e+06</td>\n",
       "      <td>1.756708e+07</td>\n",
       "      <td>7.528554e+08</td>\n",
       "    </tr>\n",
       "    <tr>\n",
       "      <th>Total Population value</th>\n",
       "      <td>138.0</td>\n",
       "      <td>5.318058e+07</td>\n",
       "      <td>1.651090e+08</td>\n",
       "      <td>5.979270e+05</td>\n",
       "      <td>5.819450e+06</td>\n",
       "      <td>1.613910e+07</td>\n",
       "      <td>4.068887e+07</td>\n",
       "      <td>1.384689e+09</td>\n",
       "    </tr>\n",
       "  </tbody>\n",
       "</table>\n",
       "</div>"
      ],
      "text/plain": [
       "                                         count          mean           std  \\\n",
       "Military Strength Power Index            138.0  1.460716e+00  1.324018e+00   \n",
       "Aircraft Strength value                  138.0  3.884710e+02  1.231982e+03   \n",
       "Fighter/Interceptor Strength value       138.0  8.156522e+01  2.303248e+02   \n",
       "Attack Aircraft Strength value           138.0  2.576087e+01  9.452822e+01   \n",
       "Transport Aircraft Fleet Strength value  138.0  3.023188e+01  9.233044e+01   \n",
       "Trainer Aircraft Fleet value             138.0  8.283333e+01  2.408037e+02   \n",
       "Helicopter Fleet Strength value          138.0  1.540652e+02  5.201836e+02   \n",
       "Attack Helicopter Fleet Strength value   138.0  2.562319e+01  9.732609e+01   \n",
       "Tank Strength value                      138.0  6.465652e+02  1.515464e+03   \n",
       "AFV/APC Strength value                   138.0  2.485696e+03  5.410546e+03   \n",
       "Self-Propelled Artillery Strength value  138.0  2.121594e+02  6.880290e+02   \n",
       "Towed Artillery Strength value           138.0  3.939783e+02  8.057817e+02   \n",
       "Rocket Projector Strength value          138.0  1.569348e+02  4.843810e+02   \n",
       "Navy Fleet Strengths value               138.0  7.636232e+01  1.408220e+02   \n",
       "Aircraft Carrier Fleet Strength value    138.0  3.188406e-01  1.804235e+00   \n",
       "Submarine Fleet Strength value           138.0  4.000000e+00  1.263179e+01   \n",
       "Destroyer Fleet Strength value           138.0  1.710145e+00  9.154954e+00   \n",
       "Frigate Fleet Strength value             138.0  2.934783e+00  6.057157e+00   \n",
       "defense spending budget value            138.0  1.399363e+10  6.731189e+10   \n",
       "External Debt value                      138.0  5.194983e+11  1.847252e+12   \n",
       "Airport Totals value                     138.0  2.900435e+02  1.212967e+03   \n",
       "Oil Production value                     138.0  5.855524e+05  1.667139e+06   \n",
       "Oil Consumption value                    138.0  7.020187e+05  2.168810e+06   \n",
       "Proven Oil Reserves value                138.0  1.194412e+10  4.275090e+10   \n",
       "Available Manpower value                 138.0  2.544297e+07  8.450698e+07   \n",
       "Total Population value                   138.0  5.318058e+07  1.651090e+08   \n",
       "\n",
       "                                                  min           25%  \\\n",
       "Military Strength Power Index            6.060000e-02  5.748000e-01   \n",
       "Aircraft Strength value                  0.000000e+00  3.300000e+01   \n",
       "Fighter/Interceptor Strength value       0.000000e+00  0.000000e+00   \n",
       "Attack Aircraft Strength value           0.000000e+00  0.000000e+00   \n",
       "Transport Aircraft Fleet Strength value  0.000000e+00  3.000000e+00   \n",
       "Trainer Aircraft Fleet value             0.000000e+00  4.250000e+00   \n",
       "Helicopter Fleet Strength value          0.000000e+00  1.525000e+01   \n",
       "Attack Helicopter Fleet Strength value   0.000000e+00  0.000000e+00   \n",
       "Tank Strength value                      0.000000e+00  1.925000e+01   \n",
       "AFV/APC Strength value                   0.000000e+00  2.502500e+02   \n",
       "Self-Propelled Artillery Strength value  0.000000e+00  0.000000e+00   \n",
       "Towed Artillery Strength value           0.000000e+00  2.425000e+01   \n",
       "Rocket Projector Strength value          0.000000e+00  0.000000e+00   \n",
       "Navy Fleet Strengths value               0.000000e+00  5.250000e+00   \n",
       "Aircraft Carrier Fleet Strength value    0.000000e+00  0.000000e+00   \n",
       "Submarine Fleet Strength value           0.000000e+00  0.000000e+00   \n",
       "Destroyer Fleet Strength value           0.000000e+00  0.000000e+00   \n",
       "Frigate Fleet Strength value             0.000000e+00  0.000000e+00   \n",
       "defense spending budget value            1.300000e+07  3.255000e+08   \n",
       "External Debt value                      5.394000e+08  9.361500e+09   \n",
       "Airport Totals value                     2.000000e+00  3.350000e+01   \n",
       "Oil Production value                     0.000000e+00  0.000000e+00   \n",
       "Oil Consumption value                    2.000000e+03  3.250000e+04   \n",
       "Proven Oil Reserves value                0.000000e+00  0.000000e+00   \n",
       "Available Manpower value                 1.327400e+05  2.618384e+06   \n",
       "Total Population value                   5.979270e+05  5.819450e+06   \n",
       "\n",
       "                                                  50%           75%  \\\n",
       "Military Strength Power Index            1.034100e+00  2.021525e+00   \n",
       "Aircraft Strength value                  1.110000e+02  2.902500e+02   \n",
       "Fighter/Interceptor Strength value       1.700000e+01  6.050000e+01   \n",
       "Attack Aircraft Strength value           0.000000e+00  1.575000e+01   \n",
       "Transport Aircraft Fleet Strength value  9.000000e+00  2.600000e+01   \n",
       "Trainer Aircraft Fleet value             2.600000e+01  7.925000e+01   \n",
       "Helicopter Fleet Strength value          4.400000e+01  1.267500e+02   \n",
       "Attack Helicopter Fleet Strength value   2.000000e+00  1.775000e+01   \n",
       "Tank Strength value                      1.530000e+02  4.362500e+02   \n",
       "AFV/APC Strength value                   7.345000e+02  2.000000e+03   \n",
       "Self-Propelled Artillery Strength value  2.300000e+01  9.725000e+01   \n",
       "Towed Artillery Strength value           1.080000e+02  2.965000e+02   \n",
       "Rocket Projector Strength value          2.400000e+01  9.975000e+01   \n",
       "Navy Fleet Strengths value               3.000000e+01  7.275000e+01   \n",
       "Aircraft Carrier Fleet Strength value    0.000000e+00  0.000000e+00   \n",
       "Submarine Fleet Strength value           0.000000e+00  2.000000e+00   \n",
       "Destroyer Fleet Strength value           0.000000e+00  0.000000e+00   \n",
       "Frigate Fleet Strength value             0.000000e+00  4.000000e+00   \n",
       "defense spending budget value            2.100909e+09  6.957750e+09   \n",
       "External Debt value                      3.997000e+10  1.830250e+11   \n",
       "Airport Totals value                     6.800000e+01  1.507500e+02   \n",
       "Oil Production value                     1.313000e+04  2.228600e+05   \n",
       "Oil Consumption value                    1.335000e+05  3.487500e+05   \n",
       "Proven Oil Reserves value                8.028500e+07  2.001500e+09   \n",
       "Available Manpower value                 5.986089e+06  1.756708e+07   \n",
       "Total Population value                   1.613910e+07  4.068887e+07   \n",
       "\n",
       "                                                  max  \n",
       "Military Strength Power Index            1.016810e+01  \n",
       "Aircraft Strength value                  1.326400e+04  \n",
       "Fighter/Interceptor Strength value       2.085000e+03  \n",
       "Attack Aircraft Strength value           7.420000e+02  \n",
       "Transport Aircraft Fleet Strength value  9.450000e+02  \n",
       "Trainer Aircraft Fleet value             2.643000e+03  \n",
       "Helicopter Fleet Strength value          5.768000e+03  \n",
       "Attack Helicopter Fleet Strength value   9.670000e+02  \n",
       "Tank Strength value                      1.295000e+04  \n",
       "AFV/APC Strength value                   3.925300e+04  \n",
       "Self-Propelled Artillery Strength value  6.083000e+03  \n",
       "Towed Artillery Strength value           4.465000e+03  \n",
       "Rocket Projector Strength value          3.860000e+03  \n",
       "Navy Fleet Strengths value               9.840000e+02  \n",
       "Aircraft Carrier Fleet Strength value    2.000000e+01  \n",
       "Submarine Fleet Strength value           8.300000e+01  \n",
       "Destroyer Fleet Strength value           9.100000e+01  \n",
       "Frigate Fleet Strength value             5.200000e+01  \n",
       "defense spending budget value            7.500000e+11  \n",
       "External Debt value                      1.791000e+13  \n",
       "Airport Totals value                     1.351300e+04  \n",
       "Oil Production value                     1.058000e+07  \n",
       "Oil Consumption value                    2.000000e+07  \n",
       "Proven Oil Reserves value                3.009000e+11  \n",
       "Available Manpower value                 7.528554e+08  \n",
       "Total Population value                   1.384689e+09  "
      ]
     },
     "execution_count": 96,
     "metadata": {},
     "output_type": "execute_result"
    }
   ],
   "source": [
    "data.describe().T\n",
    "#It is easy to see that many columns have outliers.  But I think they are useful values."
   ]
  },
  {
   "cell_type": "code",
   "execution_count": 97,
   "metadata": {},
   "outputs": [
    {
     "data": {
      "application/vnd.plotly.v1+json": {
       "config": {
        "plotlyServerURL": "https://plot.ly"
       },
       "data": [
        {
         "coloraxis": "coloraxis",
         "hovertemplate": "x: %{x}<br>y: %{y}<br>color: %{z}<extra></extra>",
         "name": "0",
         "type": "heatmap",
         "x": [
          "Military Strength Power Index",
          "Aircraft Strength value",
          "Fighter/Interceptor Strength value",
          "Attack Aircraft Strength value",
          "Transport Aircraft Fleet Strength value",
          "Trainer Aircraft Fleet value",
          "Helicopter Fleet Strength value",
          "Attack Helicopter Fleet Strength value",
          "Tank Strength value",
          "AFV/APC Strength value",
          "Self-Propelled Artillery Strength value",
          "Towed Artillery Strength value",
          "Rocket Projector Strength value",
          "Navy Fleet Strengths value",
          "Aircraft Carrier Fleet Strength value",
          "Submarine Fleet Strength value",
          "Destroyer Fleet Strength value",
          "Frigate Fleet Strength value",
          "defense spending budget value",
          "External Debt value",
          "Airport Totals value",
          "Oil Production value",
          "Oil Consumption value",
          "Proven Oil Reserves value",
          "Available Manpower value",
          "Total Population value"
         ],
         "xaxis": "x",
         "y": [
          "Military Strength Power Index",
          "Aircraft Strength value",
          "Fighter/Interceptor Strength value",
          "Attack Aircraft Strength value",
          "Transport Aircraft Fleet Strength value",
          "Trainer Aircraft Fleet value",
          "Helicopter Fleet Strength value",
          "Attack Helicopter Fleet Strength value",
          "Tank Strength value",
          "AFV/APC Strength value",
          "Self-Propelled Artillery Strength value",
          "Towed Artillery Strength value",
          "Rocket Projector Strength value",
          "Navy Fleet Strengths value",
          "Aircraft Carrier Fleet Strength value",
          "Submarine Fleet Strength value",
          "Destroyer Fleet Strength value",
          "Frigate Fleet Strength value",
          "defense spending budget value",
          "External Debt value",
          "Airport Totals value",
          "Oil Production value",
          "Oil Consumption value",
          "Proven Oil Reserves value",
          "Available Manpower value",
          "Total Population value"
         ],
         "yaxis": "y",
         "z": [
          [
           1,
           -0.2673288398355398,
           -0.31088799979328546,
           -0.24194829981615773,
           -0.2671041046473688,
           -0.2847556052909067,
           -0.24454509501966387,
           -0.23172266071124403,
           -0.32430011713061996,
           -0.36179567639464727,
           -0.2689353773866597,
           -0.3354051929480023,
           -0.2477997086225073,
           -0.38178892143181037,
           -0.1659041055459204,
           -0.27430968253158683,
           -0.1757628518711802,
           -0.3593532119517939,
           -0.1924241040424179,
           -0.23573370072223152,
           -0.17336179727261491,
           -0.26396054958668064,
           -0.2824137878234357,
           -0.18343795047241493,
           -0.23673658816081097,
           -0.2426782215030358
          ],
          [
           -0.2673288398355398,
           1,
           0.9444917894513672,
           0.8602625805658719,
           0.9740287215580506,
           0.9742879875857167,
           0.9928019438068666,
           0.9642659004148099,
           0.6255980644823647,
           0.8448977065418061,
           0.5136865945095809,
           0.5667402258821576,
           0.5200714216912378,
           0.5329878685784566,
           0.9174895885780202,
           0.6682963789561237,
           0.910944663624599,
           0.24578438217178183,
           0.9556213038085776,
           0.8006846502317642,
           0.8842600701989338,
           0.6259142841131212,
           0.9034307571167117,
           0.12504719961943656,
           0.3858426984495887,
           0.40340960286101873
          ],
          [
           -0.31088799979328546,
           0.9444917894513672,
           1,
           0.8788444466027345,
           0.9087678867500119,
           0.8862988045655757,
           0.9058579121340988,
           0.9220562331438217,
           0.719875110167844,
           0.9326912337114359,
           0.6598388344437356,
           0.6962505629676169,
           0.6693762296197753,
           0.6693008241548992,
           0.7982919737384041,
           0.7956327929609918,
           0.8685774669464505,
           0.45602915320953935,
           0.8922055800502422,
           0.6930464216858604,
           0.7334738307783223,
           0.6227832428422292,
           0.9233842175524611,
           0.1415091873628383,
           0.566066905858464,
           0.5709152403166269
          ],
          [
           -0.24194829981615773,
           0.8602625805658719,
           0.8788444466027345,
           1,
           0.8926662819489782,
           0.7621309071575499,
           0.820890346885404,
           0.9161486404089826,
           0.8123182525464621,
           0.8718210639531383,
           0.776319940318423,
           0.6840052870451938,
           0.7722696339033219,
           0.6344992640415751,
           0.656503023236693,
           0.7600271078158024,
           0.7336659018415619,
           0.33095428793561743,
           0.7414975515448364,
           0.5471477727250184,
           0.6630882133288708,
           0.7318135304345864,
           0.7738825339071883,
           0.16284295003982655,
           0.459166394803542,
           0.46565062911230004
          ],
          [
           -0.2671041046473688,
           0.9740287215580506,
           0.9087678867500119,
           0.8926662819489782,
           1,
           0.9279906426988446,
           0.9642442007057581,
           0.9488597946030025,
           0.6476050081607276,
           0.8180612821072214,
           0.5301609629928373,
           0.5767649566748267,
           0.5422140475055278,
           0.5251888491540676,
           0.8707202795786209,
           0.65384977092467,
           0.86843050509942,
           0.2493922503326533,
           0.912734506277648,
           0.7591823586378216,
           0.874718630384803,
           0.6686400541849219,
           0.8782179117744242,
           0.15400891840966402,
           0.4296117136436584,
           0.44988531964446293
          ],
          [
           -0.2847556052909067,
           0.9742879875857167,
           0.8862988045655757,
           0.7621309071575499,
           0.9279906426988446,
           1,
           0.9737441987002847,
           0.909770393453365,
           0.5471125442416953,
           0.7739633780278986,
           0.3922210828241596,
           0.4951958495857484,
           0.4002164472477184,
           0.4668857350089312,
           0.9315114676699157,
           0.5803840827825227,
           0.8825996420709294,
           0.18392227191130908,
           0.9347952108531855,
           0.8131804387100784,
           0.8992614529573112,
           0.5697076047282923,
           0.8555773421755045,
           0.12385869383625694,
           0.2978044473962538,
           0.32136945680997175
          ],
          [
           -0.24454509501966387,
           0.9928019438068666,
           0.9058579121340988,
           0.820890346885404,
           0.9642442007057581,
           0.9737441987002847,
           1,
           0.9530125855377453,
           0.5683677447390532,
           0.7984369664678772,
           0.4534961757148028,
           0.5091785620003186,
           0.448298306057926,
           0.47320817851494557,
           0.9364675750959013,
           0.6050057685504694,
           0.904609388815978,
           0.1731104488781836,
           0.9580264340598261,
           0.825917085635569,
           0.904458656260693,
           0.595626765334735,
           0.8777315007067523,
           0.10610337693447294,
           0.31324468449171433,
           0.333445865505265
          ],
          [
           -0.23172266071124403,
           0.9642659004148099,
           0.9220562331438217,
           0.9161486404089826,
           0.9488597946030025,
           0.909770393453365,
           0.9530125855377453,
           1,
           0.6932155098742177,
           0.8603582370791945,
           0.640999395315135,
           0.5706748181081004,
           0.6145424588079289,
           0.5127293604080734,
           0.8526629695107996,
           0.6803673239791304,
           0.878550443097528,
           0.2444600438462336,
           0.8944502476675296,
           0.7385043427128855,
           0.8128225695058824,
           0.6655737281259401,
           0.8461289024461536,
           0.12416813675767138,
           0.3196270156009159,
           0.32967940019198616
          ],
          [
           -0.32430011713061996,
           0.6255980644823647,
           0.719875110167844,
           0.8123182525464621,
           0.6476050081607276,
           0.5471125442416953,
           0.5683677447390532,
           0.6932155098742177,
           1,
           0.7787589037109335,
           0.8305092503609474,
           0.8051028900859473,
           0.8641473373000836,
           0.6916837230268051,
           0.3701385176950571,
           0.7431705983779497,
           0.44803523616440466,
           0.33751633208087434,
           0.42012132482903036,
           0.25837458144815084,
           0.3469839297459078,
           0.5673110933264587,
           0.481246677146246,
           0.14626536889752678,
           0.3631927239624849,
           0.3711962686695468
          ],
          [
           -0.36179567639464727,
           0.8448977065418061,
           0.9326912337114359,
           0.8718210639531383,
           0.8180612821072214,
           0.7739633780278986,
           0.7984369664678772,
           0.8603582370791945,
           0.7787589037109335,
           1,
           0.7900610051429652,
           0.7656627266221077,
           0.7512659976797265,
           0.6960102840785574,
           0.6514831908735527,
           0.7726143373162451,
           0.7311487090513923,
           0.497680576646086,
           0.7716622501094886,
           0.5661816115812034,
           0.591883184564248,
           0.6832806412662475,
           0.8448241386214596,
           0.2213021629147719,
           0.553925457678472,
           0.549385530145697
          ],
          [
           -0.2689353773866597,
           0.5136865945095809,
           0.6598388344437356,
           0.776319940318423,
           0.5301609629928373,
           0.3922210828241596,
           0.4534961757148028,
           0.640999395315135,
           0.8305092503609474,
           0.7900610051429652,
           1,
           0.7805450951049148,
           0.8579017165259468,
           0.6203197101161192,
           0.22342935772025266,
           0.6580536682557321,
           0.3867455161038904,
           0.4560129898600299,
           0.3503721870027497,
           0.15708284977592976,
           0.2052755200403262,
           0.5680239030852766,
           0.4928994150231156,
           0.16006260105839465,
           0.4176861779559268,
           0.40060503994294466
          ],
          [
           -0.3354051929480023,
           0.5667402258821576,
           0.6962505629676169,
           0.6840052870451938,
           0.5767649566748267,
           0.4951958495857484,
           0.5091785620003186,
           0.5706748181081004,
           0.8051028900859473,
           0.7656627266221077,
           0.7805450951049148,
           1,
           0.7369591663062549,
           0.6228797304324354,
           0.3068080562935633,
           0.5836697926668668,
           0.4202875714697265,
           0.4424488253800067,
           0.42499475116448104,
           0.19750158368482673,
           0.28354629064028614,
           0.5157086269012962,
           0.577521883822571,
           0.18752480812642341,
           0.6046949756691508,
           0.6093337292550841
          ],
          [
           -0.2477997086225073,
           0.5200714216912378,
           0.6693762296197753,
           0.7722696339033219,
           0.5422140475055278,
           0.4002164472477184,
           0.448298306057926,
           0.6145424588079289,
           0.8641473373000836,
           0.7512659976797265,
           0.8579017165259468,
           0.7369591663062549,
           1,
           0.7783046825217317,
           0.2724633938820718,
           0.8470489982613836,
           0.4151575471923062,
           0.4612900237025313,
           0.3774133507650682,
           0.1766423061854586,
           0.2532252877205924,
           0.5786184473015756,
           0.4962172589547853,
           0.19624172157372932,
           0.4272587661658693,
           0.41082215672262845
          ],
          [
           -0.38178892143181037,
           0.5329878685784566,
           0.6693008241548992,
           0.6344992640415751,
           0.5251888491540676,
           0.4668857350089312,
           0.47320817851494557,
           0.5127293604080734,
           0.6916837230268051,
           0.6960102840785574,
           0.6203197101161192,
           0.6228797304324354,
           0.7783046825217317,
           1,
           0.3445449375613933,
           0.8714315009352709,
           0.4388018827859953,
           0.5742443606213068,
           0.42260454471814785,
           0.2778426396325629,
           0.3179461368841116,
           0.4332822149697132,
           0.550894697445537,
           0.1237409834340636,
           0.5175468078640101,
           0.5086632253181033
          ],
          [
           -0.1659041055459204,
           0.9174895885780202,
           0.7982919737384041,
           0.656503023236693,
           0.8707202795786209,
           0.9315114676699157,
           0.9364675750959013,
           0.8526629695107996,
           0.3701385176950571,
           0.6514831908735527,
           0.22342935772025266,
           0.3068080562935633,
           0.2724633938820718,
           0.3445449375613933,
           1,
           0.511477484751182,
           0.9256849186177928,
           0.11746494686402091,
           0.9371490833286305,
           0.8780755046882586,
           0.8850503223758022,
           0.4478820064920797,
           0.8187128890418789,
           0.034816824099096914,
           0.22042508468262464,
           0.2417562541750316
          ],
          [
           -0.27430968253158683,
           0.6682963789561237,
           0.7956327929609918,
           0.7600271078158024,
           0.65384977092467,
           0.5803840827825227,
           0.6050057685504694,
           0.6803673239791304,
           0.7431705983779497,
           0.7726143373162451,
           0.6580536682557321,
           0.5836697926668668,
           0.8470489982613836,
           0.8714315009352709,
           0.511477484751182,
           1,
           0.6418546959935311,
           0.5787884144280662,
           0.584425732518285,
           0.4299013924492772,
           0.4523938956127393,
           0.5186171054919879,
           0.6718333010554463,
           0.13378833692537798,
           0.5127382776751334,
           0.5029695512786907
          ],
          [
           -0.1757628518711802,
           0.910944663624599,
           0.8685774669464505,
           0.7336659018415619,
           0.86843050509942,
           0.8825996420709294,
           0.904609388815978,
           0.878550443097528,
           0.44803523616440466,
           0.7311487090513923,
           0.3867455161038904,
           0.4202875714697265,
           0.4151575471923062,
           0.4388018827859953,
           0.9256849186177928,
           0.6418546959935311,
           1,
           0.26804993205338024,
           0.9218776156375118,
           0.7900812667565056,
           0.8048785597621908,
           0.49640471039663064,
           0.8984398781788041,
           0.052790604472971445,
           0.4209100574235677,
           0.4315753613908046
          ],
          [
           -0.3593532119517939,
           0.24578438217178183,
           0.45602915320953935,
           0.33095428793561743,
           0.2493922503326533,
           0.18392227191130908,
           0.1731104488781836,
           0.2444600438462336,
           0.33751633208087434,
           0.497680576646086,
           0.4560129898600299,
           0.4424488253800067,
           0.4612900237025313,
           0.5742443606213068,
           0.11746494686402091,
           0.5787884144280662,
           0.26804993205338024,
           1,
           0.22668792106869426,
           0.16904546635333137,
           0.03844430104408809,
           0.20502848514196984,
           0.4553341792902179,
           0.08637154595981245,
           0.6683028622538001,
           0.6395499247147632
          ],
          [
           -0.1924241040424179,
           0.9556213038085776,
           0.8922055800502422,
           0.7414975515448364,
           0.912734506277648,
           0.9347952108531855,
           0.9580264340598261,
           0.8944502476675296,
           0.42012132482903036,
           0.7716622501094886,
           0.3503721870027497,
           0.42499475116448104,
           0.3774133507650682,
           0.42260454471814785,
           0.9371490833286305,
           0.584425732518285,
           0.9218776156375118,
           0.22668792106869426,
           1,
           0.840759046847572,
           0.903881670163088,
           0.5574462037593895,
           0.9309750025404893,
           0.11294355136789778,
           0.38817588332552255,
           0.39875874841540937
          ],
          [
           -0.23573370072223152,
           0.8006846502317642,
           0.6930464216858604,
           0.5471477727250184,
           0.7591823586378216,
           0.8131804387100784,
           0.825917085635569,
           0.7385043427128855,
           0.25837458144815084,
           0.5661816115812034,
           0.15708284977592976,
           0.19750158368482673,
           0.1766423061854586,
           0.2778426396325629,
           0.8780755046882586,
           0.4299013924492772,
           0.7900812667565056,
           0.16904546635333137,
           0.840759046847572,
           1,
           0.786661984992433,
           0.3820971428519986,
           0.741734073608729,
           0.031465587801056204,
           0.16689139963755145,
           0.18528418181542552
          ],
          [
           -0.17336179727261491,
           0.8842600701989338,
           0.7334738307783223,
           0.6630882133288708,
           0.874718630384803,
           0.8992614529573112,
           0.904458656260693,
           0.8128225695058824,
           0.3469839297459078,
           0.591883184564248,
           0.2052755200403262,
           0.28354629064028614,
           0.2532252877205924,
           0.3179461368841116,
           0.8850503223758022,
           0.4523938956127393,
           0.8048785597621908,
           0.03844430104408809,
           0.903881670163088,
           0.786661984992433,
           1,
           0.5316572019944105,
           0.7909212284722392,
           0.10357709442141559,
           0.1820323703825946,
           0.20234167161526523
          ],
          [
           -0.26396054958668064,
           0.6259142841131212,
           0.6227832428422292,
           0.7318135304345864,
           0.6686400541849219,
           0.5697076047282923,
           0.595626765334735,
           0.6655737281259401,
           0.5673110933264587,
           0.6832806412662475,
           0.5680239030852766,
           0.5157086269012962,
           0.5786184473015756,
           0.4332822149697132,
           0.4478820064920797,
           0.5186171054919879,
           0.49640471039663064,
           0.20502848514196984,
           0.5574462037593895,
           0.3820971428519986,
           0.5316572019944105,
           1,
           0.6209793591891579,
           0.672250364135872,
           0.25110515838518466,
           0.2544541106431719
          ],
          [
           -0.2824137878234357,
           0.9034307571167117,
           0.9233842175524611,
           0.7738825339071883,
           0.8782179117744242,
           0.8555773421755045,
           0.8777315007067523,
           0.8461289024461536,
           0.481246677146246,
           0.8448241386214596,
           0.4928994150231156,
           0.577521883822571,
           0.4962172589547853,
           0.550894697445537,
           0.8187128890418789,
           0.6718333010554463,
           0.8984398781788041,
           0.4553341792902179,
           0.9309750025404893,
           0.741734073608729,
           0.7909212284722392,
           0.6209793591891579,
           1,
           0.19839456720118662,
           0.62864339022439,
           0.6301187637934881
          ],
          [
           -0.18343795047241493,
           0.12504719961943656,
           0.1415091873628383,
           0.16284295003982655,
           0.15400891840966402,
           0.12385869383625694,
           0.10610337693447294,
           0.12416813675767138,
           0.14626536889752678,
           0.2213021629147719,
           0.16006260105839465,
           0.18752480812642341,
           0.19624172157372932,
           0.1237409834340636,
           0.034816824099096914,
           0.13378833692537798,
           0.052790604472971445,
           0.08637154595981245,
           0.11294355136789778,
           0.031465587801056204,
           0.10357709442141559,
           0.672250364135872,
           0.19839456720118662,
           1,
           0.041423277266618735,
           0.03937847284776368
          ],
          [
           -0.23673658816081097,
           0.3858426984495887,
           0.566066905858464,
           0.459166394803542,
           0.4296117136436584,
           0.2978044473962538,
           0.31324468449171433,
           0.3196270156009159,
           0.3631927239624849,
           0.553925457678472,
           0.4176861779559268,
           0.6046949756691508,
           0.4272587661658693,
           0.5175468078640101,
           0.22042508468262464,
           0.5127382776751334,
           0.4209100574235677,
           0.6683028622538001,
           0.38817588332552255,
           0.16689139963755145,
           0.1820323703825946,
           0.25110515838518466,
           0.62864339022439,
           0.041423277266618735,
           1,
           0.9969443786441808
          ],
          [
           -0.2426782215030358,
           0.40340960286101873,
           0.5709152403166269,
           0.46565062911230004,
           0.44988531964446293,
           0.32136945680997175,
           0.333445865505265,
           0.32967940019198616,
           0.3711962686695468,
           0.549385530145697,
           0.40060503994294466,
           0.6093337292550841,
           0.41082215672262845,
           0.5086632253181033,
           0.2417562541750316,
           0.5029695512786907,
           0.4315753613908046,
           0.6395499247147632,
           0.39875874841540937,
           0.18528418181542552,
           0.20234167161526523,
           0.2544541106431719,
           0.6301187637934881,
           0.03937847284776368,
           0.9969443786441808,
           1
          ]
         ]
        }
       ],
       "layout": {
        "coloraxis": {
         "colorscale": [
          [
           0,
           "#0d0887"
          ],
          [
           0.1111111111111111,
           "#46039f"
          ],
          [
           0.2222222222222222,
           "#7201a8"
          ],
          [
           0.3333333333333333,
           "#9c179e"
          ],
          [
           0.4444444444444444,
           "#bd3786"
          ],
          [
           0.5555555555555556,
           "#d8576b"
          ],
          [
           0.6666666666666666,
           "#ed7953"
          ],
          [
           0.7777777777777778,
           "#fb9f3a"
          ],
          [
           0.8888888888888888,
           "#fdca26"
          ],
          [
           1,
           "#f0f921"
          ]
         ]
        },
        "margin": {
         "t": 60
        },
        "template": {
         "data": {
          "bar": [
           {
            "error_x": {
             "color": "#2a3f5f"
            },
            "error_y": {
             "color": "#2a3f5f"
            },
            "marker": {
             "line": {
              "color": "#E5ECF6",
              "width": 0.5
             },
             "pattern": {
              "fillmode": "overlay",
              "size": 10,
              "solidity": 0.2
             }
            },
            "type": "bar"
           }
          ],
          "barpolar": [
           {
            "marker": {
             "line": {
              "color": "#E5ECF6",
              "width": 0.5
             },
             "pattern": {
              "fillmode": "overlay",
              "size": 10,
              "solidity": 0.2
             }
            },
            "type": "barpolar"
           }
          ],
          "carpet": [
           {
            "aaxis": {
             "endlinecolor": "#2a3f5f",
             "gridcolor": "white",
             "linecolor": "white",
             "minorgridcolor": "white",
             "startlinecolor": "#2a3f5f"
            },
            "baxis": {
             "endlinecolor": "#2a3f5f",
             "gridcolor": "white",
             "linecolor": "white",
             "minorgridcolor": "white",
             "startlinecolor": "#2a3f5f"
            },
            "type": "carpet"
           }
          ],
          "choropleth": [
           {
            "colorbar": {
             "outlinewidth": 0,
             "ticks": ""
            },
            "type": "choropleth"
           }
          ],
          "contour": [
           {
            "colorbar": {
             "outlinewidth": 0,
             "ticks": ""
            },
            "colorscale": [
             [
              0,
              "#0d0887"
             ],
             [
              0.1111111111111111,
              "#46039f"
             ],
             [
              0.2222222222222222,
              "#7201a8"
             ],
             [
              0.3333333333333333,
              "#9c179e"
             ],
             [
              0.4444444444444444,
              "#bd3786"
             ],
             [
              0.5555555555555556,
              "#d8576b"
             ],
             [
              0.6666666666666666,
              "#ed7953"
             ],
             [
              0.7777777777777778,
              "#fb9f3a"
             ],
             [
              0.8888888888888888,
              "#fdca26"
             ],
             [
              1,
              "#f0f921"
             ]
            ],
            "type": "contour"
           }
          ],
          "contourcarpet": [
           {
            "colorbar": {
             "outlinewidth": 0,
             "ticks": ""
            },
            "type": "contourcarpet"
           }
          ],
          "heatmap": [
           {
            "colorbar": {
             "outlinewidth": 0,
             "ticks": ""
            },
            "colorscale": [
             [
              0,
              "#0d0887"
             ],
             [
              0.1111111111111111,
              "#46039f"
             ],
             [
              0.2222222222222222,
              "#7201a8"
             ],
             [
              0.3333333333333333,
              "#9c179e"
             ],
             [
              0.4444444444444444,
              "#bd3786"
             ],
             [
              0.5555555555555556,
              "#d8576b"
             ],
             [
              0.6666666666666666,
              "#ed7953"
             ],
             [
              0.7777777777777778,
              "#fb9f3a"
             ],
             [
              0.8888888888888888,
              "#fdca26"
             ],
             [
              1,
              "#f0f921"
             ]
            ],
            "type": "heatmap"
           }
          ],
          "heatmapgl": [
           {
            "colorbar": {
             "outlinewidth": 0,
             "ticks": ""
            },
            "colorscale": [
             [
              0,
              "#0d0887"
             ],
             [
              0.1111111111111111,
              "#46039f"
             ],
             [
              0.2222222222222222,
              "#7201a8"
             ],
             [
              0.3333333333333333,
              "#9c179e"
             ],
             [
              0.4444444444444444,
              "#bd3786"
             ],
             [
              0.5555555555555556,
              "#d8576b"
             ],
             [
              0.6666666666666666,
              "#ed7953"
             ],
             [
              0.7777777777777778,
              "#fb9f3a"
             ],
             [
              0.8888888888888888,
              "#fdca26"
             ],
             [
              1,
              "#f0f921"
             ]
            ],
            "type": "heatmapgl"
           }
          ],
          "histogram": [
           {
            "marker": {
             "pattern": {
              "fillmode": "overlay",
              "size": 10,
              "solidity": 0.2
             }
            },
            "type": "histogram"
           }
          ],
          "histogram2d": [
           {
            "colorbar": {
             "outlinewidth": 0,
             "ticks": ""
            },
            "colorscale": [
             [
              0,
              "#0d0887"
             ],
             [
              0.1111111111111111,
              "#46039f"
             ],
             [
              0.2222222222222222,
              "#7201a8"
             ],
             [
              0.3333333333333333,
              "#9c179e"
             ],
             [
              0.4444444444444444,
              "#bd3786"
             ],
             [
              0.5555555555555556,
              "#d8576b"
             ],
             [
              0.6666666666666666,
              "#ed7953"
             ],
             [
              0.7777777777777778,
              "#fb9f3a"
             ],
             [
              0.8888888888888888,
              "#fdca26"
             ],
             [
              1,
              "#f0f921"
             ]
            ],
            "type": "histogram2d"
           }
          ],
          "histogram2dcontour": [
           {
            "colorbar": {
             "outlinewidth": 0,
             "ticks": ""
            },
            "colorscale": [
             [
              0,
              "#0d0887"
             ],
             [
              0.1111111111111111,
              "#46039f"
             ],
             [
              0.2222222222222222,
              "#7201a8"
             ],
             [
              0.3333333333333333,
              "#9c179e"
             ],
             [
              0.4444444444444444,
              "#bd3786"
             ],
             [
              0.5555555555555556,
              "#d8576b"
             ],
             [
              0.6666666666666666,
              "#ed7953"
             ],
             [
              0.7777777777777778,
              "#fb9f3a"
             ],
             [
              0.8888888888888888,
              "#fdca26"
             ],
             [
              1,
              "#f0f921"
             ]
            ],
            "type": "histogram2dcontour"
           }
          ],
          "mesh3d": [
           {
            "colorbar": {
             "outlinewidth": 0,
             "ticks": ""
            },
            "type": "mesh3d"
           }
          ],
          "parcoords": [
           {
            "line": {
             "colorbar": {
              "outlinewidth": 0,
              "ticks": ""
             }
            },
            "type": "parcoords"
           }
          ],
          "pie": [
           {
            "automargin": true,
            "type": "pie"
           }
          ],
          "scatter": [
           {
            "fillpattern": {
             "fillmode": "overlay",
             "size": 10,
             "solidity": 0.2
            },
            "type": "scatter"
           }
          ],
          "scatter3d": [
           {
            "line": {
             "colorbar": {
              "outlinewidth": 0,
              "ticks": ""
             }
            },
            "marker": {
             "colorbar": {
              "outlinewidth": 0,
              "ticks": ""
             }
            },
            "type": "scatter3d"
           }
          ],
          "scattercarpet": [
           {
            "marker": {
             "colorbar": {
              "outlinewidth": 0,
              "ticks": ""
             }
            },
            "type": "scattercarpet"
           }
          ],
          "scattergeo": [
           {
            "marker": {
             "colorbar": {
              "outlinewidth": 0,
              "ticks": ""
             }
            },
            "type": "scattergeo"
           }
          ],
          "scattergl": [
           {
            "marker": {
             "colorbar": {
              "outlinewidth": 0,
              "ticks": ""
             }
            },
            "type": "scattergl"
           }
          ],
          "scattermapbox": [
           {
            "marker": {
             "colorbar": {
              "outlinewidth": 0,
              "ticks": ""
             }
            },
            "type": "scattermapbox"
           }
          ],
          "scatterpolar": [
           {
            "marker": {
             "colorbar": {
              "outlinewidth": 0,
              "ticks": ""
             }
            },
            "type": "scatterpolar"
           }
          ],
          "scatterpolargl": [
           {
            "marker": {
             "colorbar": {
              "outlinewidth": 0,
              "ticks": ""
             }
            },
            "type": "scatterpolargl"
           }
          ],
          "scatterternary": [
           {
            "marker": {
             "colorbar": {
              "outlinewidth": 0,
              "ticks": ""
             }
            },
            "type": "scatterternary"
           }
          ],
          "surface": [
           {
            "colorbar": {
             "outlinewidth": 0,
             "ticks": ""
            },
            "colorscale": [
             [
              0,
              "#0d0887"
             ],
             [
              0.1111111111111111,
              "#46039f"
             ],
             [
              0.2222222222222222,
              "#7201a8"
             ],
             [
              0.3333333333333333,
              "#9c179e"
             ],
             [
              0.4444444444444444,
              "#bd3786"
             ],
             [
              0.5555555555555556,
              "#d8576b"
             ],
             [
              0.6666666666666666,
              "#ed7953"
             ],
             [
              0.7777777777777778,
              "#fb9f3a"
             ],
             [
              0.8888888888888888,
              "#fdca26"
             ],
             [
              1,
              "#f0f921"
             ]
            ],
            "type": "surface"
           }
          ],
          "table": [
           {
            "cells": {
             "fill": {
              "color": "#EBF0F8"
             },
             "line": {
              "color": "white"
             }
            },
            "header": {
             "fill": {
              "color": "#C8D4E3"
             },
             "line": {
              "color": "white"
             }
            },
            "type": "table"
           }
          ]
         },
         "layout": {
          "annotationdefaults": {
           "arrowcolor": "#2a3f5f",
           "arrowhead": 0,
           "arrowwidth": 1
          },
          "autotypenumbers": "strict",
          "coloraxis": {
           "colorbar": {
            "outlinewidth": 0,
            "ticks": ""
           }
          },
          "colorscale": {
           "diverging": [
            [
             0,
             "#8e0152"
            ],
            [
             0.1,
             "#c51b7d"
            ],
            [
             0.2,
             "#de77ae"
            ],
            [
             0.3,
             "#f1b6da"
            ],
            [
             0.4,
             "#fde0ef"
            ],
            [
             0.5,
             "#f7f7f7"
            ],
            [
             0.6,
             "#e6f5d0"
            ],
            [
             0.7,
             "#b8e186"
            ],
            [
             0.8,
             "#7fbc41"
            ],
            [
             0.9,
             "#4d9221"
            ],
            [
             1,
             "#276419"
            ]
           ],
           "sequential": [
            [
             0,
             "#0d0887"
            ],
            [
             0.1111111111111111,
             "#46039f"
            ],
            [
             0.2222222222222222,
             "#7201a8"
            ],
            [
             0.3333333333333333,
             "#9c179e"
            ],
            [
             0.4444444444444444,
             "#bd3786"
            ],
            [
             0.5555555555555556,
             "#d8576b"
            ],
            [
             0.6666666666666666,
             "#ed7953"
            ],
            [
             0.7777777777777778,
             "#fb9f3a"
            ],
            [
             0.8888888888888888,
             "#fdca26"
            ],
            [
             1,
             "#f0f921"
            ]
           ],
           "sequentialminus": [
            [
             0,
             "#0d0887"
            ],
            [
             0.1111111111111111,
             "#46039f"
            ],
            [
             0.2222222222222222,
             "#7201a8"
            ],
            [
             0.3333333333333333,
             "#9c179e"
            ],
            [
             0.4444444444444444,
             "#bd3786"
            ],
            [
             0.5555555555555556,
             "#d8576b"
            ],
            [
             0.6666666666666666,
             "#ed7953"
            ],
            [
             0.7777777777777778,
             "#fb9f3a"
            ],
            [
             0.8888888888888888,
             "#fdca26"
            ],
            [
             1,
             "#f0f921"
            ]
           ]
          },
          "colorway": [
           "#636efa",
           "#EF553B",
           "#00cc96",
           "#ab63fa",
           "#FFA15A",
           "#19d3f3",
           "#FF6692",
           "#B6E880",
           "#FF97FF",
           "#FECB52"
          ],
          "font": {
           "color": "#2a3f5f"
          },
          "geo": {
           "bgcolor": "white",
           "lakecolor": "white",
           "landcolor": "#E5ECF6",
           "showlakes": true,
           "showland": true,
           "subunitcolor": "white"
          },
          "hoverlabel": {
           "align": "left"
          },
          "hovermode": "closest",
          "mapbox": {
           "style": "light"
          },
          "paper_bgcolor": "white",
          "plot_bgcolor": "#E5ECF6",
          "polar": {
           "angularaxis": {
            "gridcolor": "white",
            "linecolor": "white",
            "ticks": ""
           },
           "bgcolor": "#E5ECF6",
           "radialaxis": {
            "gridcolor": "white",
            "linecolor": "white",
            "ticks": ""
           }
          },
          "scene": {
           "xaxis": {
            "backgroundcolor": "#E5ECF6",
            "gridcolor": "white",
            "gridwidth": 2,
            "linecolor": "white",
            "showbackground": true,
            "ticks": "",
            "zerolinecolor": "white"
           },
           "yaxis": {
            "backgroundcolor": "#E5ECF6",
            "gridcolor": "white",
            "gridwidth": 2,
            "linecolor": "white",
            "showbackground": true,
            "ticks": "",
            "zerolinecolor": "white"
           },
           "zaxis": {
            "backgroundcolor": "#E5ECF6",
            "gridcolor": "white",
            "gridwidth": 2,
            "linecolor": "white",
            "showbackground": true,
            "ticks": "",
            "zerolinecolor": "white"
           }
          },
          "shapedefaults": {
           "line": {
            "color": "#2a3f5f"
           }
          },
          "ternary": {
           "aaxis": {
            "gridcolor": "white",
            "linecolor": "white",
            "ticks": ""
           },
           "baxis": {
            "gridcolor": "white",
            "linecolor": "white",
            "ticks": ""
           },
           "bgcolor": "#E5ECF6",
           "caxis": {
            "gridcolor": "white",
            "linecolor": "white",
            "ticks": ""
           }
          },
          "title": {
           "x": 0.05
          },
          "xaxis": {
           "automargin": true,
           "gridcolor": "white",
           "linecolor": "white",
           "ticks": "",
           "title": {
            "standoff": 15
           },
           "zerolinecolor": "white",
           "zerolinewidth": 2
          },
          "yaxis": {
           "automargin": true,
           "gridcolor": "white",
           "linecolor": "white",
           "ticks": "",
           "title": {
            "standoff": 15
           },
           "zerolinecolor": "white",
           "zerolinewidth": 2
          }
         }
        },
        "xaxis": {
         "anchor": "y",
         "constrain": "domain",
         "domain": [
          0,
          1
         ],
         "scaleanchor": "y"
        },
        "yaxis": {
         "anchor": "x",
         "autorange": "reversed",
         "constrain": "domain",
         "domain": [
          0,
          1
         ]
        }
       }
      },
      "text/html": [
       "<div>                            <div id=\"45435382-d789-445d-9b19-b23a59604d97\" class=\"plotly-graph-div\" style=\"height:525px; width:100%;\"></div>            <script type=\"text/javascript\">                require([\"plotly\"], function(Plotly) {                    window.PLOTLYENV=window.PLOTLYENV || {};                                    if (document.getElementById(\"45435382-d789-445d-9b19-b23a59604d97\")) {                    Plotly.newPlot(                        \"45435382-d789-445d-9b19-b23a59604d97\",                        [{\"coloraxis\":\"coloraxis\",\"name\":\"0\",\"x\":[\"Military Strength Power Index\",\"Aircraft Strength value\",\"Fighter/Interceptor Strength value\",\"Attack Aircraft Strength value\",\"Transport Aircraft Fleet Strength value\",\"Trainer Aircraft Fleet value\",\"Helicopter Fleet Strength value\",\"Attack Helicopter Fleet Strength value\",\"Tank Strength value\",\"AFV/APC Strength value\",\"Self-Propelled Artillery Strength value\",\"Towed Artillery Strength value\",\"Rocket Projector Strength value\",\"Navy Fleet Strengths value\",\"Aircraft Carrier Fleet Strength value\",\"Submarine Fleet Strength value\",\"Destroyer Fleet Strength value\",\"Frigate Fleet Strength value\",\"defense spending budget value\",\"External Debt value\",\"Airport Totals value\",\"Oil Production value\",\"Oil Consumption value\",\"Proven Oil Reserves value\",\"Available Manpower value\",\"Total Population value\"],\"y\":[\"Military Strength Power Index\",\"Aircraft Strength value\",\"Fighter/Interceptor Strength value\",\"Attack Aircraft Strength value\",\"Transport Aircraft Fleet Strength value\",\"Trainer Aircraft Fleet value\",\"Helicopter Fleet Strength value\",\"Attack Helicopter Fleet Strength value\",\"Tank Strength value\",\"AFV/APC Strength value\",\"Self-Propelled Artillery Strength value\",\"Towed Artillery Strength value\",\"Rocket Projector Strength value\",\"Navy Fleet Strengths value\",\"Aircraft Carrier Fleet Strength value\",\"Submarine Fleet Strength value\",\"Destroyer Fleet Strength value\",\"Frigate Fleet Strength value\",\"defense spending budget value\",\"External Debt value\",\"Airport Totals value\",\"Oil Production value\",\"Oil Consumption value\",\"Proven Oil Reserves value\",\"Available Manpower value\",\"Total Population value\"],\"z\":[[1.0,-0.2673288398355398,-0.31088799979328546,-0.24194829981615773,-0.2671041046473688,-0.2847556052909067,-0.24454509501966387,-0.23172266071124403,-0.32430011713061996,-0.36179567639464727,-0.2689353773866597,-0.3354051929480023,-0.2477997086225073,-0.38178892143181037,-0.1659041055459204,-0.27430968253158683,-0.1757628518711802,-0.3593532119517939,-0.1924241040424179,-0.23573370072223152,-0.17336179727261491,-0.26396054958668064,-0.2824137878234357,-0.18343795047241493,-0.23673658816081097,-0.2426782215030358],[-0.2673288398355398,1.0,0.9444917894513672,0.8602625805658719,0.9740287215580506,0.9742879875857167,0.9928019438068666,0.9642659004148099,0.6255980644823647,0.8448977065418061,0.5136865945095809,0.5667402258821576,0.5200714216912378,0.5329878685784566,0.9174895885780202,0.6682963789561237,0.910944663624599,0.24578438217178183,0.9556213038085776,0.8006846502317642,0.8842600701989338,0.6259142841131212,0.9034307571167117,0.12504719961943656,0.3858426984495887,0.40340960286101873],[-0.31088799979328546,0.9444917894513672,1.0,0.8788444466027345,0.9087678867500119,0.8862988045655757,0.9058579121340988,0.9220562331438217,0.719875110167844,0.9326912337114359,0.6598388344437356,0.6962505629676169,0.6693762296197753,0.6693008241548992,0.7982919737384041,0.7956327929609918,0.8685774669464505,0.45602915320953935,0.8922055800502422,0.6930464216858604,0.7334738307783223,0.6227832428422292,0.9233842175524611,0.1415091873628383,0.566066905858464,0.5709152403166269],[-0.24194829981615773,0.8602625805658719,0.8788444466027345,1.0,0.8926662819489782,0.7621309071575499,0.820890346885404,0.9161486404089826,0.8123182525464621,0.8718210639531383,0.776319940318423,0.6840052870451938,0.7722696339033219,0.6344992640415751,0.656503023236693,0.7600271078158024,0.7336659018415619,0.33095428793561743,0.7414975515448364,0.5471477727250184,0.6630882133288708,0.7318135304345864,0.7738825339071883,0.16284295003982655,0.459166394803542,0.46565062911230004],[-0.2671041046473688,0.9740287215580506,0.9087678867500119,0.8926662819489782,1.0,0.9279906426988446,0.9642442007057581,0.9488597946030025,0.6476050081607276,0.8180612821072214,0.5301609629928373,0.5767649566748267,0.5422140475055278,0.5251888491540676,0.8707202795786209,0.65384977092467,0.86843050509942,0.2493922503326533,0.912734506277648,0.7591823586378216,0.874718630384803,0.6686400541849219,0.8782179117744242,0.15400891840966402,0.4296117136436584,0.44988531964446293],[-0.2847556052909067,0.9742879875857167,0.8862988045655757,0.7621309071575499,0.9279906426988446,1.0,0.9737441987002847,0.909770393453365,0.5471125442416953,0.7739633780278986,0.3922210828241596,0.4951958495857484,0.4002164472477184,0.4668857350089312,0.9315114676699157,0.5803840827825227,0.8825996420709294,0.18392227191130908,0.9347952108531855,0.8131804387100784,0.8992614529573112,0.5697076047282923,0.8555773421755045,0.12385869383625694,0.2978044473962538,0.32136945680997175],[-0.24454509501966387,0.9928019438068666,0.9058579121340988,0.820890346885404,0.9642442007057581,0.9737441987002847,1.0,0.9530125855377453,0.5683677447390532,0.7984369664678772,0.4534961757148028,0.5091785620003186,0.448298306057926,0.47320817851494557,0.9364675750959013,0.6050057685504694,0.904609388815978,0.1731104488781836,0.9580264340598261,0.825917085635569,0.904458656260693,0.595626765334735,0.8777315007067523,0.10610337693447294,0.31324468449171433,0.333445865505265],[-0.23172266071124403,0.9642659004148099,0.9220562331438217,0.9161486404089826,0.9488597946030025,0.909770393453365,0.9530125855377453,1.0,0.6932155098742177,0.8603582370791945,0.640999395315135,0.5706748181081004,0.6145424588079289,0.5127293604080734,0.8526629695107996,0.6803673239791304,0.878550443097528,0.2444600438462336,0.8944502476675296,0.7385043427128855,0.8128225695058824,0.6655737281259401,0.8461289024461536,0.12416813675767138,0.3196270156009159,0.32967940019198616],[-0.32430011713061996,0.6255980644823647,0.719875110167844,0.8123182525464621,0.6476050081607276,0.5471125442416953,0.5683677447390532,0.6932155098742177,1.0,0.7787589037109335,0.8305092503609474,0.8051028900859473,0.8641473373000836,0.6916837230268051,0.3701385176950571,0.7431705983779497,0.44803523616440466,0.33751633208087434,0.42012132482903036,0.25837458144815084,0.3469839297459078,0.5673110933264587,0.481246677146246,0.14626536889752678,0.3631927239624849,0.3711962686695468],[-0.36179567639464727,0.8448977065418061,0.9326912337114359,0.8718210639531383,0.8180612821072214,0.7739633780278986,0.7984369664678772,0.8603582370791945,0.7787589037109335,1.0,0.7900610051429652,0.7656627266221077,0.7512659976797265,0.6960102840785574,0.6514831908735527,0.7726143373162451,0.7311487090513923,0.497680576646086,0.7716622501094886,0.5661816115812034,0.591883184564248,0.6832806412662475,0.8448241386214596,0.2213021629147719,0.553925457678472,0.549385530145697],[-0.2689353773866597,0.5136865945095809,0.6598388344437356,0.776319940318423,0.5301609629928373,0.3922210828241596,0.4534961757148028,0.640999395315135,0.8305092503609474,0.7900610051429652,1.0,0.7805450951049148,0.8579017165259468,0.6203197101161192,0.22342935772025266,0.6580536682557321,0.3867455161038904,0.4560129898600299,0.3503721870027497,0.15708284977592976,0.2052755200403262,0.5680239030852766,0.4928994150231156,0.16006260105839465,0.4176861779559268,0.40060503994294466],[-0.3354051929480023,0.5667402258821576,0.6962505629676169,0.6840052870451938,0.5767649566748267,0.4951958495857484,0.5091785620003186,0.5706748181081004,0.8051028900859473,0.7656627266221077,0.7805450951049148,1.0,0.7369591663062549,0.6228797304324354,0.3068080562935633,0.5836697926668668,0.4202875714697265,0.4424488253800067,0.42499475116448104,0.19750158368482673,0.28354629064028614,0.5157086269012962,0.577521883822571,0.18752480812642341,0.6046949756691508,0.6093337292550841],[-0.2477997086225073,0.5200714216912378,0.6693762296197753,0.7722696339033219,0.5422140475055278,0.4002164472477184,0.448298306057926,0.6145424588079289,0.8641473373000836,0.7512659976797265,0.8579017165259468,0.7369591663062549,1.0,0.7783046825217317,0.2724633938820718,0.8470489982613836,0.4151575471923062,0.4612900237025313,0.3774133507650682,0.1766423061854586,0.2532252877205924,0.5786184473015756,0.4962172589547853,0.19624172157372932,0.4272587661658693,0.41082215672262845],[-0.38178892143181037,0.5329878685784566,0.6693008241548992,0.6344992640415751,0.5251888491540676,0.4668857350089312,0.47320817851494557,0.5127293604080734,0.6916837230268051,0.6960102840785574,0.6203197101161192,0.6228797304324354,0.7783046825217317,1.0,0.3445449375613933,0.8714315009352709,0.4388018827859953,0.5742443606213068,0.42260454471814785,0.2778426396325629,0.3179461368841116,0.4332822149697132,0.550894697445537,0.1237409834340636,0.5175468078640101,0.5086632253181033],[-0.1659041055459204,0.9174895885780202,0.7982919737384041,0.656503023236693,0.8707202795786209,0.9315114676699157,0.9364675750959013,0.8526629695107996,0.3701385176950571,0.6514831908735527,0.22342935772025266,0.3068080562935633,0.2724633938820718,0.3445449375613933,1.0,0.511477484751182,0.9256849186177928,0.11746494686402091,0.9371490833286305,0.8780755046882586,0.8850503223758022,0.4478820064920797,0.8187128890418789,0.034816824099096914,0.22042508468262464,0.2417562541750316],[-0.27430968253158683,0.6682963789561237,0.7956327929609918,0.7600271078158024,0.65384977092467,0.5803840827825227,0.6050057685504694,0.6803673239791304,0.7431705983779497,0.7726143373162451,0.6580536682557321,0.5836697926668668,0.8470489982613836,0.8714315009352709,0.511477484751182,1.0,0.6418546959935311,0.5787884144280662,0.584425732518285,0.4299013924492772,0.4523938956127393,0.5186171054919879,0.6718333010554463,0.13378833692537798,0.5127382776751334,0.5029695512786907],[-0.1757628518711802,0.910944663624599,0.8685774669464505,0.7336659018415619,0.86843050509942,0.8825996420709294,0.904609388815978,0.878550443097528,0.44803523616440466,0.7311487090513923,0.3867455161038904,0.4202875714697265,0.4151575471923062,0.4388018827859953,0.9256849186177928,0.6418546959935311,1.0,0.26804993205338024,0.9218776156375118,0.7900812667565056,0.8048785597621908,0.49640471039663064,0.8984398781788041,0.052790604472971445,0.4209100574235677,0.4315753613908046],[-0.3593532119517939,0.24578438217178183,0.45602915320953935,0.33095428793561743,0.2493922503326533,0.18392227191130908,0.1731104488781836,0.2444600438462336,0.33751633208087434,0.497680576646086,0.4560129898600299,0.4424488253800067,0.4612900237025313,0.5742443606213068,0.11746494686402091,0.5787884144280662,0.26804993205338024,1.0,0.22668792106869426,0.16904546635333137,0.03844430104408809,0.20502848514196984,0.4553341792902179,0.08637154595981245,0.6683028622538001,0.6395499247147632],[-0.1924241040424179,0.9556213038085776,0.8922055800502422,0.7414975515448364,0.912734506277648,0.9347952108531855,0.9580264340598261,0.8944502476675296,0.42012132482903036,0.7716622501094886,0.3503721870027497,0.42499475116448104,0.3774133507650682,0.42260454471814785,0.9371490833286305,0.584425732518285,0.9218776156375118,0.22668792106869426,1.0,0.840759046847572,0.903881670163088,0.5574462037593895,0.9309750025404893,0.11294355136789778,0.38817588332552255,0.39875874841540937],[-0.23573370072223152,0.8006846502317642,0.6930464216858604,0.5471477727250184,0.7591823586378216,0.8131804387100784,0.825917085635569,0.7385043427128855,0.25837458144815084,0.5661816115812034,0.15708284977592976,0.19750158368482673,0.1766423061854586,0.2778426396325629,0.8780755046882586,0.4299013924492772,0.7900812667565056,0.16904546635333137,0.840759046847572,1.0,0.786661984992433,0.3820971428519986,0.741734073608729,0.031465587801056204,0.16689139963755145,0.18528418181542552],[-0.17336179727261491,0.8842600701989338,0.7334738307783223,0.6630882133288708,0.874718630384803,0.8992614529573112,0.904458656260693,0.8128225695058824,0.3469839297459078,0.591883184564248,0.2052755200403262,0.28354629064028614,0.2532252877205924,0.3179461368841116,0.8850503223758022,0.4523938956127393,0.8048785597621908,0.03844430104408809,0.903881670163088,0.786661984992433,1.0,0.5316572019944105,0.7909212284722392,0.10357709442141559,0.1820323703825946,0.20234167161526523],[-0.26396054958668064,0.6259142841131212,0.6227832428422292,0.7318135304345864,0.6686400541849219,0.5697076047282923,0.595626765334735,0.6655737281259401,0.5673110933264587,0.6832806412662475,0.5680239030852766,0.5157086269012962,0.5786184473015756,0.4332822149697132,0.4478820064920797,0.5186171054919879,0.49640471039663064,0.20502848514196984,0.5574462037593895,0.3820971428519986,0.5316572019944105,1.0,0.6209793591891579,0.672250364135872,0.25110515838518466,0.2544541106431719],[-0.2824137878234357,0.9034307571167117,0.9233842175524611,0.7738825339071883,0.8782179117744242,0.8555773421755045,0.8777315007067523,0.8461289024461536,0.481246677146246,0.8448241386214596,0.4928994150231156,0.577521883822571,0.4962172589547853,0.550894697445537,0.8187128890418789,0.6718333010554463,0.8984398781788041,0.4553341792902179,0.9309750025404893,0.741734073608729,0.7909212284722392,0.6209793591891579,1.0,0.19839456720118662,0.62864339022439,0.6301187637934881],[-0.18343795047241493,0.12504719961943656,0.1415091873628383,0.16284295003982655,0.15400891840966402,0.12385869383625694,0.10610337693447294,0.12416813675767138,0.14626536889752678,0.2213021629147719,0.16006260105839465,0.18752480812642341,0.19624172157372932,0.1237409834340636,0.034816824099096914,0.13378833692537798,0.052790604472971445,0.08637154595981245,0.11294355136789778,0.031465587801056204,0.10357709442141559,0.672250364135872,0.19839456720118662,1.0,0.041423277266618735,0.03937847284776368],[-0.23673658816081097,0.3858426984495887,0.566066905858464,0.459166394803542,0.4296117136436584,0.2978044473962538,0.31324468449171433,0.3196270156009159,0.3631927239624849,0.553925457678472,0.4176861779559268,0.6046949756691508,0.4272587661658693,0.5175468078640101,0.22042508468262464,0.5127382776751334,0.4209100574235677,0.6683028622538001,0.38817588332552255,0.16689139963755145,0.1820323703825946,0.25110515838518466,0.62864339022439,0.041423277266618735,1.0,0.9969443786441808],[-0.2426782215030358,0.40340960286101873,0.5709152403166269,0.46565062911230004,0.44988531964446293,0.32136945680997175,0.333445865505265,0.32967940019198616,0.3711962686695468,0.549385530145697,0.40060503994294466,0.6093337292550841,0.41082215672262845,0.5086632253181033,0.2417562541750316,0.5029695512786907,0.4315753613908046,0.6395499247147632,0.39875874841540937,0.18528418181542552,0.20234167161526523,0.2544541106431719,0.6301187637934881,0.03937847284776368,0.9969443786441808,1.0]],\"type\":\"heatmap\",\"xaxis\":\"x\",\"yaxis\":\"y\",\"hovertemplate\":\"x: %{x}<br>y: %{y}<br>color: %{z}<extra></extra>\"}],                        {\"template\":{\"data\":{\"histogram2dcontour\":[{\"type\":\"histogram2dcontour\",\"colorbar\":{\"outlinewidth\":0,\"ticks\":\"\"},\"colorscale\":[[0.0,\"#0d0887\"],[0.1111111111111111,\"#46039f\"],[0.2222222222222222,\"#7201a8\"],[0.3333333333333333,\"#9c179e\"],[0.4444444444444444,\"#bd3786\"],[0.5555555555555556,\"#d8576b\"],[0.6666666666666666,\"#ed7953\"],[0.7777777777777778,\"#fb9f3a\"],[0.8888888888888888,\"#fdca26\"],[1.0,\"#f0f921\"]]}],\"choropleth\":[{\"type\":\"choropleth\",\"colorbar\":{\"outlinewidth\":0,\"ticks\":\"\"}}],\"histogram2d\":[{\"type\":\"histogram2d\",\"colorbar\":{\"outlinewidth\":0,\"ticks\":\"\"},\"colorscale\":[[0.0,\"#0d0887\"],[0.1111111111111111,\"#46039f\"],[0.2222222222222222,\"#7201a8\"],[0.3333333333333333,\"#9c179e\"],[0.4444444444444444,\"#bd3786\"],[0.5555555555555556,\"#d8576b\"],[0.6666666666666666,\"#ed7953\"],[0.7777777777777778,\"#fb9f3a\"],[0.8888888888888888,\"#fdca26\"],[1.0,\"#f0f921\"]]}],\"heatmap\":[{\"type\":\"heatmap\",\"colorbar\":{\"outlinewidth\":0,\"ticks\":\"\"},\"colorscale\":[[0.0,\"#0d0887\"],[0.1111111111111111,\"#46039f\"],[0.2222222222222222,\"#7201a8\"],[0.3333333333333333,\"#9c179e\"],[0.4444444444444444,\"#bd3786\"],[0.5555555555555556,\"#d8576b\"],[0.6666666666666666,\"#ed7953\"],[0.7777777777777778,\"#fb9f3a\"],[0.8888888888888888,\"#fdca26\"],[1.0,\"#f0f921\"]]}],\"heatmapgl\":[{\"type\":\"heatmapgl\",\"colorbar\":{\"outlinewidth\":0,\"ticks\":\"\"},\"colorscale\":[[0.0,\"#0d0887\"],[0.1111111111111111,\"#46039f\"],[0.2222222222222222,\"#7201a8\"],[0.3333333333333333,\"#9c179e\"],[0.4444444444444444,\"#bd3786\"],[0.5555555555555556,\"#d8576b\"],[0.6666666666666666,\"#ed7953\"],[0.7777777777777778,\"#fb9f3a\"],[0.8888888888888888,\"#fdca26\"],[1.0,\"#f0f921\"]]}],\"contourcarpet\":[{\"type\":\"contourcarpet\",\"colorbar\":{\"outlinewidth\":0,\"ticks\":\"\"}}],\"contour\":[{\"type\":\"contour\",\"colorbar\":{\"outlinewidth\":0,\"ticks\":\"\"},\"colorscale\":[[0.0,\"#0d0887\"],[0.1111111111111111,\"#46039f\"],[0.2222222222222222,\"#7201a8\"],[0.3333333333333333,\"#9c179e\"],[0.4444444444444444,\"#bd3786\"],[0.5555555555555556,\"#d8576b\"],[0.6666666666666666,\"#ed7953\"],[0.7777777777777778,\"#fb9f3a\"],[0.8888888888888888,\"#fdca26\"],[1.0,\"#f0f921\"]]}],\"surface\":[{\"type\":\"surface\",\"colorbar\":{\"outlinewidth\":0,\"ticks\":\"\"},\"colorscale\":[[0.0,\"#0d0887\"],[0.1111111111111111,\"#46039f\"],[0.2222222222222222,\"#7201a8\"],[0.3333333333333333,\"#9c179e\"],[0.4444444444444444,\"#bd3786\"],[0.5555555555555556,\"#d8576b\"],[0.6666666666666666,\"#ed7953\"],[0.7777777777777778,\"#fb9f3a\"],[0.8888888888888888,\"#fdca26\"],[1.0,\"#f0f921\"]]}],\"mesh3d\":[{\"type\":\"mesh3d\",\"colorbar\":{\"outlinewidth\":0,\"ticks\":\"\"}}],\"scatter\":[{\"fillpattern\":{\"fillmode\":\"overlay\",\"size\":10,\"solidity\":0.2},\"type\":\"scatter\"}],\"parcoords\":[{\"type\":\"parcoords\",\"line\":{\"colorbar\":{\"outlinewidth\":0,\"ticks\":\"\"}}}],\"scatterpolargl\":[{\"type\":\"scatterpolargl\",\"marker\":{\"colorbar\":{\"outlinewidth\":0,\"ticks\":\"\"}}}],\"bar\":[{\"error_x\":{\"color\":\"#2a3f5f\"},\"error_y\":{\"color\":\"#2a3f5f\"},\"marker\":{\"line\":{\"color\":\"#E5ECF6\",\"width\":0.5},\"pattern\":{\"fillmode\":\"overlay\",\"size\":10,\"solidity\":0.2}},\"type\":\"bar\"}],\"scattergeo\":[{\"type\":\"scattergeo\",\"marker\":{\"colorbar\":{\"outlinewidth\":0,\"ticks\":\"\"}}}],\"scatterpolar\":[{\"type\":\"scatterpolar\",\"marker\":{\"colorbar\":{\"outlinewidth\":0,\"ticks\":\"\"}}}],\"histogram\":[{\"marker\":{\"pattern\":{\"fillmode\":\"overlay\",\"size\":10,\"solidity\":0.2}},\"type\":\"histogram\"}],\"scattergl\":[{\"type\":\"scattergl\",\"marker\":{\"colorbar\":{\"outlinewidth\":0,\"ticks\":\"\"}}}],\"scatter3d\":[{\"type\":\"scatter3d\",\"line\":{\"colorbar\":{\"outlinewidth\":0,\"ticks\":\"\"}},\"marker\":{\"colorbar\":{\"outlinewidth\":0,\"ticks\":\"\"}}}],\"scattermapbox\":[{\"type\":\"scattermapbox\",\"marker\":{\"colorbar\":{\"outlinewidth\":0,\"ticks\":\"\"}}}],\"scatterternary\":[{\"type\":\"scatterternary\",\"marker\":{\"colorbar\":{\"outlinewidth\":0,\"ticks\":\"\"}}}],\"scattercarpet\":[{\"type\":\"scattercarpet\",\"marker\":{\"colorbar\":{\"outlinewidth\":0,\"ticks\":\"\"}}}],\"carpet\":[{\"aaxis\":{\"endlinecolor\":\"#2a3f5f\",\"gridcolor\":\"white\",\"linecolor\":\"white\",\"minorgridcolor\":\"white\",\"startlinecolor\":\"#2a3f5f\"},\"baxis\":{\"endlinecolor\":\"#2a3f5f\",\"gridcolor\":\"white\",\"linecolor\":\"white\",\"minorgridcolor\":\"white\",\"startlinecolor\":\"#2a3f5f\"},\"type\":\"carpet\"}],\"table\":[{\"cells\":{\"fill\":{\"color\":\"#EBF0F8\"},\"line\":{\"color\":\"white\"}},\"header\":{\"fill\":{\"color\":\"#C8D4E3\"},\"line\":{\"color\":\"white\"}},\"type\":\"table\"}],\"barpolar\":[{\"marker\":{\"line\":{\"color\":\"#E5ECF6\",\"width\":0.5},\"pattern\":{\"fillmode\":\"overlay\",\"size\":10,\"solidity\":0.2}},\"type\":\"barpolar\"}],\"pie\":[{\"automargin\":true,\"type\":\"pie\"}]},\"layout\":{\"autotypenumbers\":\"strict\",\"colorway\":[\"#636efa\",\"#EF553B\",\"#00cc96\",\"#ab63fa\",\"#FFA15A\",\"#19d3f3\",\"#FF6692\",\"#B6E880\",\"#FF97FF\",\"#FECB52\"],\"font\":{\"color\":\"#2a3f5f\"},\"hovermode\":\"closest\",\"hoverlabel\":{\"align\":\"left\"},\"paper_bgcolor\":\"white\",\"plot_bgcolor\":\"#E5ECF6\",\"polar\":{\"bgcolor\":\"#E5ECF6\",\"angularaxis\":{\"gridcolor\":\"white\",\"linecolor\":\"white\",\"ticks\":\"\"},\"radialaxis\":{\"gridcolor\":\"white\",\"linecolor\":\"white\",\"ticks\":\"\"}},\"ternary\":{\"bgcolor\":\"#E5ECF6\",\"aaxis\":{\"gridcolor\":\"white\",\"linecolor\":\"white\",\"ticks\":\"\"},\"baxis\":{\"gridcolor\":\"white\",\"linecolor\":\"white\",\"ticks\":\"\"},\"caxis\":{\"gridcolor\":\"white\",\"linecolor\":\"white\",\"ticks\":\"\"}},\"coloraxis\":{\"colorbar\":{\"outlinewidth\":0,\"ticks\":\"\"}},\"colorscale\":{\"sequential\":[[0.0,\"#0d0887\"],[0.1111111111111111,\"#46039f\"],[0.2222222222222222,\"#7201a8\"],[0.3333333333333333,\"#9c179e\"],[0.4444444444444444,\"#bd3786\"],[0.5555555555555556,\"#d8576b\"],[0.6666666666666666,\"#ed7953\"],[0.7777777777777778,\"#fb9f3a\"],[0.8888888888888888,\"#fdca26\"],[1.0,\"#f0f921\"]],\"sequentialminus\":[[0.0,\"#0d0887\"],[0.1111111111111111,\"#46039f\"],[0.2222222222222222,\"#7201a8\"],[0.3333333333333333,\"#9c179e\"],[0.4444444444444444,\"#bd3786\"],[0.5555555555555556,\"#d8576b\"],[0.6666666666666666,\"#ed7953\"],[0.7777777777777778,\"#fb9f3a\"],[0.8888888888888888,\"#fdca26\"],[1.0,\"#f0f921\"]],\"diverging\":[[0,\"#8e0152\"],[0.1,\"#c51b7d\"],[0.2,\"#de77ae\"],[0.3,\"#f1b6da\"],[0.4,\"#fde0ef\"],[0.5,\"#f7f7f7\"],[0.6,\"#e6f5d0\"],[0.7,\"#b8e186\"],[0.8,\"#7fbc41\"],[0.9,\"#4d9221\"],[1,\"#276419\"]]},\"xaxis\":{\"gridcolor\":\"white\",\"linecolor\":\"white\",\"ticks\":\"\",\"title\":{\"standoff\":15},\"zerolinecolor\":\"white\",\"automargin\":true,\"zerolinewidth\":2},\"yaxis\":{\"gridcolor\":\"white\",\"linecolor\":\"white\",\"ticks\":\"\",\"title\":{\"standoff\":15},\"zerolinecolor\":\"white\",\"automargin\":true,\"zerolinewidth\":2},\"scene\":{\"xaxis\":{\"backgroundcolor\":\"#E5ECF6\",\"gridcolor\":\"white\",\"linecolor\":\"white\",\"showbackground\":true,\"ticks\":\"\",\"zerolinecolor\":\"white\",\"gridwidth\":2},\"yaxis\":{\"backgroundcolor\":\"#E5ECF6\",\"gridcolor\":\"white\",\"linecolor\":\"white\",\"showbackground\":true,\"ticks\":\"\",\"zerolinecolor\":\"white\",\"gridwidth\":2},\"zaxis\":{\"backgroundcolor\":\"#E5ECF6\",\"gridcolor\":\"white\",\"linecolor\":\"white\",\"showbackground\":true,\"ticks\":\"\",\"zerolinecolor\":\"white\",\"gridwidth\":2}},\"shapedefaults\":{\"line\":{\"color\":\"#2a3f5f\"}},\"annotationdefaults\":{\"arrowcolor\":\"#2a3f5f\",\"arrowhead\":0,\"arrowwidth\":1},\"geo\":{\"bgcolor\":\"white\",\"landcolor\":\"#E5ECF6\",\"subunitcolor\":\"white\",\"showland\":true,\"showlakes\":true,\"lakecolor\":\"white\"},\"title\":{\"x\":0.05},\"mapbox\":{\"style\":\"light\"}}},\"xaxis\":{\"anchor\":\"y\",\"domain\":[0.0,1.0],\"scaleanchor\":\"y\",\"constrain\":\"domain\"},\"yaxis\":{\"anchor\":\"x\",\"domain\":[0.0,1.0],\"autorange\":\"reversed\",\"constrain\":\"domain\"},\"coloraxis\":{\"colorscale\":[[0.0,\"#0d0887\"],[0.1111111111111111,\"#46039f\"],[0.2222222222222222,\"#7201a8\"],[0.3333333333333333,\"#9c179e\"],[0.4444444444444444,\"#bd3786\"],[0.5555555555555556,\"#d8576b\"],[0.6666666666666666,\"#ed7953\"],[0.7777777777777778,\"#fb9f3a\"],[0.8888888888888888,\"#fdca26\"],[1.0,\"#f0f921\"]]},\"margin\":{\"t\":60}},                        {\"responsive\": true}                    ).then(function(){\n",
       "                            \n",
       "var gd = document.getElementById('45435382-d789-445d-9b19-b23a59604d97');\n",
       "var x = new MutationObserver(function (mutations, observer) {{\n",
       "        var display = window.getComputedStyle(gd).display;\n",
       "        if (!display || display === 'none') {{\n",
       "            console.log([gd, 'removed!']);\n",
       "            Plotly.purge(gd);\n",
       "            observer.disconnect();\n",
       "        }}\n",
       "}});\n",
       "\n",
       "// Listen for the removal of the full notebook cells\n",
       "var notebookContainer = gd.closest('#notebook-container');\n",
       "if (notebookContainer) {{\n",
       "    x.observe(notebookContainer, {childList: true});\n",
       "}}\n",
       "\n",
       "// Listen for the clearing of the current output cell\n",
       "var outputEl = gd.closest('.output');\n",
       "if (outputEl) {{\n",
       "    x.observe(outputEl, {childList: true});\n",
       "}}\n",
       "\n",
       "                        })                };                });            </script>        </div>"
      ]
     },
     "metadata": {},
     "output_type": "display_data"
    }
   ],
   "source": [
    "fig = px.imshow(data.corr())\n",
    "fig.show()"
   ]
  },
  {
   "cell_type": "markdown",
   "metadata": {
    "id": "8WuFtB6i8AKP"
   },
   "source": [
    "# Data Preprocessing"
   ]
  },
  {
   "cell_type": "code",
   "execution_count": 98,
   "metadata": {
    "id": "8PjRKofq8AKP"
   },
   "outputs": [],
   "source": [
    "from sklearn.preprocessing import StandardScaler, RobustScaler, MinMaxScaler, scale\n",
    "import warnings\n",
    "warnings.filterwarnings('ignore')\n",
    "warnings.filterwarnings(\"ignore\", category=DeprecationWarning)\n",
    "warnings.filterwarnings(\"ignore\", category=FutureWarning)\n",
    "from sklearn.cluster import KMeans"
   ]
  },
  {
   "cell_type": "code",
   "execution_count": 99,
   "metadata": {},
   "outputs": [],
   "source": [
    "data1 = data.copy()"
   ]
  },
  {
   "cell_type": "code",
   "execution_count": 100,
   "metadata": {},
   "outputs": [],
   "source": [
    "data1.reset_index(inplace=True)"
   ]
  },
  {
   "cell_type": "code",
   "execution_count": 101,
   "metadata": {},
   "outputs": [],
   "source": [
    "X = data1.drop([\"Country\"], axis = 1)"
   ]
  },
  {
   "cell_type": "code",
   "execution_count": 102,
   "metadata": {},
   "outputs": [],
   "source": [
    "z = StandardScaler()\n",
    "\n",
    "X_scaled = z.fit_transform(X)"
   ]
  },
  {
   "cell_type": "markdown",
   "metadata": {
    "id": "RjfzLF0P8AKP"
   },
   "source": [
    "# Modelling"
   ]
  },
  {
   "cell_type": "code",
   "execution_count": 103,
   "metadata": {
    "id": "Jnan1N358AKP"
   },
   "outputs": [],
   "source": [
    "K_means_model = KMeans(random_state = 42)"
   ]
  },
  {
   "cell_type": "markdown",
   "metadata": {
    "id": "hupFwh2N8AKQ"
   },
   "source": [
    "## Clustering with K-means"
   ]
  },
  {
   "cell_type": "code",
   "execution_count": null,
   "metadata": {
    "id": "Xg4jD_8o8AKQ"
   },
   "outputs": [],
   "source": []
  },
  {
   "cell_type": "markdown",
   "metadata": {
    "id": "BRWQmu6H8AKQ"
   },
   "source": [
    "### Elbow Method \n",
    "### We use this method to find optimal k value by looking up to break point of graph. "
   ]
  },
  {
   "cell_type": "code",
   "execution_count": 104,
   "metadata": {
    "id": "bJsKrZaA8AKQ"
   },
   "outputs": [],
   "source": [
    "ssd = [] #sum squared distance\n",
    "\n",
    "K = range(2,10)\n",
    "\n",
    "for k in K:\n",
    "    model = KMeans(n_clusters =k, random_state=42)\n",
    "    model.fit(X_scaled)\n",
    "    ssd.append(model.inertia_) # intertia: Distance from each sample to centroid of its cluster"
   ]
  },
  {
   "cell_type": "code",
   "execution_count": 105,
   "metadata": {},
   "outputs": [
    {
     "data": {
      "text/plain": [
       "Text(0.5, 1.0, 'elbow method')"
      ]
     },
     "execution_count": 105,
     "metadata": {},
     "output_type": "execute_result"
    },
    {
     "data": {
      "image/png": "[encoded data removed]",
      "text/plain": [
       "<Figure size 720x432 with 1 Axes>"
      ]
     },
     "metadata": {},
     "output_type": "display_data"
    }
   ],
   "source": [
    "plt.plot(K, ssd, \"bo-\")\n",
    "plt.xlabel(\"Different k values\")\n",
    "plt.ylabel(\"inertia-error\") \n",
    "plt.title(\"elbow method\") "
   ]
  },
  {
   "cell_type": "code",
   "execution_count": 106,
   "metadata": {},
   "outputs": [
    {
     "data": {
      "text/html": [
       "<div>\n",
       "<style scoped>\n",
       "    .dataframe tbody tr th:only-of-type {\n",
       "        vertical-align: middle;\n",
       "    }\n",
       "\n",
       "    .dataframe tbody tr th {\n",
       "        vertical-align: top;\n",
       "    }\n",
       "\n",
       "    .dataframe thead th {\n",
       "        text-align: right;\n",
       "    }\n",
       "</style>\n",
       "<table border=\"1\" class=\"dataframe\">\n",
       "  <thead>\n",
       "    <tr style=\"text-align: right;\">\n",
       "      <th></th>\n",
       "      <th>K</th>\n",
       "      <th>sse</th>\n",
       "      <th>silhouette</th>\n",
       "    </tr>\n",
       "  </thead>\n",
       "  <tbody>\n",
       "    <tr>\n",
       "      <th>0</th>\n",
       "      <td>2</td>\n",
       "      <td>2048.438158</td>\n",
       "      <td>0.849931</td>\n",
       "    </tr>\n",
       "    <tr>\n",
       "      <th>1</th>\n",
       "      <td>3</td>\n",
       "      <td>1432.375733</td>\n",
       "      <td>0.798683</td>\n",
       "    </tr>\n",
       "    <tr>\n",
       "      <th>2</th>\n",
       "      <td>4</td>\n",
       "      <td>1177.773067</td>\n",
       "      <td>0.435426</td>\n",
       "    </tr>\n",
       "    <tr>\n",
       "      <th>3</th>\n",
       "      <td>5</td>\n",
       "      <td>1008.419769</td>\n",
       "      <td>0.525404</td>\n",
       "    </tr>\n",
       "    <tr>\n",
       "      <th>4</th>\n",
       "      <td>6</td>\n",
       "      <td>874.856214</td>\n",
       "      <td>0.373505</td>\n",
       "    </tr>\n",
       "    <tr>\n",
       "      <th>5</th>\n",
       "      <td>7</td>\n",
       "      <td>781.507300</td>\n",
       "      <td>0.212965</td>\n",
       "    </tr>\n",
       "    <tr>\n",
       "      <th>6</th>\n",
       "      <td>8</td>\n",
       "      <td>643.276434</td>\n",
       "      <td>0.395634</td>\n",
       "    </tr>\n",
       "    <tr>\n",
       "      <th>7</th>\n",
       "      <td>9</td>\n",
       "      <td>574.318121</td>\n",
       "      <td>0.194416</td>\n",
       "    </tr>\n",
       "  </tbody>\n",
       "</table>\n",
       "</div>"
      ],
      "text/plain": [
       "   K          sse  silhouette\n",
       "0  2  2048.438158    0.849931\n",
       "1  3  1432.375733    0.798683\n",
       "2  4  1177.773067    0.435426\n",
       "3  5  1008.419769    0.525404\n",
       "4  6   874.856214    0.373505\n",
       "5  7   781.507300    0.212965\n",
       "6  8   643.276434    0.395634\n",
       "7  9   574.318121    0.194416"
      ]
     },
     "execution_count": 106,
     "metadata": {},
     "output_type": "execute_result"
    }
   ],
   "source": [
    "#Silhoutte_scores for different n_clusters\n",
    "\n",
    "sils = []\n",
    "sse = []\n",
    "ks = range(2,10)\n",
    "\n",
    "for k in ks:\n",
    "    km = KMeans(n_clusters = k)\n",
    "    km.fit(X_scaled)\n",
    "    \n",
    "    sse.append(km.inertia_)\n",
    "    sils.append(silhouette_score(X_scaled, km.predict(X_scaled)))\n",
    "    \n",
    "    \n",
    "sse_df = pd.DataFrame({\"K\" : ks,\n",
    "                      \"sse\": sse,\n",
    "                      \"silhouette\": sils})\n",
    "\n",
    "sse_df"
   ]
  },
  {
   "cell_type": "code",
   "execution_count": 107,
   "metadata": {},
   "outputs": [
    {
     "data": {
      "image/png": "[encoded data removed]",
      "text/plain": [
       "<Figure size 720x432 with 2 Axes>"
      ]
     },
     "metadata": {},
     "output_type": "display_data"
    }
   ],
   "source": [
    "from yellowbrick.cluster import KElbowVisualizer\n",
    "\n",
    "model_ = KMeans(random_state=42)\n",
    "visualizer = KElbowVisualizer(model_, k=(2,9))\n",
    "\n",
    "visualizer.fit(X_scaled)        # Fit the data to the visualizer\n",
    "visualizer.show();"
   ]
  },
  {
   "cell_type": "code",
   "execution_count": 109,
   "metadata": {},
   "outputs": [
    {
     "data": {
      "text/plain": [
       "array([3, 3, 0, 3, 3, 3, 3, 3, 3, 3, 3, 3, 3, 3, 3, 3, 3, 0, 3, 3, 3, 3,\n",
       "       0, 3, 3, 3, 2, 0, 3, 3, 3, 3, 3, 3, 3, 0, 3, 3, 3, 3, 0, 3, 3, 0,\n",
       "       3, 0, 3, 3, 3, 0, 0, 0, 0, 3, 0, 0, 3, 0, 3, 3, 3, 3, 3, 3, 3, 3,\n",
       "       3, 3, 3, 3, 3, 3, 3, 0, 3, 3, 3, 3, 3, 0, 3, 3, 3, 3, 3, 3, 3, 0,\n",
       "       3, 3, 3, 0, 3, 3, 3, 3, 3, 3, 3, 3, 3, 2, 0, 3, 3, 3, 3, 3, 3, 3,\n",
       "       0, 3, 0, 3, 3, 3, 3, 3, 0, 0, 3, 3, 0, 3, 0, 3, 3, 0, 0, 0, 1, 3,\n",
       "       3, 0, 0, 3, 3, 3])"
      ]
     },
     "execution_count": 109,
     "metadata": {},
     "output_type": "execute_result"
    }
   ],
   "source": [
    "#Kmeans for 4 clusters\n",
    "km = KMeans(n_clusters = 4)\n",
    "membership = km.fit_predict(X_scaled)\n",
    "\n",
    "membership\n"
   ]
  },
  {
   "cell_type": "markdown",
   "metadata": {
    "id": "mFJFx-Fg8AKR"
   },
   "source": [
    "### Model Building and label visualisation"
   ]
  },
  {
   "cell_type": "code",
   "execution_count": 110,
   "metadata": {
    "id": "G0ygI1998AKR"
   },
   "outputs": [
    {
     "data": {
      "text/plain": [
       "array([1, 1, 2, 1, 1, 1, 1, 1, 1, 1, 1, 1, 1, 1, 1, 1, 1, 2, 1, 1, 1, 1,\n",
       "       2, 1, 1, 1, 3, 2, 1, 1, 1, 1, 1, 1, 1, 2, 1, 1, 1, 1, 2, 1, 1, 2,\n",
       "       1, 2, 1, 1, 1, 2, 2, 2, 2, 1, 2, 2, 1, 2, 1, 1, 1, 1, 1, 1, 1, 1,\n",
       "       1, 1, 1, 1, 1, 1, 1, 2, 1, 1, 1, 1, 1, 2, 1, 1, 1, 1, 1, 1, 1, 2,\n",
       "       1, 1, 1, 2, 1, 1, 1, 1, 1, 1, 1, 1, 1, 3, 2, 1, 1, 1, 1, 1, 1, 1,\n",
       "       2, 1, 2, 1, 1, 1, 1, 1, 2, 2, 1, 1, 2, 1, 2, 1, 1, 2, 2, 2, 0, 1,\n",
       "       1, 2, 2, 1, 1, 1])"
      ]
     },
     "execution_count": 110,
     "metadata": {},
     "output_type": "execute_result"
    }
   ],
   "source": [
    "model = KMeans(n_clusters = 4, random_state = 42)\n",
    "model.fit_predict(X_scaled)"
   ]
  },
  {
   "cell_type": "code",
   "execution_count": 112,
   "metadata": {},
   "outputs": [],
   "source": [
    "data1[\"clusters\"] = model.fit_predict(X_scaled)"
   ]
  },
  {
   "cell_type": "code",
   "execution_count": 115,
   "metadata": {},
   "outputs": [
    {
     "data": {
      "image/png": "[encoded data removed]",
      "text/plain": [
       "<Figure size 720x360 with 1 Axes>"
      ]
     },
     "metadata": {},
     "output_type": "display_data"
    }
   ],
   "source": [
    "plt.figure(figsize=(10,5))\n",
    "sns.scatterplot(data1[\"Aircraft Strength value\"], \n",
    "                data1[\"Navy Fleet Strengths value\"], hue= data1.clusters,palette= \"viridis\");"
   ]
  },
  {
   "cell_type": "code",
   "execution_count": 116,
   "metadata": {},
   "outputs": [
    {
     "data": {
      "image/png": "[encoded data removed]",
      "text/plain": [
       "<Figure size 1080x720 with 1 Axes>"
      ]
     },
     "metadata": {},
     "output_type": "display_data"
    }
   ],
   "source": [
    "plt.figure(figsize=(15,10))\n",
    "plt.title(\"Cluster Count\")\n",
    "ax1 = sns.countplot(x = data1.clusters)\n",
    "\n",
    "for p in ax1.patches:\n",
    "    ax1.annotate(\n",
    "        s=f\"{p.get_height():1.0f}\",\n",
    "        xy=(p.get_x() + p.get_width() / 2., p.get_height()), \n",
    "        xycoords='data',\n",
    "        ha='center', \n",
    "        va='center', \n",
    "        fontsize=11, \n",
    "        color='black',\n",
    "        xytext=(0,7), \n",
    "        textcoords='offset points',\n",
    "        clip_on=True,                 \n",
    "    )\n",
    "plt.show();"
   ]
  },
  {
   "cell_type": "code",
   "execution_count": 117,
   "metadata": {},
   "outputs": [
    {
     "data": {
      "text/html": [
       "<div>\n",
       "<style scoped>\n",
       "    .dataframe tbody tr th:only-of-type {\n",
       "        vertical-align: middle;\n",
       "    }\n",
       "\n",
       "    .dataframe tbody tr th {\n",
       "        vertical-align: top;\n",
       "    }\n",
       "\n",
       "    .dataframe thead th {\n",
       "        text-align: right;\n",
       "    }\n",
       "</style>\n",
       "<table border=\"1\" class=\"dataframe\">\n",
       "  <thead>\n",
       "    <tr style=\"text-align: right;\">\n",
       "      <th></th>\n",
       "      <th>index</th>\n",
       "      <th>Country</th>\n",
       "      <th>Military Strength Power Index</th>\n",
       "      <th>Aircraft Strength value</th>\n",
       "      <th>Fighter/Interceptor Strength value</th>\n",
       "      <th>Attack Aircraft Strength value</th>\n",
       "      <th>Transport Aircraft Fleet Strength value</th>\n",
       "      <th>Trainer Aircraft Fleet value</th>\n",
       "      <th>Helicopter Fleet Strength value</th>\n",
       "      <th>Attack Helicopter Fleet Strength value</th>\n",
       "      <th>...</th>\n",
       "      <th>Frigate Fleet Strength value</th>\n",
       "      <th>defense spending budget value</th>\n",
       "      <th>External Debt value</th>\n",
       "      <th>Airport Totals value</th>\n",
       "      <th>Oil Production value</th>\n",
       "      <th>Oil Consumption value</th>\n",
       "      <th>Proven Oil Reserves value</th>\n",
       "      <th>Available Manpower value</th>\n",
       "      <th>Total Population value</th>\n",
       "      <th>clusters</th>\n",
       "    </tr>\n",
       "  </thead>\n",
       "  <tbody>\n",
       "    <tr>\n",
       "      <th>130</th>\n",
       "      <td>130</td>\n",
       "      <td>United States</td>\n",
       "      <td>0.0606</td>\n",
       "      <td>13264</td>\n",
       "      <td>2085</td>\n",
       "      <td>715</td>\n",
       "      <td>945</td>\n",
       "      <td>2643</td>\n",
       "      <td>5768</td>\n",
       "      <td>967</td>\n",
       "      <td>...</td>\n",
       "      <td>0.0</td>\n",
       "      <td>7.500000e+11</td>\n",
       "      <td>1.791000e+13</td>\n",
       "      <td>13513</td>\n",
       "      <td>9352000.0</td>\n",
       "      <td>20000000.0</td>\n",
       "      <td>3.652000e+10</td>\n",
       "      <td>144872845.0</td>\n",
       "      <td>329256465.0</td>\n",
       "      <td>0</td>\n",
       "    </tr>\n",
       "  </tbody>\n",
       "</table>\n",
       "<p>1 rows × 29 columns</p>\n",
       "</div>"
      ],
      "text/plain": [
       "     index        Country  Military Strength Power Index  \\\n",
       "130    130  United States                         0.0606   \n",
       "\n",
       "     Aircraft Strength value  Fighter/Interceptor Strength value  \\\n",
       "130                    13264                                2085   \n",
       "\n",
       "     Attack Aircraft Strength value  Transport Aircraft Fleet Strength value  \\\n",
       "130                             715                                      945   \n",
       "\n",
       "     Trainer Aircraft Fleet value  Helicopter Fleet Strength value  \\\n",
       "130                          2643                             5768   \n",
       "\n",
       "     Attack Helicopter Fleet Strength value  ...  \\\n",
       "130                                     967  ...   \n",
       "\n",
       "     Frigate Fleet Strength value  defense spending budget value  \\\n",
       "130                           0.0                   7.500000e+11   \n",
       "\n",
       "     External Debt value  Airport Totals value  Oil Production value  \\\n",
       "130         1.791000e+13                 13513             9352000.0   \n",
       "\n",
       "     Oil Consumption value  Proven Oil Reserves value  \\\n",
       "130             20000000.0               3.652000e+10   \n",
       "\n",
       "     Available Manpower value  Total Population value  clusters  \n",
       "130               144872845.0             329256465.0         0  \n",
       "\n",
       "[1 rows x 29 columns]"
      ]
     },
     "execution_count": 117,
     "metadata": {},
     "output_type": "execute_result"
    }
   ],
   "source": [
    "data1[data1[\"clusters\"] == 0]"
   ]
  },
  {
   "cell_type": "code",
   "execution_count": 118,
   "metadata": {},
   "outputs": [
    {
     "data": {
      "text/html": [
       "<div>\n",
       "<style scoped>\n",
       "    .dataframe tbody tr th:only-of-type {\n",
       "        vertical-align: middle;\n",
       "    }\n",
       "\n",
       "    .dataframe tbody tr th {\n",
       "        vertical-align: top;\n",
       "    }\n",
       "\n",
       "    .dataframe thead th {\n",
       "        text-align: right;\n",
       "    }\n",
       "</style>\n",
       "<table border=\"1\" class=\"dataframe\">\n",
       "  <thead>\n",
       "    <tr style=\"text-align: right;\">\n",
       "      <th></th>\n",
       "      <th>index</th>\n",
       "      <th>Country</th>\n",
       "      <th>Military Strength Power Index</th>\n",
       "      <th>Aircraft Strength value</th>\n",
       "      <th>Fighter/Interceptor Strength value</th>\n",
       "      <th>Attack Aircraft Strength value</th>\n",
       "      <th>Transport Aircraft Fleet Strength value</th>\n",
       "      <th>Trainer Aircraft Fleet value</th>\n",
       "      <th>Helicopter Fleet Strength value</th>\n",
       "      <th>Attack Helicopter Fleet Strength value</th>\n",
       "      <th>...</th>\n",
       "      <th>Frigate Fleet Strength value</th>\n",
       "      <th>defense spending budget value</th>\n",
       "      <th>External Debt value</th>\n",
       "      <th>Airport Totals value</th>\n",
       "      <th>Oil Production value</th>\n",
       "      <th>Oil Consumption value</th>\n",
       "      <th>Proven Oil Reserves value</th>\n",
       "      <th>Available Manpower value</th>\n",
       "      <th>Total Population value</th>\n",
       "      <th>clusters</th>\n",
       "    </tr>\n",
       "  </thead>\n",
       "  <tbody>\n",
       "    <tr>\n",
       "      <th>0</th>\n",
       "      <td>0</td>\n",
       "      <td>Afghanistan</td>\n",
       "      <td>1.3444</td>\n",
       "      <td>260</td>\n",
       "      <td>0</td>\n",
       "      <td>25</td>\n",
       "      <td>30</td>\n",
       "      <td>0</td>\n",
       "      <td>187</td>\n",
       "      <td>0</td>\n",
       "      <td>...</td>\n",
       "      <td>0.0</td>\n",
       "      <td>1.200000e+10</td>\n",
       "      <td>2.840000e+09</td>\n",
       "      <td>43</td>\n",
       "      <td>0.0</td>\n",
       "      <td>5500.0</td>\n",
       "      <td>0.000000e+00</td>\n",
       "      <td>14325743.0</td>\n",
       "      <td>34940837.0</td>\n",
       "      <td>1</td>\n",
       "    </tr>\n",
       "    <tr>\n",
       "      <th>1</th>\n",
       "      <td>1</td>\n",
       "      <td>Albania</td>\n",
       "      <td>2.3137</td>\n",
       "      <td>19</td>\n",
       "      <td>0</td>\n",
       "      <td>0</td>\n",
       "      <td>0</td>\n",
       "      <td>0</td>\n",
       "      <td>19</td>\n",
       "      <td>0</td>\n",
       "      <td>...</td>\n",
       "      <td>0.0</td>\n",
       "      <td>2.500000e+08</td>\n",
       "      <td>9.505000e+09</td>\n",
       "      <td>4</td>\n",
       "      <td>16000.0</td>\n",
       "      <td>42500.0</td>\n",
       "      <td>1.683000e+08</td>\n",
       "      <td>1519438.0</td>\n",
       "      <td>3057220.0</td>\n",
       "      <td>1</td>\n",
       "    </tr>\n",
       "    <tr>\n",
       "      <th>3</th>\n",
       "      <td>3</td>\n",
       "      <td>Angola</td>\n",
       "      <td>0.8379</td>\n",
       "      <td>295</td>\n",
       "      <td>72</td>\n",
       "      <td>18</td>\n",
       "      <td>30</td>\n",
       "      <td>47</td>\n",
       "      <td>126</td>\n",
       "      <td>15</td>\n",
       "      <td>...</td>\n",
       "      <td>0.0</td>\n",
       "      <td>7.000000e+09</td>\n",
       "      <td>4.208000e+10</td>\n",
       "      <td>176</td>\n",
       "      <td>1666000.0</td>\n",
       "      <td>82300.0</td>\n",
       "      <td>8.273000e+09</td>\n",
       "      <td>6244205.0</td>\n",
       "      <td>30355880.0</td>\n",
       "      <td>1</td>\n",
       "    </tr>\n",
       "    <tr>\n",
       "      <th>4</th>\n",
       "      <td>4</td>\n",
       "      <td>Argentina</td>\n",
       "      <td>0.6521</td>\n",
       "      <td>227</td>\n",
       "      <td>24</td>\n",
       "      <td>7</td>\n",
       "      <td>9</td>\n",
       "      <td>64</td>\n",
       "      <td>100</td>\n",
       "      <td>0</td>\n",
       "      <td>...</td>\n",
       "      <td>0.0</td>\n",
       "      <td>4.200000e+09</td>\n",
       "      <td>2.149000e+11</td>\n",
       "      <td>1138</td>\n",
       "      <td>479400.0</td>\n",
       "      <td>685000.0</td>\n",
       "      <td>2.185000e+09</td>\n",
       "      <td>20179430.0</td>\n",
       "      <td>44694198.0</td>\n",
       "      <td>1</td>\n",
       "    </tr>\n",
       "    <tr>\n",
       "      <th>5</th>\n",
       "      <td>5</td>\n",
       "      <td>Armenia</td>\n",
       "      <td>2.1251</td>\n",
       "      <td>64</td>\n",
       "      <td>0</td>\n",
       "      <td>9</td>\n",
       "      <td>3</td>\n",
       "      <td>13</td>\n",
       "      <td>37</td>\n",
       "      <td>20</td>\n",
       "      <td>...</td>\n",
       "      <td>0.0</td>\n",
       "      <td>1.385000e+09</td>\n",
       "      <td>1.041000e+10</td>\n",
       "      <td>11</td>\n",
       "      <td>0.0</td>\n",
       "      <td>47500.0</td>\n",
       "      <td>0.000000e+00</td>\n",
       "      <td>1696085.0</td>\n",
       "      <td>3038217.0</td>\n",
       "      <td>1</td>\n",
       "    </tr>\n",
       "    <tr>\n",
       "      <th>...</th>\n",
       "      <td>...</td>\n",
       "      <td>...</td>\n",
       "      <td>...</td>\n",
       "      <td>...</td>\n",
       "      <td>...</td>\n",
       "      <td>...</td>\n",
       "      <td>...</td>\n",
       "      <td>...</td>\n",
       "      <td>...</td>\n",
       "      <td>...</td>\n",
       "      <td>...</td>\n",
       "      <td>...</td>\n",
       "      <td>...</td>\n",
       "      <td>...</td>\n",
       "      <td>...</td>\n",
       "      <td>...</td>\n",
       "      <td>...</td>\n",
       "      <td>...</td>\n",
       "      <td>...</td>\n",
       "      <td>...</td>\n",
       "      <td>...</td>\n",
       "    </tr>\n",
       "    <tr>\n",
       "      <th>131</th>\n",
       "      <td>131</td>\n",
       "      <td>Uruguay</td>\n",
       "      <td>1.8909</td>\n",
       "      <td>50</td>\n",
       "      <td>0</td>\n",
       "      <td>7</td>\n",
       "      <td>9</td>\n",
       "      <td>16</td>\n",
       "      <td>13</td>\n",
       "      <td>0</td>\n",
       "      <td>...</td>\n",
       "      <td>1.0</td>\n",
       "      <td>4.950000e+09</td>\n",
       "      <td>2.837000e+10</td>\n",
       "      <td>133</td>\n",
       "      <td>0.0</td>\n",
       "      <td>55600.0</td>\n",
       "      <td>0.000000e+00</td>\n",
       "      <td>1549878.0</td>\n",
       "      <td>3369299.0</td>\n",
       "      <td>1</td>\n",
       "    </tr>\n",
       "    <tr>\n",
       "      <th>132</th>\n",
       "      <td>132</td>\n",
       "      <td>Uzbekistan</td>\n",
       "      <td>0.8086</td>\n",
       "      <td>185</td>\n",
       "      <td>66</td>\n",
       "      <td>20</td>\n",
       "      <td>18</td>\n",
       "      <td>2</td>\n",
       "      <td>79</td>\n",
       "      <td>25</td>\n",
       "      <td>...</td>\n",
       "      <td>0.0</td>\n",
       "      <td>9.750000e+08</td>\n",
       "      <td>1.690000e+10</td>\n",
       "      <td>53</td>\n",
       "      <td>46070.0</td>\n",
       "      <td>142000.0</td>\n",
       "      <td>5.940000e+08</td>\n",
       "      <td>15912566.0</td>\n",
       "      <td>30023709.0</td>\n",
       "      <td>1</td>\n",
       "    </tr>\n",
       "    <tr>\n",
       "      <th>135</th>\n",
       "      <td>135</td>\n",
       "      <td>Yemen</td>\n",
       "      <td>1.2412</td>\n",
       "      <td>169</td>\n",
       "      <td>77</td>\n",
       "      <td>0</td>\n",
       "      <td>8</td>\n",
       "      <td>21</td>\n",
       "      <td>61</td>\n",
       "      <td>14</td>\n",
       "      <td>...</td>\n",
       "      <td>0.0</td>\n",
       "      <td>1.400000e+09</td>\n",
       "      <td>7.068000e+09</td>\n",
       "      <td>57</td>\n",
       "      <td>12260.0</td>\n",
       "      <td>145000.0</td>\n",
       "      <td>3.000000e+09</td>\n",
       "      <td>11266221.0</td>\n",
       "      <td>28667230.0</td>\n",
       "      <td>1</td>\n",
       "    </tr>\n",
       "    <tr>\n",
       "      <th>136</th>\n",
       "      <td>136</td>\n",
       "      <td>Zambia</td>\n",
       "      <td>1.6464</td>\n",
       "      <td>108</td>\n",
       "      <td>18</td>\n",
       "      <td>0</td>\n",
       "      <td>11</td>\n",
       "      <td>52</td>\n",
       "      <td>27</td>\n",
       "      <td>0</td>\n",
       "      <td>...</td>\n",
       "      <td>0.0</td>\n",
       "      <td>4.000000e+07</td>\n",
       "      <td>1.166000e+10</td>\n",
       "      <td>88</td>\n",
       "      <td>0.0</td>\n",
       "      <td>21000.0</td>\n",
       "      <td>0.000000e+00</td>\n",
       "      <td>6166905.0</td>\n",
       "      <td>16445079.0</td>\n",
       "      <td>1</td>\n",
       "    </tr>\n",
       "    <tr>\n",
       "      <th>137</th>\n",
       "      <td>137</td>\n",
       "      <td>Zimbabwe</td>\n",
       "      <td>1.7577</td>\n",
       "      <td>90</td>\n",
       "      <td>10</td>\n",
       "      <td>0</td>\n",
       "      <td>14</td>\n",
       "      <td>38</td>\n",
       "      <td>28</td>\n",
       "      <td>6</td>\n",
       "      <td>...</td>\n",
       "      <td>0.0</td>\n",
       "      <td>1.000000e+08</td>\n",
       "      <td>9.357000e+09</td>\n",
       "      <td>196</td>\n",
       "      <td>0.0</td>\n",
       "      <td>19500.0</td>\n",
       "      <td>0.000000e+00</td>\n",
       "      <td>5584086.0</td>\n",
       "      <td>14030368.0</td>\n",
       "      <td>1</td>\n",
       "    </tr>\n",
       "  </tbody>\n",
       "</table>\n",
       "<p>104 rows × 29 columns</p>\n",
       "</div>"
      ],
      "text/plain": [
       "     index      Country  Military Strength Power Index  \\\n",
       "0        0  Afghanistan                         1.3444   \n",
       "1        1      Albania                         2.3137   \n",
       "3        3       Angola                         0.8379   \n",
       "4        4    Argentina                         0.6521   \n",
       "5        5      Armenia                         2.1251   \n",
       "..     ...          ...                            ...   \n",
       "131    131      Uruguay                         1.8909   \n",
       "132    132   Uzbekistan                         0.8086   \n",
       "135    135        Yemen                         1.2412   \n",
       "136    136       Zambia                         1.6464   \n",
       "137    137     Zimbabwe                         1.7577   \n",
       "\n",
       "     Aircraft Strength value  Fighter/Interceptor Strength value  \\\n",
       "0                        260                                   0   \n",
       "1                         19                                   0   \n",
       "3                        295                                  72   \n",
       "4                        227                                  24   \n",
       "5                         64                                   0   \n",
       "..                       ...                                 ...   \n",
       "131                       50                                   0   \n",
       "132                      185                                  66   \n",
       "135                      169                                  77   \n",
       "136                      108                                  18   \n",
       "137                       90                                  10   \n",
       "\n",
       "     Attack Aircraft Strength value  Transport Aircraft Fleet Strength value  \\\n",
       "0                                25                                       30   \n",
       "1                                 0                                        0   \n",
       "3                                18                                       30   \n",
       "4                                 7                                        9   \n",
       "5                                 9                                        3   \n",
       "..                              ...                                      ...   \n",
       "131                               7                                        9   \n",
       "132                              20                                       18   \n",
       "135                               0                                        8   \n",
       "136                               0                                       11   \n",
       "137                               0                                       14   \n",
       "\n",
       "     Trainer Aircraft Fleet value  Helicopter Fleet Strength value  \\\n",
       "0                               0                              187   \n",
       "1                               0                               19   \n",
       "3                              47                              126   \n",
       "4                              64                              100   \n",
       "5                              13                               37   \n",
       "..                            ...                              ...   \n",
       "131                            16                               13   \n",
       "132                             2                               79   \n",
       "135                            21                               61   \n",
       "136                            52                               27   \n",
       "137                            38                               28   \n",
       "\n",
       "     Attack Helicopter Fleet Strength value  ...  \\\n",
       "0                                         0  ...   \n",
       "1                                         0  ...   \n",
       "3                                        15  ...   \n",
       "4                                         0  ...   \n",
       "5                                        20  ...   \n",
       "..                                      ...  ...   \n",
       "131                                       0  ...   \n",
       "132                                      25  ...   \n",
       "135                                      14  ...   \n",
       "136                                       0  ...   \n",
       "137                                       6  ...   \n",
       "\n",
       "     Frigate Fleet Strength value  defense spending budget value  \\\n",
       "0                             0.0                   1.200000e+10   \n",
       "1                             0.0                   2.500000e+08   \n",
       "3                             0.0                   7.000000e+09   \n",
       "4                             0.0                   4.200000e+09   \n",
       "5                             0.0                   1.385000e+09   \n",
       "..                            ...                            ...   \n",
       "131                           1.0                   4.950000e+09   \n",
       "132                           0.0                   9.750000e+08   \n",
       "135                           0.0                   1.400000e+09   \n",
       "136                           0.0                   4.000000e+07   \n",
       "137                           0.0                   1.000000e+08   \n",
       "\n",
       "     External Debt value  Airport Totals value  Oil Production value  \\\n",
       "0           2.840000e+09                    43                   0.0   \n",
       "1           9.505000e+09                     4               16000.0   \n",
       "3           4.208000e+10                   176             1666000.0   \n",
       "4           2.149000e+11                  1138              479400.0   \n",
       "5           1.041000e+10                    11                   0.0   \n",
       "..                   ...                   ...                   ...   \n",
       "131         2.837000e+10                   133                   0.0   \n",
       "132         1.690000e+10                    53               46070.0   \n",
       "135         7.068000e+09                    57               12260.0   \n",
       "136         1.166000e+10                    88                   0.0   \n",
       "137         9.357000e+09                   196                   0.0   \n",
       "\n",
       "     Oil Consumption value  Proven Oil Reserves value  \\\n",
       "0                   5500.0               0.000000e+00   \n",
       "1                  42500.0               1.683000e+08   \n",
       "3                  82300.0               8.273000e+09   \n",
       "4                 685000.0               2.185000e+09   \n",
       "5                  47500.0               0.000000e+00   \n",
       "..                     ...                        ...   \n",
       "131                55600.0               0.000000e+00   \n",
       "132               142000.0               5.940000e+08   \n",
       "135               145000.0               3.000000e+09   \n",
       "136                21000.0               0.000000e+00   \n",
       "137                19500.0               0.000000e+00   \n",
       "\n",
       "     Available Manpower value  Total Population value  clusters  \n",
       "0                  14325743.0              34940837.0         1  \n",
       "1                   1519438.0               3057220.0         1  \n",
       "3                   6244205.0              30355880.0         1  \n",
       "4                  20179430.0              44694198.0         1  \n",
       "5                   1696085.0               3038217.0         1  \n",
       "..                        ...                     ...       ...  \n",
       "131                 1549878.0               3369299.0         1  \n",
       "132                15912566.0              30023709.0         1  \n",
       "135                11266221.0              28667230.0         1  \n",
       "136                 6166905.0              16445079.0         1  \n",
       "137                 5584086.0              14030368.0         1  \n",
       "\n",
       "[104 rows x 29 columns]"
      ]
     },
     "execution_count": 118,
     "metadata": {},
     "output_type": "execute_result"
    }
   ],
   "source": [
    "data1[data1[\"clusters\"] == 1]"
   ]
  },
  {
   "cell_type": "code",
   "execution_count": 119,
   "metadata": {},
   "outputs": [
    {
     "data": {
      "text/html": [
       "<div>\n",
       "<style scoped>\n",
       "    .dataframe tbody tr th:only-of-type {\n",
       "        vertical-align: middle;\n",
       "    }\n",
       "\n",
       "    .dataframe tbody tr th {\n",
       "        vertical-align: top;\n",
       "    }\n",
       "\n",
       "    .dataframe thead th {\n",
       "        text-align: right;\n",
       "    }\n",
       "</style>\n",
       "<table border=\"1\" class=\"dataframe\">\n",
       "  <thead>\n",
       "    <tr style=\"text-align: right;\">\n",
       "      <th></th>\n",
       "      <th>index</th>\n",
       "      <th>Country</th>\n",
       "      <th>Military Strength Power Index</th>\n",
       "      <th>Aircraft Strength value</th>\n",
       "      <th>Fighter/Interceptor Strength value</th>\n",
       "      <th>Attack Aircraft Strength value</th>\n",
       "      <th>Transport Aircraft Fleet Strength value</th>\n",
       "      <th>Trainer Aircraft Fleet value</th>\n",
       "      <th>Helicopter Fleet Strength value</th>\n",
       "      <th>Attack Helicopter Fleet Strength value</th>\n",
       "      <th>...</th>\n",
       "      <th>Frigate Fleet Strength value</th>\n",
       "      <th>defense spending budget value</th>\n",
       "      <th>External Debt value</th>\n",
       "      <th>Airport Totals value</th>\n",
       "      <th>Oil Production value</th>\n",
       "      <th>Oil Consumption value</th>\n",
       "      <th>Proven Oil Reserves value</th>\n",
       "      <th>Available Manpower value</th>\n",
       "      <th>Total Population value</th>\n",
       "      <th>clusters</th>\n",
       "    </tr>\n",
       "  </thead>\n",
       "  <tbody>\n",
       "    <tr>\n",
       "      <th>2</th>\n",
       "      <td>2</td>\n",
       "      <td>Algeria</td>\n",
       "      <td>0.4659</td>\n",
       "      <td>551</td>\n",
       "      <td>103</td>\n",
       "      <td>22</td>\n",
       "      <td>59</td>\n",
       "      <td>87</td>\n",
       "      <td>257</td>\n",
       "      <td>45</td>\n",
       "      <td>...</td>\n",
       "      <td>5.0</td>\n",
       "      <td>1.300000e+10</td>\n",
       "      <td>6.260000e+09</td>\n",
       "      <td>157</td>\n",
       "      <td>1306000.0</td>\n",
       "      <td>325000.0</td>\n",
       "      <td>1.220000e+10</td>\n",
       "      <td>20741263.0</td>\n",
       "      <td>4.165749e+07</td>\n",
       "      <td>2</td>\n",
       "    </tr>\n",
       "    <tr>\n",
       "      <th>17</th>\n",
       "      <td>17</td>\n",
       "      <td>Brazil</td>\n",
       "      <td>0.1988</td>\n",
       "      <td>715</td>\n",
       "      <td>43</td>\n",
       "      <td>78</td>\n",
       "      <td>126</td>\n",
       "      <td>198</td>\n",
       "      <td>242</td>\n",
       "      <td>12</td>\n",
       "      <td>...</td>\n",
       "      <td>7.0</td>\n",
       "      <td>2.780000e+10</td>\n",
       "      <td>5.474000e+11</td>\n",
       "      <td>4093</td>\n",
       "      <td>2622000.0</td>\n",
       "      <td>3020000.0</td>\n",
       "      <td>1.300000e+10</td>\n",
       "      <td>107764996.0</td>\n",
       "      <td>2.088469e+08</td>\n",
       "      <td>2</td>\n",
       "    </tr>\n",
       "    <tr>\n",
       "      <th>22</th>\n",
       "      <td>22</td>\n",
       "      <td>Canada</td>\n",
       "      <td>0.3712</td>\n",
       "      <td>385</td>\n",
       "      <td>62</td>\n",
       "      <td>0</td>\n",
       "      <td>38</td>\n",
       "      <td>135</td>\n",
       "      <td>145</td>\n",
       "      <td>0</td>\n",
       "      <td>...</td>\n",
       "      <td>12.0</td>\n",
       "      <td>2.250000e+10</td>\n",
       "      <td>1.608000e+12</td>\n",
       "      <td>1467</td>\n",
       "      <td>3977000.0</td>\n",
       "      <td>2500000.0</td>\n",
       "      <td>1.697000e+11</td>\n",
       "      <td>16110865.0</td>\n",
       "      <td>3.588166e+07</td>\n",
       "      <td>2</td>\n",
       "    </tr>\n",
       "    <tr>\n",
       "      <th>27</th>\n",
       "      <td>27</td>\n",
       "      <td>Colombia</td>\n",
       "      <td>0.6045</td>\n",
       "      <td>469</td>\n",
       "      <td>21</td>\n",
       "      <td>38</td>\n",
       "      <td>76</td>\n",
       "      <td>80</td>\n",
       "      <td>224</td>\n",
       "      <td>0</td>\n",
       "      <td>...</td>\n",
       "      <td>4.0</td>\n",
       "      <td>1.060000e+10</td>\n",
       "      <td>1.246000e+11</td>\n",
       "      <td>836</td>\n",
       "      <td>853600.0</td>\n",
       "      <td>300000.0</td>\n",
       "      <td>2.002000e+09</td>\n",
       "      <td>24084498.0</td>\n",
       "      <td>4.816900e+07</td>\n",
       "      <td>2</td>\n",
       "    </tr>\n",
       "    <tr>\n",
       "      <th>35</th>\n",
       "      <td>35</td>\n",
       "      <td>Egypt</td>\n",
       "      <td>0.1872</td>\n",
       "      <td>1054</td>\n",
       "      <td>215</td>\n",
       "      <td>88</td>\n",
       "      <td>59</td>\n",
       "      <td>387</td>\n",
       "      <td>294</td>\n",
       "      <td>81</td>\n",
       "      <td>...</td>\n",
       "      <td>7.0</td>\n",
       "      <td>1.120000e+10</td>\n",
       "      <td>7.747000e+10</td>\n",
       "      <td>83</td>\n",
       "      <td>589400.0</td>\n",
       "      <td>832000.0</td>\n",
       "      <td>4.400000e+09</td>\n",
       "      <td>42946553.0</td>\n",
       "      <td>9.941332e+07</td>\n",
       "      <td>2</td>\n",
       "    </tr>\n",
       "    <tr>\n",
       "      <th>40</th>\n",
       "      <td>40</td>\n",
       "      <td>France</td>\n",
       "      <td>0.1702</td>\n",
       "      <td>1229</td>\n",
       "      <td>269</td>\n",
       "      <td>0</td>\n",
       "      <td>121</td>\n",
       "      <td>187</td>\n",
       "      <td>589</td>\n",
       "      <td>62</td>\n",
       "      <td>...</td>\n",
       "      <td>11.0</td>\n",
       "      <td>4.150000e+10</td>\n",
       "      <td>5.360000e+12</td>\n",
       "      <td>464</td>\n",
       "      <td>15170.0</td>\n",
       "      <td>1600000.0</td>\n",
       "      <td>7.235000e+07</td>\n",
       "      <td>30111868.0</td>\n",
       "      <td>6.736436e+07</td>\n",
       "      <td>2</td>\n",
       "    </tr>\n",
       "    <tr>\n",
       "      <th>43</th>\n",
       "      <td>43</td>\n",
       "      <td>Germany</td>\n",
       "      <td>0.2186</td>\n",
       "      <td>712</td>\n",
       "      <td>128</td>\n",
       "      <td>74</td>\n",
       "      <td>71</td>\n",
       "      <td>26</td>\n",
       "      <td>386</td>\n",
       "      <td>56</td>\n",
       "      <td>...</td>\n",
       "      <td>9.0</td>\n",
       "      <td>5.000000e+10</td>\n",
       "      <td>5.326000e+12</td>\n",
       "      <td>539</td>\n",
       "      <td>43410.0</td>\n",
       "      <td>2500000.0</td>\n",
       "      <td>1.454000e+08</td>\n",
       "      <td>37010559.0</td>\n",
       "      <td>8.045774e+07</td>\n",
       "      <td>2</td>\n",
       "    </tr>\n",
       "    <tr>\n",
       "      <th>45</th>\n",
       "      <td>45</td>\n",
       "      <td>Greece</td>\n",
       "      <td>0.5311</td>\n",
       "      <td>566</td>\n",
       "      <td>187</td>\n",
       "      <td>0</td>\n",
       "      <td>15</td>\n",
       "      <td>143</td>\n",
       "      <td>231</td>\n",
       "      <td>29</td>\n",
       "      <td>...</td>\n",
       "      <td>13.0</td>\n",
       "      <td>4.844000e+09</td>\n",
       "      <td>5.066000e+11</td>\n",
       "      <td>77</td>\n",
       "      <td>2753.0</td>\n",
       "      <td>350000.0</td>\n",
       "      <td>1.000000e+07</td>\n",
       "      <td>4993347.0</td>\n",
       "      <td>1.076152e+07</td>\n",
       "      <td>2</td>\n",
       "    </tr>\n",
       "    <tr>\n",
       "      <th>49</th>\n",
       "      <td>49</td>\n",
       "      <td>India</td>\n",
       "      <td>0.0953</td>\n",
       "      <td>2123</td>\n",
       "      <td>538</td>\n",
       "      <td>172</td>\n",
       "      <td>250</td>\n",
       "      <td>359</td>\n",
       "      <td>722</td>\n",
       "      <td>23</td>\n",
       "      <td>...</td>\n",
       "      <td>13.0</td>\n",
       "      <td>6.100000e+10</td>\n",
       "      <td>5.016000e+11</td>\n",
       "      <td>346</td>\n",
       "      <td>733900.0</td>\n",
       "      <td>5000000.0</td>\n",
       "      <td>4.621000e+09</td>\n",
       "      <td>622480340.0</td>\n",
       "      <td>1.296834e+09</td>\n",
       "      <td>2</td>\n",
       "    </tr>\n",
       "    <tr>\n",
       "      <th>50</th>\n",
       "      <td>50</td>\n",
       "      <td>Indonesia</td>\n",
       "      <td>0.2544</td>\n",
       "      <td>462</td>\n",
       "      <td>41</td>\n",
       "      <td>39</td>\n",
       "      <td>54</td>\n",
       "      <td>109</td>\n",
       "      <td>177</td>\n",
       "      <td>16</td>\n",
       "      <td>...</td>\n",
       "      <td>7.0</td>\n",
       "      <td>7.600000e+09</td>\n",
       "      <td>3.444000e+11</td>\n",
       "      <td>673</td>\n",
       "      <td>801700.0</td>\n",
       "      <td>1630000.0</td>\n",
       "      <td>3.230000e+09</td>\n",
       "      <td>130868127.0</td>\n",
       "      <td>2.627874e+08</td>\n",
       "      <td>2</td>\n",
       "    </tr>\n",
       "    <tr>\n",
       "      <th>51</th>\n",
       "      <td>51</td>\n",
       "      <td>Iran</td>\n",
       "      <td>0.2191</td>\n",
       "      <td>509</td>\n",
       "      <td>155</td>\n",
       "      <td>23</td>\n",
       "      <td>62</td>\n",
       "      <td>94</td>\n",
       "      <td>100</td>\n",
       "      <td>12</td>\n",
       "      <td>...</td>\n",
       "      <td>7.0</td>\n",
       "      <td>1.960000e+10</td>\n",
       "      <td>7.995000e+09</td>\n",
       "      <td>319</td>\n",
       "      <td>4469000.0</td>\n",
       "      <td>2000000.0</td>\n",
       "      <td>1.584000e+11</td>\n",
       "      <td>47324105.0</td>\n",
       "      <td>8.302474e+07</td>\n",
       "      <td>2</td>\n",
       "    </tr>\n",
       "    <tr>\n",
       "      <th>52</th>\n",
       "      <td>52</td>\n",
       "      <td>Iraq</td>\n",
       "      <td>0.7911</td>\n",
       "      <td>348</td>\n",
       "      <td>26</td>\n",
       "      <td>33</td>\n",
       "      <td>16</td>\n",
       "      <td>102</td>\n",
       "      <td>186</td>\n",
       "      <td>40</td>\n",
       "      <td>...</td>\n",
       "      <td>0.0</td>\n",
       "      <td>1.730000e+09</td>\n",
       "      <td>7.302000e+10</td>\n",
       "      <td>102</td>\n",
       "      <td>4454000.0</td>\n",
       "      <td>825000.0</td>\n",
       "      <td>1.425000e+11</td>\n",
       "      <td>16399240.0</td>\n",
       "      <td>4.019422e+07</td>\n",
       "      <td>2</td>\n",
       "    </tr>\n",
       "    <tr>\n",
       "      <th>54</th>\n",
       "      <td>54</td>\n",
       "      <td>Israel</td>\n",
       "      <td>0.3111</td>\n",
       "      <td>589</td>\n",
       "      <td>259</td>\n",
       "      <td>18</td>\n",
       "      <td>15</td>\n",
       "      <td>154</td>\n",
       "      <td>146</td>\n",
       "      <td>48</td>\n",
       "      <td>...</td>\n",
       "      <td>0.0</td>\n",
       "      <td>2.000000e+10</td>\n",
       "      <td>8.866000e+10</td>\n",
       "      <td>47</td>\n",
       "      <td>390.0</td>\n",
       "      <td>250000.0</td>\n",
       "      <td>1.273000e+07</td>\n",
       "      <td>3647983.0</td>\n",
       "      <td>8.424904e+06</td>\n",
       "      <td>2</td>\n",
       "    </tr>\n",
       "    <tr>\n",
       "      <th>55</th>\n",
       "      <td>55</td>\n",
       "      <td>Italy</td>\n",
       "      <td>0.2111</td>\n",
       "      <td>860</td>\n",
       "      <td>99</td>\n",
       "      <td>110</td>\n",
       "      <td>38</td>\n",
       "      <td>185</td>\n",
       "      <td>439</td>\n",
       "      <td>59</td>\n",
       "      <td>...</td>\n",
       "      <td>12.0</td>\n",
       "      <td>2.780000e+10</td>\n",
       "      <td>2.444000e+12</td>\n",
       "      <td>129</td>\n",
       "      <td>77530.0</td>\n",
       "      <td>1300000.0</td>\n",
       "      <td>5.567000e+08</td>\n",
       "      <td>28011003.0</td>\n",
       "      <td>6.224667e+07</td>\n",
       "      <td>2</td>\n",
       "    </tr>\n",
       "    <tr>\n",
       "      <th>57</th>\n",
       "      <td>57</td>\n",
       "      <td>Japan</td>\n",
       "      <td>0.1501</td>\n",
       "      <td>1561</td>\n",
       "      <td>279</td>\n",
       "      <td>12</td>\n",
       "      <td>60</td>\n",
       "      <td>427</td>\n",
       "      <td>637</td>\n",
       "      <td>119</td>\n",
       "      <td>...</td>\n",
       "      <td>0.0</td>\n",
       "      <td>4.900000e+10</td>\n",
       "      <td>3.240000e+12</td>\n",
       "      <td>175</td>\n",
       "      <td>3841.0</td>\n",
       "      <td>4000000.0</td>\n",
       "      <td>4.412000e+07</td>\n",
       "      <td>53873803.0</td>\n",
       "      <td>1.261682e+08</td>\n",
       "      <td>2</td>\n",
       "    </tr>\n",
       "    <tr>\n",
       "      <th>73</th>\n",
       "      <td>73</td>\n",
       "      <td>Mexico</td>\n",
       "      <td>0.6065</td>\n",
       "      <td>484</td>\n",
       "      <td>3</td>\n",
       "      <td>33</td>\n",
       "      <td>43</td>\n",
       "      <td>206</td>\n",
       "      <td>202</td>\n",
       "      <td>0</td>\n",
       "      <td>...</td>\n",
       "      <td>4.0</td>\n",
       "      <td>7.000000e+09</td>\n",
       "      <td>4.458000e+11</td>\n",
       "      <td>1714</td>\n",
       "      <td>1981000.0</td>\n",
       "      <td>2000000.0</td>\n",
       "      <td>7.640000e+09</td>\n",
       "      <td>60460418.0</td>\n",
       "      <td>1.259592e+08</td>\n",
       "      <td>2</td>\n",
       "    </tr>\n",
       "    <tr>\n",
       "      <th>79</th>\n",
       "      <td>79</td>\n",
       "      <td>Myanmar</td>\n",
       "      <td>0.5691</td>\n",
       "      <td>276</td>\n",
       "      <td>59</td>\n",
       "      <td>21</td>\n",
       "      <td>27</td>\n",
       "      <td>82</td>\n",
       "      <td>86</td>\n",
       "      <td>9</td>\n",
       "      <td>...</td>\n",
       "      <td>5.0</td>\n",
       "      <td>2.650000e+09</td>\n",
       "      <td>6.594000e+09</td>\n",
       "      <td>64</td>\n",
       "      <td>12000.0</td>\n",
       "      <td>42600.0</td>\n",
       "      <td>1.390000e+08</td>\n",
       "      <td>30258643.0</td>\n",
       "      <td>5.562251e+07</td>\n",
       "      <td>2</td>\n",
       "    </tr>\n",
       "    <tr>\n",
       "      <th>87</th>\n",
       "      <td>87</td>\n",
       "      <td>North Korea</td>\n",
       "      <td>0.3718</td>\n",
       "      <td>949</td>\n",
       "      <td>458</td>\n",
       "      <td>114</td>\n",
       "      <td>4</td>\n",
       "      <td>169</td>\n",
       "      <td>204</td>\n",
       "      <td>20</td>\n",
       "      <td>...</td>\n",
       "      <td>11.0</td>\n",
       "      <td>1.600000e+09</td>\n",
       "      <td>5.000000e+09</td>\n",
       "      <td>82</td>\n",
       "      <td>0.0</td>\n",
       "      <td>15500.0</td>\n",
       "      <td>0.000000e+00</td>\n",
       "      <td>13045878.0</td>\n",
       "      <td>2.538108e+07</td>\n",
       "      <td>2</td>\n",
       "    </tr>\n",
       "    <tr>\n",
       "      <th>91</th>\n",
       "      <td>91</td>\n",
       "      <td>Pakistan</td>\n",
       "      <td>0.2364</td>\n",
       "      <td>1372</td>\n",
       "      <td>356</td>\n",
       "      <td>90</td>\n",
       "      <td>49</td>\n",
       "      <td>513</td>\n",
       "      <td>346</td>\n",
       "      <td>56</td>\n",
       "      <td>...</td>\n",
       "      <td>9.0</td>\n",
       "      <td>1.140000e+10</td>\n",
       "      <td>8.219000e+10</td>\n",
       "      <td>151</td>\n",
       "      <td>89720.0</td>\n",
       "      <td>575000.0</td>\n",
       "      <td>3.506000e+08</td>\n",
       "      <td>96344277.0</td>\n",
       "      <td>2.078625e+08</td>\n",
       "      <td>2</td>\n",
       "    </tr>\n",
       "    <tr>\n",
       "      <th>102</th>\n",
       "      <td>102</td>\n",
       "      <td>Saudi Arabia</td>\n",
       "      <td>0.3034</td>\n",
       "      <td>879</td>\n",
       "      <td>270</td>\n",
       "      <td>81</td>\n",
       "      <td>49</td>\n",
       "      <td>208</td>\n",
       "      <td>283</td>\n",
       "      <td>34</td>\n",
       "      <td>...</td>\n",
       "      <td>3.0</td>\n",
       "      <td>6.760000e+10</td>\n",
       "      <td>2.051000e+11</td>\n",
       "      <td>214</td>\n",
       "      <td>10130000.0</td>\n",
       "      <td>4000000.0</td>\n",
       "      <td>2.665000e+11</td>\n",
       "      <td>17703745.0</td>\n",
       "      <td>3.309111e+07</td>\n",
       "      <td>2</td>\n",
       "    </tr>\n",
       "    <tr>\n",
       "      <th>110</th>\n",
       "      <td>110</td>\n",
       "      <td>South Korea</td>\n",
       "      <td>0.1509</td>\n",
       "      <td>1649</td>\n",
       "      <td>414</td>\n",
       "      <td>71</td>\n",
       "      <td>41</td>\n",
       "      <td>298</td>\n",
       "      <td>803</td>\n",
       "      <td>112</td>\n",
       "      <td>...</td>\n",
       "      <td>0.0</td>\n",
       "      <td>4.400000e+10</td>\n",
       "      <td>3.846000e+11</td>\n",
       "      <td>111</td>\n",
       "      <td>0.0</td>\n",
       "      <td>2800000.0</td>\n",
       "      <td>0.000000e+00</td>\n",
       "      <td>25709049.0</td>\n",
       "      <td>5.141810e+07</td>\n",
       "      <td>2</td>\n",
       "    </tr>\n",
       "    <tr>\n",
       "      <th>112</th>\n",
       "      <td>112</td>\n",
       "      <td>Spain</td>\n",
       "      <td>0.3388</td>\n",
       "      <td>512</td>\n",
       "      <td>137</td>\n",
       "      <td>12</td>\n",
       "      <td>46</td>\n",
       "      <td>162</td>\n",
       "      <td>162</td>\n",
       "      <td>19</td>\n",
       "      <td>...</td>\n",
       "      <td>11.0</td>\n",
       "      <td>1.510000e+10</td>\n",
       "      <td>2.094000e+12</td>\n",
       "      <td>150</td>\n",
       "      <td>2252.0</td>\n",
       "      <td>1226000.0</td>\n",
       "      <td>1.500000e+08</td>\n",
       "      <td>23136275.0</td>\n",
       "      <td>4.933108e+07</td>\n",
       "      <td>2</td>\n",
       "    </tr>\n",
       "    <tr>\n",
       "      <th>118</th>\n",
       "      <td>118</td>\n",
       "      <td>Syria</td>\n",
       "      <td>0.8241</td>\n",
       "      <td>456</td>\n",
       "      <td>199</td>\n",
       "      <td>20</td>\n",
       "      <td>5</td>\n",
       "      <td>67</td>\n",
       "      <td>165</td>\n",
       "      <td>27</td>\n",
       "      <td>...</td>\n",
       "      <td>2.0</td>\n",
       "      <td>1.800000e+09</td>\n",
       "      <td>4.989000e+09</td>\n",
       "      <td>90</td>\n",
       "      <td>14000.0</td>\n",
       "      <td>260000.0</td>\n",
       "      <td>2.500000e+09</td>\n",
       "      <td>12450728.0</td>\n",
       "      <td>1.945426e+07</td>\n",
       "      <td>2</td>\n",
       "    </tr>\n",
       "    <tr>\n",
       "      <th>119</th>\n",
       "      <td>119</td>\n",
       "      <td>Taiwan</td>\n",
       "      <td>0.4008</td>\n",
       "      <td>744</td>\n",
       "      <td>289</td>\n",
       "      <td>0</td>\n",
       "      <td>19</td>\n",
       "      <td>207</td>\n",
       "      <td>210</td>\n",
       "      <td>91</td>\n",
       "      <td>...</td>\n",
       "      <td>22.0</td>\n",
       "      <td>1.072500e+10</td>\n",
       "      <td>1.819000e+11</td>\n",
       "      <td>37</td>\n",
       "      <td>196.0</td>\n",
       "      <td>1032000.0</td>\n",
       "      <td>2.380000e+06</td>\n",
       "      <td>12196809.0</td>\n",
       "      <td>2.354596e+07</td>\n",
       "      <td>2</td>\n",
       "    </tr>\n",
       "    <tr>\n",
       "      <th>122</th>\n",
       "      <td>122</td>\n",
       "      <td>Thailand</td>\n",
       "      <td>0.3571</td>\n",
       "      <td>570</td>\n",
       "      <td>75</td>\n",
       "      <td>19</td>\n",
       "      <td>48</td>\n",
       "      <td>154</td>\n",
       "      <td>307</td>\n",
       "      <td>7</td>\n",
       "      <td>...</td>\n",
       "      <td>7.0</td>\n",
       "      <td>7.100000e+09</td>\n",
       "      <td>1.320000e+11</td>\n",
       "      <td>101</td>\n",
       "      <td>239700.0</td>\n",
       "      <td>1345000.0</td>\n",
       "      <td>3.964000e+08</td>\n",
       "      <td>35543014.0</td>\n",
       "      <td>6.861586e+07</td>\n",
       "      <td>2</td>\n",
       "    </tr>\n",
       "    <tr>\n",
       "      <th>124</th>\n",
       "      <td>124</td>\n",
       "      <td>Turkey</td>\n",
       "      <td>0.2098</td>\n",
       "      <td>1055</td>\n",
       "      <td>206</td>\n",
       "      <td>0</td>\n",
       "      <td>80</td>\n",
       "      <td>276</td>\n",
       "      <td>497</td>\n",
       "      <td>100</td>\n",
       "      <td>...</td>\n",
       "      <td>16.0</td>\n",
       "      <td>1.900000e+10</td>\n",
       "      <td>4.524000e+11</td>\n",
       "      <td>98</td>\n",
       "      <td>245000.0</td>\n",
       "      <td>845000.0</td>\n",
       "      <td>3.885000e+08</td>\n",
       "      <td>41847478.0</td>\n",
       "      <td>8.125724e+07</td>\n",
       "      <td>2</td>\n",
       "    </tr>\n",
       "    <tr>\n",
       "      <th>127</th>\n",
       "      <td>127</td>\n",
       "      <td>Ukraine</td>\n",
       "      <td>0.4457</td>\n",
       "      <td>297</td>\n",
       "      <td>48</td>\n",
       "      <td>25</td>\n",
       "      <td>32</td>\n",
       "      <td>76</td>\n",
       "      <td>121</td>\n",
       "      <td>34</td>\n",
       "      <td>...</td>\n",
       "      <td>1.0</td>\n",
       "      <td>5.400000e+09</td>\n",
       "      <td>1.300000e+11</td>\n",
       "      <td>187</td>\n",
       "      <td>29650.0</td>\n",
       "      <td>325000.0</td>\n",
       "      <td>3.950000e+08</td>\n",
       "      <td>22195911.0</td>\n",
       "      <td>4.395230e+07</td>\n",
       "      <td>2</td>\n",
       "    </tr>\n",
       "    <tr>\n",
       "      <th>128</th>\n",
       "      <td>128</td>\n",
       "      <td>United Arab Emirates</td>\n",
       "      <td>0.7034</td>\n",
       "      <td>538</td>\n",
       "      <td>98</td>\n",
       "      <td>20</td>\n",
       "      <td>40</td>\n",
       "      <td>145</td>\n",
       "      <td>229</td>\n",
       "      <td>30</td>\n",
       "      <td>...</td>\n",
       "      <td>0.0</td>\n",
       "      <td>2.275500e+10</td>\n",
       "      <td>2.376000e+11</td>\n",
       "      <td>43</td>\n",
       "      <td>3174000.0</td>\n",
       "      <td>575000.0</td>\n",
       "      <td>9.780000e+10</td>\n",
       "      <td>5820789.0</td>\n",
       "      <td>9.701315e+06</td>\n",
       "      <td>2</td>\n",
       "    </tr>\n",
       "    <tr>\n",
       "      <th>129</th>\n",
       "      <td>129</td>\n",
       "      <td>United Kingdom</td>\n",
       "      <td>0.1717</td>\n",
       "      <td>733</td>\n",
       "      <td>133</td>\n",
       "      <td>15</td>\n",
       "      <td>44</td>\n",
       "      <td>241</td>\n",
       "      <td>312</td>\n",
       "      <td>49</td>\n",
       "      <td>...</td>\n",
       "      <td>13.0</td>\n",
       "      <td>5.510000e+10</td>\n",
       "      <td>8.126000e+12</td>\n",
       "      <td>460</td>\n",
       "      <td>910500.0</td>\n",
       "      <td>1600000.0</td>\n",
       "      <td>2.564000e+09</td>\n",
       "      <td>29948413.0</td>\n",
       "      <td>6.510525e+07</td>\n",
       "      <td>2</td>\n",
       "    </tr>\n",
       "    <tr>\n",
       "      <th>133</th>\n",
       "      <td>133</td>\n",
       "      <td>Venezuela</td>\n",
       "      <td>0.6449</td>\n",
       "      <td>260</td>\n",
       "      <td>38</td>\n",
       "      <td>0</td>\n",
       "      <td>52</td>\n",
       "      <td>82</td>\n",
       "      <td>86</td>\n",
       "      <td>10</td>\n",
       "      <td>...</td>\n",
       "      <td>4.0</td>\n",
       "      <td>7.450000e+08</td>\n",
       "      <td>1.003000e+11</td>\n",
       "      <td>444</td>\n",
       "      <td>2007000.0</td>\n",
       "      <td>575000.0</td>\n",
       "      <td>3.009000e+11</td>\n",
       "      <td>14260129.0</td>\n",
       "      <td>3.168918e+07</td>\n",
       "      <td>2</td>\n",
       "    </tr>\n",
       "    <tr>\n",
       "      <th>134</th>\n",
       "      <td>134</td>\n",
       "      <td>Vietnam</td>\n",
       "      <td>0.3559</td>\n",
       "      <td>293</td>\n",
       "      <td>77</td>\n",
       "      <td>0</td>\n",
       "      <td>38</td>\n",
       "      <td>36</td>\n",
       "      <td>138</td>\n",
       "      <td>25</td>\n",
       "      <td>...</td>\n",
       "      <td>9.0</td>\n",
       "      <td>5.500000e+09</td>\n",
       "      <td>9.658000e+10</td>\n",
       "      <td>45</td>\n",
       "      <td>271400.0</td>\n",
       "      <td>525000.0</td>\n",
       "      <td>4.400000e+09</td>\n",
       "      <td>51043216.0</td>\n",
       "      <td>9.704033e+07</td>\n",
       "      <td>2</td>\n",
       "    </tr>\n",
       "  </tbody>\n",
       "</table>\n",
       "<p>31 rows × 29 columns</p>\n",
       "</div>"
      ],
      "text/plain": [
       "     index               Country  Military Strength Power Index  \\\n",
       "2        2               Algeria                         0.4659   \n",
       "17      17                Brazil                         0.1988   \n",
       "22      22                Canada                         0.3712   \n",
       "27      27              Colombia                         0.6045   \n",
       "35      35                 Egypt                         0.1872   \n",
       "40      40                France                         0.1702   \n",
       "43      43               Germany                         0.2186   \n",
       "45      45                Greece                         0.5311   \n",
       "49      49                 India                         0.0953   \n",
       "50      50             Indonesia                         0.2544   \n",
       "51      51                  Iran                         0.2191   \n",
       "52      52                  Iraq                         0.7911   \n",
       "54      54                Israel                         0.3111   \n",
       "55      55                 Italy                         0.2111   \n",
       "57      57                 Japan                         0.1501   \n",
       "73      73                Mexico                         0.6065   \n",
       "79      79               Myanmar                         0.5691   \n",
       "87      87           North Korea                         0.3718   \n",
       "91      91              Pakistan                         0.2364   \n",
       "102    102          Saudi Arabia                         0.3034   \n",
       "110    110           South Korea                         0.1509   \n",
       "112    112                 Spain                         0.3388   \n",
       "118    118                 Syria                         0.8241   \n",
       "119    119                Taiwan                         0.4008   \n",
       "122    122              Thailand                         0.3571   \n",
       "124    124                Turkey                         0.2098   \n",
       "127    127               Ukraine                         0.4457   \n",
       "128    128  United Arab Emirates                         0.7034   \n",
       "129    129        United Kingdom                         0.1717   \n",
       "133    133             Venezuela                         0.6449   \n",
       "134    134               Vietnam                         0.3559   \n",
       "\n",
       "     Aircraft Strength value  Fighter/Interceptor Strength value  \\\n",
       "2                        551                                 103   \n",
       "17                       715                                  43   \n",
       "22                       385                                  62   \n",
       "27                       469                                  21   \n",
       "35                      1054                                 215   \n",
       "40                      1229                                 269   \n",
       "43                       712                                 128   \n",
       "45                       566                                 187   \n",
       "49                      2123                                 538   \n",
       "50                       462                                  41   \n",
       "51                       509                                 155   \n",
       "52                       348                                  26   \n",
       "54                       589                                 259   \n",
       "55                       860                                  99   \n",
       "57                      1561                                 279   \n",
       "73                       484                                   3   \n",
       "79                       276                                  59   \n",
       "87                       949                                 458   \n",
       "91                      1372                                 356   \n",
       "102                      879                                 270   \n",
       "110                     1649                                 414   \n",
       "112                      512                                 137   \n",
       "118                      456                                 199   \n",
       "119                      744                                 289   \n",
       "122                      570                                  75   \n",
       "124                     1055                                 206   \n",
       "127                      297                                  48   \n",
       "128                      538                                  98   \n",
       "129                      733                                 133   \n",
       "133                      260                                  38   \n",
       "134                      293                                  77   \n",
       "\n",
       "     Attack Aircraft Strength value  Transport Aircraft Fleet Strength value  \\\n",
       "2                                22                                       59   \n",
       "17                               78                                      126   \n",
       "22                                0                                       38   \n",
       "27                               38                                       76   \n",
       "35                               88                                       59   \n",
       "40                                0                                      121   \n",
       "43                               74                                       71   \n",
       "45                                0                                       15   \n",
       "49                              172                                      250   \n",
       "50                               39                                       54   \n",
       "51                               23                                       62   \n",
       "52                               33                                       16   \n",
       "54                               18                                       15   \n",
       "55                              110                                       38   \n",
       "57                               12                                       60   \n",
       "73                               33                                       43   \n",
       "79                               21                                       27   \n",
       "87                              114                                        4   \n",
       "91                               90                                       49   \n",
       "102                              81                                       49   \n",
       "110                              71                                       41   \n",
       "112                              12                                       46   \n",
       "118                              20                                        5   \n",
       "119                               0                                       19   \n",
       "122                              19                                       48   \n",
       "124                               0                                       80   \n",
       "127                              25                                       32   \n",
       "128                              20                                       40   \n",
       "129                              15                                       44   \n",
       "133                               0                                       52   \n",
       "134                               0                                       38   \n",
       "\n",
       "     Trainer Aircraft Fleet value  Helicopter Fleet Strength value  \\\n",
       "2                              87                              257   \n",
       "17                            198                              242   \n",
       "22                            135                              145   \n",
       "27                             80                              224   \n",
       "35                            387                              294   \n",
       "40                            187                              589   \n",
       "43                             26                              386   \n",
       "45                            143                              231   \n",
       "49                            359                              722   \n",
       "50                            109                              177   \n",
       "51                             94                              100   \n",
       "52                            102                              186   \n",
       "54                            154                              146   \n",
       "55                            185                              439   \n",
       "57                            427                              637   \n",
       "73                            206                              202   \n",
       "79                             82                               86   \n",
       "87                            169                              204   \n",
       "91                            513                              346   \n",
       "102                           208                              283   \n",
       "110                           298                              803   \n",
       "112                           162                              162   \n",
       "118                            67                              165   \n",
       "119                           207                              210   \n",
       "122                           154                              307   \n",
       "124                           276                              497   \n",
       "127                            76                              121   \n",
       "128                           145                              229   \n",
       "129                           241                              312   \n",
       "133                            82                               86   \n",
       "134                            36                              138   \n",
       "\n",
       "     Attack Helicopter Fleet Strength value  ...  \\\n",
       "2                                        45  ...   \n",
       "17                                       12  ...   \n",
       "22                                        0  ...   \n",
       "27                                        0  ...   \n",
       "35                                       81  ...   \n",
       "40                                       62  ...   \n",
       "43                                       56  ...   \n",
       "45                                       29  ...   \n",
       "49                                       23  ...   \n",
       "50                                       16  ...   \n",
       "51                                       12  ...   \n",
       "52                                       40  ...   \n",
       "54                                       48  ...   \n",
       "55                                       59  ...   \n",
       "57                                      119  ...   \n",
       "73                                        0  ...   \n",
       "79                                        9  ...   \n",
       "87                                       20  ...   \n",
       "91                                       56  ...   \n",
       "102                                      34  ...   \n",
       "110                                     112  ...   \n",
       "112                                      19  ...   \n",
       "118                                      27  ...   \n",
       "119                                      91  ...   \n",
       "122                                       7  ...   \n",
       "124                                     100  ...   \n",
       "127                                      34  ...   \n",
       "128                                      30  ...   \n",
       "129                                      49  ...   \n",
       "133                                      10  ...   \n",
       "134                                      25  ...   \n",
       "\n",
       "     Frigate Fleet Strength value  defense spending budget value  \\\n",
       "2                             5.0                   1.300000e+10   \n",
       "17                            7.0                   2.780000e+10   \n",
       "22                           12.0                   2.250000e+10   \n",
       "27                            4.0                   1.060000e+10   \n",
       "35                            7.0                   1.120000e+10   \n",
       "40                           11.0                   4.150000e+10   \n",
       "43                            9.0                   5.000000e+10   \n",
       "45                           13.0                   4.844000e+09   \n",
       "49                           13.0                   6.100000e+10   \n",
       "50                            7.0                   7.600000e+09   \n",
       "51                            7.0                   1.960000e+10   \n",
       "52                            0.0                   1.730000e+09   \n",
       "54                            0.0                   2.000000e+10   \n",
       "55                           12.0                   2.780000e+10   \n",
       "57                            0.0                   4.900000e+10   \n",
       "73                            4.0                   7.000000e+09   \n",
       "79                            5.0                   2.650000e+09   \n",
       "87                           11.0                   1.600000e+09   \n",
       "91                            9.0                   1.140000e+10   \n",
       "102                           3.0                   6.760000e+10   \n",
       "110                           0.0                   4.400000e+10   \n",
       "112                          11.0                   1.510000e+10   \n",
       "118                           2.0                   1.800000e+09   \n",
       "119                          22.0                   1.072500e+10   \n",
       "122                           7.0                   7.100000e+09   \n",
       "124                          16.0                   1.900000e+10   \n",
       "127                           1.0                   5.400000e+09   \n",
       "128                           0.0                   2.275500e+10   \n",
       "129                          13.0                   5.510000e+10   \n",
       "133                           4.0                   7.450000e+08   \n",
       "134                           9.0                   5.500000e+09   \n",
       "\n",
       "     External Debt value  Airport Totals value  Oil Production value  \\\n",
       "2           6.260000e+09                   157             1306000.0   \n",
       "17          5.474000e+11                  4093             2622000.0   \n",
       "22          1.608000e+12                  1467             3977000.0   \n",
       "27          1.246000e+11                   836              853600.0   \n",
       "35          7.747000e+10                    83              589400.0   \n",
       "40          5.360000e+12                   464               15170.0   \n",
       "43          5.326000e+12                   539               43410.0   \n",
       "45          5.066000e+11                    77                2753.0   \n",
       "49          5.016000e+11                   346              733900.0   \n",
       "50          3.444000e+11                   673              801700.0   \n",
       "51          7.995000e+09                   319             4469000.0   \n",
       "52          7.302000e+10                   102             4454000.0   \n",
       "54          8.866000e+10                    47                 390.0   \n",
       "55          2.444000e+12                   129               77530.0   \n",
       "57          3.240000e+12                   175                3841.0   \n",
       "73          4.458000e+11                  1714             1981000.0   \n",
       "79          6.594000e+09                    64               12000.0   \n",
       "87          5.000000e+09                    82                   0.0   \n",
       "91          8.219000e+10                   151               89720.0   \n",
       "102         2.051000e+11                   214            10130000.0   \n",
       "110         3.846000e+11                   111                   0.0   \n",
       "112         2.094000e+12                   150                2252.0   \n",
       "118         4.989000e+09                    90               14000.0   \n",
       "119         1.819000e+11                    37                 196.0   \n",
       "122         1.320000e+11                   101              239700.0   \n",
       "124         4.524000e+11                    98              245000.0   \n",
       "127         1.300000e+11                   187               29650.0   \n",
       "128         2.376000e+11                    43             3174000.0   \n",
       "129         8.126000e+12                   460              910500.0   \n",
       "133         1.003000e+11                   444             2007000.0   \n",
       "134         9.658000e+10                    45              271400.0   \n",
       "\n",
       "     Oil Consumption value  Proven Oil Reserves value  \\\n",
       "2                 325000.0               1.220000e+10   \n",
       "17               3020000.0               1.300000e+10   \n",
       "22               2500000.0               1.697000e+11   \n",
       "27                300000.0               2.002000e+09   \n",
       "35                832000.0               4.400000e+09   \n",
       "40               1600000.0               7.235000e+07   \n",
       "43               2500000.0               1.454000e+08   \n",
       "45                350000.0               1.000000e+07   \n",
       "49               5000000.0               4.621000e+09   \n",
       "50               1630000.0               3.230000e+09   \n",
       "51               2000000.0               1.584000e+11   \n",
       "52                825000.0               1.425000e+11   \n",
       "54                250000.0               1.273000e+07   \n",
       "55               1300000.0               5.567000e+08   \n",
       "57               4000000.0               4.412000e+07   \n",
       "73               2000000.0               7.640000e+09   \n",
       "79                 42600.0               1.390000e+08   \n",
       "87                 15500.0               0.000000e+00   \n",
       "91                575000.0               3.506000e+08   \n",
       "102              4000000.0               2.665000e+11   \n",
       "110              2800000.0               0.000000e+00   \n",
       "112              1226000.0               1.500000e+08   \n",
       "118               260000.0               2.500000e+09   \n",
       "119              1032000.0               2.380000e+06   \n",
       "122              1345000.0               3.964000e+08   \n",
       "124               845000.0               3.885000e+08   \n",
       "127               325000.0               3.950000e+08   \n",
       "128               575000.0               9.780000e+10   \n",
       "129              1600000.0               2.564000e+09   \n",
       "133               575000.0               3.009000e+11   \n",
       "134               525000.0               4.400000e+09   \n",
       "\n",
       "     Available Manpower value  Total Population value  clusters  \n",
       "2                  20741263.0            4.165749e+07         2  \n",
       "17                107764996.0            2.088469e+08         2  \n",
       "22                 16110865.0            3.588166e+07         2  \n",
       "27                 24084498.0            4.816900e+07         2  \n",
       "35                 42946553.0            9.941332e+07         2  \n",
       "40                 30111868.0            6.736436e+07         2  \n",
       "43                 37010559.0            8.045774e+07         2  \n",
       "45                  4993347.0            1.076152e+07         2  \n",
       "49                622480340.0            1.296834e+09         2  \n",
       "50                130868127.0            2.627874e+08         2  \n",
       "51                 47324105.0            8.302474e+07         2  \n",
       "52                 16399240.0            4.019422e+07         2  \n",
       "54                  3647983.0            8.424904e+06         2  \n",
       "55                 28011003.0            6.224667e+07         2  \n",
       "57                 53873803.0            1.261682e+08         2  \n",
       "73                 60460418.0            1.259592e+08         2  \n",
       "79                 30258643.0            5.562251e+07         2  \n",
       "87                 13045878.0            2.538108e+07         2  \n",
       "91                 96344277.0            2.078625e+08         2  \n",
       "102                17703745.0            3.309111e+07         2  \n",
       "110                25709049.0            5.141810e+07         2  \n",
       "112                23136275.0            4.933108e+07         2  \n",
       "118                12450728.0            1.945426e+07         2  \n",
       "119                12196809.0            2.354596e+07         2  \n",
       "122                35543014.0            6.861586e+07         2  \n",
       "124                41847478.0            8.125724e+07         2  \n",
       "127                22195911.0            4.395230e+07         2  \n",
       "128                 5820789.0            9.701315e+06         2  \n",
       "129                29948413.0            6.510525e+07         2  \n",
       "133                14260129.0            3.168918e+07         2  \n",
       "134                51043216.0            9.704033e+07         2  \n",
       "\n",
       "[31 rows x 29 columns]"
      ]
     },
     "execution_count": 119,
     "metadata": {},
     "output_type": "execute_result"
    }
   ],
   "source": [
    "data1[data1[\"clusters\"] == 2]"
   ]
  },
  {
   "cell_type": "code",
   "execution_count": 120,
   "metadata": {},
   "outputs": [
    {
     "data": {
      "text/html": [
       "<div>\n",
       "<style scoped>\n",
       "    .dataframe tbody tr th:only-of-type {\n",
       "        vertical-align: middle;\n",
       "    }\n",
       "\n",
       "    .dataframe tbody tr th {\n",
       "        vertical-align: top;\n",
       "    }\n",
       "\n",
       "    .dataframe thead th {\n",
       "        text-align: right;\n",
       "    }\n",
       "</style>\n",
       "<table border=\"1\" class=\"dataframe\">\n",
       "  <thead>\n",
       "    <tr style=\"text-align: right;\">\n",
       "      <th></th>\n",
       "      <th>index</th>\n",
       "      <th>Country</th>\n",
       "      <th>Military Strength Power Index</th>\n",
       "      <th>Aircraft Strength value</th>\n",
       "      <th>Fighter/Interceptor Strength value</th>\n",
       "      <th>Attack Aircraft Strength value</th>\n",
       "      <th>Transport Aircraft Fleet Strength value</th>\n",
       "      <th>Trainer Aircraft Fleet value</th>\n",
       "      <th>Helicopter Fleet Strength value</th>\n",
       "      <th>Attack Helicopter Fleet Strength value</th>\n",
       "      <th>...</th>\n",
       "      <th>Frigate Fleet Strength value</th>\n",
       "      <th>defense spending budget value</th>\n",
       "      <th>External Debt value</th>\n",
       "      <th>Airport Totals value</th>\n",
       "      <th>Oil Production value</th>\n",
       "      <th>Oil Consumption value</th>\n",
       "      <th>Proven Oil Reserves value</th>\n",
       "      <th>Available Manpower value</th>\n",
       "      <th>Total Population value</th>\n",
       "      <th>clusters</th>\n",
       "    </tr>\n",
       "  </thead>\n",
       "  <tbody>\n",
       "    <tr>\n",
       "      <th>26</th>\n",
       "      <td>26</td>\n",
       "      <td>China</td>\n",
       "      <td>0.0691</td>\n",
       "      <td>3210</td>\n",
       "      <td>1232</td>\n",
       "      <td>371</td>\n",
       "      <td>224</td>\n",
       "      <td>314</td>\n",
       "      <td>911</td>\n",
       "      <td>281</td>\n",
       "      <td>...</td>\n",
       "      <td>52.0</td>\n",
       "      <td>2.370000e+11</td>\n",
       "      <td>1.598000e+12</td>\n",
       "      <td>507</td>\n",
       "      <td>3838000.0</td>\n",
       "      <td>13500000.0</td>\n",
       "      <td>2.562000e+10</td>\n",
       "      <td>752855402.0</td>\n",
       "      <td>1.384689e+09</td>\n",
       "      <td>3</td>\n",
       "    </tr>\n",
       "    <tr>\n",
       "      <th>101</th>\n",
       "      <td>101</td>\n",
       "      <td>Russia</td>\n",
       "      <td>0.0681</td>\n",
       "      <td>4163</td>\n",
       "      <td>873</td>\n",
       "      <td>742</td>\n",
       "      <td>424</td>\n",
       "      <td>497</td>\n",
       "      <td>1522</td>\n",
       "      <td>531</td>\n",
       "      <td>...</td>\n",
       "      <td>10.0</td>\n",
       "      <td>4.800000e+10</td>\n",
       "      <td>5.396000e+11</td>\n",
       "      <td>1218</td>\n",
       "      <td>10580000.0</td>\n",
       "      <td>3225000.0</td>\n",
       "      <td>8.000000e+10</td>\n",
       "      <td>69640160.0</td>\n",
       "      <td>1.421228e+08</td>\n",
       "      <td>3</td>\n",
       "    </tr>\n",
       "  </tbody>\n",
       "</table>\n",
       "<p>2 rows × 29 columns</p>\n",
       "</div>"
      ],
      "text/plain": [
       "     index Country  Military Strength Power Index  Aircraft Strength value  \\\n",
       "26      26   China                         0.0691                     3210   \n",
       "101    101  Russia                         0.0681                     4163   \n",
       "\n",
       "     Fighter/Interceptor Strength value  Attack Aircraft Strength value  \\\n",
       "26                                 1232                             371   \n",
       "101                                 873                             742   \n",
       "\n",
       "     Transport Aircraft Fleet Strength value  Trainer Aircraft Fleet value  \\\n",
       "26                                       224                           314   \n",
       "101                                      424                           497   \n",
       "\n",
       "     Helicopter Fleet Strength value  Attack Helicopter Fleet Strength value  \\\n",
       "26                               911                                     281   \n",
       "101                             1522                                     531   \n",
       "\n",
       "     ...  Frigate Fleet Strength value  defense spending budget value  \\\n",
       "26   ...                          52.0                   2.370000e+11   \n",
       "101  ...                          10.0                   4.800000e+10   \n",
       "\n",
       "     External Debt value  Airport Totals value  Oil Production value  \\\n",
       "26          1.598000e+12                   507             3838000.0   \n",
       "101         5.396000e+11                  1218            10580000.0   \n",
       "\n",
       "     Oil Consumption value  Proven Oil Reserves value  \\\n",
       "26              13500000.0               2.562000e+10   \n",
       "101              3225000.0               8.000000e+10   \n",
       "\n",
       "     Available Manpower value  Total Population value  clusters  \n",
       "26                752855402.0            1.384689e+09         3  \n",
       "101                69640160.0            1.421228e+08         3  \n",
       "\n",
       "[2 rows x 29 columns]"
      ]
     },
     "execution_count": 120,
     "metadata": {},
     "output_type": "execute_result"
    }
   ],
   "source": [
    "data1[data1[\"clusters\"] == 3]"
   ]
  },
  {
   "cell_type": "markdown",
   "metadata": {
    "id": "bj8H_Fmr8AKR"
   },
   "source": [
    "### Evaluate "
   ]
  },
  {
   "cell_type": "code",
   "execution_count": 123,
   "metadata": {
    "id": "h_oGrBIS8AKR"
   },
   "outputs": [
    {
     "name": "stdout",
     "output_type": "stream",
     "text": [
      "Silhouette Score(n=4): 0.42808136261005936\n"
     ]
    }
   ],
   "source": [
    "model = KMeans(n_clusters = 4, random_state = 42)\n",
    "model.fit(X_scaled)\n",
    "print(f'Silhouette Score(n=4): {silhouette_score(X_scaled, model.predict(X_scaled))}')"
   ]
  },
  {
   "cell_type": "code",
   "execution_count": 125,
   "metadata": {},
   "outputs": [
    {
     "data": {
      "text/html": [
       "<div>\n",
       "<style scoped>\n",
       "    .dataframe tbody tr th:only-of-type {\n",
       "        vertical-align: middle;\n",
       "    }\n",
       "\n",
       "    .dataframe tbody tr th {\n",
       "        vertical-align: top;\n",
       "    }\n",
       "\n",
       "    .dataframe thead th {\n",
       "        text-align: right;\n",
       "    }\n",
       "</style>\n",
       "<table border=\"1\" class=\"dataframe\">\n",
       "  <thead>\n",
       "    <tr style=\"text-align: right;\">\n",
       "      <th>clusters</th>\n",
       "      <th>0</th>\n",
       "      <th>1</th>\n",
       "      <th>2</th>\n",
       "      <th>3</th>\n",
       "    </tr>\n",
       "  </thead>\n",
       "  <tbody>\n",
       "    <tr>\n",
       "      <th>index</th>\n",
       "      <td>1.300000e+02</td>\n",
       "      <td>6.547115e+01</td>\n",
       "      <td>7.700000e+01</td>\n",
       "      <td>6.350000e+01</td>\n",
       "    </tr>\n",
       "    <tr>\n",
       "      <th>Military Strength Power Index</th>\n",
       "      <td>6.060000e-02</td>\n",
       "      <td>1.826067e+00</td>\n",
       "      <td>3.700000e-01</td>\n",
       "      <td>6.860000e-02</td>\n",
       "    </tr>\n",
       "    <tr>\n",
       "      <th>Aircraft Strength value</th>\n",
       "      <td>1.326400e+04</td>\n",
       "      <td>9.396154e+01</td>\n",
       "      <td>7.483871e+02</td>\n",
       "      <td>3.686500e+03</td>\n",
       "    </tr>\n",
       "    <tr>\n",
       "      <th>Fighter/Interceptor Strength value</th>\n",
       "      <td>2.085000e+03</td>\n",
       "      <td>1.712500e+01</td>\n",
       "      <td>1.704839e+02</td>\n",
       "      <td>1.052500e+03</td>\n",
       "    </tr>\n",
       "    <tr>\n",
       "      <th>Attack Aircraft Strength value</th>\n",
       "      <td>7.150000e+02</td>\n",
       "      <td>4.798077e+00</td>\n",
       "      <td>3.961290e+01</td>\n",
       "      <td>5.565000e+02</td>\n",
       "    </tr>\n",
       "    <tr>\n",
       "      <th>Transport Aircraft Fleet Strength value</th>\n",
       "      <td>9.450000e+02</td>\n",
       "      <td>8.673077e+00</td>\n",
       "      <td>5.409677e+01</td>\n",
       "      <td>3.240000e+02</td>\n",
       "    </tr>\n",
       "    <tr>\n",
       "      <th>Trainer Aircraft Fleet value</th>\n",
       "      <td>2.643000e+03</td>\n",
       "      <td>2.290385e+01</td>\n",
       "      <td>1.804839e+02</td>\n",
       "      <td>4.055000e+02</td>\n",
       "    </tr>\n",
       "    <tr>\n",
       "      <th>Helicopter Fleet Strength value</th>\n",
       "      <td>5.768000e+03</td>\n",
       "      <td>3.975000e+01</td>\n",
       "      <td>2.879355e+02</td>\n",
       "      <td>1.216500e+03</td>\n",
       "    </tr>\n",
       "    <tr>\n",
       "      <th>Attack Helicopter Fleet Strength value</th>\n",
       "      <td>9.670000e+02</td>\n",
       "      <td>5.115385e+00</td>\n",
       "      <td>3.951613e+01</td>\n",
       "      <td>4.060000e+02</td>\n",
       "    </tr>\n",
       "    <tr>\n",
       "      <th>Tank Strength value</th>\n",
       "      <td>6.289000e+03</td>\n",
       "      <td>1.978942e+02</td>\n",
       "      <td>1.480839e+03</td>\n",
       "      <td>8.225000e+03</td>\n",
       "    </tr>\n",
       "    <tr>\n",
       "      <th>AFV/APC Strength value</th>\n",
       "      <td>3.925300e+04</td>\n",
       "      <td>6.974327e+02</td>\n",
       "      <td>5.522645e+03</td>\n",
       "      <td>3.001900e+04</td>\n",
       "    </tr>\n",
       "    <tr>\n",
       "      <th>Self-Propelled Artillery Strength value</th>\n",
       "      <td>1.465000e+03</td>\n",
       "      <td>4.750000e+01</td>\n",
       "      <td>4.190323e+02</td>\n",
       "      <td>4.941500e+03</td>\n",
       "    </tr>\n",
       "    <tr>\n",
       "      <th>Towed Artillery Strength value</th>\n",
       "      <td>2.740000e+03</td>\n",
       "      <td>1.279135e+02</td>\n",
       "      <td>9.761613e+02</td>\n",
       "      <td>4.032500e+03</td>\n",
       "    </tr>\n",
       "    <tr>\n",
       "      <th>Rocket Projector Strength value</th>\n",
       "      <td>1.366000e+03</td>\n",
       "      <td>4.451923e+01</td>\n",
       "      <td>2.951935e+02</td>\n",
       "      <td>3.255000e+03</td>\n",
       "    </tr>\n",
       "    <tr>\n",
       "      <th>Navy Fleet Strengths value</th>\n",
       "      <td>4.900000e+02</td>\n",
       "      <td>2.798077e+01</td>\n",
       "      <td>1.857419e+02</td>\n",
       "      <td>6.900000e+02</td>\n",
       "    </tr>\n",
       "    <tr>\n",
       "      <th>Aircraft Carrier Fleet Strength value</th>\n",
       "      <td>2.000000e+01</td>\n",
       "      <td>3.846154e-02</td>\n",
       "      <td>5.483871e-01</td>\n",
       "      <td>1.500000e+00</td>\n",
       "    </tr>\n",
       "    <tr>\n",
       "      <th>Submarine Fleet Strength value</th>\n",
       "      <td>6.600000e+01</td>\n",
       "      <td>6.923077e-01</td>\n",
       "      <td>8.967742e+00</td>\n",
       "      <td>6.800000e+01</td>\n",
       "    </tr>\n",
       "    <tr>\n",
       "      <th>Destroyer Fleet Strength value</th>\n",
       "      <td>9.100000e+01</td>\n",
       "      <td>1.730769e-01</td>\n",
       "      <td>2.419355e+00</td>\n",
       "      <td>2.600000e+01</td>\n",
       "    </tr>\n",
       "    <tr>\n",
       "      <th>Frigate Fleet Strength value</th>\n",
       "      <td>0.000000e+00</td>\n",
       "      <td>1.144231e+00</td>\n",
       "      <td>7.225806e+00</td>\n",
       "      <td>3.100000e+01</td>\n",
       "    </tr>\n",
       "    <tr>\n",
       "      <th>defense spending budget value</th>\n",
       "      <td>7.500000e+11</td>\n",
       "      <td>2.408386e+09</td>\n",
       "      <td>2.082739e+10</td>\n",
       "      <td>1.425000e+11</td>\n",
       "    </tr>\n",
       "    <tr>\n",
       "      <th>External Debt value</th>\n",
       "      <td>1.791000e+13</td>\n",
       "      <td>1.798279e+11</td>\n",
       "      <td>1.062615e+12</td>\n",
       "      <td>1.068800e+12</td>\n",
       "    </tr>\n",
       "    <tr>\n",
       "      <th>Airport Totals value</th>\n",
       "      <td>1.351300e+04</td>\n",
       "      <td>1.085577e+02</td>\n",
       "      <td>4.354194e+02</td>\n",
       "      <td>8.625000e+02</td>\n",
       "    </tr>\n",
       "    <tr>\n",
       "      <th>Oil Production value</th>\n",
       "      <td>9.352000e+06</td>\n",
       "      <td>1.728857e+05</td>\n",
       "      <td>1.259875e+06</td>\n",
       "      <td>7.209000e+06</td>\n",
       "    </tr>\n",
       "    <tr>\n",
       "      <th>Oil Consumption value</th>\n",
       "      <td>2.000000e+07</td>\n",
       "      <td>1.536585e+05</td>\n",
       "      <td>1.424939e+06</td>\n",
       "      <td>8.362500e+06</td>\n",
       "    </tr>\n",
       "    <tr>\n",
       "      <th>Proven Oil Reserves value</th>\n",
       "      <td>3.652000e+10</td>\n",
       "      <td>2.991617e+09</td>\n",
       "      <td>3.854904e+10</td>\n",
       "      <td>5.281000e+10</td>\n",
       "    </tr>\n",
       "    <tr>\n",
       "      <th>Available Manpower value</th>\n",
       "      <td>1.448728e+08</td>\n",
       "      <td>8.321424e+06</td>\n",
       "      <td>5.413978e+07</td>\n",
       "      <td>4.112478e+08</td>\n",
       "    </tr>\n",
       "    <tr>\n",
       "      <th>Total Population value</th>\n",
       "      <td>3.292565e+08</td>\n",
       "      <td>1.943839e+07</td>\n",
       "      <td>1.116535e+08</td>\n",
       "      <td>7.634059e+08</td>\n",
       "    </tr>\n",
       "  </tbody>\n",
       "</table>\n",
       "</div>"
      ],
      "text/plain": [
       "clusters                                            0             1  \\\n",
       "index                                    1.300000e+02  6.547115e+01   \n",
       "Military Strength Power Index            6.060000e-02  1.826067e+00   \n",
       "Aircraft Strength value                  1.326400e+04  9.396154e+01   \n",
       "Fighter/Interceptor Strength value       2.085000e+03  1.712500e+01   \n",
       "Attack Aircraft Strength value           7.150000e+02  4.798077e+00   \n",
       "Transport Aircraft Fleet Strength value  9.450000e+02  8.673077e+00   \n",
       "Trainer Aircraft Fleet value             2.643000e+03  2.290385e+01   \n",
       "Helicopter Fleet Strength value          5.768000e+03  3.975000e+01   \n",
       "Attack Helicopter Fleet Strength value   9.670000e+02  5.115385e+00   \n",
       "Tank Strength value                      6.289000e+03  1.978942e+02   \n",
       "AFV/APC Strength value                   3.925300e+04  6.974327e+02   \n",
       "Self-Propelled Artillery Strength value  1.465000e+03  4.750000e+01   \n",
       "Towed Artillery Strength value           2.740000e+03  1.279135e+02   \n",
       "Rocket Projector Strength value          1.366000e+03  4.451923e+01   \n",
       "Navy Fleet Strengths value               4.900000e+02  2.798077e+01   \n",
       "Aircraft Carrier Fleet Strength value    2.000000e+01  3.846154e-02   \n",
       "Submarine Fleet Strength value           6.600000e+01  6.923077e-01   \n",
       "Destroyer Fleet Strength value           9.100000e+01  1.730769e-01   \n",
       "Frigate Fleet Strength value             0.000000e+00  1.144231e+00   \n",
       "defense spending budget value            7.500000e+11  2.408386e+09   \n",
       "External Debt value                      1.791000e+13  1.798279e+11   \n",
       "Airport Totals value                     1.351300e+04  1.085577e+02   \n",
       "Oil Production value                     9.352000e+06  1.728857e+05   \n",
       "Oil Consumption value                    2.000000e+07  1.536585e+05   \n",
       "Proven Oil Reserves value                3.652000e+10  2.991617e+09   \n",
       "Available Manpower value                 1.448728e+08  8.321424e+06   \n",
       "Total Population value                   3.292565e+08  1.943839e+07   \n",
       "\n",
       "clusters                                            2             3  \n",
       "index                                    7.700000e+01  6.350000e+01  \n",
       "Military Strength Power Index            3.700000e-01  6.860000e-02  \n",
       "Aircraft Strength value                  7.483871e+02  3.686500e+03  \n",
       "Fighter/Interceptor Strength value       1.704839e+02  1.052500e+03  \n",
       "Attack Aircraft Strength value           3.961290e+01  5.565000e+02  \n",
       "Transport Aircraft Fleet Strength value  5.409677e+01  3.240000e+02  \n",
       "Trainer Aircraft Fleet value             1.804839e+02  4.055000e+02  \n",
       "Helicopter Fleet Strength value          2.879355e+02  1.216500e+03  \n",
       "Attack Helicopter Fleet Strength value   3.951613e+01  4.060000e+02  \n",
       "Tank Strength value                      1.480839e+03  8.225000e+03  \n",
       "AFV/APC Strength value                   5.522645e+03  3.001900e+04  \n",
       "Self-Propelled Artillery Strength value  4.190323e+02  4.941500e+03  \n",
       "Towed Artillery Strength value           9.761613e+02  4.032500e+03  \n",
       "Rocket Projector Strength value          2.951935e+02  3.255000e+03  \n",
       "Navy Fleet Strengths value               1.857419e+02  6.900000e+02  \n",
       "Aircraft Carrier Fleet Strength value    5.483871e-01  1.500000e+00  \n",
       "Submarine Fleet Strength value           8.967742e+00  6.800000e+01  \n",
       "Destroyer Fleet Strength value           2.419355e+00  2.600000e+01  \n",
       "Frigate Fleet Strength value             7.225806e+00  3.100000e+01  \n",
       "defense spending budget value            2.082739e+10  1.425000e+11  \n",
       "External Debt value                      1.062615e+12  1.068800e+12  \n",
       "Airport Totals value                     4.354194e+02  8.625000e+02  \n",
       "Oil Production value                     1.259875e+06  7.209000e+06  \n",
       "Oil Consumption value                    1.424939e+06  8.362500e+06  \n",
       "Proven Oil Reserves value                3.854904e+10  5.281000e+10  \n",
       "Available Manpower value                 5.413978e+07  4.112478e+08  \n",
       "Total Population value                   1.116535e+08  7.634059e+08  "
      ]
     },
     "execution_count": 125,
     "metadata": {},
     "output_type": "execute_result"
    }
   ],
   "source": [
    "ev = pd.DataFrame(X,columns=data1.drop([\"Country\",\"clusters\"],axis=1).columns)\n",
    "ev[\"clusters\"] = data1[\"clusters\"]\n",
    "\n",
    "pred = ev.groupby(\"clusters\").mean().T\n",
    "pred"
   ]
  },
  {
   "cell_type": "markdown",
   "metadata": {
    "id": "eLzoqvfI8AKR"
   },
   "source": [
    "## Hierarchical Clustering"
   ]
  },
  {
   "cell_type": "code",
   "execution_count": 126,
   "metadata": {
    "id": "BF5xL3HF8AKS"
   },
   "outputs": [],
   "source": [
    "from scipy.cluster.hierarchy import dendrogram, linkage"
   ]
  },
  {
   "cell_type": "markdown",
   "metadata": {
    "id": "hZZd6NX_8AKS"
   },
   "source": [
    "### Dendogram"
   ]
  },
  {
   "cell_type": "code",
   "execution_count": null,
   "metadata": {
    "id": "0834lMh08AKS"
   },
   "outputs": [],
   "source": [
    "hc_ward = linkage(y = X, method = \"ward\")\n",
    "hc_complete = linkage(X, \"complete\")\n",
    "hc_average = linkage(X, \"average\")\n",
    "hc_single = linkage(X, \"single\")"
   ]
  },
  {
   "cell_type": "code",
   "execution_count": 127,
   "metadata": {},
   "outputs": [],
   "source": [
    "hc_ward = linkage(y = X, method = \"ward\") # eklendiği sınıfın varyansını düşürecek şekile ata\n",
    "hc_complete = linkage(X, \"complete\") # en uzak noktaya göre en küçük değer\n",
    "hc_average = linkage(X, \"average\")  # ortalama\n",
    "hc_single = linkage(X, \"single\") #en yakın noktaya göre en küçük değer"
   ]
  },
  {
   "cell_type": "code",
   "execution_count": 128,
   "metadata": {},
   "outputs": [
    {
     "data": {
      "image/png": "[encoded data removed]",
      "text/plain": [
       "<Figure size 1440x864 with 4 Axes>"
      ]
     },
     "metadata": {},
     "output_type": "display_data"
    }
   ],
   "source": [
    "plt.figure(figsize = (20,12))\n",
    "\n",
    "plt.subplot(221)\n",
    "plt.title(\"Ward\")\n",
    "plt.xlabel(\"Observations\")\n",
    "plt.ylabel(\"Distance\")\n",
    "dendrogram(hc_ward, leaf_font_size = 10, truncate_mode='lastp', p=10)\n",
    "\n",
    "plt.subplot(222)\n",
    "plt.title(\"Complete\")\n",
    "plt.xlabel(\"Observations\")\n",
    "plt.ylabel(\"Distance\")\n",
    "dendrogram(hc_complete, leaf_font_size = 10, truncate_mode='lastp', p=10)\n",
    "\n",
    "plt.subplot(223)\n",
    "plt.title(\"Average\")\n",
    "plt.xlabel(\"Observations\")\n",
    "plt.ylabel(\"Distance\")\n",
    "dendrogram(hc_average, leaf_font_size = 10, truncate_mode='lastp', p=10)\n",
    "\n",
    "plt.subplot(224)\n",
    "plt.title(\"Single\")\n",
    "plt.xlabel(\"Observations\")\n",
    "plt.ylabel(\"Distance\")\n",
    "dendrogram(hc_single, leaf_font_size = 10, truncate_mode='lastp', p=10);"
   ]
  },
  {
   "cell_type": "markdown",
   "metadata": {
    "id": "nOhjvMZN8AKS"
   },
   "source": [
    "### Model Building and label visualisation"
   ]
  },
  {
   "cell_type": "code",
   "execution_count": 129,
   "metadata": {
    "id": "-OmyaWc_8AKS"
   },
   "outputs": [],
   "source": [
    "from sklearn.cluster import AgglomerativeClustering"
   ]
  },
  {
   "cell_type": "code",
   "execution_count": 130,
   "metadata": {},
   "outputs": [
    {
     "data": {
      "text/plain": [
       "array([2, 2, 2, 2, 2, 2, 1, 2, 2, 2, 2, 2, 1, 2, 2, 2, 2, 2, 2, 2, 2, 2,\n",
       "       1, 2, 2, 2, 1, 2, 2, 2, 2, 2, 2, 2, 2, 2, 2, 2, 2, 2, 0, 2, 2, 0,\n",
       "       2, 2, 2, 2, 2, 2, 2, 2, 2, 1, 2, 1, 2, 0, 2, 2, 2, 2, 2, 2, 2, 2,\n",
       "       2, 2, 2, 2, 2, 2, 2, 2, 2, 2, 2, 2, 2, 2, 2, 2, 0, 2, 2, 2, 2, 2,\n",
       "       2, 2, 2, 2, 2, 2, 2, 2, 2, 2, 2, 2, 2, 2, 2, 2, 2, 2, 2, 2, 2, 2,\n",
       "       2, 2, 1, 2, 2, 2, 1, 1, 2, 2, 2, 2, 2, 2, 2, 2, 2, 2, 2, 0, 3, 2,\n",
       "       2, 2, 2, 2, 2, 2], dtype=int64)"
      ]
     },
     "execution_count": 130,
     "metadata": {},
     "output_type": "execute_result"
    }
   ],
   "source": [
    "model1 = AgglomerativeClustering(n_clusters=4, affinity = \"euclidean\", linkage = \"ward\")\n",
    "model1.fit_predict(X)"
   ]
  },
  {
   "cell_type": "code",
   "execution_count": 131,
   "metadata": {},
   "outputs": [
    {
     "name": "stdout",
     "output_type": "stream",
     "text": [
      "For n_clusters=2, the silhouette score is 0.9227153206161361\n",
      "For n_clusters=3, the silhouette score is 0.8995442950406763\n",
      "For n_clusters=4, the silhouette score is 0.8671436271577667\n",
      "For n_clusters=5, the silhouette score is 0.8675195540884064\n",
      "For n_clusters=6, the silhouette score is 0.7789462746208773\n",
      "For n_clusters=7, the silhouette score is 0.7817947547149927\n",
      "For n_clusters=8, the silhouette score is 0.7847423624689158\n"
     ]
    }
   ],
   "source": [
    "range_n_clusters = range(2,9)\n",
    "for num_clusters in range_n_clusters:\n",
    "    # intialise kmeans\n",
    "    kmeans = KMeans(n_clusters=num_clusters, random_state=42)\n",
    "    kmeans.fit(X)\n",
    "    cluster_labels = kmeans.labels_\n",
    "    # silhouette score\n",
    "    silhouette_avg = silhouette_score(X, cluster_labels)\n",
    "    print(f\"For n_clusters={num_clusters}, the silhouette score is {silhouette_avg}\")"
   ]
  },
  {
   "cell_type": "code",
   "execution_count": 132,
   "metadata": {},
   "outputs": [],
   "source": [
    "data1[\"clusters_1\"] = model1.labels_"
   ]
  },
  {
   "cell_type": "code",
   "execution_count": 134,
   "metadata": {
    "id": "AyWIsy3P8AKT"
   },
   "outputs": [
    {
     "data": {
      "image/png": "[encoded data removed]",
      "text/plain": [
       "<Figure size 1080x720 with 1 Axes>"
      ]
     },
     "metadata": {},
     "output_type": "display_data"
    }
   ],
   "source": [
    "plt.figure(figsize=(15,10))\n",
    "plt.title(\"Cluster Count\")\n",
    "ax1 = sns.countplot(x = data1.clusters_1)\n",
    "\n",
    "for p in ax1.patches:\n",
    "    ax1.annotate(\n",
    "        s=f\"{p.get_height():1.0f}\",\n",
    "        xy=(p.get_x() + p.get_width() / 2., p.get_height()), \n",
    "        xycoords='data',\n",
    "        ha='center', \n",
    "        va='center', \n",
    "        fontsize=11, \n",
    "        color='black',\n",
    "        xytext=(0,7), \n",
    "        textcoords='offset points',\n",
    "        clip_on=True,                \n",
    "    )\n",
    "plt.show();"
   ]
  },
  {
   "cell_type": "code",
   "execution_count": 135,
   "metadata": {
    "id": "ae5r4ScQ8AKZ"
   },
   "outputs": [
    {
     "data": {
      "text/html": [
       "<div>\n",
       "<style scoped>\n",
       "    .dataframe tbody tr th:only-of-type {\n",
       "        vertical-align: middle;\n",
       "    }\n",
       "\n",
       "    .dataframe tbody tr th {\n",
       "        vertical-align: top;\n",
       "    }\n",
       "\n",
       "    .dataframe thead th {\n",
       "        text-align: right;\n",
       "    }\n",
       "</style>\n",
       "<table border=\"1\" class=\"dataframe\">\n",
       "  <thead>\n",
       "    <tr style=\"text-align: right;\">\n",
       "      <th></th>\n",
       "      <th>index</th>\n",
       "      <th>Country</th>\n",
       "      <th>Military Strength Power Index</th>\n",
       "      <th>Aircraft Strength value</th>\n",
       "      <th>Fighter/Interceptor Strength value</th>\n",
       "      <th>Attack Aircraft Strength value</th>\n",
       "      <th>Transport Aircraft Fleet Strength value</th>\n",
       "      <th>Trainer Aircraft Fleet value</th>\n",
       "      <th>Helicopter Fleet Strength value</th>\n",
       "      <th>Attack Helicopter Fleet Strength value</th>\n",
       "      <th>...</th>\n",
       "      <th>defense spending budget value</th>\n",
       "      <th>External Debt value</th>\n",
       "      <th>Airport Totals value</th>\n",
       "      <th>Oil Production value</th>\n",
       "      <th>Oil Consumption value</th>\n",
       "      <th>Proven Oil Reserves value</th>\n",
       "      <th>Available Manpower value</th>\n",
       "      <th>Total Population value</th>\n",
       "      <th>clusters</th>\n",
       "      <th>clusters_1</th>\n",
       "    </tr>\n",
       "  </thead>\n",
       "  <tbody>\n",
       "    <tr>\n",
       "      <th>40</th>\n",
       "      <td>40</td>\n",
       "      <td>France</td>\n",
       "      <td>0.1702</td>\n",
       "      <td>1229</td>\n",
       "      <td>269</td>\n",
       "      <td>0</td>\n",
       "      <td>121</td>\n",
       "      <td>187</td>\n",
       "      <td>589</td>\n",
       "      <td>62</td>\n",
       "      <td>...</td>\n",
       "      <td>4.150000e+10</td>\n",
       "      <td>5.360000e+12</td>\n",
       "      <td>464</td>\n",
       "      <td>15170.0</td>\n",
       "      <td>1600000.0</td>\n",
       "      <td>7.235000e+07</td>\n",
       "      <td>30111868.0</td>\n",
       "      <td>67364357.0</td>\n",
       "      <td>2</td>\n",
       "      <td>0</td>\n",
       "    </tr>\n",
       "    <tr>\n",
       "      <th>43</th>\n",
       "      <td>43</td>\n",
       "      <td>Germany</td>\n",
       "      <td>0.2186</td>\n",
       "      <td>712</td>\n",
       "      <td>128</td>\n",
       "      <td>74</td>\n",
       "      <td>71</td>\n",
       "      <td>26</td>\n",
       "      <td>386</td>\n",
       "      <td>56</td>\n",
       "      <td>...</td>\n",
       "      <td>5.000000e+10</td>\n",
       "      <td>5.326000e+12</td>\n",
       "      <td>539</td>\n",
       "      <td>43410.0</td>\n",
       "      <td>2500000.0</td>\n",
       "      <td>1.454000e+08</td>\n",
       "      <td>37010559.0</td>\n",
       "      <td>80457737.0</td>\n",
       "      <td>2</td>\n",
       "      <td>0</td>\n",
       "    </tr>\n",
       "    <tr>\n",
       "      <th>57</th>\n",
       "      <td>57</td>\n",
       "      <td>Japan</td>\n",
       "      <td>0.1501</td>\n",
       "      <td>1561</td>\n",
       "      <td>279</td>\n",
       "      <td>12</td>\n",
       "      <td>60</td>\n",
       "      <td>427</td>\n",
       "      <td>637</td>\n",
       "      <td>119</td>\n",
       "      <td>...</td>\n",
       "      <td>4.900000e+10</td>\n",
       "      <td>3.240000e+12</td>\n",
       "      <td>175</td>\n",
       "      <td>3841.0</td>\n",
       "      <td>4000000.0</td>\n",
       "      <td>4.412000e+07</td>\n",
       "      <td>53873803.0</td>\n",
       "      <td>126168156.0</td>\n",
       "      <td>2</td>\n",
       "      <td>0</td>\n",
       "    </tr>\n",
       "    <tr>\n",
       "      <th>82</th>\n",
       "      <td>82</td>\n",
       "      <td>Netherlands</td>\n",
       "      <td>0.5919</td>\n",
       "      <td>168</td>\n",
       "      <td>61</td>\n",
       "      <td>1</td>\n",
       "      <td>4</td>\n",
       "      <td>27</td>\n",
       "      <td>75</td>\n",
       "      <td>28</td>\n",
       "      <td>...</td>\n",
       "      <td>1.241900e+10</td>\n",
       "      <td>4.063000e+12</td>\n",
       "      <td>29</td>\n",
       "      <td>18170.0</td>\n",
       "      <td>840000.0</td>\n",
       "      <td>1.132000e+08</td>\n",
       "      <td>7820960.0</td>\n",
       "      <td>17151228.0</td>\n",
       "      <td>1</td>\n",
       "      <td>0</td>\n",
       "    </tr>\n",
       "    <tr>\n",
       "      <th>129</th>\n",
       "      <td>129</td>\n",
       "      <td>United Kingdom</td>\n",
       "      <td>0.1717</td>\n",
       "      <td>733</td>\n",
       "      <td>133</td>\n",
       "      <td>15</td>\n",
       "      <td>44</td>\n",
       "      <td>241</td>\n",
       "      <td>312</td>\n",
       "      <td>49</td>\n",
       "      <td>...</td>\n",
       "      <td>5.510000e+10</td>\n",
       "      <td>8.126000e+12</td>\n",
       "      <td>460</td>\n",
       "      <td>910500.0</td>\n",
       "      <td>1600000.0</td>\n",
       "      <td>2.564000e+09</td>\n",
       "      <td>29948413.0</td>\n",
       "      <td>65105246.0</td>\n",
       "      <td>2</td>\n",
       "      <td>0</td>\n",
       "    </tr>\n",
       "  </tbody>\n",
       "</table>\n",
       "<p>5 rows × 30 columns</p>\n",
       "</div>"
      ],
      "text/plain": [
       "     index         Country  Military Strength Power Index  \\\n",
       "40      40          France                         0.1702   \n",
       "43      43         Germany                         0.2186   \n",
       "57      57           Japan                         0.1501   \n",
       "82      82     Netherlands                         0.5919   \n",
       "129    129  United Kingdom                         0.1717   \n",
       "\n",
       "     Aircraft Strength value  Fighter/Interceptor Strength value  \\\n",
       "40                      1229                                 269   \n",
       "43                       712                                 128   \n",
       "57                      1561                                 279   \n",
       "82                       168                                  61   \n",
       "129                      733                                 133   \n",
       "\n",
       "     Attack Aircraft Strength value  Transport Aircraft Fleet Strength value  \\\n",
       "40                                0                                      121   \n",
       "43                               74                                       71   \n",
       "57                               12                                       60   \n",
       "82                                1                                        4   \n",
       "129                              15                                       44   \n",
       "\n",
       "     Trainer Aircraft Fleet value  Helicopter Fleet Strength value  \\\n",
       "40                            187                              589   \n",
       "43                             26                              386   \n",
       "57                            427                              637   \n",
       "82                             27                               75   \n",
       "129                           241                              312   \n",
       "\n",
       "     Attack Helicopter Fleet Strength value  ...  \\\n",
       "40                                       62  ...   \n",
       "43                                       56  ...   \n",
       "57                                      119  ...   \n",
       "82                                       28  ...   \n",
       "129                                      49  ...   \n",
       "\n",
       "     defense spending budget value  External Debt value  Airport Totals value  \\\n",
       "40                    4.150000e+10         5.360000e+12                   464   \n",
       "43                    5.000000e+10         5.326000e+12                   539   \n",
       "57                    4.900000e+10         3.240000e+12                   175   \n",
       "82                    1.241900e+10         4.063000e+12                    29   \n",
       "129                   5.510000e+10         8.126000e+12                   460   \n",
       "\n",
       "     Oil Production value  Oil Consumption value  Proven Oil Reserves value  \\\n",
       "40                15170.0              1600000.0               7.235000e+07   \n",
       "43                43410.0              2500000.0               1.454000e+08   \n",
       "57                 3841.0              4000000.0               4.412000e+07   \n",
       "82                18170.0               840000.0               1.132000e+08   \n",
       "129              910500.0              1600000.0               2.564000e+09   \n",
       "\n",
       "     Available Manpower value  Total Population value  clusters  clusters_1  \n",
       "40                 30111868.0              67364357.0         2           0  \n",
       "43                 37010559.0              80457737.0         2           0  \n",
       "57                 53873803.0             126168156.0         2           0  \n",
       "82                  7820960.0              17151228.0         1           0  \n",
       "129                29948413.0              65105246.0         2           0  \n",
       "\n",
       "[5 rows x 30 columns]"
      ]
     },
     "execution_count": 135,
     "metadata": {},
     "output_type": "execute_result"
    }
   ],
   "source": [
    "data1[data1[\"clusters_1\"] == 0]"
   ]
  },
  {
   "cell_type": "code",
   "execution_count": 136,
   "metadata": {},
   "outputs": [
    {
     "data": {
      "text/html": [
       "<div>\n",
       "<style scoped>\n",
       "    .dataframe tbody tr th:only-of-type {\n",
       "        vertical-align: middle;\n",
       "    }\n",
       "\n",
       "    .dataframe tbody tr th {\n",
       "        vertical-align: top;\n",
       "    }\n",
       "\n",
       "    .dataframe thead th {\n",
       "        text-align: right;\n",
       "    }\n",
       "</style>\n",
       "<table border=\"1\" class=\"dataframe\">\n",
       "  <thead>\n",
       "    <tr style=\"text-align: right;\">\n",
       "      <th></th>\n",
       "      <th>index</th>\n",
       "      <th>Country</th>\n",
       "      <th>Military Strength Power Index</th>\n",
       "      <th>Aircraft Strength value</th>\n",
       "      <th>Fighter/Interceptor Strength value</th>\n",
       "      <th>Attack Aircraft Strength value</th>\n",
       "      <th>Transport Aircraft Fleet Strength value</th>\n",
       "      <th>Trainer Aircraft Fleet value</th>\n",
       "      <th>Helicopter Fleet Strength value</th>\n",
       "      <th>Attack Helicopter Fleet Strength value</th>\n",
       "      <th>...</th>\n",
       "      <th>defense spending budget value</th>\n",
       "      <th>External Debt value</th>\n",
       "      <th>Airport Totals value</th>\n",
       "      <th>Oil Production value</th>\n",
       "      <th>Oil Consumption value</th>\n",
       "      <th>Proven Oil Reserves value</th>\n",
       "      <th>Available Manpower value</th>\n",
       "      <th>Total Population value</th>\n",
       "      <th>clusters</th>\n",
       "      <th>clusters_1</th>\n",
       "    </tr>\n",
       "  </thead>\n",
       "  <tbody>\n",
       "    <tr>\n",
       "      <th>6</th>\n",
       "      <td>6</td>\n",
       "      <td>Australia</td>\n",
       "      <td>0.3225</td>\n",
       "      <td>464</td>\n",
       "      <td>82</td>\n",
       "      <td>6</td>\n",
       "      <td>38</td>\n",
       "      <td>174</td>\n",
       "      <td>133</td>\n",
       "      <td>22</td>\n",
       "      <td>...</td>\n",
       "      <td>2.630000e+10</td>\n",
       "      <td>1.714000e+12</td>\n",
       "      <td>480</td>\n",
       "      <td>263000.0</td>\n",
       "      <td>1005000.0</td>\n",
       "      <td>1.821000e+09</td>\n",
       "      <td>10808002.0</td>\n",
       "      <td>2.347014e+07</td>\n",
       "      <td>1</td>\n",
       "      <td>1</td>\n",
       "    </tr>\n",
       "    <tr>\n",
       "      <th>12</th>\n",
       "      <td>12</td>\n",
       "      <td>Belgium</td>\n",
       "      <td>1.0499</td>\n",
       "      <td>148</td>\n",
       "      <td>43</td>\n",
       "      <td>0</td>\n",
       "      <td>12</td>\n",
       "      <td>64</td>\n",
       "      <td>29</td>\n",
       "      <td>0</td>\n",
       "      <td>...</td>\n",
       "      <td>4.921000e+09</td>\n",
       "      <td>1.281000e+12</td>\n",
       "      <td>41</td>\n",
       "      <td>0.0</td>\n",
       "      <td>645000.0</td>\n",
       "      <td>0.000000e+00</td>\n",
       "      <td>4833107.0</td>\n",
       "      <td>1.157076e+07</td>\n",
       "      <td>1</td>\n",
       "      <td>1</td>\n",
       "    </tr>\n",
       "    <tr>\n",
       "      <th>22</th>\n",
       "      <td>22</td>\n",
       "      <td>Canada</td>\n",
       "      <td>0.3712</td>\n",
       "      <td>385</td>\n",
       "      <td>62</td>\n",
       "      <td>0</td>\n",
       "      <td>38</td>\n",
       "      <td>135</td>\n",
       "      <td>145</td>\n",
       "      <td>0</td>\n",
       "      <td>...</td>\n",
       "      <td>2.250000e+10</td>\n",
       "      <td>1.608000e+12</td>\n",
       "      <td>1467</td>\n",
       "      <td>3977000.0</td>\n",
       "      <td>2500000.0</td>\n",
       "      <td>1.697000e+11</td>\n",
       "      <td>16110865.0</td>\n",
       "      <td>3.588166e+07</td>\n",
       "      <td>2</td>\n",
       "      <td>1</td>\n",
       "    </tr>\n",
       "    <tr>\n",
       "      <th>26</th>\n",
       "      <td>26</td>\n",
       "      <td>China</td>\n",
       "      <td>0.0691</td>\n",
       "      <td>3210</td>\n",
       "      <td>1232</td>\n",
       "      <td>371</td>\n",
       "      <td>224</td>\n",
       "      <td>314</td>\n",
       "      <td>911</td>\n",
       "      <td>281</td>\n",
       "      <td>...</td>\n",
       "      <td>2.370000e+11</td>\n",
       "      <td>1.598000e+12</td>\n",
       "      <td>507</td>\n",
       "      <td>3838000.0</td>\n",
       "      <td>13500000.0</td>\n",
       "      <td>2.562000e+10</td>\n",
       "      <td>752855402.0</td>\n",
       "      <td>1.384689e+09</td>\n",
       "      <td>3</td>\n",
       "      <td>1</td>\n",
       "    </tr>\n",
       "    <tr>\n",
       "      <th>53</th>\n",
       "      <td>53</td>\n",
       "      <td>Ireland</td>\n",
       "      <td>1.9481</td>\n",
       "      <td>19</td>\n",
       "      <td>0</td>\n",
       "      <td>0</td>\n",
       "      <td>0</td>\n",
       "      <td>8</td>\n",
       "      <td>8</td>\n",
       "      <td>0</td>\n",
       "      <td>...</td>\n",
       "      <td>8.700000e+08</td>\n",
       "      <td>2.470000e+12</td>\n",
       "      <td>40</td>\n",
       "      <td>0.0</td>\n",
       "      <td>145000.0</td>\n",
       "      <td>0.000000e+00</td>\n",
       "      <td>2366779.0</td>\n",
       "      <td>5.068050e+06</td>\n",
       "      <td>1</td>\n",
       "      <td>1</td>\n",
       "    </tr>\n",
       "    <tr>\n",
       "      <th>55</th>\n",
       "      <td>55</td>\n",
       "      <td>Italy</td>\n",
       "      <td>0.2111</td>\n",
       "      <td>860</td>\n",
       "      <td>99</td>\n",
       "      <td>110</td>\n",
       "      <td>38</td>\n",
       "      <td>185</td>\n",
       "      <td>439</td>\n",
       "      <td>59</td>\n",
       "      <td>...</td>\n",
       "      <td>2.780000e+10</td>\n",
       "      <td>2.444000e+12</td>\n",
       "      <td>129</td>\n",
       "      <td>77530.0</td>\n",
       "      <td>1300000.0</td>\n",
       "      <td>5.567000e+08</td>\n",
       "      <td>28011003.0</td>\n",
       "      <td>6.224667e+07</td>\n",
       "      <td>2</td>\n",
       "      <td>1</td>\n",
       "    </tr>\n",
       "    <tr>\n",
       "      <th>112</th>\n",
       "      <td>112</td>\n",
       "      <td>Spain</td>\n",
       "      <td>0.3388</td>\n",
       "      <td>512</td>\n",
       "      <td>137</td>\n",
       "      <td>12</td>\n",
       "      <td>46</td>\n",
       "      <td>162</td>\n",
       "      <td>162</td>\n",
       "      <td>19</td>\n",
       "      <td>...</td>\n",
       "      <td>1.510000e+10</td>\n",
       "      <td>2.094000e+12</td>\n",
       "      <td>150</td>\n",
       "      <td>2252.0</td>\n",
       "      <td>1226000.0</td>\n",
       "      <td>1.500000e+08</td>\n",
       "      <td>23136275.0</td>\n",
       "      <td>4.933108e+07</td>\n",
       "      <td>2</td>\n",
       "      <td>1</td>\n",
       "    </tr>\n",
       "    <tr>\n",
       "      <th>116</th>\n",
       "      <td>116</td>\n",
       "      <td>Sweden</td>\n",
       "      <td>0.5304</td>\n",
       "      <td>204</td>\n",
       "      <td>71</td>\n",
       "      <td>0</td>\n",
       "      <td>6</td>\n",
       "      <td>69</td>\n",
       "      <td>53</td>\n",
       "      <td>0</td>\n",
       "      <td>...</td>\n",
       "      <td>6.326924e+09</td>\n",
       "      <td>9.399000e+11</td>\n",
       "      <td>231</td>\n",
       "      <td>0.0</td>\n",
       "      <td>320000.0</td>\n",
       "      <td>0.000000e+00</td>\n",
       "      <td>4116808.0</td>\n",
       "      <td>1.004100e+07</td>\n",
       "      <td>1</td>\n",
       "      <td>1</td>\n",
       "    </tr>\n",
       "    <tr>\n",
       "      <th>117</th>\n",
       "      <td>117</td>\n",
       "      <td>Switzerland</td>\n",
       "      <td>0.5259</td>\n",
       "      <td>169</td>\n",
       "      <td>54</td>\n",
       "      <td>0</td>\n",
       "      <td>18</td>\n",
       "      <td>54</td>\n",
       "      <td>42</td>\n",
       "      <td>0</td>\n",
       "      <td>...</td>\n",
       "      <td>5.000000e+09</td>\n",
       "      <td>1.664000e+12</td>\n",
       "      <td>63</td>\n",
       "      <td>0.0</td>\n",
       "      <td>260000.0</td>\n",
       "      <td>0.000000e+00</td>\n",
       "      <td>3632250.0</td>\n",
       "      <td>8.292809e+06</td>\n",
       "      <td>1</td>\n",
       "      <td>1</td>\n",
       "    </tr>\n",
       "  </tbody>\n",
       "</table>\n",
       "<p>9 rows × 30 columns</p>\n",
       "</div>"
      ],
      "text/plain": [
       "     index      Country  Military Strength Power Index  \\\n",
       "6        6    Australia                         0.3225   \n",
       "12      12      Belgium                         1.0499   \n",
       "22      22       Canada                         0.3712   \n",
       "26      26        China                         0.0691   \n",
       "53      53      Ireland                         1.9481   \n",
       "55      55        Italy                         0.2111   \n",
       "112    112        Spain                         0.3388   \n",
       "116    116       Sweden                         0.5304   \n",
       "117    117  Switzerland                         0.5259   \n",
       "\n",
       "     Aircraft Strength value  Fighter/Interceptor Strength value  \\\n",
       "6                        464                                  82   \n",
       "12                       148                                  43   \n",
       "22                       385                                  62   \n",
       "26                      3210                                1232   \n",
       "53                        19                                   0   \n",
       "55                       860                                  99   \n",
       "112                      512                                 137   \n",
       "116                      204                                  71   \n",
       "117                      169                                  54   \n",
       "\n",
       "     Attack Aircraft Strength value  Transport Aircraft Fleet Strength value  \\\n",
       "6                                 6                                       38   \n",
       "12                                0                                       12   \n",
       "22                                0                                       38   \n",
       "26                              371                                      224   \n",
       "53                                0                                        0   \n",
       "55                              110                                       38   \n",
       "112                              12                                       46   \n",
       "116                               0                                        6   \n",
       "117                               0                                       18   \n",
       "\n",
       "     Trainer Aircraft Fleet value  Helicopter Fleet Strength value  \\\n",
       "6                             174                              133   \n",
       "12                             64                               29   \n",
       "22                            135                              145   \n",
       "26                            314                              911   \n",
       "53                              8                                8   \n",
       "55                            185                              439   \n",
       "112                           162                              162   \n",
       "116                            69                               53   \n",
       "117                            54                               42   \n",
       "\n",
       "     Attack Helicopter Fleet Strength value  ...  \\\n",
       "6                                        22  ...   \n",
       "12                                        0  ...   \n",
       "22                                        0  ...   \n",
       "26                                      281  ...   \n",
       "53                                        0  ...   \n",
       "55                                       59  ...   \n",
       "112                                      19  ...   \n",
       "116                                       0  ...   \n",
       "117                                       0  ...   \n",
       "\n",
       "     defense spending budget value  External Debt value  Airport Totals value  \\\n",
       "6                     2.630000e+10         1.714000e+12                   480   \n",
       "12                    4.921000e+09         1.281000e+12                    41   \n",
       "22                    2.250000e+10         1.608000e+12                  1467   \n",
       "26                    2.370000e+11         1.598000e+12                   507   \n",
       "53                    8.700000e+08         2.470000e+12                    40   \n",
       "55                    2.780000e+10         2.444000e+12                   129   \n",
       "112                   1.510000e+10         2.094000e+12                   150   \n",
       "116                   6.326924e+09         9.399000e+11                   231   \n",
       "117                   5.000000e+09         1.664000e+12                    63   \n",
       "\n",
       "     Oil Production value  Oil Consumption value  Proven Oil Reserves value  \\\n",
       "6                263000.0              1005000.0               1.821000e+09   \n",
       "12                    0.0               645000.0               0.000000e+00   \n",
       "22              3977000.0              2500000.0               1.697000e+11   \n",
       "26              3838000.0             13500000.0               2.562000e+10   \n",
       "53                    0.0               145000.0               0.000000e+00   \n",
       "55                77530.0              1300000.0               5.567000e+08   \n",
       "112                2252.0              1226000.0               1.500000e+08   \n",
       "116                   0.0               320000.0               0.000000e+00   \n",
       "117                   0.0               260000.0               0.000000e+00   \n",
       "\n",
       "     Available Manpower value  Total Population value  clusters  clusters_1  \n",
       "6                  10808002.0            2.347014e+07         1           1  \n",
       "12                  4833107.0            1.157076e+07         1           1  \n",
       "22                 16110865.0            3.588166e+07         2           1  \n",
       "26                752855402.0            1.384689e+09         3           1  \n",
       "53                  2366779.0            5.068050e+06         1           1  \n",
       "55                 28011003.0            6.224667e+07         2           1  \n",
       "112                23136275.0            4.933108e+07         2           1  \n",
       "116                 4116808.0            1.004100e+07         1           1  \n",
       "117                 3632250.0            8.292809e+06         1           1  \n",
       "\n",
       "[9 rows x 30 columns]"
      ]
     },
     "execution_count": 136,
     "metadata": {},
     "output_type": "execute_result"
    }
   ],
   "source": [
    "data1[data1[\"clusters_1\"] == 1]"
   ]
  },
  {
   "cell_type": "code",
   "execution_count": 138,
   "metadata": {},
   "outputs": [
    {
     "data": {
      "text/html": [
       "<div>\n",
       "<style scoped>\n",
       "    .dataframe tbody tr th:only-of-type {\n",
       "        vertical-align: middle;\n",
       "    }\n",
       "\n",
       "    .dataframe tbody tr th {\n",
       "        vertical-align: top;\n",
       "    }\n",
       "\n",
       "    .dataframe thead th {\n",
       "        text-align: right;\n",
       "    }\n",
       "</style>\n",
       "<table border=\"1\" class=\"dataframe\">\n",
       "  <thead>\n",
       "    <tr style=\"text-align: right;\">\n",
       "      <th></th>\n",
       "      <th>index</th>\n",
       "      <th>Country</th>\n",
       "      <th>Military Strength Power Index</th>\n",
       "      <th>Aircraft Strength value</th>\n",
       "      <th>Fighter/Interceptor Strength value</th>\n",
       "      <th>Attack Aircraft Strength value</th>\n",
       "      <th>Transport Aircraft Fleet Strength value</th>\n",
       "      <th>Trainer Aircraft Fleet value</th>\n",
       "      <th>Helicopter Fleet Strength value</th>\n",
       "      <th>Attack Helicopter Fleet Strength value</th>\n",
       "      <th>...</th>\n",
       "      <th>defense spending budget value</th>\n",
       "      <th>External Debt value</th>\n",
       "      <th>Airport Totals value</th>\n",
       "      <th>Oil Production value</th>\n",
       "      <th>Oil Consumption value</th>\n",
       "      <th>Proven Oil Reserves value</th>\n",
       "      <th>Available Manpower value</th>\n",
       "      <th>Total Population value</th>\n",
       "      <th>clusters</th>\n",
       "      <th>clusters_1</th>\n",
       "    </tr>\n",
       "  </thead>\n",
       "  <tbody>\n",
       "    <tr>\n",
       "      <th>130</th>\n",
       "      <td>130</td>\n",
       "      <td>United States</td>\n",
       "      <td>0.0606</td>\n",
       "      <td>13264</td>\n",
       "      <td>2085</td>\n",
       "      <td>715</td>\n",
       "      <td>945</td>\n",
       "      <td>2643</td>\n",
       "      <td>5768</td>\n",
       "      <td>967</td>\n",
       "      <td>...</td>\n",
       "      <td>7.500000e+11</td>\n",
       "      <td>1.791000e+13</td>\n",
       "      <td>13513</td>\n",
       "      <td>9352000.0</td>\n",
       "      <td>20000000.0</td>\n",
       "      <td>3.652000e+10</td>\n",
       "      <td>144872845.0</td>\n",
       "      <td>329256465.0</td>\n",
       "      <td>0</td>\n",
       "      <td>3</td>\n",
       "    </tr>\n",
       "  </tbody>\n",
       "</table>\n",
       "<p>1 rows × 30 columns</p>\n",
       "</div>"
      ],
      "text/plain": [
       "     index        Country  Military Strength Power Index  \\\n",
       "130    130  United States                         0.0606   \n",
       "\n",
       "     Aircraft Strength value  Fighter/Interceptor Strength value  \\\n",
       "130                    13264                                2085   \n",
       "\n",
       "     Attack Aircraft Strength value  Transport Aircraft Fleet Strength value  \\\n",
       "130                             715                                      945   \n",
       "\n",
       "     Trainer Aircraft Fleet value  Helicopter Fleet Strength value  \\\n",
       "130                          2643                             5768   \n",
       "\n",
       "     Attack Helicopter Fleet Strength value  ...  \\\n",
       "130                                     967  ...   \n",
       "\n",
       "     defense spending budget value  External Debt value  Airport Totals value  \\\n",
       "130                   7.500000e+11         1.791000e+13                 13513   \n",
       "\n",
       "     Oil Production value  Oil Consumption value  Proven Oil Reserves value  \\\n",
       "130             9352000.0             20000000.0               3.652000e+10   \n",
       "\n",
       "     Available Manpower value  Total Population value  clusters  clusters_1  \n",
       "130               144872845.0             329256465.0         0           3  \n",
       "\n",
       "[1 rows x 30 columns]"
      ]
     },
     "execution_count": 138,
     "metadata": {},
     "output_type": "execute_result"
    }
   ],
   "source": [
    "data1[data1[\"clusters_1\"] == 3]"
   ]
  }
 ],
 "metadata": {
  "colab": {
   "collapsed_sections": [
    "pHcni9Yd8AKI",
    "LnUyXAAC8AKJ",
    "v7Eqi2K28AKK",
    "8WuFtB6i8AKP",
    "RjfzLF0P8AKP"
   ],
   "name": "military_power-blank.ipynb",
   "provenance": []
  },
  "interpreter": {
   "hash": "e4e90950cb561445fc7289d5187c528b28750a487d008a70b474c773afaf79b7"
  },
  "kernelspec": {
   "display_name": "Python 3",
   "language": "python",
   "name": "python3"
  },
  "language_info": {
   "codemirror_mode": {
    "name": "ipython",
    "version": 3
   },
   "file_extension": ".py",
   "mimetype": "text/x-python",
   "name": "python",
   "nbconvert_exporter": "python",
   "pygments_lexer": "ipython3",
   "version": "3.8.5"
  }
 },
 "nbformat": 4,
 "nbformat_minor": 1
}
