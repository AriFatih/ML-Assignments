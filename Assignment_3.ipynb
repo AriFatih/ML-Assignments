{
 "cells": [
  {
   "cell_type": "markdown",
   "metadata": {
    "id": "Aw04Z9dIASCz"
   },
   "source": [
    "___\n",
    "\n",
    "<p style=\"text-align: center;\"><img src=\"https://docs.google.com/uc?id=1lY0Uj5R04yMY3-ZppPWxqCr5pvBLYPnV\" class=\"img-fluid\" alt=\"CLRSWY\"></p>\n",
    "\n",
    "___"
   ]
  },
  {
   "cell_type": "markdown",
   "metadata": {
    "cell_style": "split",
    "id": "o9jfMvQRASCz"
   },
   "source": [
    "# WELCOME!"
   ]
  },
  {
   "cell_type": "markdown",
   "metadata": {
    "cell_style": "split",
    "id": "rEckIoqPASCz"
   },
   "source": [
    "In this assignment, you must apply ***EDA*** processes for the development of predictive models. Handling outliers, domain knowledge and feature engineering will be challenges. \n",
    "\n",
    "Also, this project aims to improve your ability to implement algorithms for ***Multi-Class Classification***. Thus, you will have the opportunity to implement many algorithms commonly used for Multi-Class Classification problems.\n",
    "\n",
    "Before diving into the project, please take a look at the determines and tasks."
   ]
  },
  {
   "cell_type": "markdown",
   "metadata": {
    "id": "rWUbnCOHASCz"
   },
   "source": [
    "---\n",
    "---"
   ]
  },
  {
   "cell_type": "markdown",
   "metadata": {
    "cell_style": "split",
    "id": "FxA4M_USASCz"
   },
   "source": [
    "# #Determines"
   ]
  },
  {
   "cell_type": "markdown",
   "metadata": {
    "cell_style": "split",
    "id": "AxyFkA5PASCz"
   },
   "source": [
    "Dataset contains tree observations from four areas of one national forest district. This dataset includes information on tree type, shadow coverage, distance to nearby landmarks, soil type, and local topography. The goal of the project is to build a model that predicts what types of trees grow in an area.\n",
    "***The Forest Dataset*** contains approximately 600 thousand lines, also you can easily find many information about it on the web (especially Kaggle).\n",
    "\n",
    "---\n",
    "\n",
    "To achieve high prediction success, you must understand the data well and develop different approaches that can affect the dependent variable.\n",
    "\n",
    "Firstly, try to understand the dataset column by column using pandas module. Do research within the scope of domain (forest, trees) knowledge on the internet to get to know the data set in the fastest way. \n",
    "\n",
    "You should implement cleaning, handling with outliers and missing values using Pandas, NumPy and other required modules for the best result in modeling. You should do Feature Engineering.\n",
    "\n",
    "After that, your final dataset with the new variables you have created will be ready for model building. You will implement ***Support Vector Machine, XGBoost, Random Forest, Desicion Tree*** algorithms. Also, evaluate the success of your models with appropriate performance metrics.\n",
    "\n",
    "At the end of the project, create a chart comparing the performance of all models and choose the most successful model.\n"
   ]
  },
  {
   "cell_type": "markdown",
   "metadata": {
    "id": "xdOyfC8jASCz"
   },
   "source": [
    "---\n",
    "---"
   ]
  },
  {
   "cell_type": "markdown",
   "metadata": {
    "cell_style": "split",
    "id": "m3DXc1w6ASCz"
   },
   "source": [
    "# #Tasks"
   ]
  },
  {
   "cell_type": "markdown",
   "metadata": {
    "cell_style": "split",
    "id": "UykgYK5-ASCz"
   },
   "source": [
    "#### 1. Exploratory Data Analysis (EDA)\n",
    "- Import Libraries, Load Dataset, Exploring Data\n",
    "\n",
    "    *i. Import Libraries*\n",
    "    \n",
    "    *ii. Load Dataset*\n",
    "    \n",
    "    *iii. Explore Data*\n",
    "\n",
    "#### 2.  Data Cleaning\n",
    "- Detect Missing Values and Outliers \n",
    "\n",
    "    *i. Missing Value Detection*\n",
    "    \n",
    "    *ii. Outlier Detection*\n",
    "    \n",
    "- Deal with Outliers\n",
    "    \n",
    "    *i. Drop Outliers*\n",
    "\n",
    "\n",
    "#### 3. Feature Engineering\n",
    "\n",
    "\n",
    "#### 4. Prediction (Multi-class Classification)\n",
    "- Import libraries\n",
    "- Data Preprocessing\n",
    "- Implement SVM Classifer\n",
    "- Implement Decision Tree Classifier\n",
    "- Implement Random Forest Classifer\n",
    "- Implement XGBoost Classifer\n",
    "- Compare The Models\n",
    "\n"
   ]
  },
  {
   "cell_type": "markdown",
   "metadata": {
    "id": "934v5Lm0ASCz"
   },
   "source": [
    "---\n",
    "---"
   ]
  },
  {
   "cell_type": "markdown",
   "metadata": {
    "id": "70sZDrv1ASCz"
   },
   "source": [
    "## 1. Exploratory Data Analysis"
   ]
  },
  {
   "cell_type": "markdown",
   "metadata": {
    "id": "6AZiiwrgri2o"
   },
   "source": [
    "### Import Libraries, Load Dataset, Exploring Data"
   ]
  },
  {
   "cell_type": "markdown",
   "metadata": {
    "id": "YhoTMDVLASCz"
   },
   "source": [
    "#### *i. Import Libraries*"
   ]
  },
  {
   "cell_type": "markdown",
   "metadata": {
    "id": "lKbc1uEQASCz"
   },
   "source": [
    "Besides Numpy and Pandas, you need to import the necessary modules for data visualization, data preprocessing, Model building and tuning.\n",
    "\n",
    "*Note: Check out the course materials.*"
   ]
  },
  {
   "cell_type": "code",
   "execution_count": 1,
   "metadata": {
    "id": "0ThMJSTCASCz"
   },
   "outputs": [],
   "source": [
    "import numpy as np\n",
    "import pandas as pd\n",
    "import seaborn as sns\n",
    "import matplotlib.pyplot as plt\n",
    "\n",
    "%matplotlib inline\n",
    "#%matplotlib notebook\n",
    "plt.rcParams[\"figure.figsize\"] = (10,6)\n",
    "import warnings\n",
    "warnings.filterwarnings(\"ignore\")\n",
    "warnings.warn(\"this will not show\")\n",
    "#pd.set_option('display.float_format', lambda x: '%.3f' % x)"
   ]
  },
  {
   "cell_type": "markdown",
   "metadata": {
    "id": "OUxd8117ASCz"
   },
   "source": [
    "#### *ii. Load Dataset*"
   ]
  },
  {
   "cell_type": "code",
   "execution_count": 2,
   "metadata": {
    "id": "nO4IbFeNASC0"
   },
   "outputs": [
    {
     "data": {
      "text/html": [
       "<div>\n",
       "<style scoped>\n",
       "    .dataframe tbody tr th:only-of-type {\n",
       "        vertical-align: middle;\n",
       "    }\n",
       "\n",
       "    .dataframe tbody tr th {\n",
       "        vertical-align: top;\n",
       "    }\n",
       "\n",
       "    .dataframe thead th {\n",
       "        text-align: right;\n",
       "    }\n",
       "</style>\n",
       "<table border=\"1\" class=\"dataframe\">\n",
       "  <thead>\n",
       "    <tr style=\"text-align: right;\">\n",
       "      <th></th>\n",
       "      <th>0</th>\n",
       "      <th>1</th>\n",
       "      <th>2</th>\n",
       "      <th>3</th>\n",
       "      <th>4</th>\n",
       "    </tr>\n",
       "  </thead>\n",
       "  <tbody>\n",
       "    <tr>\n",
       "      <th>Elevation</th>\n",
       "      <td>2696</td>\n",
       "      <td>3269</td>\n",
       "      <td>3283</td>\n",
       "      <td>2847</td>\n",
       "      <td>3248</td>\n",
       "    </tr>\n",
       "    <tr>\n",
       "      <th>Aspect</th>\n",
       "      <td>123</td>\n",
       "      <td>110</td>\n",
       "      <td>322</td>\n",
       "      <td>89</td>\n",
       "      <td>93</td>\n",
       "    </tr>\n",
       "    <tr>\n",
       "      <th>Slope</th>\n",
       "      <td>10</td>\n",
       "      <td>19</td>\n",
       "      <td>18</td>\n",
       "      <td>31</td>\n",
       "      <td>12</td>\n",
       "    </tr>\n",
       "    <tr>\n",
       "      <th>Horizontal_Distance_To_Hydrology</th>\n",
       "      <td>212</td>\n",
       "      <td>134</td>\n",
       "      <td>346</td>\n",
       "      <td>270</td>\n",
       "      <td>507</td>\n",
       "    </tr>\n",
       "    <tr>\n",
       "      <th>Vertical_Distance_To_Hydrology</th>\n",
       "      <td>48</td>\n",
       "      <td>40</td>\n",
       "      <td>104</td>\n",
       "      <td>175</td>\n",
       "      <td>118</td>\n",
       "    </tr>\n",
       "    <tr>\n",
       "      <th>Horizontal_Distance_To_Roadways</th>\n",
       "      <td>2245</td>\n",
       "      <td>3734</td>\n",
       "      <td>4369</td>\n",
       "      <td>1320</td>\n",
       "      <td>570</td>\n",
       "    </tr>\n",
       "    <tr>\n",
       "      <th>Hillshade_9am</th>\n",
       "      <td>237</td>\n",
       "      <td>249</td>\n",
       "      <td>170</td>\n",
       "      <td>248</td>\n",
       "      <td>239</td>\n",
       "    </tr>\n",
       "    <tr>\n",
       "      <th>Hillshade_Noon</th>\n",
       "      <td>231</td>\n",
       "      <td>216</td>\n",
       "      <td>217</td>\n",
       "      <td>173</td>\n",
       "      <td>221</td>\n",
       "    </tr>\n",
       "    <tr>\n",
       "      <th>Hillshade_3pm</th>\n",
       "      <td>123</td>\n",
       "      <td>88</td>\n",
       "      <td>185</td>\n",
       "      <td>29</td>\n",
       "      <td>110</td>\n",
       "    </tr>\n",
       "    <tr>\n",
       "      <th>Horizontal_Distance_To_Fire_Points</th>\n",
       "      <td>2113</td>\n",
       "      <td>3960</td>\n",
       "      <td>1330</td>\n",
       "      <td>889</td>\n",
       "      <td>945</td>\n",
       "    </tr>\n",
       "    <tr>\n",
       "      <th>Wilderness_Area_1</th>\n",
       "      <td>0</td>\n",
       "      <td>1</td>\n",
       "      <td>1</td>\n",
       "      <td>0</td>\n",
       "      <td>0</td>\n",
       "    </tr>\n",
       "    <tr>\n",
       "      <th>Wilderness_Area_2</th>\n",
       "      <td>0</td>\n",
       "      <td>0</td>\n",
       "      <td>0</td>\n",
       "      <td>0</td>\n",
       "      <td>0</td>\n",
       "    </tr>\n",
       "    <tr>\n",
       "      <th>Wilderness_Area_3</th>\n",
       "      <td>1</td>\n",
       "      <td>0</td>\n",
       "      <td>0</td>\n",
       "      <td>1</td>\n",
       "      <td>1</td>\n",
       "    </tr>\n",
       "    <tr>\n",
       "      <th>Wilderness_Area_4</th>\n",
       "      <td>0</td>\n",
       "      <td>0</td>\n",
       "      <td>0</td>\n",
       "      <td>0</td>\n",
       "      <td>0</td>\n",
       "    </tr>\n",
       "    <tr>\n",
       "      <th>Soil_Type_1</th>\n",
       "      <td>0</td>\n",
       "      <td>0</td>\n",
       "      <td>0</td>\n",
       "      <td>0</td>\n",
       "      <td>0</td>\n",
       "    </tr>\n",
       "    <tr>\n",
       "      <th>Soil_Type_2</th>\n",
       "      <td>0</td>\n",
       "      <td>0</td>\n",
       "      <td>0</td>\n",
       "      <td>0</td>\n",
       "      <td>0</td>\n",
       "    </tr>\n",
       "    <tr>\n",
       "      <th>Soil_Type_3</th>\n",
       "      <td>0</td>\n",
       "      <td>0</td>\n",
       "      <td>0</td>\n",
       "      <td>0</td>\n",
       "      <td>0</td>\n",
       "    </tr>\n",
       "    <tr>\n",
       "      <th>Soil_Type_4</th>\n",
       "      <td>0</td>\n",
       "      <td>0</td>\n",
       "      <td>0</td>\n",
       "      <td>0</td>\n",
       "      <td>0</td>\n",
       "    </tr>\n",
       "    <tr>\n",
       "      <th>Soil_Type_5</th>\n",
       "      <td>0</td>\n",
       "      <td>0</td>\n",
       "      <td>0</td>\n",
       "      <td>0</td>\n",
       "      <td>0</td>\n",
       "    </tr>\n",
       "    <tr>\n",
       "      <th>Soil_Type_6</th>\n",
       "      <td>0</td>\n",
       "      <td>0</td>\n",
       "      <td>0</td>\n",
       "      <td>0</td>\n",
       "      <td>0</td>\n",
       "    </tr>\n",
       "    <tr>\n",
       "      <th>Soil_Type_7</th>\n",
       "      <td>0</td>\n",
       "      <td>0</td>\n",
       "      <td>0</td>\n",
       "      <td>0</td>\n",
       "      <td>0</td>\n",
       "    </tr>\n",
       "    <tr>\n",
       "      <th>Soil_Type_8</th>\n",
       "      <td>0</td>\n",
       "      <td>0</td>\n",
       "      <td>0</td>\n",
       "      <td>0</td>\n",
       "      <td>0</td>\n",
       "    </tr>\n",
       "    <tr>\n",
       "      <th>Soil_Type_9</th>\n",
       "      <td>0</td>\n",
       "      <td>0</td>\n",
       "      <td>0</td>\n",
       "      <td>0</td>\n",
       "      <td>0</td>\n",
       "    </tr>\n",
       "    <tr>\n",
       "      <th>Soil_Type_10</th>\n",
       "      <td>1</td>\n",
       "      <td>0</td>\n",
       "      <td>0</td>\n",
       "      <td>0</td>\n",
       "      <td>0</td>\n",
       "    </tr>\n",
       "    <tr>\n",
       "      <th>Soil_Type_11</th>\n",
       "      <td>0</td>\n",
       "      <td>0</td>\n",
       "      <td>0</td>\n",
       "      <td>0</td>\n",
       "      <td>0</td>\n",
       "    </tr>\n",
       "    <tr>\n",
       "      <th>Soil_Type_12</th>\n",
       "      <td>0</td>\n",
       "      <td>0</td>\n",
       "      <td>0</td>\n",
       "      <td>0</td>\n",
       "      <td>0</td>\n",
       "    </tr>\n",
       "    <tr>\n",
       "      <th>Soil_Type_13</th>\n",
       "      <td>0</td>\n",
       "      <td>0</td>\n",
       "      <td>0</td>\n",
       "      <td>1</td>\n",
       "      <td>0</td>\n",
       "    </tr>\n",
       "    <tr>\n",
       "      <th>Soil_Type_14</th>\n",
       "      <td>0</td>\n",
       "      <td>0</td>\n",
       "      <td>0</td>\n",
       "      <td>0</td>\n",
       "      <td>0</td>\n",
       "    </tr>\n",
       "    <tr>\n",
       "      <th>Soil_Type_15</th>\n",
       "      <td>0</td>\n",
       "      <td>0</td>\n",
       "      <td>0</td>\n",
       "      <td>0</td>\n",
       "      <td>0</td>\n",
       "    </tr>\n",
       "    <tr>\n",
       "      <th>Soil_Type_16</th>\n",
       "      <td>0</td>\n",
       "      <td>0</td>\n",
       "      <td>0</td>\n",
       "      <td>0</td>\n",
       "      <td>0</td>\n",
       "    </tr>\n",
       "    <tr>\n",
       "      <th>Soil_Type_17</th>\n",
       "      <td>0</td>\n",
       "      <td>0</td>\n",
       "      <td>0</td>\n",
       "      <td>0</td>\n",
       "      <td>0</td>\n",
       "    </tr>\n",
       "    <tr>\n",
       "      <th>Soil_Type_18</th>\n",
       "      <td>0</td>\n",
       "      <td>0</td>\n",
       "      <td>0</td>\n",
       "      <td>0</td>\n",
       "      <td>0</td>\n",
       "    </tr>\n",
       "    <tr>\n",
       "      <th>Soil_Type_19</th>\n",
       "      <td>0</td>\n",
       "      <td>0</td>\n",
       "      <td>0</td>\n",
       "      <td>0</td>\n",
       "      <td>0</td>\n",
       "    </tr>\n",
       "    <tr>\n",
       "      <th>Soil_Type_20</th>\n",
       "      <td>0</td>\n",
       "      <td>0</td>\n",
       "      <td>0</td>\n",
       "      <td>0</td>\n",
       "      <td>0</td>\n",
       "    </tr>\n",
       "    <tr>\n",
       "      <th>Soil_Type_21</th>\n",
       "      <td>0</td>\n",
       "      <td>0</td>\n",
       "      <td>0</td>\n",
       "      <td>0</td>\n",
       "      <td>0</td>\n",
       "    </tr>\n",
       "    <tr>\n",
       "      <th>Soil_Type_22</th>\n",
       "      <td>0</td>\n",
       "      <td>0</td>\n",
       "      <td>0</td>\n",
       "      <td>0</td>\n",
       "      <td>0</td>\n",
       "    </tr>\n",
       "    <tr>\n",
       "      <th>Soil_Type_23</th>\n",
       "      <td>0</td>\n",
       "      <td>0</td>\n",
       "      <td>0</td>\n",
       "      <td>0</td>\n",
       "      <td>0</td>\n",
       "    </tr>\n",
       "    <tr>\n",
       "      <th>Soil_Type_24</th>\n",
       "      <td>0</td>\n",
       "      <td>0</td>\n",
       "      <td>0</td>\n",
       "      <td>0</td>\n",
       "      <td>0</td>\n",
       "    </tr>\n",
       "    <tr>\n",
       "      <th>Soil_Type_25</th>\n",
       "      <td>0</td>\n",
       "      <td>0</td>\n",
       "      <td>0</td>\n",
       "      <td>0</td>\n",
       "      <td>0</td>\n",
       "    </tr>\n",
       "    <tr>\n",
       "      <th>Soil_Type_26</th>\n",
       "      <td>0</td>\n",
       "      <td>0</td>\n",
       "      <td>0</td>\n",
       "      <td>0</td>\n",
       "      <td>0</td>\n",
       "    </tr>\n",
       "    <tr>\n",
       "      <th>Soil_Type_27</th>\n",
       "      <td>0</td>\n",
       "      <td>0</td>\n",
       "      <td>0</td>\n",
       "      <td>0</td>\n",
       "      <td>0</td>\n",
       "    </tr>\n",
       "    <tr>\n",
       "      <th>Soil_Type_28</th>\n",
       "      <td>0</td>\n",
       "      <td>0</td>\n",
       "      <td>0</td>\n",
       "      <td>0</td>\n",
       "      <td>0</td>\n",
       "    </tr>\n",
       "    <tr>\n",
       "      <th>Soil_Type_29</th>\n",
       "      <td>0</td>\n",
       "      <td>0</td>\n",
       "      <td>0</td>\n",
       "      <td>0</td>\n",
       "      <td>0</td>\n",
       "    </tr>\n",
       "    <tr>\n",
       "      <th>Soil_Type_30</th>\n",
       "      <td>0</td>\n",
       "      <td>0</td>\n",
       "      <td>0</td>\n",
       "      <td>0</td>\n",
       "      <td>0</td>\n",
       "    </tr>\n",
       "    <tr>\n",
       "      <th>Soil_Type_31</th>\n",
       "      <td>0</td>\n",
       "      <td>0</td>\n",
       "      <td>0</td>\n",
       "      <td>0</td>\n",
       "      <td>1</td>\n",
       "    </tr>\n",
       "    <tr>\n",
       "      <th>Soil_Type_32</th>\n",
       "      <td>0</td>\n",
       "      <td>0</td>\n",
       "      <td>0</td>\n",
       "      <td>0</td>\n",
       "      <td>0</td>\n",
       "    </tr>\n",
       "    <tr>\n",
       "      <th>Soil_Type_33</th>\n",
       "      <td>0</td>\n",
       "      <td>0</td>\n",
       "      <td>0</td>\n",
       "      <td>0</td>\n",
       "      <td>0</td>\n",
       "    </tr>\n",
       "    <tr>\n",
       "      <th>Soil_Type_34</th>\n",
       "      <td>0</td>\n",
       "      <td>0</td>\n",
       "      <td>0</td>\n",
       "      <td>0</td>\n",
       "      <td>0</td>\n",
       "    </tr>\n",
       "    <tr>\n",
       "      <th>Soil_Type_35</th>\n",
       "      <td>0</td>\n",
       "      <td>0</td>\n",
       "      <td>0</td>\n",
       "      <td>0</td>\n",
       "      <td>0</td>\n",
       "    </tr>\n",
       "    <tr>\n",
       "      <th>Soil_Type_36</th>\n",
       "      <td>0</td>\n",
       "      <td>0</td>\n",
       "      <td>0</td>\n",
       "      <td>0</td>\n",
       "      <td>0</td>\n",
       "    </tr>\n",
       "    <tr>\n",
       "      <th>Soil_Type_37</th>\n",
       "      <td>0</td>\n",
       "      <td>0</td>\n",
       "      <td>0</td>\n",
       "      <td>0</td>\n",
       "      <td>0</td>\n",
       "    </tr>\n",
       "    <tr>\n",
       "      <th>Soil_Type_38</th>\n",
       "      <td>0</td>\n",
       "      <td>1</td>\n",
       "      <td>1</td>\n",
       "      <td>0</td>\n",
       "      <td>0</td>\n",
       "    </tr>\n",
       "    <tr>\n",
       "      <th>Soil_Type_39</th>\n",
       "      <td>0</td>\n",
       "      <td>0</td>\n",
       "      <td>0</td>\n",
       "      <td>0</td>\n",
       "      <td>0</td>\n",
       "    </tr>\n",
       "    <tr>\n",
       "      <th>Soil_Type_40</th>\n",
       "      <td>0</td>\n",
       "      <td>0</td>\n",
       "      <td>0</td>\n",
       "      <td>0</td>\n",
       "      <td>0</td>\n",
       "    </tr>\n",
       "    <tr>\n",
       "      <th>Cover_Type</th>\n",
       "      <td>6</td>\n",
       "      <td>1</td>\n",
       "      <td>7</td>\n",
       "      <td>5</td>\n",
       "      <td>7</td>\n",
       "    </tr>\n",
       "  </tbody>\n",
       "</table>\n",
       "</div>"
      ],
      "text/plain": [
       "                                       0     1     2     3     4\n",
       "Elevation                           2696  3269  3283  2847  3248\n",
       "Aspect                               123   110   322    89    93\n",
       "Slope                                 10    19    18    31    12\n",
       "Horizontal_Distance_To_Hydrology     212   134   346   270   507\n",
       "Vertical_Distance_To_Hydrology        48    40   104   175   118\n",
       "Horizontal_Distance_To_Roadways     2245  3734  4369  1320   570\n",
       "Hillshade_9am                        237   249   170   248   239\n",
       "Hillshade_Noon                       231   216   217   173   221\n",
       "Hillshade_3pm                        123    88   185    29   110\n",
       "Horizontal_Distance_To_Fire_Points  2113  3960  1330   889   945\n",
       "Wilderness_Area_1                      0     1     1     0     0\n",
       "Wilderness_Area_2                      0     0     0     0     0\n",
       "Wilderness_Area_3                      1     0     0     1     1\n",
       "Wilderness_Area_4                      0     0     0     0     0\n",
       "Soil_Type_1                            0     0     0     0     0\n",
       "Soil_Type_2                            0     0     0     0     0\n",
       "Soil_Type_3                            0     0     0     0     0\n",
       "Soil_Type_4                            0     0     0     0     0\n",
       "Soil_Type_5                            0     0     0     0     0\n",
       "Soil_Type_6                            0     0     0     0     0\n",
       "Soil_Type_7                            0     0     0     0     0\n",
       "Soil_Type_8                            0     0     0     0     0\n",
       "Soil_Type_9                            0     0     0     0     0\n",
       "Soil_Type_10                           1     0     0     0     0\n",
       "Soil_Type_11                           0     0     0     0     0\n",
       "Soil_Type_12                           0     0     0     0     0\n",
       "Soil_Type_13                           0     0     0     1     0\n",
       "Soil_Type_14                           0     0     0     0     0\n",
       "Soil_Type_15                           0     0     0     0     0\n",
       "Soil_Type_16                           0     0     0     0     0\n",
       "Soil_Type_17                           0     0     0     0     0\n",
       "Soil_Type_18                           0     0     0     0     0\n",
       "Soil_Type_19                           0     0     0     0     0\n",
       "Soil_Type_20                           0     0     0     0     0\n",
       "Soil_Type_21                           0     0     0     0     0\n",
       "Soil_Type_22                           0     0     0     0     0\n",
       "Soil_Type_23                           0     0     0     0     0\n",
       "Soil_Type_24                           0     0     0     0     0\n",
       "Soil_Type_25                           0     0     0     0     0\n",
       "Soil_Type_26                           0     0     0     0     0\n",
       "Soil_Type_27                           0     0     0     0     0\n",
       "Soil_Type_28                           0     0     0     0     0\n",
       "Soil_Type_29                           0     0     0     0     0\n",
       "Soil_Type_30                           0     0     0     0     0\n",
       "Soil_Type_31                           0     0     0     0     1\n",
       "Soil_Type_32                           0     0     0     0     0\n",
       "Soil_Type_33                           0     0     0     0     0\n",
       "Soil_Type_34                           0     0     0     0     0\n",
       "Soil_Type_35                           0     0     0     0     0\n",
       "Soil_Type_36                           0     0     0     0     0\n",
       "Soil_Type_37                           0     0     0     0     0\n",
       "Soil_Type_38                           0     1     1     0     0\n",
       "Soil_Type_39                           0     0     0     0     0\n",
       "Soil_Type_40                           0     0     0     0     0\n",
       "Cover_Type                             6     1     7     5     7"
      ]
     },
     "execution_count": 2,
     "metadata": {},
     "output_type": "execute_result"
    }
   ],
   "source": [
    "df = pd.read_csv(\"treetypes.csv\")\n",
    "df.head().T"
   ]
  },
  {
   "cell_type": "code",
   "execution_count": 3,
   "metadata": {},
   "outputs": [
    {
     "name": "stdout",
     "output_type": "stream",
     "text": [
      "<class 'pandas.core.frame.DataFrame'>\n",
      "RangeIndex: 250000 entries, 0 to 249999\n",
      "Data columns (total 55 columns):\n",
      " #   Column                              Non-Null Count   Dtype\n",
      "---  ------                              --------------   -----\n",
      " 0   Elevation                           250000 non-null  int64\n",
      " 1   Aspect                              250000 non-null  int64\n",
      " 2   Slope                               250000 non-null  int64\n",
      " 3   Horizontal_Distance_To_Hydrology    250000 non-null  int64\n",
      " 4   Vertical_Distance_To_Hydrology      250000 non-null  int64\n",
      " 5   Horizontal_Distance_To_Roadways     250000 non-null  int64\n",
      " 6   Hillshade_9am                       250000 non-null  int64\n",
      " 7   Hillshade_Noon                      250000 non-null  int64\n",
      " 8   Hillshade_3pm                       250000 non-null  int64\n",
      " 9   Horizontal_Distance_To_Fire_Points  250000 non-null  int64\n",
      " 10  Wilderness_Area_1                   250000 non-null  int64\n",
      " 11  Wilderness_Area_2                   250000 non-null  int64\n",
      " 12  Wilderness_Area_3                   250000 non-null  int64\n",
      " 13  Wilderness_Area_4                   250000 non-null  int64\n",
      " 14  Soil_Type_1                         250000 non-null  int64\n",
      " 15  Soil_Type_2                         250000 non-null  int64\n",
      " 16  Soil_Type_3                         250000 non-null  int64\n",
      " 17  Soil_Type_4                         250000 non-null  int64\n",
      " 18  Soil_Type_5                         250000 non-null  int64\n",
      " 19  Soil_Type_6                         250000 non-null  int64\n",
      " 20  Soil_Type_7                         250000 non-null  int64\n",
      " 21  Soil_Type_8                         250000 non-null  int64\n",
      " 22  Soil_Type_9                         250000 non-null  int64\n",
      " 23  Soil_Type_10                        250000 non-null  int64\n",
      " 24  Soil_Type_11                        250000 non-null  int64\n",
      " 25  Soil_Type_12                        250000 non-null  int64\n",
      " 26  Soil_Type_13                        250000 non-null  int64\n",
      " 27  Soil_Type_14                        250000 non-null  int64\n",
      " 28  Soil_Type_15                        250000 non-null  int64\n",
      " 29  Soil_Type_16                        250000 non-null  int64\n",
      " 30  Soil_Type_17                        250000 non-null  int64\n",
      " 31  Soil_Type_18                        250000 non-null  int64\n",
      " 32  Soil_Type_19                        250000 non-null  int64\n",
      " 33  Soil_Type_20                        250000 non-null  int64\n",
      " 34  Soil_Type_21                        250000 non-null  int64\n",
      " 35  Soil_Type_22                        250000 non-null  int64\n",
      " 36  Soil_Type_23                        250000 non-null  int64\n",
      " 37  Soil_Type_24                        250000 non-null  int64\n",
      " 38  Soil_Type_25                        250000 non-null  int64\n",
      " 39  Soil_Type_26                        250000 non-null  int64\n",
      " 40  Soil_Type_27                        250000 non-null  int64\n",
      " 41  Soil_Type_28                        250000 non-null  int64\n",
      " 42  Soil_Type_29                        250000 non-null  int64\n",
      " 43  Soil_Type_30                        250000 non-null  int64\n",
      " 44  Soil_Type_31                        250000 non-null  int64\n",
      " 45  Soil_Type_32                        250000 non-null  int64\n",
      " 46  Soil_Type_33                        250000 non-null  int64\n",
      " 47  Soil_Type_34                        250000 non-null  int64\n",
      " 48  Soil_Type_35                        250000 non-null  int64\n",
      " 49  Soil_Type_36                        250000 non-null  int64\n",
      " 50  Soil_Type_37                        250000 non-null  int64\n",
      " 51  Soil_Type_38                        250000 non-null  int64\n",
      " 52  Soil_Type_39                        250000 non-null  int64\n",
      " 53  Soil_Type_40                        250000 non-null  int64\n",
      " 54  Cover_Type                          250000 non-null  int64\n",
      "dtypes: int64(55)\n",
      "memory usage: 104.9 MB\n"
     ]
    }
   ],
   "source": [
    "df.info()"
   ]
  },
  {
   "cell_type": "markdown",
   "metadata": {
    "id": "y8W545bnASC0"
   },
   "source": [
    "#### *iii. Explore Data*\n",
    "- Focus on numerical and categorical data\n",
    "- Detect Number of Unique values of each column\n",
    "- Focus on Target Variable (Cover_Type)\n",
    " - Detect relationships and correlations between independent variables and target variable.\n",
    " - It may be nice to visualize the class frequencies of the target variable.\n",
    "- Detect relationships and correlations between independent variables. (You can prefer to keep only one of the highly correlated continuous variables.)\n",
    "- Consider dropping features that contain little data or that you think will not contribute to the model."
   ]
  },
  {
   "cell_type": "code",
   "execution_count": 4,
   "metadata": {
    "id": "BVE7_TsoASC0"
   },
   "outputs": [],
   "source": [
    "#There is no \"object\" type column\n",
    "for feature in df.columns:\n",
    "    if df[feature].dtype==\"object\":\n",
    "        print(df[feature].unique())"
   ]
  },
  {
   "cell_type": "code",
   "execution_count": 5,
   "metadata": {},
   "outputs": [
    {
     "data": {
      "text/html": [
       "<div>\n",
       "<style scoped>\n",
       "    .dataframe tbody tr th:only-of-type {\n",
       "        vertical-align: middle;\n",
       "    }\n",
       "\n",
       "    .dataframe tbody tr th {\n",
       "        vertical-align: top;\n",
       "    }\n",
       "\n",
       "    .dataframe thead th {\n",
       "        text-align: right;\n",
       "    }\n",
       "</style>\n",
       "<table border=\"1\" class=\"dataframe\">\n",
       "  <thead>\n",
       "    <tr style=\"text-align: right;\">\n",
       "      <th></th>\n",
       "      <th>count</th>\n",
       "      <th>mean</th>\n",
       "      <th>std</th>\n",
       "      <th>min</th>\n",
       "      <th>25%</th>\n",
       "      <th>50%</th>\n",
       "      <th>75%</th>\n",
       "      <th>max</th>\n",
       "    </tr>\n",
       "  </thead>\n",
       "  <tbody>\n",
       "    <tr>\n",
       "      <th>Elevation</th>\n",
       "      <td>250000.0</td>\n",
       "      <td>2748.505160</td>\n",
       "      <td>418.300975</td>\n",
       "      <td>1859.0</td>\n",
       "      <td>2375.0</td>\n",
       "      <td>2753.0</td>\n",
       "      <td>3108.0</td>\n",
       "      <td>3857.0</td>\n",
       "    </tr>\n",
       "    <tr>\n",
       "      <th>Aspect</th>\n",
       "      <td>250000.0</td>\n",
       "      <td>156.212172</td>\n",
       "      <td>109.652847</td>\n",
       "      <td>0.0</td>\n",
       "      <td>65.0</td>\n",
       "      <td>125.0</td>\n",
       "      <td>260.0</td>\n",
       "      <td>360.0</td>\n",
       "    </tr>\n",
       "    <tr>\n",
       "      <th>Slope</th>\n",
       "      <td>250000.0</td>\n",
       "      <td>16.331052</td>\n",
       "      <td>8.317490</td>\n",
       "      <td>0.0</td>\n",
       "      <td>10.0</td>\n",
       "      <td>15.0</td>\n",
       "      <td>22.0</td>\n",
       "      <td>65.0</td>\n",
       "    </tr>\n",
       "    <tr>\n",
       "      <th>Horizontal_Distance_To_Hydrology</th>\n",
       "      <td>250000.0</td>\n",
       "      <td>228.094032</td>\n",
       "      <td>209.630153</td>\n",
       "      <td>0.0</td>\n",
       "      <td>66.0</td>\n",
       "      <td>180.0</td>\n",
       "      <td>330.0</td>\n",
       "      <td>1390.0</td>\n",
       "    </tr>\n",
       "    <tr>\n",
       "      <th>Vertical_Distance_To_Hydrology</th>\n",
       "      <td>250000.0</td>\n",
       "      <td>50.897820</td>\n",
       "      <td>61.006967</td>\n",
       "      <td>-163.0</td>\n",
       "      <td>5.0</td>\n",
       "      <td>32.0</td>\n",
       "      <td>79.0</td>\n",
       "      <td>598.0</td>\n",
       "    </tr>\n",
       "    <tr>\n",
       "      <th>Horizontal_Distance_To_Roadways</th>\n",
       "      <td>250000.0</td>\n",
       "      <td>1719.966576</td>\n",
       "      <td>1330.817603</td>\n",
       "      <td>0.0</td>\n",
       "      <td>756.0</td>\n",
       "      <td>1318.0</td>\n",
       "      <td>2294.0</td>\n",
       "      <td>7112.0</td>\n",
       "    </tr>\n",
       "    <tr>\n",
       "      <th>Hillshade_9am</th>\n",
       "      <td>250000.0</td>\n",
       "      <td>212.370488</td>\n",
       "      <td>30.654582</td>\n",
       "      <td>0.0</td>\n",
       "      <td>195.0</td>\n",
       "      <td>220.0</td>\n",
       "      <td>235.0</td>\n",
       "      <td>254.0</td>\n",
       "    </tr>\n",
       "    <tr>\n",
       "      <th>Hillshade_Noon</th>\n",
       "      <td>250000.0</td>\n",
       "      <td>218.510700</td>\n",
       "      <td>22.680947</td>\n",
       "      <td>0.0</td>\n",
       "      <td>206.0</td>\n",
       "      <td>222.0</td>\n",
       "      <td>235.0</td>\n",
       "      <td>254.0</td>\n",
       "    </tr>\n",
       "    <tr>\n",
       "      <th>Hillshade_3pm</th>\n",
       "      <td>250000.0</td>\n",
       "      <td>134.502764</td>\n",
       "      <td>46.033892</td>\n",
       "      <td>0.0</td>\n",
       "      <td>106.0</td>\n",
       "      <td>137.0</td>\n",
       "      <td>167.0</td>\n",
       "      <td>252.0</td>\n",
       "    </tr>\n",
       "    <tr>\n",
       "      <th>Horizontal_Distance_To_Fire_Points</th>\n",
       "      <td>250000.0</td>\n",
       "      <td>1521.756904</td>\n",
       "      <td>1107.378373</td>\n",
       "      <td>0.0</td>\n",
       "      <td>734.0</td>\n",
       "      <td>1273.0</td>\n",
       "      <td>1998.0</td>\n",
       "      <td>7150.0</td>\n",
       "    </tr>\n",
       "    <tr>\n",
       "      <th>Wilderness_Area_1</th>\n",
       "      <td>250000.0</td>\n",
       "      <td>0.238300</td>\n",
       "      <td>0.426044</td>\n",
       "      <td>0.0</td>\n",
       "      <td>0.0</td>\n",
       "      <td>0.0</td>\n",
       "      <td>0.0</td>\n",
       "      <td>1.0</td>\n",
       "    </tr>\n",
       "    <tr>\n",
       "      <th>Wilderness_Area_2</th>\n",
       "      <td>250000.0</td>\n",
       "      <td>0.033360</td>\n",
       "      <td>0.179575</td>\n",
       "      <td>0.0</td>\n",
       "      <td>0.0</td>\n",
       "      <td>0.0</td>\n",
       "      <td>0.0</td>\n",
       "      <td>1.0</td>\n",
       "    </tr>\n",
       "    <tr>\n",
       "      <th>Wilderness_Area_3</th>\n",
       "      <td>250000.0</td>\n",
       "      <td>0.417824</td>\n",
       "      <td>0.493202</td>\n",
       "      <td>0.0</td>\n",
       "      <td>0.0</td>\n",
       "      <td>0.0</td>\n",
       "      <td>1.0</td>\n",
       "      <td>1.0</td>\n",
       "    </tr>\n",
       "    <tr>\n",
       "      <th>Wilderness_Area_4</th>\n",
       "      <td>250000.0</td>\n",
       "      <td>0.308692</td>\n",
       "      <td>0.461955</td>\n",
       "      <td>0.0</td>\n",
       "      <td>0.0</td>\n",
       "      <td>0.0</td>\n",
       "      <td>1.0</td>\n",
       "      <td>1.0</td>\n",
       "    </tr>\n",
       "    <tr>\n",
       "      <th>Soil_Type_1</th>\n",
       "      <td>250000.0</td>\n",
       "      <td>0.018344</td>\n",
       "      <td>0.134192</td>\n",
       "      <td>0.0</td>\n",
       "      <td>0.0</td>\n",
       "      <td>0.0</td>\n",
       "      <td>0.0</td>\n",
       "      <td>1.0</td>\n",
       "    </tr>\n",
       "    <tr>\n",
       "      <th>Soil_Type_2</th>\n",
       "      <td>250000.0</td>\n",
       "      <td>0.035864</td>\n",
       "      <td>0.185951</td>\n",
       "      <td>0.0</td>\n",
       "      <td>0.0</td>\n",
       "      <td>0.0</td>\n",
       "      <td>0.0</td>\n",
       "      <td>1.0</td>\n",
       "    </tr>\n",
       "    <tr>\n",
       "      <th>Soil_Type_3</th>\n",
       "      <td>250000.0</td>\n",
       "      <td>0.058376</td>\n",
       "      <td>0.234454</td>\n",
       "      <td>0.0</td>\n",
       "      <td>0.0</td>\n",
       "      <td>0.0</td>\n",
       "      <td>0.0</td>\n",
       "      <td>1.0</td>\n",
       "    </tr>\n",
       "    <tr>\n",
       "      <th>Soil_Type_4</th>\n",
       "      <td>250000.0</td>\n",
       "      <td>0.046920</td>\n",
       "      <td>0.211468</td>\n",
       "      <td>0.0</td>\n",
       "      <td>0.0</td>\n",
       "      <td>0.0</td>\n",
       "      <td>0.0</td>\n",
       "      <td>1.0</td>\n",
       "    </tr>\n",
       "    <tr>\n",
       "      <th>Soil_Type_5</th>\n",
       "      <td>250000.0</td>\n",
       "      <td>0.009036</td>\n",
       "      <td>0.094628</td>\n",
       "      <td>0.0</td>\n",
       "      <td>0.0</td>\n",
       "      <td>0.0</td>\n",
       "      <td>0.0</td>\n",
       "      <td>1.0</td>\n",
       "    </tr>\n",
       "    <tr>\n",
       "      <th>Soil_Type_6</th>\n",
       "      <td>250000.0</td>\n",
       "      <td>0.037396</td>\n",
       "      <td>0.189731</td>\n",
       "      <td>0.0</td>\n",
       "      <td>0.0</td>\n",
       "      <td>0.0</td>\n",
       "      <td>0.0</td>\n",
       "      <td>1.0</td>\n",
       "    </tr>\n",
       "    <tr>\n",
       "      <th>Soil_Type_7</th>\n",
       "      <td>250000.0</td>\n",
       "      <td>0.000060</td>\n",
       "      <td>0.007746</td>\n",
       "      <td>0.0</td>\n",
       "      <td>0.0</td>\n",
       "      <td>0.0</td>\n",
       "      <td>0.0</td>\n",
       "      <td>1.0</td>\n",
       "    </tr>\n",
       "    <tr>\n",
       "      <th>Soil_Type_8</th>\n",
       "      <td>250000.0</td>\n",
       "      <td>0.000092</td>\n",
       "      <td>0.009591</td>\n",
       "      <td>0.0</td>\n",
       "      <td>0.0</td>\n",
       "      <td>0.0</td>\n",
       "      <td>0.0</td>\n",
       "      <td>1.0</td>\n",
       "    </tr>\n",
       "    <tr>\n",
       "      <th>Soil_Type_9</th>\n",
       "      <td>250000.0</td>\n",
       "      <td>0.000612</td>\n",
       "      <td>0.024731</td>\n",
       "      <td>0.0</td>\n",
       "      <td>0.0</td>\n",
       "      <td>0.0</td>\n",
       "      <td>0.0</td>\n",
       "      <td>1.0</td>\n",
       "    </tr>\n",
       "    <tr>\n",
       "      <th>Soil_Type_10</th>\n",
       "      <td>250000.0</td>\n",
       "      <td>0.126132</td>\n",
       "      <td>0.331999</td>\n",
       "      <td>0.0</td>\n",
       "      <td>0.0</td>\n",
       "      <td>0.0</td>\n",
       "      <td>0.0</td>\n",
       "      <td>1.0</td>\n",
       "    </tr>\n",
       "    <tr>\n",
       "      <th>Soil_Type_11</th>\n",
       "      <td>250000.0</td>\n",
       "      <td>0.023604</td>\n",
       "      <td>0.151812</td>\n",
       "      <td>0.0</td>\n",
       "      <td>0.0</td>\n",
       "      <td>0.0</td>\n",
       "      <td>0.0</td>\n",
       "      <td>1.0</td>\n",
       "    </tr>\n",
       "    <tr>\n",
       "      <th>Soil_Type_12</th>\n",
       "      <td>250000.0</td>\n",
       "      <td>0.015736</td>\n",
       "      <td>0.124453</td>\n",
       "      <td>0.0</td>\n",
       "      <td>0.0</td>\n",
       "      <td>0.0</td>\n",
       "      <td>0.0</td>\n",
       "      <td>1.0</td>\n",
       "    </tr>\n",
       "    <tr>\n",
       "      <th>Soil_Type_13</th>\n",
       "      <td>250000.0</td>\n",
       "      <td>0.032068</td>\n",
       "      <td>0.176181</td>\n",
       "      <td>0.0</td>\n",
       "      <td>0.0</td>\n",
       "      <td>0.0</td>\n",
       "      <td>0.0</td>\n",
       "      <td>1.0</td>\n",
       "    </tr>\n",
       "    <tr>\n",
       "      <th>Soil_Type_14</th>\n",
       "      <td>250000.0</td>\n",
       "      <td>0.006308</td>\n",
       "      <td>0.079172</td>\n",
       "      <td>0.0</td>\n",
       "      <td>0.0</td>\n",
       "      <td>0.0</td>\n",
       "      <td>0.0</td>\n",
       "      <td>1.0</td>\n",
       "    </tr>\n",
       "    <tr>\n",
       "      <th>Soil_Type_15</th>\n",
       "      <td>250000.0</td>\n",
       "      <td>0.000004</td>\n",
       "      <td>0.002000</td>\n",
       "      <td>0.0</td>\n",
       "      <td>0.0</td>\n",
       "      <td>0.0</td>\n",
       "      <td>0.0</td>\n",
       "      <td>1.0</td>\n",
       "    </tr>\n",
       "    <tr>\n",
       "      <th>Soil_Type_16</th>\n",
       "      <td>250000.0</td>\n",
       "      <td>0.004604</td>\n",
       "      <td>0.067697</td>\n",
       "      <td>0.0</td>\n",
       "      <td>0.0</td>\n",
       "      <td>0.0</td>\n",
       "      <td>0.0</td>\n",
       "      <td>1.0</td>\n",
       "    </tr>\n",
       "    <tr>\n",
       "      <th>Soil_Type_17</th>\n",
       "      <td>250000.0</td>\n",
       "      <td>0.030532</td>\n",
       "      <td>0.172046</td>\n",
       "      <td>0.0</td>\n",
       "      <td>0.0</td>\n",
       "      <td>0.0</td>\n",
       "      <td>0.0</td>\n",
       "      <td>1.0</td>\n",
       "    </tr>\n",
       "    <tr>\n",
       "      <th>Soil_Type_18</th>\n",
       "      <td>250000.0</td>\n",
       "      <td>0.003516</td>\n",
       "      <td>0.059192</td>\n",
       "      <td>0.0</td>\n",
       "      <td>0.0</td>\n",
       "      <td>0.0</td>\n",
       "      <td>0.0</td>\n",
       "      <td>1.0</td>\n",
       "    </tr>\n",
       "    <tr>\n",
       "      <th>Soil_Type_19</th>\n",
       "      <td>250000.0</td>\n",
       "      <td>0.002868</td>\n",
       "      <td>0.053477</td>\n",
       "      <td>0.0</td>\n",
       "      <td>0.0</td>\n",
       "      <td>0.0</td>\n",
       "      <td>0.0</td>\n",
       "      <td>1.0</td>\n",
       "    </tr>\n",
       "    <tr>\n",
       "      <th>Soil_Type_20</th>\n",
       "      <td>250000.0</td>\n",
       "      <td>0.007580</td>\n",
       "      <td>0.086733</td>\n",
       "      <td>0.0</td>\n",
       "      <td>0.0</td>\n",
       "      <td>0.0</td>\n",
       "      <td>0.0</td>\n",
       "      <td>1.0</td>\n",
       "    </tr>\n",
       "    <tr>\n",
       "      <th>Soil_Type_21</th>\n",
       "      <td>250000.0</td>\n",
       "      <td>0.000628</td>\n",
       "      <td>0.025052</td>\n",
       "      <td>0.0</td>\n",
       "      <td>0.0</td>\n",
       "      <td>0.0</td>\n",
       "      <td>0.0</td>\n",
       "      <td>1.0</td>\n",
       "    </tr>\n",
       "    <tr>\n",
       "      <th>Soil_Type_22</th>\n",
       "      <td>250000.0</td>\n",
       "      <td>0.022004</td>\n",
       "      <td>0.146697</td>\n",
       "      <td>0.0</td>\n",
       "      <td>0.0</td>\n",
       "      <td>0.0</td>\n",
       "      <td>0.0</td>\n",
       "      <td>1.0</td>\n",
       "    </tr>\n",
       "    <tr>\n",
       "      <th>Soil_Type_23</th>\n",
       "      <td>250000.0</td>\n",
       "      <td>0.047560</td>\n",
       "      <td>0.212834</td>\n",
       "      <td>0.0</td>\n",
       "      <td>0.0</td>\n",
       "      <td>0.0</td>\n",
       "      <td>0.0</td>\n",
       "      <td>1.0</td>\n",
       "    </tr>\n",
       "    <tr>\n",
       "      <th>Soil_Type_24</th>\n",
       "      <td>250000.0</td>\n",
       "      <td>0.015400</td>\n",
       "      <td>0.123138</td>\n",
       "      <td>0.0</td>\n",
       "      <td>0.0</td>\n",
       "      <td>0.0</td>\n",
       "      <td>0.0</td>\n",
       "      <td>1.0</td>\n",
       "    </tr>\n",
       "    <tr>\n",
       "      <th>Soil_Type_25</th>\n",
       "      <td>250000.0</td>\n",
       "      <td>0.000232</td>\n",
       "      <td>0.015230</td>\n",
       "      <td>0.0</td>\n",
       "      <td>0.0</td>\n",
       "      <td>0.0</td>\n",
       "      <td>0.0</td>\n",
       "      <td>1.0</td>\n",
       "    </tr>\n",
       "    <tr>\n",
       "      <th>Soil_Type_26</th>\n",
       "      <td>250000.0</td>\n",
       "      <td>0.003188</td>\n",
       "      <td>0.056372</td>\n",
       "      <td>0.0</td>\n",
       "      <td>0.0</td>\n",
       "      <td>0.0</td>\n",
       "      <td>0.0</td>\n",
       "      <td>1.0</td>\n",
       "    </tr>\n",
       "    <tr>\n",
       "      <th>Soil_Type_27</th>\n",
       "      <td>250000.0</td>\n",
       "      <td>0.000844</td>\n",
       "      <td>0.029039</td>\n",
       "      <td>0.0</td>\n",
       "      <td>0.0</td>\n",
       "      <td>0.0</td>\n",
       "      <td>0.0</td>\n",
       "      <td>1.0</td>\n",
       "    </tr>\n",
       "    <tr>\n",
       "      <th>Soil_Type_28</th>\n",
       "      <td>250000.0</td>\n",
       "      <td>0.000600</td>\n",
       "      <td>0.024488</td>\n",
       "      <td>0.0</td>\n",
       "      <td>0.0</td>\n",
       "      <td>0.0</td>\n",
       "      <td>0.0</td>\n",
       "      <td>1.0</td>\n",
       "    </tr>\n",
       "    <tr>\n",
       "      <th>Soil_Type_29</th>\n",
       "      <td>250000.0</td>\n",
       "      <td>0.084728</td>\n",
       "      <td>0.278477</td>\n",
       "      <td>0.0</td>\n",
       "      <td>0.0</td>\n",
       "      <td>0.0</td>\n",
       "      <td>0.0</td>\n",
       "      <td>1.0</td>\n",
       "    </tr>\n",
       "    <tr>\n",
       "      <th>Soil_Type_30</th>\n",
       "      <td>250000.0</td>\n",
       "      <td>0.046952</td>\n",
       "      <td>0.211536</td>\n",
       "      <td>0.0</td>\n",
       "      <td>0.0</td>\n",
       "      <td>0.0</td>\n",
       "      <td>0.0</td>\n",
       "      <td>1.0</td>\n",
       "    </tr>\n",
       "    <tr>\n",
       "      <th>Soil_Type_31</th>\n",
       "      <td>250000.0</td>\n",
       "      <td>0.019988</td>\n",
       "      <td>0.139959</td>\n",
       "      <td>0.0</td>\n",
       "      <td>0.0</td>\n",
       "      <td>0.0</td>\n",
       "      <td>0.0</td>\n",
       "      <td>1.0</td>\n",
       "    </tr>\n",
       "    <tr>\n",
       "      <th>Soil_Type_32</th>\n",
       "      <td>250000.0</td>\n",
       "      <td>0.041580</td>\n",
       "      <td>0.199628</td>\n",
       "      <td>0.0</td>\n",
       "      <td>0.0</td>\n",
       "      <td>0.0</td>\n",
       "      <td>0.0</td>\n",
       "      <td>1.0</td>\n",
       "    </tr>\n",
       "    <tr>\n",
       "      <th>Soil_Type_33</th>\n",
       "      <td>250000.0</td>\n",
       "      <td>0.039880</td>\n",
       "      <td>0.195678</td>\n",
       "      <td>0.0</td>\n",
       "      <td>0.0</td>\n",
       "      <td>0.0</td>\n",
       "      <td>0.0</td>\n",
       "      <td>1.0</td>\n",
       "    </tr>\n",
       "    <tr>\n",
       "      <th>Soil_Type_34</th>\n",
       "      <td>250000.0</td>\n",
       "      <td>0.001500</td>\n",
       "      <td>0.038701</td>\n",
       "      <td>0.0</td>\n",
       "      <td>0.0</td>\n",
       "      <td>0.0</td>\n",
       "      <td>0.0</td>\n",
       "      <td>1.0</td>\n",
       "    </tr>\n",
       "    <tr>\n",
       "      <th>Soil_Type_35</th>\n",
       "      <td>250000.0</td>\n",
       "      <td>0.006464</td>\n",
       "      <td>0.080139</td>\n",
       "      <td>0.0</td>\n",
       "      <td>0.0</td>\n",
       "      <td>0.0</td>\n",
       "      <td>0.0</td>\n",
       "      <td>1.0</td>\n",
       "    </tr>\n",
       "    <tr>\n",
       "      <th>Soil_Type_36</th>\n",
       "      <td>250000.0</td>\n",
       "      <td>0.000396</td>\n",
       "      <td>0.019896</td>\n",
       "      <td>0.0</td>\n",
       "      <td>0.0</td>\n",
       "      <td>0.0</td>\n",
       "      <td>0.0</td>\n",
       "      <td>1.0</td>\n",
       "    </tr>\n",
       "    <tr>\n",
       "      <th>Soil_Type_37</th>\n",
       "      <td>250000.0</td>\n",
       "      <td>0.001852</td>\n",
       "      <td>0.042995</td>\n",
       "      <td>0.0</td>\n",
       "      <td>0.0</td>\n",
       "      <td>0.0</td>\n",
       "      <td>0.0</td>\n",
       "      <td>1.0</td>\n",
       "    </tr>\n",
       "    <tr>\n",
       "      <th>Soil_Type_38</th>\n",
       "      <td>250000.0</td>\n",
       "      <td>0.046020</td>\n",
       "      <td>0.209529</td>\n",
       "      <td>0.0</td>\n",
       "      <td>0.0</td>\n",
       "      <td>0.0</td>\n",
       "      <td>0.0</td>\n",
       "      <td>1.0</td>\n",
       "    </tr>\n",
       "    <tr>\n",
       "      <th>Soil_Type_39</th>\n",
       "      <td>250000.0</td>\n",
       "      <td>0.041388</td>\n",
       "      <td>0.199186</td>\n",
       "      <td>0.0</td>\n",
       "      <td>0.0</td>\n",
       "      <td>0.0</td>\n",
       "      <td>0.0</td>\n",
       "      <td>1.0</td>\n",
       "    </tr>\n",
       "    <tr>\n",
       "      <th>Soil_Type_40</th>\n",
       "      <td>250000.0</td>\n",
       "      <td>0.026892</td>\n",
       "      <td>0.161768</td>\n",
       "      <td>0.0</td>\n",
       "      <td>0.0</td>\n",
       "      <td>0.0</td>\n",
       "      <td>0.0</td>\n",
       "      <td>1.0</td>\n",
       "    </tr>\n",
       "    <tr>\n",
       "      <th>Cover_Type</th>\n",
       "      <td>250000.0</td>\n",
       "      <td>4.000320</td>\n",
       "      <td>2.001108</td>\n",
       "      <td>1.0</td>\n",
       "      <td>2.0</td>\n",
       "      <td>4.0</td>\n",
       "      <td>6.0</td>\n",
       "      <td>7.0</td>\n",
       "    </tr>\n",
       "  </tbody>\n",
       "</table>\n",
       "</div>"
      ],
      "text/plain": [
       "                                       count         mean          std  \\\n",
       "Elevation                           250000.0  2748.505160   418.300975   \n",
       "Aspect                              250000.0   156.212172   109.652847   \n",
       "Slope                               250000.0    16.331052     8.317490   \n",
       "Horizontal_Distance_To_Hydrology    250000.0   228.094032   209.630153   \n",
       "Vertical_Distance_To_Hydrology      250000.0    50.897820    61.006967   \n",
       "Horizontal_Distance_To_Roadways     250000.0  1719.966576  1330.817603   \n",
       "Hillshade_9am                       250000.0   212.370488    30.654582   \n",
       "Hillshade_Noon                      250000.0   218.510700    22.680947   \n",
       "Hillshade_3pm                       250000.0   134.502764    46.033892   \n",
       "Horizontal_Distance_To_Fire_Points  250000.0  1521.756904  1107.378373   \n",
       "Wilderness_Area_1                   250000.0     0.238300     0.426044   \n",
       "Wilderness_Area_2                   250000.0     0.033360     0.179575   \n",
       "Wilderness_Area_3                   250000.0     0.417824     0.493202   \n",
       "Wilderness_Area_4                   250000.0     0.308692     0.461955   \n",
       "Soil_Type_1                         250000.0     0.018344     0.134192   \n",
       "Soil_Type_2                         250000.0     0.035864     0.185951   \n",
       "Soil_Type_3                         250000.0     0.058376     0.234454   \n",
       "Soil_Type_4                         250000.0     0.046920     0.211468   \n",
       "Soil_Type_5                         250000.0     0.009036     0.094628   \n",
       "Soil_Type_6                         250000.0     0.037396     0.189731   \n",
       "Soil_Type_7                         250000.0     0.000060     0.007746   \n",
       "Soil_Type_8                         250000.0     0.000092     0.009591   \n",
       "Soil_Type_9                         250000.0     0.000612     0.024731   \n",
       "Soil_Type_10                        250000.0     0.126132     0.331999   \n",
       "Soil_Type_11                        250000.0     0.023604     0.151812   \n",
       "Soil_Type_12                        250000.0     0.015736     0.124453   \n",
       "Soil_Type_13                        250000.0     0.032068     0.176181   \n",
       "Soil_Type_14                        250000.0     0.006308     0.079172   \n",
       "Soil_Type_15                        250000.0     0.000004     0.002000   \n",
       "Soil_Type_16                        250000.0     0.004604     0.067697   \n",
       "Soil_Type_17                        250000.0     0.030532     0.172046   \n",
       "Soil_Type_18                        250000.0     0.003516     0.059192   \n",
       "Soil_Type_19                        250000.0     0.002868     0.053477   \n",
       "Soil_Type_20                        250000.0     0.007580     0.086733   \n",
       "Soil_Type_21                        250000.0     0.000628     0.025052   \n",
       "Soil_Type_22                        250000.0     0.022004     0.146697   \n",
       "Soil_Type_23                        250000.0     0.047560     0.212834   \n",
       "Soil_Type_24                        250000.0     0.015400     0.123138   \n",
       "Soil_Type_25                        250000.0     0.000232     0.015230   \n",
       "Soil_Type_26                        250000.0     0.003188     0.056372   \n",
       "Soil_Type_27                        250000.0     0.000844     0.029039   \n",
       "Soil_Type_28                        250000.0     0.000600     0.024488   \n",
       "Soil_Type_29                        250000.0     0.084728     0.278477   \n",
       "Soil_Type_30                        250000.0     0.046952     0.211536   \n",
       "Soil_Type_31                        250000.0     0.019988     0.139959   \n",
       "Soil_Type_32                        250000.0     0.041580     0.199628   \n",
       "Soil_Type_33                        250000.0     0.039880     0.195678   \n",
       "Soil_Type_34                        250000.0     0.001500     0.038701   \n",
       "Soil_Type_35                        250000.0     0.006464     0.080139   \n",
       "Soil_Type_36                        250000.0     0.000396     0.019896   \n",
       "Soil_Type_37                        250000.0     0.001852     0.042995   \n",
       "Soil_Type_38                        250000.0     0.046020     0.209529   \n",
       "Soil_Type_39                        250000.0     0.041388     0.199186   \n",
       "Soil_Type_40                        250000.0     0.026892     0.161768   \n",
       "Cover_Type                          250000.0     4.000320     2.001108   \n",
       "\n",
       "                                       min     25%     50%     75%     max  \n",
       "Elevation                           1859.0  2375.0  2753.0  3108.0  3857.0  \n",
       "Aspect                                 0.0    65.0   125.0   260.0   360.0  \n",
       "Slope                                  0.0    10.0    15.0    22.0    65.0  \n",
       "Horizontal_Distance_To_Hydrology       0.0    66.0   180.0   330.0  1390.0  \n",
       "Vertical_Distance_To_Hydrology      -163.0     5.0    32.0    79.0   598.0  \n",
       "Horizontal_Distance_To_Roadways        0.0   756.0  1318.0  2294.0  7112.0  \n",
       "Hillshade_9am                          0.0   195.0   220.0   235.0   254.0  \n",
       "Hillshade_Noon                         0.0   206.0   222.0   235.0   254.0  \n",
       "Hillshade_3pm                          0.0   106.0   137.0   167.0   252.0  \n",
       "Horizontal_Distance_To_Fire_Points     0.0   734.0  1273.0  1998.0  7150.0  \n",
       "Wilderness_Area_1                      0.0     0.0     0.0     0.0     1.0  \n",
       "Wilderness_Area_2                      0.0     0.0     0.0     0.0     1.0  \n",
       "Wilderness_Area_3                      0.0     0.0     0.0     1.0     1.0  \n",
       "Wilderness_Area_4                      0.0     0.0     0.0     1.0     1.0  \n",
       "Soil_Type_1                            0.0     0.0     0.0     0.0     1.0  \n",
       "Soil_Type_2                            0.0     0.0     0.0     0.0     1.0  \n",
       "Soil_Type_3                            0.0     0.0     0.0     0.0     1.0  \n",
       "Soil_Type_4                            0.0     0.0     0.0     0.0     1.0  \n",
       "Soil_Type_5                            0.0     0.0     0.0     0.0     1.0  \n",
       "Soil_Type_6                            0.0     0.0     0.0     0.0     1.0  \n",
       "Soil_Type_7                            0.0     0.0     0.0     0.0     1.0  \n",
       "Soil_Type_8                            0.0     0.0     0.0     0.0     1.0  \n",
       "Soil_Type_9                            0.0     0.0     0.0     0.0     1.0  \n",
       "Soil_Type_10                           0.0     0.0     0.0     0.0     1.0  \n",
       "Soil_Type_11                           0.0     0.0     0.0     0.0     1.0  \n",
       "Soil_Type_12                           0.0     0.0     0.0     0.0     1.0  \n",
       "Soil_Type_13                           0.0     0.0     0.0     0.0     1.0  \n",
       "Soil_Type_14                           0.0     0.0     0.0     0.0     1.0  \n",
       "Soil_Type_15                           0.0     0.0     0.0     0.0     1.0  \n",
       "Soil_Type_16                           0.0     0.0     0.0     0.0     1.0  \n",
       "Soil_Type_17                           0.0     0.0     0.0     0.0     1.0  \n",
       "Soil_Type_18                           0.0     0.0     0.0     0.0     1.0  \n",
       "Soil_Type_19                           0.0     0.0     0.0     0.0     1.0  \n",
       "Soil_Type_20                           0.0     0.0     0.0     0.0     1.0  \n",
       "Soil_Type_21                           0.0     0.0     0.0     0.0     1.0  \n",
       "Soil_Type_22                           0.0     0.0     0.0     0.0     1.0  \n",
       "Soil_Type_23                           0.0     0.0     0.0     0.0     1.0  \n",
       "Soil_Type_24                           0.0     0.0     0.0     0.0     1.0  \n",
       "Soil_Type_25                           0.0     0.0     0.0     0.0     1.0  \n",
       "Soil_Type_26                           0.0     0.0     0.0     0.0     1.0  \n",
       "Soil_Type_27                           0.0     0.0     0.0     0.0     1.0  \n",
       "Soil_Type_28                           0.0     0.0     0.0     0.0     1.0  \n",
       "Soil_Type_29                           0.0     0.0     0.0     0.0     1.0  \n",
       "Soil_Type_30                           0.0     0.0     0.0     0.0     1.0  \n",
       "Soil_Type_31                           0.0     0.0     0.0     0.0     1.0  \n",
       "Soil_Type_32                           0.0     0.0     0.0     0.0     1.0  \n",
       "Soil_Type_33                           0.0     0.0     0.0     0.0     1.0  \n",
       "Soil_Type_34                           0.0     0.0     0.0     0.0     1.0  \n",
       "Soil_Type_35                           0.0     0.0     0.0     0.0     1.0  \n",
       "Soil_Type_36                           0.0     0.0     0.0     0.0     1.0  \n",
       "Soil_Type_37                           0.0     0.0     0.0     0.0     1.0  \n",
       "Soil_Type_38                           0.0     0.0     0.0     0.0     1.0  \n",
       "Soil_Type_39                           0.0     0.0     0.0     0.0     1.0  \n",
       "Soil_Type_40                           0.0     0.0     0.0     0.0     1.0  \n",
       "Cover_Type                             1.0     2.0     4.0     6.0     7.0  "
      ]
     },
     "execution_count": 5,
     "metadata": {},
     "output_type": "execute_result"
    }
   ],
   "source": [
    "#All the columns have numerical type\n",
    "df.describe().T"
   ]
  },
  {
   "cell_type": "code",
   "execution_count": 6,
   "metadata": {},
   "outputs": [
    {
     "data": {
      "text/html": [
       "<div>\n",
       "<style scoped>\n",
       "    .dataframe tbody tr th:only-of-type {\n",
       "        vertical-align: middle;\n",
       "    }\n",
       "\n",
       "    .dataframe tbody tr th {\n",
       "        vertical-align: top;\n",
       "    }\n",
       "\n",
       "    .dataframe thead th {\n",
       "        text-align: right;\n",
       "    }\n",
       "</style>\n",
       "<table border=\"1\" class=\"dataframe\">\n",
       "  <thead>\n",
       "    <tr style=\"text-align: right;\">\n",
       "      <th></th>\n",
       "      <th>count</th>\n",
       "      <th>nunique</th>\n",
       "    </tr>\n",
       "  </thead>\n",
       "  <tbody>\n",
       "    <tr>\n",
       "      <th>Elevation</th>\n",
       "      <td>250000</td>\n",
       "      <td>1983</td>\n",
       "    </tr>\n",
       "    <tr>\n",
       "      <th>Aspect</th>\n",
       "      <td>250000</td>\n",
       "      <td>361</td>\n",
       "    </tr>\n",
       "    <tr>\n",
       "      <th>Slope</th>\n",
       "      <td>250000</td>\n",
       "      <td>59</td>\n",
       "    </tr>\n",
       "    <tr>\n",
       "      <th>Horizontal_Distance_To_Hydrology</th>\n",
       "      <td>250000</td>\n",
       "      <td>1294</td>\n",
       "    </tr>\n",
       "    <tr>\n",
       "      <th>Vertical_Distance_To_Hydrology</th>\n",
       "      <td>250000</td>\n",
       "      <td>578</td>\n",
       "    </tr>\n",
       "    <tr>\n",
       "      <th>Horizontal_Distance_To_Roadways</th>\n",
       "      <td>250000</td>\n",
       "      <td>6501</td>\n",
       "    </tr>\n",
       "    <tr>\n",
       "      <th>Hillshade_9am</th>\n",
       "      <td>250000</td>\n",
       "      <td>207</td>\n",
       "    </tr>\n",
       "    <tr>\n",
       "      <th>Hillshade_Noon</th>\n",
       "      <td>250000</td>\n",
       "      <td>165</td>\n",
       "    </tr>\n",
       "    <tr>\n",
       "      <th>Hillshade_3pm</th>\n",
       "      <td>250000</td>\n",
       "      <td>253</td>\n",
       "    </tr>\n",
       "    <tr>\n",
       "      <th>Horizontal_Distance_To_Fire_Points</th>\n",
       "      <td>250000</td>\n",
       "      <td>6487</td>\n",
       "    </tr>\n",
       "    <tr>\n",
       "      <th>Wilderness_Area_1</th>\n",
       "      <td>250000</td>\n",
       "      <td>2</td>\n",
       "    </tr>\n",
       "    <tr>\n",
       "      <th>Wilderness_Area_2</th>\n",
       "      <td>250000</td>\n",
       "      <td>2</td>\n",
       "    </tr>\n",
       "    <tr>\n",
       "      <th>Wilderness_Area_3</th>\n",
       "      <td>250000</td>\n",
       "      <td>2</td>\n",
       "    </tr>\n",
       "    <tr>\n",
       "      <th>Wilderness_Area_4</th>\n",
       "      <td>250000</td>\n",
       "      <td>2</td>\n",
       "    </tr>\n",
       "    <tr>\n",
       "      <th>Soil_Type_1</th>\n",
       "      <td>250000</td>\n",
       "      <td>2</td>\n",
       "    </tr>\n",
       "    <tr>\n",
       "      <th>Soil_Type_2</th>\n",
       "      <td>250000</td>\n",
       "      <td>2</td>\n",
       "    </tr>\n",
       "    <tr>\n",
       "      <th>Soil_Type_3</th>\n",
       "      <td>250000</td>\n",
       "      <td>2</td>\n",
       "    </tr>\n",
       "    <tr>\n",
       "      <th>Soil_Type_4</th>\n",
       "      <td>250000</td>\n",
       "      <td>2</td>\n",
       "    </tr>\n",
       "    <tr>\n",
       "      <th>Soil_Type_5</th>\n",
       "      <td>250000</td>\n",
       "      <td>2</td>\n",
       "    </tr>\n",
       "    <tr>\n",
       "      <th>Soil_Type_6</th>\n",
       "      <td>250000</td>\n",
       "      <td>2</td>\n",
       "    </tr>\n",
       "    <tr>\n",
       "      <th>Soil_Type_7</th>\n",
       "      <td>250000</td>\n",
       "      <td>2</td>\n",
       "    </tr>\n",
       "    <tr>\n",
       "      <th>Soil_Type_8</th>\n",
       "      <td>250000</td>\n",
       "      <td>2</td>\n",
       "    </tr>\n",
       "    <tr>\n",
       "      <th>Soil_Type_9</th>\n",
       "      <td>250000</td>\n",
       "      <td>2</td>\n",
       "    </tr>\n",
       "    <tr>\n",
       "      <th>Soil_Type_10</th>\n",
       "      <td>250000</td>\n",
       "      <td>2</td>\n",
       "    </tr>\n",
       "    <tr>\n",
       "      <th>Soil_Type_11</th>\n",
       "      <td>250000</td>\n",
       "      <td>2</td>\n",
       "    </tr>\n",
       "    <tr>\n",
       "      <th>Soil_Type_12</th>\n",
       "      <td>250000</td>\n",
       "      <td>2</td>\n",
       "    </tr>\n",
       "    <tr>\n",
       "      <th>Soil_Type_13</th>\n",
       "      <td>250000</td>\n",
       "      <td>2</td>\n",
       "    </tr>\n",
       "    <tr>\n",
       "      <th>Soil_Type_14</th>\n",
       "      <td>250000</td>\n",
       "      <td>2</td>\n",
       "    </tr>\n",
       "    <tr>\n",
       "      <th>Soil_Type_15</th>\n",
       "      <td>250000</td>\n",
       "      <td>2</td>\n",
       "    </tr>\n",
       "    <tr>\n",
       "      <th>Soil_Type_16</th>\n",
       "      <td>250000</td>\n",
       "      <td>2</td>\n",
       "    </tr>\n",
       "    <tr>\n",
       "      <th>Soil_Type_17</th>\n",
       "      <td>250000</td>\n",
       "      <td>2</td>\n",
       "    </tr>\n",
       "    <tr>\n",
       "      <th>Soil_Type_18</th>\n",
       "      <td>250000</td>\n",
       "      <td>2</td>\n",
       "    </tr>\n",
       "    <tr>\n",
       "      <th>Soil_Type_19</th>\n",
       "      <td>250000</td>\n",
       "      <td>2</td>\n",
       "    </tr>\n",
       "    <tr>\n",
       "      <th>Soil_Type_20</th>\n",
       "      <td>250000</td>\n",
       "      <td>2</td>\n",
       "    </tr>\n",
       "    <tr>\n",
       "      <th>Soil_Type_21</th>\n",
       "      <td>250000</td>\n",
       "      <td>2</td>\n",
       "    </tr>\n",
       "    <tr>\n",
       "      <th>Soil_Type_22</th>\n",
       "      <td>250000</td>\n",
       "      <td>2</td>\n",
       "    </tr>\n",
       "    <tr>\n",
       "      <th>Soil_Type_23</th>\n",
       "      <td>250000</td>\n",
       "      <td>2</td>\n",
       "    </tr>\n",
       "    <tr>\n",
       "      <th>Soil_Type_24</th>\n",
       "      <td>250000</td>\n",
       "      <td>2</td>\n",
       "    </tr>\n",
       "    <tr>\n",
       "      <th>Soil_Type_25</th>\n",
       "      <td>250000</td>\n",
       "      <td>2</td>\n",
       "    </tr>\n",
       "    <tr>\n",
       "      <th>Soil_Type_26</th>\n",
       "      <td>250000</td>\n",
       "      <td>2</td>\n",
       "    </tr>\n",
       "    <tr>\n",
       "      <th>Soil_Type_27</th>\n",
       "      <td>250000</td>\n",
       "      <td>2</td>\n",
       "    </tr>\n",
       "    <tr>\n",
       "      <th>Soil_Type_28</th>\n",
       "      <td>250000</td>\n",
       "      <td>2</td>\n",
       "    </tr>\n",
       "    <tr>\n",
       "      <th>Soil_Type_29</th>\n",
       "      <td>250000</td>\n",
       "      <td>2</td>\n",
       "    </tr>\n",
       "    <tr>\n",
       "      <th>Soil_Type_30</th>\n",
       "      <td>250000</td>\n",
       "      <td>2</td>\n",
       "    </tr>\n",
       "    <tr>\n",
       "      <th>Soil_Type_31</th>\n",
       "      <td>250000</td>\n",
       "      <td>2</td>\n",
       "    </tr>\n",
       "    <tr>\n",
       "      <th>Soil_Type_32</th>\n",
       "      <td>250000</td>\n",
       "      <td>2</td>\n",
       "    </tr>\n",
       "    <tr>\n",
       "      <th>Soil_Type_33</th>\n",
       "      <td>250000</td>\n",
       "      <td>2</td>\n",
       "    </tr>\n",
       "    <tr>\n",
       "      <th>Soil_Type_34</th>\n",
       "      <td>250000</td>\n",
       "      <td>2</td>\n",
       "    </tr>\n",
       "    <tr>\n",
       "      <th>Soil_Type_35</th>\n",
       "      <td>250000</td>\n",
       "      <td>2</td>\n",
       "    </tr>\n",
       "    <tr>\n",
       "      <th>Soil_Type_36</th>\n",
       "      <td>250000</td>\n",
       "      <td>2</td>\n",
       "    </tr>\n",
       "    <tr>\n",
       "      <th>Soil_Type_37</th>\n",
       "      <td>250000</td>\n",
       "      <td>2</td>\n",
       "    </tr>\n",
       "    <tr>\n",
       "      <th>Soil_Type_38</th>\n",
       "      <td>250000</td>\n",
       "      <td>2</td>\n",
       "    </tr>\n",
       "    <tr>\n",
       "      <th>Soil_Type_39</th>\n",
       "      <td>250000</td>\n",
       "      <td>2</td>\n",
       "    </tr>\n",
       "    <tr>\n",
       "      <th>Soil_Type_40</th>\n",
       "      <td>250000</td>\n",
       "      <td>2</td>\n",
       "    </tr>\n",
       "    <tr>\n",
       "      <th>Cover_Type</th>\n",
       "      <td>250000</td>\n",
       "      <td>7</td>\n",
       "    </tr>\n",
       "  </tbody>\n",
       "</table>\n",
       "</div>"
      ],
      "text/plain": [
       "                                     count  nunique\n",
       "Elevation                           250000     1983\n",
       "Aspect                              250000      361\n",
       "Slope                               250000       59\n",
       "Horizontal_Distance_To_Hydrology    250000     1294\n",
       "Vertical_Distance_To_Hydrology      250000      578\n",
       "Horizontal_Distance_To_Roadways     250000     6501\n",
       "Hillshade_9am                       250000      207\n",
       "Hillshade_Noon                      250000      165\n",
       "Hillshade_3pm                       250000      253\n",
       "Horizontal_Distance_To_Fire_Points  250000     6487\n",
       "Wilderness_Area_1                   250000        2\n",
       "Wilderness_Area_2                   250000        2\n",
       "Wilderness_Area_3                   250000        2\n",
       "Wilderness_Area_4                   250000        2\n",
       "Soil_Type_1                         250000        2\n",
       "Soil_Type_2                         250000        2\n",
       "Soil_Type_3                         250000        2\n",
       "Soil_Type_4                         250000        2\n",
       "Soil_Type_5                         250000        2\n",
       "Soil_Type_6                         250000        2\n",
       "Soil_Type_7                         250000        2\n",
       "Soil_Type_8                         250000        2\n",
       "Soil_Type_9                         250000        2\n",
       "Soil_Type_10                        250000        2\n",
       "Soil_Type_11                        250000        2\n",
       "Soil_Type_12                        250000        2\n",
       "Soil_Type_13                        250000        2\n",
       "Soil_Type_14                        250000        2\n",
       "Soil_Type_15                        250000        2\n",
       "Soil_Type_16                        250000        2\n",
       "Soil_Type_17                        250000        2\n",
       "Soil_Type_18                        250000        2\n",
       "Soil_Type_19                        250000        2\n",
       "Soil_Type_20                        250000        2\n",
       "Soil_Type_21                        250000        2\n",
       "Soil_Type_22                        250000        2\n",
       "Soil_Type_23                        250000        2\n",
       "Soil_Type_24                        250000        2\n",
       "Soil_Type_25                        250000        2\n",
       "Soil_Type_26                        250000        2\n",
       "Soil_Type_27                        250000        2\n",
       "Soil_Type_28                        250000        2\n",
       "Soil_Type_29                        250000        2\n",
       "Soil_Type_30                        250000        2\n",
       "Soil_Type_31                        250000        2\n",
       "Soil_Type_32                        250000        2\n",
       "Soil_Type_33                        250000        2\n",
       "Soil_Type_34                        250000        2\n",
       "Soil_Type_35                        250000        2\n",
       "Soil_Type_36                        250000        2\n",
       "Soil_Type_37                        250000        2\n",
       "Soil_Type_38                        250000        2\n",
       "Soil_Type_39                        250000        2\n",
       "Soil_Type_40                        250000        2\n",
       "Cover_Type                          250000        7"
      ]
     },
     "execution_count": 6,
     "metadata": {},
     "output_type": "execute_result"
    }
   ],
   "source": [
    "df.agg(['count','nunique']).T"
   ]
  },
  {
   "cell_type": "code",
   "execution_count": 7,
   "metadata": {},
   "outputs": [
    {
     "data": {
      "text/plain": [
       "5    36079\n",
       "1    35836\n",
       "2    35780\n",
       "6    35695\n",
       "7    35690\n",
       "4    35529\n",
       "3    35391\n",
       "Name: Cover_Type, dtype: int64"
      ]
     },
     "execution_count": 7,
     "metadata": {},
     "output_type": "execute_result"
    }
   ],
   "source": [
    "#Target Value : Cover_Type\n",
    "df[\"Cover_Type\"].value_counts()"
   ]
  },
  {
   "cell_type": "code",
   "execution_count": 8,
   "metadata": {},
   "outputs": [
    {
     "data": {
      "text/plain": [
       "(250000, 11)"
      ]
     },
     "execution_count": 8,
     "metadata": {},
     "output_type": "execute_result"
    }
   ],
   "source": [
    "df.columns\n",
    "df2 = df[['Elevation', 'Aspect', 'Slope', 'Horizontal_Distance_To_Hydrology',\n",
    "       'Vertical_Distance_To_Hydrology', 'Horizontal_Distance_To_Roadways',\n",
    "       'Hillshade_9am', 'Hillshade_Noon', 'Hillshade_3pm',\n",
    "       'Horizontal_Distance_To_Fire_Points', 'Cover_Type']]\n",
    "df2.shape"
   ]
  },
  {
   "cell_type": "code",
   "execution_count": 9,
   "metadata": {},
   "outputs": [],
   "source": [
    "#plt.figure(figsize=(12,6))\n",
    "#sns.pairplot(df2,hue='Cover_Type',palette='Dark2')"
   ]
  },
  {
   "cell_type": "markdown",
   "metadata": {
    "id": "fQeP_Dhtri3v"
   },
   "source": [
    "***\n",
    "***"
   ]
  },
  {
   "cell_type": "markdown",
   "metadata": {
    "id": "kdwJqW45ASC0"
   },
   "source": [
    "## 2.  Data Cleaning"
   ]
  },
  {
   "cell_type": "markdown",
   "metadata": {
    "id": "h95eEjnEASC0"
   },
   "source": [
    "### Detect Missing Values and Outliers"
   ]
  },
  {
   "cell_type": "markdown",
   "metadata": {
    "id": "TNvbnTdnASC0"
   },
   "source": [
    "#### *i. Missing Value Detection*"
   ]
  },
  {
   "cell_type": "code",
   "execution_count": 10,
   "metadata": {},
   "outputs": [
    {
     "name": "stdout",
     "output_type": "stream",
     "text": [
      "<class 'pandas.core.frame.DataFrame'>\n",
      "RangeIndex: 250000 entries, 0 to 249999\n",
      "Data columns (total 55 columns):\n",
      " #   Column                              Non-Null Count   Dtype\n",
      "---  ------                              --------------   -----\n",
      " 0   Elevation                           250000 non-null  int64\n",
      " 1   Aspect                              250000 non-null  int64\n",
      " 2   Slope                               250000 non-null  int64\n",
      " 3   Horizontal_Distance_To_Hydrology    250000 non-null  int64\n",
      " 4   Vertical_Distance_To_Hydrology      250000 non-null  int64\n",
      " 5   Horizontal_Distance_To_Roadways     250000 non-null  int64\n",
      " 6   Hillshade_9am                       250000 non-null  int64\n",
      " 7   Hillshade_Noon                      250000 non-null  int64\n",
      " 8   Hillshade_3pm                       250000 non-null  int64\n",
      " 9   Horizontal_Distance_To_Fire_Points  250000 non-null  int64\n",
      " 10  Wilderness_Area_1                   250000 non-null  int64\n",
      " 11  Wilderness_Area_2                   250000 non-null  int64\n",
      " 12  Wilderness_Area_3                   250000 non-null  int64\n",
      " 13  Wilderness_Area_4                   250000 non-null  int64\n",
      " 14  Soil_Type_1                         250000 non-null  int64\n",
      " 15  Soil_Type_2                         250000 non-null  int64\n",
      " 16  Soil_Type_3                         250000 non-null  int64\n",
      " 17  Soil_Type_4                         250000 non-null  int64\n",
      " 18  Soil_Type_5                         250000 non-null  int64\n",
      " 19  Soil_Type_6                         250000 non-null  int64\n",
      " 20  Soil_Type_7                         250000 non-null  int64\n",
      " 21  Soil_Type_8                         250000 non-null  int64\n",
      " 22  Soil_Type_9                         250000 non-null  int64\n",
      " 23  Soil_Type_10                        250000 non-null  int64\n",
      " 24  Soil_Type_11                        250000 non-null  int64\n",
      " 25  Soil_Type_12                        250000 non-null  int64\n",
      " 26  Soil_Type_13                        250000 non-null  int64\n",
      " 27  Soil_Type_14                        250000 non-null  int64\n",
      " 28  Soil_Type_15                        250000 non-null  int64\n",
      " 29  Soil_Type_16                        250000 non-null  int64\n",
      " 30  Soil_Type_17                        250000 non-null  int64\n",
      " 31  Soil_Type_18                        250000 non-null  int64\n",
      " 32  Soil_Type_19                        250000 non-null  int64\n",
      " 33  Soil_Type_20                        250000 non-null  int64\n",
      " 34  Soil_Type_21                        250000 non-null  int64\n",
      " 35  Soil_Type_22                        250000 non-null  int64\n",
      " 36  Soil_Type_23                        250000 non-null  int64\n",
      " 37  Soil_Type_24                        250000 non-null  int64\n",
      " 38  Soil_Type_25                        250000 non-null  int64\n",
      " 39  Soil_Type_26                        250000 non-null  int64\n",
      " 40  Soil_Type_27                        250000 non-null  int64\n",
      " 41  Soil_Type_28                        250000 non-null  int64\n",
      " 42  Soil_Type_29                        250000 non-null  int64\n",
      " 43  Soil_Type_30                        250000 non-null  int64\n",
      " 44  Soil_Type_31                        250000 non-null  int64\n",
      " 45  Soil_Type_32                        250000 non-null  int64\n",
      " 46  Soil_Type_33                        250000 non-null  int64\n",
      " 47  Soil_Type_34                        250000 non-null  int64\n",
      " 48  Soil_Type_35                        250000 non-null  int64\n",
      " 49  Soil_Type_36                        250000 non-null  int64\n",
      " 50  Soil_Type_37                        250000 non-null  int64\n",
      " 51  Soil_Type_38                        250000 non-null  int64\n",
      " 52  Soil_Type_39                        250000 non-null  int64\n",
      " 53  Soil_Type_40                        250000 non-null  int64\n",
      " 54  Cover_Type                          250000 non-null  int64\n",
      "dtypes: int64(55)\n",
      "memory usage: 104.9 MB\n"
     ]
    }
   ],
   "source": [
    "#There is no missing values but some negative numbers in some columns.\n",
    "df.info()"
   ]
  },
  {
   "cell_type": "code",
   "execution_count": 11,
   "metadata": {
    "id": "VkLpnVcvASC0"
   },
   "outputs": [
    {
     "data": {
      "text/plain": [
       "2326    313\n",
       "2305    300\n",
       "2952    293\n",
       "2304    292\n",
       "2330    287\n",
       "       ... \n",
       "1861      1\n",
       "3630      1\n",
       "3628      1\n",
       "3663      1\n",
       "1869      1\n",
       "Name: Elevation, Length: 1983, dtype: int64"
      ]
     },
     "execution_count": 11,
     "metadata": {},
     "output_type": "execute_result"
    }
   ],
   "source": [
    "df.Elevation.value_counts()"
   ]
  },
  {
   "cell_type": "code",
   "execution_count": 12,
   "metadata": {},
   "outputs": [
    {
     "data": {
      "text/plain": [
       "45     1450\n",
       "90     1372\n",
       "63     1239\n",
       "135    1172\n",
       "117    1172\n",
       "       ... \n",
       "245     253\n",
       "235     244\n",
       "244     216\n",
       "359     202\n",
       "360       8\n",
       "Name: Aspect, Length: 361, dtype: int64"
      ]
     },
     "execution_count": 12,
     "metadata": {},
     "output_type": "execute_result"
    }
   ],
   "source": [
    "df.Aspect.value_counts()"
   ]
  },
  {
   "cell_type": "code",
   "execution_count": 13,
   "metadata": {},
   "outputs": [
    {
     "data": {
      "text/plain": [
       "0       19997\n",
       "30      11045\n",
       "60       4374\n",
       "150      4316\n",
       "67       2893\n",
       "        ...  \n",
       "1321        1\n",
       "1192        1\n",
       "1237        1\n",
       "1238        1\n",
       "1279        1\n",
       "Name: Horizontal_Distance_To_Hydrology, Length: 1294, dtype: int64"
      ]
     },
     "execution_count": 13,
     "metadata": {},
     "output_type": "execute_result"
    }
   ],
   "source": [
    "df['Horizontal_Distance_To_Hydrology'].value_counts()"
   ]
  },
  {
   "cell_type": "code",
   "execution_count": 14,
   "metadata": {},
   "outputs": [
    {
     "data": {
      "text/plain": [
       " 0      28435\n",
       " 1       3928\n",
       " 3       3802\n",
       " 4       3706\n",
       " 2       3519\n",
       "        ...  \n",
       "-157        1\n",
       "-136        1\n",
       "-159        1\n",
       " 493        1\n",
       " 453        1\n",
       "Name: Vertical_Distance_To_Hydrology, Length: 578, dtype: int64"
      ]
     },
     "execution_count": 14,
     "metadata": {},
     "output_type": "execute_result"
    }
   ],
   "source": [
    "#When we read the description we understood that the negative valuesshow that the nearest surface water is below that data point or it is below the sea level. \n",
    "# Because of that I am going to keep negative values.\n",
    "df['Vertical_Distance_To_Hydrology'].value_counts()"
   ]
  },
  {
   "cell_type": "markdown",
   "metadata": {
    "id": "AdTLXhWeASC0"
   },
   "source": [
    "#### *ii. Outlier Detection*\n",
    "\n",
    "The columns which have continuous value should be examined in terms of [outliers](https://datascience.foundation/sciencewhitepaper/knowing-all-about-outliers-in-machine-learning) (Watch out for columns that look like continuous but not continuous!). Some algorithms are [sensitive to outliers](https://arsrinevetha.medium.com/ml-algorithms-sensitivity-towards-outliers-f3862a13c94d), but some algorithms can tolerate them. You can decide to outlier detection according to the algorithm you will use.\n",
    "- You can check the outliers shape of continous features with respect to the target (Cover_Type) classes.\n",
    "- You can check how many outliers are there of each continuous variables.\n",
    "- The columns which have continuous value should be examined in terms of outliers.\n",
    "- You can define a function to detect outliers in accordance with the ``zscore`` or ``IQR``."
   ]
  },
  {
   "cell_type": "code",
   "execution_count": 15,
   "metadata": {
    "id": "2cj4fc_jASC0",
    "scrolled": true
   },
   "outputs": [],
   "source": [
    "def outlier_function(df, col_name):\n",
    "    ''' this function detects first and third quartile and interquartile range for a given column of a dataframe\n",
    "    then calculates upper and lower limits to determine outliers conservatively\n",
    "    returns the number of lower and uper limit and number of outliers respectively\n",
    "    '''\n",
    "    first_quartile = np.percentile(np.array(df[col_name].tolist()), 25)\n",
    "    third_quartile = np.percentile(np.array(df[col_name].tolist()), 75)\n",
    "    IQR = third_quartile - first_quartile\n",
    "                      \n",
    "    upper_limit = third_quartile+(3*IQR)\n",
    "    lower_limit = first_quartile-(3*IQR)\n",
    "    outlier_count = 0\n",
    "                      \n",
    "    for value in df[col_name].tolist():\n",
    "        if (value < lower_limit) | (value > upper_limit):\n",
    "            outlier_count +=1\n",
    "    return lower_limit, upper_limit, outlier_count"
   ]
  },
  {
   "cell_type": "code",
   "execution_count": 16,
   "metadata": {},
   "outputs": [
    {
     "name": "stdout",
     "output_type": "stream",
     "text": [
      "There are 3 outliers in Slope\n",
      "There are 732 outliers in Horizontal_Distance_To_Hydrology\n",
      "There are 957 outliers in Vertical_Distance_To_Hydrology\n",
      "There are 17 outliers in Horizontal_Distance_To_Roadways\n",
      "There are 78 outliers in Hillshade_9am\n",
      "There are 194 outliers in Hillshade_Noon\n",
      "There are 2394 outliers in Horizontal_Distance_To_Fire_Points\n",
      "There are 59575 outliers in Wilderness_Area_1\n",
      "There are 8340 outliers in Wilderness_Area_2\n",
      "There are 4586 outliers in Soil_Type_1\n",
      "There are 8966 outliers in Soil_Type_2\n",
      "There are 14594 outliers in Soil_Type_3\n",
      "There are 11730 outliers in Soil_Type_4\n",
      "There are 2259 outliers in Soil_Type_5\n",
      "There are 9349 outliers in Soil_Type_6\n",
      "There are 15 outliers in Soil_Type_7\n",
      "There are 23 outliers in Soil_Type_8\n",
      "There are 153 outliers in Soil_Type_9\n",
      "There are 31533 outliers in Soil_Type_10\n",
      "There are 5901 outliers in Soil_Type_11\n",
      "There are 3934 outliers in Soil_Type_12\n",
      "There are 8017 outliers in Soil_Type_13\n",
      "There are 1577 outliers in Soil_Type_14\n",
      "There are 1 outliers in Soil_Type_15\n",
      "There are 1151 outliers in Soil_Type_16\n",
      "There are 7633 outliers in Soil_Type_17\n",
      "There are 879 outliers in Soil_Type_18\n",
      "There are 717 outliers in Soil_Type_19\n",
      "There are 1895 outliers in Soil_Type_20\n",
      "There are 157 outliers in Soil_Type_21\n",
      "There are 5501 outliers in Soil_Type_22\n",
      "There are 11890 outliers in Soil_Type_23\n",
      "There are 3850 outliers in Soil_Type_24\n",
      "There are 58 outliers in Soil_Type_25\n",
      "There are 797 outliers in Soil_Type_26\n",
      "There are 211 outliers in Soil_Type_27\n",
      "There are 150 outliers in Soil_Type_28\n",
      "There are 21182 outliers in Soil_Type_29\n",
      "There are 11738 outliers in Soil_Type_30\n",
      "There are 4997 outliers in Soil_Type_31\n",
      "There are 10395 outliers in Soil_Type_32\n",
      "There are 9970 outliers in Soil_Type_33\n",
      "There are 375 outliers in Soil_Type_34\n",
      "There are 1616 outliers in Soil_Type_35\n",
      "There are 99 outliers in Soil_Type_36\n",
      "There are 463 outliers in Soil_Type_37\n",
      "There are 11505 outliers in Soil_Type_38\n",
      "There are 10347 outliers in Soil_Type_39\n",
      "There are 6723 outliers in Soil_Type_40\n"
     ]
    }
   ],
   "source": [
    "# loop through all columns to see if there are any outliers\n",
    "for column in df.columns:\n",
    "    if outlier_function(df, column)[2] > 0:\n",
    "        print(\"There are {} outliers in {}\".format(outlier_function(df, column)[2], column))"
   ]
  },
  {
   "cell_type": "code",
   "execution_count": 17,
   "metadata": {},
   "outputs": [],
   "source": [
    "# We know that the wilderness area and soil type columns are dummy-values,then we can focus on the rest:"
   ]
  },
  {
   "cell_type": "code",
   "execution_count": 18,
   "metadata": {},
   "outputs": [],
   "source": [
    "#I am going to remove outliers from all columns."
   ]
  },
  {
   "cell_type": "markdown",
   "metadata": {
    "id": "ax0-S9b6ri3I"
   },
   "source": [
    "### Deal with Outliers"
   ]
  },
  {
   "cell_type": "markdown",
   "metadata": {
    "id": "XfVCLwHlASC0"
   },
   "source": [
    "#### *ii. Drop Outliers*"
   ]
  },
  {
   "cell_type": "code",
   "execution_count": 19,
   "metadata": {
    "id": "FK9d2g38Olu9",
    "scrolled": false
   },
   "outputs": [],
   "source": [
    "df = df[(df['Horizontal_Distance_To_Hydrology'] > outlier_function(df, 'Horizontal_Distance_To_Hydrology')[0]) &\n",
    "              (df['Horizontal_Distance_To_Hydrology'] < outlier_function(df, 'Horizontal_Distance_To_Hydrology')[1])]"
   ]
  },
  {
   "cell_type": "code",
   "execution_count": 20,
   "metadata": {},
   "outputs": [],
   "source": [
    "df = df[(df['Vertical_Distance_To_Hydrology'] > outlier_function(df, 'Vertical_Distance_To_Hydrology')[0]) &\n",
    "              (df['Vertical_Distance_To_Hydrology'] < outlier_function(df, 'Vertical_Distance_To_Hydrology')[1])]"
   ]
  },
  {
   "cell_type": "code",
   "execution_count": 21,
   "metadata": {},
   "outputs": [],
   "source": [
    "df = df[(df['Horizontal_Distance_To_Roadways'] > outlier_function(df, 'Horizontal_Distance_To_Roadways')[0]) &\n",
    "              (df['Horizontal_Distance_To_Roadways'] < outlier_function(df, 'Horizontal_Distance_To_Roadways')[1])]"
   ]
  },
  {
   "cell_type": "code",
   "execution_count": 22,
   "metadata": {},
   "outputs": [],
   "source": [
    "df = df[(df['Hillshade_9am'] > outlier_function(df, 'Hillshade_9am')[0]) &\n",
    "              (df['Hillshade_9am'] < outlier_function(df, 'Hillshade_9am')[1])]"
   ]
  },
  {
   "cell_type": "code",
   "execution_count": 23,
   "metadata": {},
   "outputs": [],
   "source": [
    "df = df[(df['Hillshade_Noon'] > outlier_function(df, 'Hillshade_Noon')[0]) &\n",
    "              (df['Hillshade_Noon'] < outlier_function(df, 'Hillshade_Noon')[1])]"
   ]
  },
  {
   "cell_type": "code",
   "execution_count": 24,
   "metadata": {},
   "outputs": [],
   "source": [
    "df = df[(df['Horizontal_Distance_To_Fire_Points'] > outlier_function(df, 'Horizontal_Distance_To_Fire_Points')[0]) &\n",
    "              (df['Horizontal_Distance_To_Fire_Points'] < outlier_function(df, 'Horizontal_Distance_To_Fire_Points')[1])]"
   ]
  },
  {
   "cell_type": "code",
   "execution_count": 25,
   "metadata": {},
   "outputs": [
    {
     "name": "stdout",
     "output_type": "stream",
     "text": [
      "There are 160 outliers in Horizontal_Distance_To_Hydrology\n",
      "There are 30 outliers in Horizontal_Distance_To_Roadways\n",
      "There are 277 outliers in Horizontal_Distance_To_Fire_Points\n",
      "There are 56922 outliers in Wilderness_Area_1\n",
      "There are 8332 outliers in Wilderness_Area_2\n",
      "There are 4584 outliers in Soil_Type_1\n",
      "There are 8966 outliers in Soil_Type_2\n",
      "There are 14594 outliers in Soil_Type_3\n",
      "There are 11713 outliers in Soil_Type_4\n",
      "There are 2259 outliers in Soil_Type_5\n",
      "There are 9349 outliers in Soil_Type_6\n",
      "There are 15 outliers in Soil_Type_7\n",
      "There are 22 outliers in Soil_Type_8\n",
      "There are 153 outliers in Soil_Type_9\n",
      "There are 31399 outliers in Soil_Type_10\n",
      "There are 5901 outliers in Soil_Type_11\n",
      "There are 3263 outliers in Soil_Type_12\n",
      "There are 7973 outliers in Soil_Type_13\n",
      "There are 1577 outliers in Soil_Type_14\n",
      "There are 1 outliers in Soil_Type_15\n",
      "There are 1058 outliers in Soil_Type_16\n",
      "There are 7633 outliers in Soil_Type_17\n",
      "There are 817 outliers in Soil_Type_18\n",
      "There are 709 outliers in Soil_Type_19\n",
      "There are 1724 outliers in Soil_Type_20\n",
      "There are 157 outliers in Soil_Type_21\n",
      "There are 5493 outliers in Soil_Type_22\n",
      "There are 11885 outliers in Soil_Type_23\n",
      "There are 3828 outliers in Soil_Type_24\n",
      "There are 58 outliers in Soil_Type_25\n",
      "There are 797 outliers in Soil_Type_26\n",
      "There are 158 outliers in Soil_Type_27\n",
      "There are 135 outliers in Soil_Type_28\n",
      "There are 20088 outliers in Soil_Type_29\n",
      "There are 11305 outliers in Soil_Type_30\n",
      "There are 4900 outliers in Soil_Type_31\n",
      "There are 10339 outliers in Soil_Type_32\n",
      "There are 9834 outliers in Soil_Type_33\n",
      "There are 364 outliers in Soil_Type_34\n",
      "There are 1616 outliers in Soil_Type_35\n",
      "There are 99 outliers in Soil_Type_36\n",
      "There are 463 outliers in Soil_Type_37\n",
      "There are 11300 outliers in Soil_Type_38\n",
      "There are 10245 outliers in Soil_Type_39\n",
      "There are 5929 outliers in Soil_Type_40\n"
     ]
    }
   ],
   "source": [
    "# loop through all columns to see if there are any outliers\n",
    "for column in df.columns:\n",
    "    if outlier_function(df, column)[2] > 0:\n",
    "        print(\"There are {} outliers in {}\".format(outlier_function(df, column)[2], column))"
   ]
  },
  {
   "cell_type": "markdown",
   "metadata": {
    "id": "il9xamPwzEUv"
   },
   "source": [
    "### Now, let's take a closer look at correlation of continuous columns."
   ]
  },
  {
   "cell_type": "code",
   "execution_count": 26,
   "metadata": {},
   "outputs": [],
   "source": [
    "df2 = df[['Elevation', 'Aspect', 'Slope', 'Horizontal_Distance_To_Hydrology',\n",
    "       'Vertical_Distance_To_Hydrology', 'Horizontal_Distance_To_Roadways',\n",
    "       'Hillshade_9am', 'Hillshade_Noon', 'Hillshade_3pm',\n",
    "       'Horizontal_Distance_To_Fire_Points', 'Cover_Type']]\n"
   ]
  },
  {
   "cell_type": "code",
   "execution_count": 27,
   "metadata": {},
   "outputs": [
    {
     "data": {
      "text/html": [
       "<div>\n",
       "<style scoped>\n",
       "    .dataframe tbody tr th:only-of-type {\n",
       "        vertical-align: middle;\n",
       "    }\n",
       "\n",
       "    .dataframe tbody tr th {\n",
       "        vertical-align: top;\n",
       "    }\n",
       "\n",
       "    .dataframe thead th {\n",
       "        text-align: right;\n",
       "    }\n",
       "</style>\n",
       "<table border=\"1\" class=\"dataframe\">\n",
       "  <thead>\n",
       "    <tr style=\"text-align: right;\">\n",
       "      <th></th>\n",
       "      <th>Elevation</th>\n",
       "      <th>Aspect</th>\n",
       "      <th>Slope</th>\n",
       "      <th>Horizontal_Distance_To_Hydrology</th>\n",
       "      <th>Vertical_Distance_To_Hydrology</th>\n",
       "      <th>Horizontal_Distance_To_Roadways</th>\n",
       "      <th>Hillshade_9am</th>\n",
       "      <th>Hillshade_Noon</th>\n",
       "      <th>Hillshade_3pm</th>\n",
       "      <th>Horizontal_Distance_To_Fire_Points</th>\n",
       "      <th>Cover_Type</th>\n",
       "    </tr>\n",
       "  </thead>\n",
       "  <tbody>\n",
       "    <tr>\n",
       "      <th>Elevation</th>\n",
       "      <td>1.000000</td>\n",
       "      <td>-0.023330</td>\n",
       "      <td>-0.324087</td>\n",
       "      <td>0.401280</td>\n",
       "      <td>0.085629</td>\n",
       "      <td>0.583888</td>\n",
       "      <td>0.114120</td>\n",
       "      <td>0.227915</td>\n",
       "      <td>0.083617</td>\n",
       "      <td>0.481613</td>\n",
       "      <td>0.005474</td>\n",
       "    </tr>\n",
       "    <tr>\n",
       "      <th>Aspect</th>\n",
       "      <td>-0.023330</td>\n",
       "      <td>1.000000</td>\n",
       "      <td>0.036378</td>\n",
       "      <td>0.036776</td>\n",
       "      <td>0.050178</td>\n",
       "      <td>0.042678</td>\n",
       "      <td>-0.607280</td>\n",
       "      <td>0.325063</td>\n",
       "      <td>0.641521</td>\n",
       "      <td>-0.071991</td>\n",
       "      <td>0.003290</td>\n",
       "    </tr>\n",
       "    <tr>\n",
       "      <th>Slope</th>\n",
       "      <td>-0.324087</td>\n",
       "      <td>0.036378</td>\n",
       "      <td>1.000000</td>\n",
       "      <td>-0.056995</td>\n",
       "      <td>0.280642</td>\n",
       "      <td>-0.279435</td>\n",
       "      <td>-0.192035</td>\n",
       "      <td>-0.604920</td>\n",
       "      <td>-0.326141</td>\n",
       "      <td>-0.244117</td>\n",
       "      <td>0.074211</td>\n",
       "    </tr>\n",
       "    <tr>\n",
       "      <th>Horizontal_Distance_To_Hydrology</th>\n",
       "      <td>0.401280</td>\n",
       "      <td>0.036776</td>\n",
       "      <td>-0.056995</td>\n",
       "      <td>1.000000</td>\n",
       "      <td>0.622141</td>\n",
       "      <td>0.171349</td>\n",
       "      <td>-0.018783</td>\n",
       "      <td>0.083151</td>\n",
       "      <td>0.070621</td>\n",
       "      <td>0.151406</td>\n",
       "      <td>-0.010341</td>\n",
       "    </tr>\n",
       "    <tr>\n",
       "      <th>Vertical_Distance_To_Hydrology</th>\n",
       "      <td>0.085629</td>\n",
       "      <td>0.050178</td>\n",
       "      <td>0.280642</td>\n",
       "      <td>0.622141</td>\n",
       "      <td>1.000000</td>\n",
       "      <td>-0.036540</td>\n",
       "      <td>-0.080226</td>\n",
       "      <td>-0.140256</td>\n",
       "      <td>-0.054283</td>\n",
       "      <td>-0.040030</td>\n",
       "      <td>0.068745</td>\n",
       "    </tr>\n",
       "    <tr>\n",
       "      <th>Horizontal_Distance_To_Roadways</th>\n",
       "      <td>0.583888</td>\n",
       "      <td>0.042678</td>\n",
       "      <td>-0.279435</td>\n",
       "      <td>0.171349</td>\n",
       "      <td>-0.036540</td>\n",
       "      <td>1.000000</td>\n",
       "      <td>0.014843</td>\n",
       "      <td>0.242921</td>\n",
       "      <td>0.160315</td>\n",
       "      <td>0.483743</td>\n",
       "      <td>-0.111818</td>\n",
       "    </tr>\n",
       "    <tr>\n",
       "      <th>Hillshade_9am</th>\n",
       "      <td>0.114120</td>\n",
       "      <td>-0.607280</td>\n",
       "      <td>-0.192035</td>\n",
       "      <td>-0.018783</td>\n",
       "      <td>-0.080226</td>\n",
       "      <td>0.014843</td>\n",
       "      <td>1.000000</td>\n",
       "      <td>-0.023044</td>\n",
       "      <td>-0.785420</td>\n",
       "      <td>0.095889</td>\n",
       "      <td>-0.017051</td>\n",
       "    </tr>\n",
       "    <tr>\n",
       "      <th>Hillshade_Noon</th>\n",
       "      <td>0.227915</td>\n",
       "      <td>0.325063</td>\n",
       "      <td>-0.604920</td>\n",
       "      <td>0.083151</td>\n",
       "      <td>-0.140256</td>\n",
       "      <td>0.242921</td>\n",
       "      <td>-0.023044</td>\n",
       "      <td>1.000000</td>\n",
       "      <td>0.615098</td>\n",
       "      <td>0.124700</td>\n",
       "      <td>-0.106809</td>\n",
       "    </tr>\n",
       "    <tr>\n",
       "      <th>Hillshade_3pm</th>\n",
       "      <td>0.083617</td>\n",
       "      <td>0.641521</td>\n",
       "      <td>-0.326141</td>\n",
       "      <td>0.070621</td>\n",
       "      <td>-0.054283</td>\n",
       "      <td>0.160315</td>\n",
       "      <td>-0.785420</td>\n",
       "      <td>0.615098</td>\n",
       "      <td>1.000000</td>\n",
       "      <td>0.033025</td>\n",
       "      <td>-0.055538</td>\n",
       "    </tr>\n",
       "    <tr>\n",
       "      <th>Horizontal_Distance_To_Fire_Points</th>\n",
       "      <td>0.481613</td>\n",
       "      <td>-0.071991</td>\n",
       "      <td>-0.244117</td>\n",
       "      <td>0.151406</td>\n",
       "      <td>-0.040030</td>\n",
       "      <td>0.483743</td>\n",
       "      <td>0.095889</td>\n",
       "      <td>0.124700</td>\n",
       "      <td>0.033025</td>\n",
       "      <td>1.000000</td>\n",
       "      <td>-0.072850</td>\n",
       "    </tr>\n",
       "    <tr>\n",
       "      <th>Cover_Type</th>\n",
       "      <td>0.005474</td>\n",
       "      <td>0.003290</td>\n",
       "      <td>0.074211</td>\n",
       "      <td>-0.010341</td>\n",
       "      <td>0.068745</td>\n",
       "      <td>-0.111818</td>\n",
       "      <td>-0.017051</td>\n",
       "      <td>-0.106809</td>\n",
       "      <td>-0.055538</td>\n",
       "      <td>-0.072850</td>\n",
       "      <td>1.000000</td>\n",
       "    </tr>\n",
       "  </tbody>\n",
       "</table>\n",
       "</div>"
      ],
      "text/plain": [
       "                                    Elevation    Aspect     Slope  \\\n",
       "Elevation                            1.000000 -0.023330 -0.324087   \n",
       "Aspect                              -0.023330  1.000000  0.036378   \n",
       "Slope                               -0.324087  0.036378  1.000000   \n",
       "Horizontal_Distance_To_Hydrology     0.401280  0.036776 -0.056995   \n",
       "Vertical_Distance_To_Hydrology       0.085629  0.050178  0.280642   \n",
       "Horizontal_Distance_To_Roadways      0.583888  0.042678 -0.279435   \n",
       "Hillshade_9am                        0.114120 -0.607280 -0.192035   \n",
       "Hillshade_Noon                       0.227915  0.325063 -0.604920   \n",
       "Hillshade_3pm                        0.083617  0.641521 -0.326141   \n",
       "Horizontal_Distance_To_Fire_Points   0.481613 -0.071991 -0.244117   \n",
       "Cover_Type                           0.005474  0.003290  0.074211   \n",
       "\n",
       "                                    Horizontal_Distance_To_Hydrology  \\\n",
       "Elevation                                                   0.401280   \n",
       "Aspect                                                      0.036776   \n",
       "Slope                                                      -0.056995   \n",
       "Horizontal_Distance_To_Hydrology                            1.000000   \n",
       "Vertical_Distance_To_Hydrology                              0.622141   \n",
       "Horizontal_Distance_To_Roadways                             0.171349   \n",
       "Hillshade_9am                                              -0.018783   \n",
       "Hillshade_Noon                                              0.083151   \n",
       "Hillshade_3pm                                               0.070621   \n",
       "Horizontal_Distance_To_Fire_Points                          0.151406   \n",
       "Cover_Type                                                 -0.010341   \n",
       "\n",
       "                                    Vertical_Distance_To_Hydrology  \\\n",
       "Elevation                                                 0.085629   \n",
       "Aspect                                                    0.050178   \n",
       "Slope                                                     0.280642   \n",
       "Horizontal_Distance_To_Hydrology                          0.622141   \n",
       "Vertical_Distance_To_Hydrology                            1.000000   \n",
       "Horizontal_Distance_To_Roadways                          -0.036540   \n",
       "Hillshade_9am                                            -0.080226   \n",
       "Hillshade_Noon                                           -0.140256   \n",
       "Hillshade_3pm                                            -0.054283   \n",
       "Horizontal_Distance_To_Fire_Points                       -0.040030   \n",
       "Cover_Type                                                0.068745   \n",
       "\n",
       "                                    Horizontal_Distance_To_Roadways  \\\n",
       "Elevation                                                  0.583888   \n",
       "Aspect                                                     0.042678   \n",
       "Slope                                                     -0.279435   \n",
       "Horizontal_Distance_To_Hydrology                           0.171349   \n",
       "Vertical_Distance_To_Hydrology                            -0.036540   \n",
       "Horizontal_Distance_To_Roadways                            1.000000   \n",
       "Hillshade_9am                                              0.014843   \n",
       "Hillshade_Noon                                             0.242921   \n",
       "Hillshade_3pm                                              0.160315   \n",
       "Horizontal_Distance_To_Fire_Points                         0.483743   \n",
       "Cover_Type                                                -0.111818   \n",
       "\n",
       "                                    Hillshade_9am  Hillshade_Noon  \\\n",
       "Elevation                                0.114120        0.227915   \n",
       "Aspect                                  -0.607280        0.325063   \n",
       "Slope                                   -0.192035       -0.604920   \n",
       "Horizontal_Distance_To_Hydrology        -0.018783        0.083151   \n",
       "Vertical_Distance_To_Hydrology          -0.080226       -0.140256   \n",
       "Horizontal_Distance_To_Roadways          0.014843        0.242921   \n",
       "Hillshade_9am                            1.000000       -0.023044   \n",
       "Hillshade_Noon                          -0.023044        1.000000   \n",
       "Hillshade_3pm                           -0.785420        0.615098   \n",
       "Horizontal_Distance_To_Fire_Points       0.095889        0.124700   \n",
       "Cover_Type                              -0.017051       -0.106809   \n",
       "\n",
       "                                    Hillshade_3pm  \\\n",
       "Elevation                                0.083617   \n",
       "Aspect                                   0.641521   \n",
       "Slope                                   -0.326141   \n",
       "Horizontal_Distance_To_Hydrology         0.070621   \n",
       "Vertical_Distance_To_Hydrology          -0.054283   \n",
       "Horizontal_Distance_To_Roadways          0.160315   \n",
       "Hillshade_9am                           -0.785420   \n",
       "Hillshade_Noon                           0.615098   \n",
       "Hillshade_3pm                            1.000000   \n",
       "Horizontal_Distance_To_Fire_Points       0.033025   \n",
       "Cover_Type                              -0.055538   \n",
       "\n",
       "                                    Horizontal_Distance_To_Fire_Points  \\\n",
       "Elevation                                                     0.481613   \n",
       "Aspect                                                       -0.071991   \n",
       "Slope                                                        -0.244117   \n",
       "Horizontal_Distance_To_Hydrology                              0.151406   \n",
       "Vertical_Distance_To_Hydrology                               -0.040030   \n",
       "Horizontal_Distance_To_Roadways                               0.483743   \n",
       "Hillshade_9am                                                 0.095889   \n",
       "Hillshade_Noon                                                0.124700   \n",
       "Hillshade_3pm                                                 0.033025   \n",
       "Horizontal_Distance_To_Fire_Points                            1.000000   \n",
       "Cover_Type                                                   -0.072850   \n",
       "\n",
       "                                    Cover_Type  \n",
       "Elevation                             0.005474  \n",
       "Aspect                                0.003290  \n",
       "Slope                                 0.074211  \n",
       "Horizontal_Distance_To_Hydrology     -0.010341  \n",
       "Vertical_Distance_To_Hydrology        0.068745  \n",
       "Horizontal_Distance_To_Roadways      -0.111818  \n",
       "Hillshade_9am                        -0.017051  \n",
       "Hillshade_Noon                       -0.106809  \n",
       "Hillshade_3pm                        -0.055538  \n",
       "Horizontal_Distance_To_Fire_Points   -0.072850  \n",
       "Cover_Type                            1.000000  "
      ]
     },
     "execution_count": 27,
     "metadata": {},
     "output_type": "execute_result"
    }
   ],
   "source": [
    "df2.corr()"
   ]
  },
  {
   "cell_type": "code",
   "execution_count": 28,
   "metadata": {},
   "outputs": [
    {
     "data": {
      "image/png": "[encoded data removed]",
      "text/plain": [
       "<Figure size 720x288 with 1 Axes>"
      ]
     },
     "metadata": {
      "needs_background": "light"
     },
     "output_type": "display_data"
    },
    {
     "data": {
      "image/png": "[encoded data removed]",
      "text/plain": [
       "<Figure size 720x288 with 1 Axes>"
      ]
     },
     "metadata": {
      "needs_background": "light"
     },
     "output_type": "display_data"
    },
    {
     "data": {
      "image/png": "[encoded data removed]",
      "text/plain": [
       "<Figure size 720x288 with 1 Axes>"
      ]
     },
     "metadata": {
      "needs_background": "light"
     },
     "output_type": "display_data"
    },
    {
     "data": {
      "image/png": "[encoded data removed]",
      "text/plain": [
       "<Figure size 720x288 with 1 Axes>"
      ]
     },
     "metadata": {
      "needs_background": "light"
     },
     "output_type": "display_data"
    },
    {
     "data": {
      "image/png": "[encoded data removed]",
      "text/plain": [
       "<Figure size 720x288 with 1 Axes>"
      ]
     },
     "metadata": {
      "needs_background": "light"
     },
     "output_type": "display_data"
    },
    {
     "data": {
      "image/png": "[encoded data removed]",
      "text/plain": [
       "<Figure size 720x288 with 1 Axes>"
      ]
     },
     "metadata": {
      "needs_background": "light"
     },
     "output_type": "display_data"
    },
    {
     "data": {
      "image/png": "[encoded data removed]",
      "text/plain": [
       "<Figure size 720x288 with 1 Axes>"
      ]
     },
     "metadata": {
      "needs_background": "light"
     },
     "output_type": "display_data"
    },
    {
     "data": {
      "image/png": "[encoded data removed]",
      "text/plain": [
       "<Figure size 720x288 with 1 Axes>"
      ]
     },
     "metadata": {
      "needs_background": "light"
     },
     "output_type": "display_data"
    },
    {
     "data": {
      "image/png": "[encoded data removed]",
      "text/plain": [
       "<Figure size 720x288 with 1 Axes>"
      ]
     },
     "metadata": {
      "needs_background": "light"
     },
     "output_type": "display_data"
    },
    {
     "data": {
      "image/png": "[encoded data removed]",
      "text/plain": [
       "<Figure size 720x288 with 1 Axes>"
      ]
     },
     "metadata": {
      "needs_background": "light"
     },
     "output_type": "display_data"
    },
    {
     "data": {
      "image/png": "[encoded data removed]",
      "text/plain": [
       "<Figure size 720x288 with 1 Axes>"
      ]
     },
     "metadata": {
      "needs_background": "light"
     },
     "output_type": "display_data"
    }
   ],
   "source": [
    "for i, col in enumerate(df2.columns):\n",
    "    plt.figure(i,figsize=(10,4))\n",
    "    ax = sns.boxplot(x=df2['Cover_Type'], y=col, data=df2, palette=\"rocket\")\n",
    "    plt.show()"
   ]
  },
  {
   "cell_type": "code",
   "execution_count": 29,
   "metadata": {},
   "outputs": [
    {
     "data": {
      "image/png": "[encoded data removed]",
      "text/plain": [
       "<Figure size 720x576 with 2 Axes>"
      ]
     },
     "metadata": {
      "needs_background": "light"
     },
     "output_type": "display_data"
    }
   ],
   "source": [
    "plt.figure(figsize=(10,8))\n",
    "sns.heatmap(df2.corr(), annot=True);"
   ]
  },
  {
   "cell_type": "markdown",
   "metadata": {
    "id": "WjDFWFcgASC0"
   },
   "source": [
    "***\n",
    "***"
   ]
  },
  {
   "cell_type": "markdown",
   "metadata": {
    "id": "UzffSKptri3v"
   },
   "source": [
    "## 3. Feature Engineering"
   ]
  },
  {
   "cell_type": "markdown",
   "metadata": {
    "id": "yP5LibfOASC0"
   },
   "source": [
    "### My Plan of Feature Extraction\n",
    "- First, I decided to produce&transform a new column with ``Horizontal_Distance_To_Hydrology`` and ``Vertical_Distance_To_Hydrology`` columns. New column will contain the values of **Hypotenuse** of ``horizantal`` and ``vertical`` distances.\n",
    "\n",
    "- As second, we can produce&transform an additional column which contains **average** of Horizantal Distances to Hydrology and Roadways.\n",
    "\n",
    "- Third, I decided to transform a new column which contains **average** of `Elevation` and ``Vertical_Distance_To_Hydrology`` columns. So that, there is no need to have ``Horizontal_Distance_To_Hydrology`` and ``Vertical_Distance_To_Hydrology`` columns, because I have new columns which represent more value than them. I decide to drop these columns.\n",
    "\n",
    "- Note that, after seeing the result of the models, there may be a possibility of making minor changes to the features in the modeling phase."
   ]
  },
  {
   "cell_type": "code",
   "execution_count": 30,
   "metadata": {
    "cell_style": "center",
    "id": "82ImPSoIOlu-"
   },
   "outputs": [],
   "source": [
    "\n",
    "df['Hypotenuse_Distsnce_to_Hydrology'] = np.sqrt(df['Horizontal_Distance_To_Hydrology'] **2 + df['Vertical_Distance_To_Hydrology']**2)\n",
    "\n"
   ]
  },
  {
   "cell_type": "code",
   "execution_count": 31,
   "metadata": {},
   "outputs": [],
   "source": [
    "df['Average_Horizontal_distance_Hydrology_Roadways'] = (df['Horizontal_Distance_To_Hydrology']+ df['Horizontal_Distance_To_Roadways'])/2\n"
   ]
  },
  {
   "cell_type": "code",
   "execution_count": 32,
   "metadata": {},
   "outputs": [],
   "source": [
    "df['Average_Elevation_Vertical_to_hydrology'] = (df['Vertical_Distance_To_Hydrology']+ df['Elevation'])/2"
   ]
  },
  {
   "cell_type": "code",
   "execution_count": 33,
   "metadata": {},
   "outputs": [],
   "source": [
    "#Dropping the columns\n",
    "df = df.drop(['Horizontal_Distance_To_Hydrology', 'Vertical_Distance_To_Hydrology'],  axis = 1)"
   ]
  },
  {
   "cell_type": "markdown",
   "metadata": {
    "id": "45zRLFdDASC0"
   },
   "source": [
    "***\n",
    "***"
   ]
  },
  {
   "cell_type": "markdown",
   "metadata": {
    "id": "Ylwp86BnIbfD"
   },
   "source": [
    "## 4. Prediction (Multi-class Classification)"
   ]
  },
  {
   "cell_type": "markdown",
   "metadata": {
    "id": "-hmyNTpmASC0"
   },
   "source": [
    "If you have done, use your data set resulting from Feature Engineering task. If you haven't done Feature Engineering, use the latest version of your data set.\n",
    "In this section, you have two main tasks that apply to each algorithm:\n",
    "1. Model Building and Prediction\n",
    "\n",
    " - SVM (Use ``LinearSVC`` model from``sklearn.svm`` module)\n",
    " - Decision Tree (Use ``DecisionTreeClassifier`` model from ``sklearn.tree`` module)\n",
    " - Random Forest (Use ``RandomForestClassifier`` model from ``sklearn.ensemble`` module) \n",
    " - XGBoost (Use ``XGBClassifier`` model from``xgboost`` module)\n",
    "\n",
    "2. Visualizing the Result\n",
    "\n",
    "- Use [yellowbrick](https://www.scikit-yb.org/en/latest/), [seaborn](https://seaborn.pydata.org/tutorial/regression.html) or [matplotlib](https://matplotlib.org/) modules to visualize the model results.\n",
    "\n",
    "- Show three plots for the results:\n",
    " - Class Prediction Error Bar Plot\n",
    " - Confusion Matrix\n",
    " - Classification Report"
   ]
  },
  {
   "cell_type": "markdown",
   "metadata": {
    "id": "5bKNukyEASC0"
   },
   "source": [
    "### Import Libraries"
   ]
  },
  {
   "cell_type": "code",
   "execution_count": 34,
   "metadata": {
    "id": "44t5jjukASC0"
   },
   "outputs": [],
   "source": [
    "from sklearn.tree import DecisionTreeClassifier\n",
    "from sklearn.metrics import confusion_matrix, classification_report, accuracy_score, recall_score, precision_score, f1_score\n",
    "from sklearn.model_selection import cross_val_score, cross_validate\n",
    "from sklearn.model_selection import GridSearchCV\n"
   ]
  },
  {
   "cell_type": "markdown",
   "metadata": {
    "id": "c-HeuK9FIbfJ"
   },
   "source": [
    "### Data Preprocessing"
   ]
  },
  {
   "cell_type": "markdown",
   "metadata": {
    "id": "W22WncJ9ASC0"
   },
   "source": [
    "- Drop target variable\n",
    "- Train-Test Split\n",
    "\n",
    "*Note: You can use the train and test data generated here for all algorithms.*"
   ]
  },
  {
   "cell_type": "code",
   "execution_count": 35,
   "metadata": {},
   "outputs": [],
   "source": [
    "from sklearn.model_selection import train_test_split\n",
    "from sklearn.metrics import classification_report,confusion_matrix"
   ]
  },
  {
   "cell_type": "code",
   "execution_count": 36,
   "metadata": {
    "id": "MFD5URwnASC0"
   },
   "outputs": [],
   "source": [
    "X = df.drop('Cover_Type',axis=1)\n",
    "y = df['Cover_Type']"
   ]
  },
  {
   "cell_type": "code",
   "execution_count": 37,
   "metadata": {},
   "outputs": [],
   "source": [
    "X_train, X_test, y_train, y_test = train_test_split(X, y, test_size=0.30, stratify=y, random_state=42)"
   ]
  },
  {
   "cell_type": "code",
   "execution_count": 38,
   "metadata": {},
   "outputs": [],
   "source": [
    "def eval_metric(model, X_train, y_train, X_test, y_test):\n",
    "    y_train_pred = model.predict(X_train)\n",
    "    y_pred = model.predict(X_test)\n",
    "    \n",
    "    print(\"Test_Set\")\n",
    "    print(confusion_matrix(y_test, y_pred))\n",
    "    print(classification_report(y_test, y_pred))\n",
    "    print()\n",
    "    print(\"Train_Set\")\n",
    "    print(confusion_matrix(y_train, y_train_pred))\n",
    "    print(classification_report(y_train, y_train_pred))"
   ]
  },
  {
   "cell_type": "markdown",
   "metadata": {
    "id": "rOisMsLIASC0"
   },
   "source": [
    "### Implement Support Vector Machine\n",
    "- Import the modul \n",
    "- Fit the model \n",
    "- Predict the test set\n",
    "- Visualize and evaluate the result (use yellowbrick module)\n",
    "\n",
    "*Note: You probably won't get a successful result. You may need to make some changes to the model or data. This may be a topic worth investigating, you decide.*"
   ]
  },
  {
   "cell_type": "code",
   "execution_count": 39,
   "metadata": {
    "cell_style": "split",
    "id": "OMc5EJsiASC0"
   },
   "outputs": [],
   "source": [
    "from sklearn.svm import SVC\n",
    "from sklearn.preprocessing import StandardScaler, MinMaxScaler"
   ]
  },
  {
   "cell_type": "code",
   "execution_count": 41,
   "metadata": {},
   "outputs": [],
   "source": [
    "scaler = MinMaxScaler()\n",
    "X_train_scaled = scaler.fit_transform(X_train)\n",
    "X_test_scaled = scaler.transform(X_test)"
   ]
  },
  {
   "cell_type": "code",
   "execution_count": null,
   "metadata": {},
   "outputs": [],
   "source": [
    "svm_model = SVC()\n",
    "svm_model.fit(X_train_scaled, y_train)\n",
    "y_pred = svm_model.predict(X_test_scaled)\n",
    "svc_f1 = f1_score(y_test, y_pred)\n",
    "svc_recall = recall_score(y_test, y_pred)\n",
    "svc_auc = roc_auc_score(y_test, y_pred)\n",
    "eval_metric(svm_model, X_train_scaled, y_train, X_test_scaled, y_test)"
   ]
  },
  {
   "cell_type": "code",
   "execution_count": null,
   "metadata": {},
   "outputs": [],
   "source": [
    "#Cross Validate"
   ]
  },
  {
   "cell_type": "code",
   "execution_count": null,
   "metadata": {},
   "outputs": [],
   "source": [
    "from sklearn.model_selection import cross_validate\n",
    "\n",
    "model = SVC(random_state=42)\n",
    "\n",
    "scores = cross_validate(model, X_train, y_train, scoring = ['accuracy', 'precision','recall','f1'], cv = 10)\n",
    "df_scores = pd.DataFrame(scores, index = range(1, 11))\n",
    "df_scores.mean()[2:]"
   ]
  },
  {
   "cell_type": "markdown",
   "metadata": {},
   "source": [
    "### Best Parameters with Gridsearch"
   ]
  },
  {
   "cell_type": "code",
   "execution_count": null,
   "metadata": {},
   "outputs": [],
   "source": [
    "from sklearn.model_selection import GridSearchCV"
   ]
  },
  {
   "cell_type": "code",
   "execution_count": null,
   "metadata": {},
   "outputs": [],
   "source": [
    "param_grid = {'SVC__C': [0.001, 0.05, 0.01, 0.1],\n",
    "              'SVC__gamma': [\"scale\", \"auto\", 0.2, 0.3],\n",
    "              'SVC__kernel': ['rbf', 'linear']}"
   ]
  },
  {
   "cell_type": "code",
   "execution_count": null,
   "metadata": {},
   "outputs": [],
   "source": [
    "operations = [(\"scaler\", MinMaxScaler()), (\"SVC\", SVC(probability=True, class_weight=\"balanced\", random_state=42))]# probability=True for ROC\n",
    "pipe_model = Pipeline(steps=operations)\n",
    "\n",
    "svm_model_grid = GridSearchCV(pipe_model, param_grid, scoring=\"recall\", cv=10)"
   ]
  },
  {
   "cell_type": "code",
   "execution_count": null,
   "metadata": {},
   "outputs": [],
   "source": [
    "svm_model_grid.fit(X_train, y_train)"
   ]
  },
  {
   "cell_type": "code",
   "execution_count": null,
   "metadata": {},
   "outputs": [],
   "source": [
    "svm_model_grid.best_params_"
   ]
  },
  {
   "cell_type": "code",
   "execution_count": null,
   "metadata": {},
   "outputs": [],
   "source": [
    "pd.DataFrame(svm_model_grid.cv_results_)"
   ]
  },
  {
   "cell_type": "code",
   "execution_count": null,
   "metadata": {},
   "outputs": [],
   "source": [
    "svm_model_grid.best_score_"
   ]
  },
  {
   "cell_type": "code",
   "execution_count": null,
   "metadata": {},
   "outputs": [],
   "source": [
    "eval_metric(svm_model_grid, X_train, y_train, X_test, y_test)"
   ]
  },
  {
   "cell_type": "markdown",
   "metadata": {
    "id": "s2bAc81fASC0"
   },
   "source": [
    "### Implement Decision Tree Classifier\n",
    "- Import the modul \n",
    "- Fit the model \n",
    "- Predict the test set\n",
    "- Visualize and evaluate the result (use yellowbrick module)"
   ]
  },
  {
   "cell_type": "code",
   "execution_count": null,
   "metadata": {
    "cell_style": "split",
    "id": "vXlQnOe9OlvA"
   },
   "outputs": [],
   "source": [
    "from sklearn.tree import DecisionTreeClassifier"
   ]
  },
  {
   "cell_type": "code",
   "execution_count": null,
   "metadata": {},
   "outputs": [],
   "source": [
    "DT_model = DecisionTreeClassifier(random_state=42)"
   ]
  },
  {
   "cell_type": "code",
   "execution_count": null,
   "metadata": {},
   "outputs": [],
   "source": [
    "DT_model.fit(X_train,y_train)"
   ]
  },
  {
   "cell_type": "code",
   "execution_count": null,
   "metadata": {},
   "outputs": [],
   "source": [
    "y_pred = DT_model.predict(X_test)"
   ]
  },
  {
   "cell_type": "code",
   "execution_count": null,
   "metadata": {},
   "outputs": [],
   "source": [
    "plot_confusion_matrix(DT_model,X_test,y_test);\n"
   ]
  },
  {
   "cell_type": "code",
   "execution_count": null,
   "metadata": {},
   "outputs": [],
   "source": [
    "from yellowbrick.classifier import ClassPredictionError\n",
    "\n",
    "visualizer = ClassPredictionError(DT_model)\n",
    "\n",
    "# Fit the training data to the visualizer\n",
    "visualizer.fit(X_train, y_train)\n",
    "\n",
    "# Evaluate the model on the test data\n",
    "visualizer.score(X_test, y_test)\n",
    "\n",
    "# Draw visualization\n",
    "visualizer.poof();"
   ]
  },
  {
   "cell_type": "code",
   "execution_count": null,
   "metadata": {},
   "outputs": [],
   "source": [
    "#CV\n",
    "model = DecisionTreeClassifier(random_state=42)\n",
    "\n",
    "scores = cross_validate(model, X_train, y_train, scoring = [\"accuracy\", \"precision_micro\", \"recall_micro\", \"f1_micro\"], cv = 10)\n",
    "df_scores = pd.DataFrame(scores, index = range(1, 11))\n",
    "df_scores"
   ]
  },
  {
   "cell_type": "code",
   "execution_count": null,
   "metadata": {},
   "outputs": [],
   "source": [
    "dt_f1 = f1_score(y_test, y_pred)\n",
    "dt_recall = recall_score(y_test, y_pred)\n",
    "dt_auc = roc_auc_score(y_test, y_pred)"
   ]
  },
  {
   "cell_type": "code",
   "execution_count": null,
   "metadata": {},
   "outputs": [],
   "source": [
    "DT_model.feature_importances_"
   ]
  },
  {
   "cell_type": "code",
   "execution_count": null,
   "metadata": {},
   "outputs": [],
   "source": [
    "df_f_i = pd.DataFrame(index=X.columns, data = DT_model.feature_importances_, \n",
    "                      columns = [\"Feature Importance\"]).sort_values(\"Feature Importance\",ascending=False)\n",
    "df_f_i"
   ]
  },
  {
   "cell_type": "code",
   "execution_count": null,
   "metadata": {},
   "outputs": [],
   "source": [
    "#Best Parameters with Gridsearch\n",
    "from sklearn.model_selection import GridSearchCV\n",
    "model = DecisionTreeClassifier(random_state=42)\n",
    "param_grid = {\"splitter\":[\"best\", \"random\"],\n",
    "              \"max_features\":[None, \"auto\", \"log2\", 2, 3,4, 5,6, 7],\n",
    "              \"max_depth\": [None, 2,3, 4, 5],\n",
    "              \"min_samples_leaf\": [1, 2, 3, 4, 5, 6,7],\n",
    "              \"min_samples_split\": [2, 3, 5, 6, 7,8,9]}\n",
    "              #max_features \"auto\"= sqr(numberof feature)"
   ]
  },
  {
   "cell_type": "code",
   "execution_count": null,
   "metadata": {},
   "outputs": [],
   "source": [
    "grid_model.fit(X_train, y_train)"
   ]
  },
  {
   "cell_type": "code",
   "execution_count": null,
   "metadata": {},
   "outputs": [],
   "source": [
    "grid_model.best_params_"
   ]
  },
  {
   "cell_type": "code",
   "execution_count": null,
   "metadata": {},
   "outputs": [],
   "source": [
    "eval_metric(DT_model, X_train, y_train, X_test, y_test)"
   ]
  },
  {
   "cell_type": "markdown",
   "metadata": {
    "id": "8-Hv3OSrASC0"
   },
   "source": [
    "### Implement Random Forest Classifier\n",
    "- Import the modul \n",
    "- Fit the model \n",
    "- Predict the test set\n",
    "- Visualize and evaluate the result (use yellowbrick module)"
   ]
  },
  {
   "cell_type": "code",
   "execution_count": null,
   "metadata": {
    "cell_style": "split",
    "id": "C871JJvXASC0"
   },
   "outputs": [],
   "source": [
    "from sklearn.ensemble import RandomForestClassifier"
   ]
  },
  {
   "cell_type": "code",
   "execution_count": null,
   "metadata": {},
   "outputs": [],
   "source": [
    "rf_model = RandomForestClassifier(random_state=101)\n",
    "rf_model.fit(X_train,y_train)\n",
    "eval_metric(rf_model, X_train, y_train, X_test, y_test)"
   ]
  },
  {
   "cell_type": "code",
   "execution_count": null,
   "metadata": {},
   "outputs": [],
   "source": [
    "model = RandomForestClassifier(random_state=101)\n",
    "\n",
    "scores = cross_validate(model, X_train, y_train, scoring = [\"accuracy\", \"precision_micro\", \"recall_micro\", \"f1_micro\"], cv = 10)\n",
    "df_scores = pd.DataFrame(scores, index = range(1, 11))\n",
    "df_scores.mean()[2:]"
   ]
  },
  {
   "cell_type": "code",
   "execution_count": null,
   "metadata": {},
   "outputs": [],
   "source": [
    "rf_f1 = f1_score(y_test, y_pred)\n",
    "rf_recall = recall_score(y_test, y_pred)\n",
    "rf_auc = roc_auc_score(y_test, y_pred)"
   ]
  },
  {
   "cell_type": "code",
   "execution_count": null,
   "metadata": {},
   "outputs": [],
   "source": [
    "#Feature Importance\n",
    "rf_feature_imp = pd.DataFrame(index = X.columns, data = rf_model.feature_importances_,\n",
    "                              columns = [\"Feature Importance\"]).sort_values(\"Feature Importance\", ascending = False)\n",
    "rf_feature_imp"
   ]
  },
  {
   "cell_type": "code",
   "execution_count": null,
   "metadata": {},
   "outputs": [],
   "source": [
    "ax = sns.barplot(x=rf_feature_imp[\"Feature Importance\"], y=rf_feature_imp.index)\n",
    "plt.title(\"Feature Importance for Random Forest\")\n",
    "plt.show()"
   ]
  },
  {
   "cell_type": "markdown",
   "metadata": {
    "id": "eI7Zd8TLIbfK"
   },
   "source": [
    "### Implement XGBoost Classifer\n",
    "- Import the modul \n",
    "- Fit the model \n",
    "- Predict the test set\n",
    "- Visualize and evaluate the result (use yellowbrick module)"
   ]
  },
  {
   "cell_type": "code",
   "execution_count": null,
   "metadata": {
    "cell_style": "split",
    "id": "ZER2XJrrASC0"
   },
   "outputs": [],
   "source": [
    "from xgboost import XGBClassifier"
   ]
  },
  {
   "cell_type": "code",
   "execution_count": null,
   "metadata": {},
   "outputs": [],
   "source": [
    "xgb = XGBClassifier(random_state=42).fit(X_train, y_train)"
   ]
  },
  {
   "cell_type": "code",
   "execution_count": null,
   "metadata": {},
   "outputs": [],
   "source": [
    "eval_metric(xgb, X_train, y_train, X_test, y_test)"
   ]
  },
  {
   "cell_type": "code",
   "execution_count": null,
   "metadata": {},
   "outputs": [],
   "source": [
    "model = XGBClassifier(random_state=42)\n",
    "\n",
    "scores = cross_validate(model, X_train, y_train, scoring = ['accuracy', 'precision','recall',\n",
    "                                                                   'f1', 'roc_auc'], cv = 10)\n",
    "df_scores = pd.DataFrame(scores, index = range(1, 11))\n",
    "df_scores.mean()[2:]"
   ]
  },
  {
   "cell_type": "code",
   "execution_count": null,
   "metadata": {},
   "outputs": [],
   "source": [
    "#Gridsearch\n",
    "param_grid = {\"n_estimators\":[50, 100, 200],'max_depth':[3,4,5], \"learning_rate\": [0.1, 0.2],\n",
    "             \"subsample\":[0.5, 0.8, 1], \"colsample_bytree\":[0.5,0.7, 1]}"
   ]
  },
  {
   "cell_type": "code",
   "execution_count": null,
   "metadata": {},
   "outputs": [],
   "source": [
    "xgb_model = XGBClassifier(random_state=42)"
   ]
  },
  {
   "cell_type": "code",
   "execution_count": null,
   "metadata": {},
   "outputs": [],
   "source": [
    "xgb_grid = GridSearchCV(xgb_model, param_grid, scoring = \"f1\", verbose=2, n_jobs = -1).fit(X_train, y_train)"
   ]
  },
  {
   "cell_type": "code",
   "execution_count": null,
   "metadata": {},
   "outputs": [],
   "source": [
    "xgb_grid.best_params_"
   ]
  },
  {
   "cell_type": "code",
   "execution_count": null,
   "metadata": {},
   "outputs": [],
   "source": [
    "y_pred = xgb_grid.predict(X_test)\n",
    "\n",
    "xgb_f1 = f1_score(y_test, y_pred)\n",
    "xgb_recall = recall_score(y_test, y_pred)\n",
    "xgb_auc = roc_auc_score(y_test, y_pred)\n",
    "\n",
    "eval_metric(xgb_grid, X_train, y_train, X_test, y_test)"
   ]
  },
  {
   "cell_type": "code",
   "execution_count": null,
   "metadata": {},
   "outputs": [],
   "source": [
    "#Feature Importance\n",
    "model = XGBClassifier(random_state=42, colsample_bytree = 0.5, subsample= 0.8)\n",
    "model.fit(X_train, y_train)\n",
    "\n",
    "model.feature_importances_\n",
    "\n",
    "feats = pd.DataFrame(index=X.columns, data=model.feature_importances_, columns=['xgb_importance'])\n",
    "xgb_imp_feats = feats.sort_values(\"xgb_importance\")\n",
    "xgb_imp_feats"
   ]
  },
  {
   "cell_type": "code",
   "execution_count": null,
   "metadata": {},
   "outputs": [],
   "source": [
    "sns.barplot(data=xgb_imp_feats, x=xgb_imp_feats.index,y='xgb_importance')\n",
    "\n",
    "plt.xticks(rotation=90);"
   ]
  },
  {
   "cell_type": "code",
   "execution_count": null,
   "metadata": {},
   "outputs": [],
   "source": [
    "#ROC Curves and AUC's"
   ]
  },
  {
   "cell_type": "code",
   "execution_count": null,
   "metadata": {},
   "outputs": [],
   "source": [
    "plot_roc_curve(xgb_grid, X_test, y_test);"
   ]
  },
  {
   "cell_type": "markdown",
   "metadata": {},
   "source": [
    "### Feature_Importance Comparison"
   ]
  },
  {
   "cell_type": "code",
   "execution_count": null,
   "metadata": {},
   "outputs": [],
   "source": [
    "pd.concat([df_f_i, rf_feature_imp, xgb_imp_feats], axis=1)"
   ]
  },
  {
   "cell_type": "markdown",
   "metadata": {
    "id": "67xA-4xdASC0"
   },
   "source": [
    "### Compare The Models\n",
    "\n",
    "So far, you have created a multi-classifier model with 4 different algorithms and made predictions. You can observe the performance of the models together with a barplot of your choice.\n",
    "\n",
    "- Which algorithm did you achieve the highest prediction performance with? \n",
    "- What could be the factors that cause this? What are the principles of the most successful algorithm and its differences from other algorithms? \n",
    "\n",
    "In contrast;\n",
    "\n",
    "- Which algorithm did you achieve the lowest prediction performance with? \n",
    "- What could be the factors that cause this? What are the principles of the most successful algorithm and its differences from other algorithms? \n",
    "\n",
    "The answers you will look for to these questions will increase your gains from Machine Learning course."
   ]
  },
  {
   "cell_type": "code",
   "execution_count": null,
   "metadata": {},
   "outputs": [],
   "source": [
    "compare = pd.DataFrame({\"Model\": [ \"SVM\", \"Decision Tree\", \"Random Forest\", \"XGBoost\"],\n",
    "                        \"F1\": [svc_f1, dt_f1, rf_f1, xgb_f1],\n",
    "                        \"Recall\": [svc_recall, dt_recall, fr_recall xgb_recall],\n",
    "                        \"ROC_AUC\": [svc_auc, dt_auc, rf_auc, xgb_auc]})\n",
    "\n",
    "def labels(ax):\n",
    "    for p in ax.patches:\n",
    "        width = p.get_width()                        # get bar length\n",
    "        ax.text(width,                               # set the text at 1 unit right of the bar\n",
    "                p.get_y() + p.get_height() / 2,      # get Y coordinate + X coordinate / 2\n",
    "                '{:1.3f}'.format(width),             # set variable to display, 2 decimals\n",
    "                ha = 'left',                         # horizontal alignment\n",
    "                va = 'center')                       # vertical alignment\n",
    "    \n",
    "plt.figure(figsize=(14,10))\n",
    "plt.subplot(311)\n",
    "compare = compare.sort_values(by=\"F1\", ascending=False)\n",
    "ax=sns.barplot(x=\"F1\", y=\"Model\", data=compare, palette=\"Blues_d\")\n",
    "labels(ax)\n",
    "\n",
    "plt.subplot(312)\n",
    "compare = compare.sort_values(by=\"Recall\", ascending=False)\n",
    "ax=sns.barplot(x=\"Recall\", y=\"Model\", data=compare, palette=\"Blues_d\")\n",
    "labels(ax)\n",
    "\n",
    "plt.subplot(313)\n",
    "compare = compare.sort_values(by=\"ROC_AUC\", ascending=False)\n",
    "ax=sns.barplot(x=\"ROC_AUC\", y=\"Model\", data=compare, palette=\"Blues_d\")\n",
    "labels(ax)\n",
    "plt.show()"
   ]
  },
  {
   "cell_type": "markdown",
   "metadata": {
    "id": "9F79Rr6OzEVM"
   },
   "source": [
    "# Accuracy Comparison"
   ]
  },
  {
   "cell_type": "markdown",
   "metadata": {
    "id": "Gx90UY0cOlvB"
   },
   "source": []
  },
  {
   "cell_type": "markdown",
   "metadata": {
    "id": "jOJwsa3RzEVN"
   },
   "source": [
    "# F1 Score Comparison"
   ]
  },
  {
   "cell_type": "markdown",
   "metadata": {
    "id": "V9GMPY0yOlvB"
   },
   "source": []
  },
  {
   "cell_type": "markdown",
   "metadata": {
    "id": "e6wYrrIuASC0"
   },
   "source": [
    "___\n",
    "\n",
    "<p style=\"text-align: center;\"><img src=\"https://docs.google.com/uc?id=1lY0Uj5R04yMY3-ZppPWxqCr5pvBLYPnV\" class=\"img-fluid\" alt=\"CLRSWY\"></p>\n",
    "\n",
    "___"
   ]
  }
 ],
 "metadata": {
  "colab": {
   "collapsed_sections": [],
   "name": "Tree_Types_Prediction_Classification_student.ipynb",
   "provenance": []
  },
  "hide_input": false,
  "kernelspec": {
   "display_name": "Python 3",
   "language": "python",
   "name": "python3"
  },
  "language_info": {
   "codemirror_mode": {
    "name": "ipython",
    "version": 3
   },
   "file_extension": ".py",
   "mimetype": "text/x-python",
   "name": "python",
   "nbconvert_exporter": "python",
   "pygments_lexer": "ipython3",
   "version": "3.8.5"
  },
  "toc": {
   "base_numbering": 1,
   "nav_menu": {},
   "number_sections": true,
   "sideBar": true,
   "skip_h1_title": false,
   "title_cell": "Table of Contents",
   "title_sidebar": "Contents",
   "toc_cell": false,
   "toc_position": {},
   "toc_section_display": true,
   "toc_window_display": false
  },
  "varInspector": {
   "cols": {
    "lenName": 16,
    "lenType": 16,
    "lenVar": 40
   },
   "kernels_config": {
    "python": {
     "delete_cmd_postfix": "",
     "delete_cmd_prefix": "del ",
     "library": "var_list.py",
     "varRefreshCmd": "print(var_dic_list())"
    },
    "r": {
     "delete_cmd_postfix": ") ",
     "delete_cmd_prefix": "rm(",
     "library": "var_list.r",
     "varRefreshCmd": "cat(var_dic_list()) "
    }
   },
   "oldHeight": 326.85,
   "position": {
    "height": "40px",
    "left": "1233.2px",
    "right": "20px",
    "top": "120px",
    "width": "250px"
   },
   "types_to_exclude": [
    "module",
    "function",
    "builtin_function_or_method",
    "instance",
    "_Feature"
   ],
   "varInspector_section_display": "none",
   "window_display": false
  }
 },
 "nbformat": 4,
 "nbformat_minor": 1
}
